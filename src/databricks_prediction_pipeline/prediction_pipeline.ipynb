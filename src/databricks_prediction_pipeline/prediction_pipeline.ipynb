{
 "cells": [
  {
   "cell_type": "code",
   "execution_count": 1,
   "metadata": {
    "application/vnd.databricks.v1+cell": {
     "cellMetadata": {
      "byteLimit": 2048000,
      "rowLimit": 10000
     },
     "inputWidgets": {},
     "nuid": "c0c5270e-d2dc-4edc-b733-6c1c725c4bb9",
     "showTitle": false,
     "title": ""
    }
   },
   "outputs": [],
   "source": [
    "import pipeline_helper as ph"
   ]
  },
  {
   "cell_type": "code",
   "execution_count": 2,
   "metadata": {
    "application/vnd.databricks.v1+cell": {
     "cellMetadata": {
      "byteLimit": 2048000,
      "rowLimit": 10000
     },
     "inputWidgets": {},
     "nuid": "529377f0-dc50-4fd5-a2d7-ee07bedf02b6",
     "showTitle": false,
     "title": ""
    }
   },
   "outputs": [],
   "source": [
    "IS_LOCAL = True"
   ]
  },
  {
   "cell_type": "code",
   "execution_count": 3,
   "metadata": {
    "application/vnd.databricks.v1+cell": {
     "cellMetadata": {
      "byteLimit": 2048000,
      "rowLimit": 10000
     },
     "inputWidgets": {},
     "nuid": "96a42b84-d1f6-41d5-92b6-db4ec02c505d",
     "showTitle": false,
     "title": ""
    }
   },
   "outputs": [],
   "source": [
    "# Update device to \"cpu\" if you don't have a GPU\n",
    "predictions, features, lgbm_pipeline, lgbm_pipeline_low, lgbm_pipeline_high = ph.get_initial_artifacts(n_estimators=1, alpha_low=0.025, alpha_high=0.975, device=\"gpu\")"
   ]
  },
  {
   "cell_type": "code",
   "execution_count": 4,
   "metadata": {
    "application/vnd.databricks.v1+cell": {
     "cellMetadata": {
      "byteLimit": 2048000,
      "rowLimit": 10000
     },
     "inputWidgets": {},
     "nuid": "90fce209-aa79-464b-9fa8-fb0834056f06",
     "showTitle": false,
     "title": ""
    }
   },
   "outputs": [],
   "source": [
    "final_feature_df = ph.generate_shap_dataframe(predictions, lgbm_pipeline, features)\n",
    "predicted_price = ph.generate_tableau_required_dataframe(predictions)\n",
    "explain_feature_importance = ph.generate_sentence_dataframe(final_feature_df)"
   ]
  },
  {
   "cell_type": "code",
   "execution_count": 5,
   "metadata": {
    "application/vnd.databricks.v1+cell": {
     "cellMetadata": {
      "byteLimit": 2048000,
      "rowLimit": 10000
     },
     "inputWidgets": {},
     "nuid": "2cdb4e77-36e5-402e-8287-15e1c47feaaf",
     "showTitle": false,
     "title": ""
    }
   },
   "outputs": [],
   "source": [
    "ph.save_to_dbfs_and_disk(\n",
    "    IS_LOCAL,\n",
    "    final_feature_df,\n",
    "    explain_feature_importance,\n",
    "    predicted_price,\n",
    "    lgbm_pipeline,\n",
    "    lgbm_pipeline_low,\n",
    "    lgbm_pipeline_high,\n",
    ")"
   ]
  },
  {
   "cell_type": "code",
   "execution_count": null,
   "metadata": {},
   "outputs": [],
   "source": []
  }
 ],
 "metadata": {
  "application/vnd.databricks.v1+notebook": {
   "dashboards": [],
   "language": "python",
   "notebookMetadata": {
    "pythonIndentUnit": 4
   },
   "notebookName": "prediction_pipeline",
   "widgets": {}
  },
  "kernelspec": {
   "display_name": "slalomenv",
   "language": "python",
   "name": "python3"
  },
  "language_info": {
   "codemirror_mode": {
    "name": "ipython",
    "version": 3
   },
   "file_extension": ".py",
   "mimetype": "text/x-python",
   "name": "python",
   "nbconvert_exporter": "python",
   "pygments_lexer": "ipython3",
   "version": "3.11.3"
  }
 },
 "nbformat": 4,
 "nbformat_minor": 0
}
