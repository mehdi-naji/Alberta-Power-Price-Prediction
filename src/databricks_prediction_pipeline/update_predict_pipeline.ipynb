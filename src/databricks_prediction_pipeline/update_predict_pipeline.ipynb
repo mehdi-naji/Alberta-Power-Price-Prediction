{
 "cells": [
  {
   "cell_type": "code",
   "execution_count": 2,
   "metadata": {
    "application/vnd.databricks.v1+cell": {
     "cellMetadata": {
      "byteLimit": 2048000,
      "rowLimit": 10000
     },
     "inputWidgets": {},
     "nuid": "c46eb987-013a-4df3-9849-e495f008a032",
     "showTitle": false,
     "title": ""
    }
   },
   "outputs": [],
   "source": [
    "import pipeline_helper as ph"
   ]
  },
  {
   "cell_type": "code",
   "execution_count": 3,
   "metadata": {
    "application/vnd.databricks.v1+cell": {
     "cellMetadata": {
      "byteLimit": 2048000,
      "rowLimit": 10000
     },
     "inputWidgets": {},
     "nuid": "50e1704a-546a-4392-b4c1-57edb10bd37c",
     "showTitle": false,
     "title": ""
    }
   },
   "outputs": [],
   "source": [
    "IS_LOCAL = False"
   ]
  },
  {
   "cell_type": "code",
   "execution_count": 4,
   "metadata": {
    "application/vnd.databricks.v1+cell": {
     "cellMetadata": {
      "byteLimit": 2048000,
      "rowLimit": 10000
     },
     "inputWidgets": {},
     "nuid": "6e75dd60-001d-48af-902e-83dfdbda7f70",
     "showTitle": false,
     "title": ""
    }
   },
   "outputs": [],
   "source": [
    "predictions, features, lgbm_pipeline, lgbm_pipeline_low, lgbm_pipeline_high = ph.update_and_predict_next_steps(IS_LOCAL=IS_LOCAL)"
   ]
  },
  {
   "cell_type": "code",
   "execution_count": 5,
   "metadata": {},
   "outputs": [],
   "source": [
    "final_feature_df = ph.generate_shap_dataframe(predictions, lgbm_pipeline, features)\n",
    "explain_feature_importance = ph.generate_sentence_dataframe(final_feature_df)\n",
    "predicted_price = ph.generate_tableau_required_dataframe(predictions)"
   ]
  },
  {
   "cell_type": "code",
   "execution_count": 6,
   "metadata": {
    "application/vnd.databricks.v1+cell": {
     "cellMetadata": {
      "byteLimit": 2048000,
      "rowLimit": 10000
     },
     "inputWidgets": {},
     "nuid": "1e00275c-f87d-474f-98e6-0c65b9b57944",
     "showTitle": false,
     "title": ""
    }
   },
   "outputs": [],
   "source": [
    "ph.save_to_dbfs_and_disk(\n",
    "    IS_LOCAL,\n",
    "    final_feature_df,\n",
    "    explain_feature_importance,\n",
    "    predicted_price,\n",
    "    lgbm_pipeline,\n",
    "    lgbm_pipeline_low,\n",
    "    lgbm_pipeline_high,\n",
    ")"
   ]
  },
  {
   "cell_type": "code",
   "execution_count": null,
   "metadata": {},
   "outputs": [],
   "source": []
  }
 ],
 "metadata": {
  "application/vnd.databricks.v1+notebook": {
   "dashboards": [],
   "language": "python",
   "notebookMetadata": {
    "pythonIndentUnit": 4
   },
   "notebookName": "update_predict_pipeline",
   "widgets": {}
  },
  "kernelspec": {
   "display_name": "slalomenv",
   "language": "python",
   "name": "python3"
  },
  "language_info": {
   "codemirror_mode": {
    "name": "ipython",
    "version": 3
   },
   "file_extension": ".py",
   "mimetype": "text/x-python",
   "name": "python",
   "nbconvert_exporter": "python",
   "pygments_lexer": "ipython3",
   "version": "3.11.3"
  }
 },
 "nbformat": 4,
 "nbformat_minor": 0
}
