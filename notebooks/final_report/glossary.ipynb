{
 "cells": [
  {
   "cell_type": "markdown",
   "id": "43d99db2-8ebe-408b-b2a2-e6ac52b17806",
   "metadata": {},
   "source": []
  },
  {
   "cell_type": "markdown",
   "id": "3752402e-81e3-433a-88fa-6b84d6e2dee1",
   "metadata": {},
   "source": [
    "| Features | Definition |\n",
    "| --------------- | --------------- | \n",
    "| fossil_fuel_ratio | | \n",
    "| renewable_energy_ratio |  | \n",
    "| gas_supply_mix | | \n",
    "| renewable_energy_ratio |  | \n",
    "| gas_supply_mix | | \n",
    "| wind_supply_mix |  | \n",
    "| system_marginal_price_avg | | \n",
    "| system_marginal_price_sum |  | \n",
    "| gas_cost | | \n",
    "|hydro_reserve_margin||\n",
    "| wind_reserve_margin | | \n",
    "| other_reserve_margin |  | \n",
    "| rolling_std | | \n",
    "| rolling_median |  | \n",
    "| rolling_min | | \n",
    "|rolling_max||\n",
    "| exp_moving_avg | | \n",
    "| rolling_mean |  | \n",
    "| gas_tng | | \n",
    "| relative_gas_reserve |  | \n",
    "| hydro_tng | | \n",
    "|load_on_gas_reserve||\n",
    "| northwest_load | | \n",
    "| calgary_load |  | \n",
    "| system_load | | \n",
    "| demand_supply_ratio |  | \n",
    "| total_reserve_margin | | \n",
    "| volume_sum||\n",
    "| volume_avg |  | \n",
    "| weekly_profile | | "
   ]
  },
  {
   "cell_type": "code",
   "execution_count": null,
   "id": "65875a34-2d52-497b-8dbd-748e1bf66335",
   "metadata": {},
   "outputs": [],
   "source": []
  }
 ],
 "metadata": {
  "kernelspec": {
   "display_name": "Python 3 (ipykernel)",
   "language": "python",
   "name": "python3"
  },
  "language_info": {
   "codemirror_mode": {
    "name": "ipython",
    "version": 3
   },
   "file_extension": ".py",
   "mimetype": "text/x-python",
   "name": "python",
   "nbconvert_exporter": "python",
   "pygments_lexer": "ipython3",
   "version": "3.10.4"
  }
 },
 "nbformat": 4,
 "nbformat_minor": 5
}
