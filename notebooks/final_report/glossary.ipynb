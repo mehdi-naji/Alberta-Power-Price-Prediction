{
 "cells": [
  {
   "cell_type": "markdown",
   "id": "43d99db2-8ebe-408b-b2a2-e6ac52b17806",
   "metadata": {},
   "source": []
  },
  {
   "cell_type": "markdown",
   "id": "3752402e-81e3-433a-88fa-6b84d6e2dee1",
   "metadata": {},
   "source": [
    "| Features | Definition |\n",
    "| --------------- | --------------- | \n",
    "| fossil_fuel_ratio | The proportion of energy generation derived from fossil fuels, calculated by dividing the combined generation from gas and coal by the total energy generation. | \n",
    "| renewable_energy_ratio | The proportion of energy generation from renewable sources, obtained by dividing the sum of wind, solar, hydro, and storage generation by the total energy generation. | \n",
    "| gas_supply_mix |The proportion of energy generation using gas by the total energy generation | \n",
    "| wind_supply_mix | The proportion of energy generation using wind by the total energy generation | \n",
    "| system_marginal_price_avg | The average of the system marginal price* for each hour| \n",
    "| system_marginal_price_sum |  | \n",
    "| gas_cost | | \n",
    "|hydro_reserve_margin||\n",
    "| wind_reserve_margin | | \n",
    "| other_reserve_margin |  | \n",
    "| rolling_std | | \n",
    "| rolling_median |  | \n",
    "| rolling_min | | \n",
    "|rolling_max||\n",
    "| exp_moving_avg | | \n",
    "| rolling_mean |  | \n",
    "| gas_tng | | \n",
    "| relative_gas_reserve |  | \n",
    "| hydro_tng | | \n",
    "|load_on_gas_reserve||\n",
    "| northwest_load | | \n",
    "| calgary_load |  | \n",
    "| system_load | | \n",
    "| demand_supply_ratio |  | \n",
    "| total_reserve_margin | | \n",
    "| volume_sum||\n",
    "| volume_avg |  | \n",
    "| weekly_profile | | "
   ]
  },
  {
   "cell_type": "markdown",
   "id": "eb44c249-e784-4567-8a80-1438a1ad501e",
   "metadata": {},
   "source": [
    "System marginal price - "
   ]
  },
  {
   "cell_type": "code",
   "execution_count": null,
   "id": "ce9bcf48-cd3b-4071-bdde-fcab5d720bfe",
   "metadata": {},
   "outputs": [],
   "source": []
  }
 ],
 "metadata": {
  "kernelspec": {
   "display_name": "Python 3 (ipykernel)",
   "language": "python",
   "name": "python3"
  },
  "language_info": {
   "codemirror_mode": {
    "name": "ipython",
    "version": 3
   },
   "file_extension": ".py",
   "mimetype": "text/x-python",
   "name": "python",
   "nbconvert_exporter": "python",
   "pygments_lexer": "ipython3",
   "version": "3.10.4"
  }
 },
 "nbformat": 4,
 "nbformat_minor": 5
}
