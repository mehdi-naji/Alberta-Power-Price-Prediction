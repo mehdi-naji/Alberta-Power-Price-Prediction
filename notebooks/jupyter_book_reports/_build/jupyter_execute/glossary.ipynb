{
 "cells": [
  {
   "attachments": {},
   "cell_type": "markdown",
   "id": "43d99db2-8ebe-408b-b2a2-e6ac52b17806",
   "metadata": {},
   "source": [
    "### Key Engineered features"
   ]
  },
  {
   "attachments": {},
   "cell_type": "markdown",
   "id": "3752402e-81e3-433a-88fa-6b84d6e2dee1",
   "metadata": {},
   "source": [
    "| Features | Definition |\n",
    "| --------------- | --------------- | \n",
    "| fossil_fuel_ratio | The proportion of energy generation derived from fossil fuels, calculated by dividing the combined generation from gas and coal by the total energy generation. | \n",
    "| renewable_energy_ratio | The proportion of energy generation from renewable sources, obtained by dividing the sum of wind, solar, hydro, and storage generation by the total energy generation. | \n",
    "| gas_supply_mix |The proportion of energy generation using gas by the total energy generation | \n",
    "| wind_supply_mix | The proportion of energy generation using wind by the total energy generation | \n",
    "| system_marginal_price_avg | The average of the system marginal price* for each hour| \n",
    "| system_marginal_price_sum | The sum of the system marginal price* for each hour | \n",
    "| gas_cost | The total cost of generating gas supply to meet the current demand| \n",
    "|hydro_reserve_margin| The reserve/buffer hydro supply that is available to meet any unexpected demand |\n",
    "| wind_reserve_margin | The reserve/buffer wind supply that is available to meet any unexpected demand | \n",
    "| gas_reserve_margin | The reserve/buffer gas supply that is available to meet any unexpected demand | \n",
    "| other_reserve_margin | The reserve/buffer other supply option excluding that is available to meet any unexpected demand | \n",
    "| rolling_std | Rolling standard deviation of the price for a window length of 24| \n",
    "| rolling_median | Rolling median of the price for a window length of 24| \n",
    "| rolling_min |Rolling minimum of the price for a window length of 24 | \n",
    "|rolling_max| Rolling maximum of the price for a window length of 24|\n",
    "| exp_moving_avg | Exponential moving average of the values of price using the exponential smoothing function with a specified span of 24 | \n",
    "| rolling_mean | Rolling mean (also known as the moving average) of the price | \n",
    "| gas_tng | Total energy generated using gas supply | \n",
    "| relative_gas_reserve | Proportion of reserve available for gas supply out of total reserve available | \n",
    "| hydro_tng | Total energy generated using hydro supply | \n",
    "|load_on_gas_reserve|The reserve/buffer gas supply that is available to meet any unexpected demand |\n",
    "| northwest_load | The internal load in northwest region of Alberta | \n",
    "| calgary_load | The internal load in northwest region of Calgary | \n",
    "| system_load | System load is the sum of the region wise energy loads and the transmission losses. | \n",
    "| demand_supply_ratio | Ration of Demand to available supply | \n",
    "| total_reserve_margin | The total reserve/buffer supply that is available to meet any unexpected demand | \n",
    "| volume_sum| Sum of metered volume of power for that hour|\n",
    "| volume_avg | Average of metered volume of power for that hour  | \n",
    "| weekly_profile | An ordinal feature that is engineered based on day of the week and peak hour | "
   ]
  },
  {
   "attachments": {},
   "cell_type": "markdown",
   "id": "eb44c249-e784-4567-8a80-1438a1ad501e",
   "metadata": {},
   "source": [
    "**System marginal price** -  The price at which electricity supply is dispatched to meet the demand on the grid. In the Alberta energy market, the SMP is determined every minute and represents the cost of producing an additional unit of electricity at a specific time. The average of SMP for an hour is the **Pool price**.\n",
    "\n",
    " Due to the erratic nature of receiving System Marginal Price (SMP) data through the API, we may not have access to SMP values for every hour. To address this, we have implemented an averaging method where we calculate the average SMP value for each hour. We also have the sum of SMP values for each hour"
   ]
  }
 ],
 "metadata": {
  "kernelspec": {
   "display_name": "Python 3 (ipykernel)",
   "language": "python",
   "name": "python3"
  },
  "language_info": {
   "codemirror_mode": {
    "name": "ipython",
    "version": 3
   },
   "file_extension": ".py",
   "mimetype": "text/x-python",
   "name": "python",
   "nbconvert_exporter": "python",
   "pygments_lexer": "ipython3",
<<<<<<< HEAD
   "version": "3.10.4"
=======
   "version": "3.11.3"
>>>>>>> main
  }
 },
 "nbformat": 4,
 "nbformat_minor": 5
}