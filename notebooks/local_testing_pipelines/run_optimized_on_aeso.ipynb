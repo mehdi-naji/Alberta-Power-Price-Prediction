{
 "cells": [
  {
   "cell_type": "code",
   "execution_count": 1,
   "metadata": {},
   "outputs": [],
   "source": [
    "import pandas as pd\n",
    "import numpy as np\n",
    "from sktime.forecasting.base import ForecastingHorizon\n",
    "from sklearn.metrics import mean_squared_error\n",
    "import plotly.express as px\n",
    "from sktime.forecasting.model_selection import temporal_train_test_split\n",
    "\n",
    "import warnings\n",
    "\n",
    "warnings.filterwarnings(\"ignore\")"
   ]
  },
  {
   "cell_type": "code",
   "execution_count": 2,
   "metadata": {},
   "outputs": [],
   "source": [
    "import sys\n",
    "sys.path.append(\"../utils/\")"
   ]
  },
  {
   "cell_type": "code",
   "execution_count": 3,
   "metadata": {},
   "outputs": [],
   "source": [
    "import pipeline_helpers as ph"
   ]
  },
  {
   "attachments": {},
   "cell_type": "markdown",
   "metadata": {},
   "source": [
    "### Pipeline to evaluate the optimized hyperparameters on the dates where AESO predictions are available.\n",
    "- Update pool price one at a time."
   ]
  },
  {
   "cell_type": "code",
   "execution_count": 4,
   "metadata": {},
   "outputs": [],
   "source": [
    "X = pd.read_csv(\n",
    "    \"https://raw.githubusercontent.com/slalom-ubc-mds/Power-Price-Prediction/main/data/processed/complete_data/features.csv\",\n",
    "    parse_dates=[\"date\"],\n",
    "    index_col=\"date\",\n",
    ")\n",
    "\n",
    "y = pd.read_csv(\n",
    "    \"https://raw.githubusercontent.com/slalom-ubc-mds/Power-Price-Prediction/main/data/processed/complete_data/target.csv\",\n",
    "    parse_dates=[\"date\"],\n",
    "    index_col=\"date\",\n",
    ")\n",
    "\n",
    "X = X.sort_values(by=\"date\")\n",
    "X = X.asfreq(\"H\")\n",
    "y = y.sort_values(by=\"date\")\n",
    "y = y.asfreq(\"H\")"
   ]
  },
  {
   "cell_type": "code",
   "execution_count": 5,
   "metadata": {},
   "outputs": [],
   "source": [
    "# Train test split\n",
    "forecast_len = 12\n",
    "\n",
    "test_size = 24 * 4\n",
    "\n",
    "y_train, y_test_full, X_train, X_test = temporal_train_test_split(\n",
    "    y, X, test_size=test_size + forecast_len\n",
    ")\n",
    "\n",
    "y_test = y_test_full.iloc[:-forecast_len]\n",
    "\n",
    "y_train = y_train.asfreq(\"H\")\n",
    "y_test = y_test.asfreq(\"H\")\n",
    "X_train = X_train.asfreq(\"H\")\n",
    "X_test = X_test.asfreq(\"H\")"
   ]
  },
  {
   "cell_type": "code",
   "execution_count": 6,
   "metadata": {},
   "outputs": [],
   "source": [
    "lgbm_pipeline = ph.initialize_optimized_lgbm_forecaster()\n",
    "fh = ForecastingHorizon(np.arange(1, 12 + 1))"
   ]
  },
  {
   "cell_type": "code",
   "execution_count": 7,
   "metadata": {},
   "outputs": [],
   "source": [
    "forecast_len = 12\n",
    "step_length = 1"
   ]
  },
  {
   "cell_type": "code",
   "execution_count": 8,
   "metadata": {},
   "outputs": [
    {
     "name": "stdout",
     "output_type": "stream",
     "text": [
      "[LightGBM] [Warning] min_data_in_leaf is set=20, min_child_samples=20 will be ignored. Current value: min_data_in_leaf=20\n",
      "[LightGBM] [Warning] num_threads is set=12, n_jobs=-1 will be ignored. Current value: num_threads=12\n"
     ]
    },
    {
     "data": {
      "text/html": [
       "<style>#sk-39fe1867-f486-40ac-9fd3-bf05b4196ca1 {color: black;background-color: white;}#sk-39fe1867-f486-40ac-9fd3-bf05b4196ca1 pre{padding: 0;}#sk-39fe1867-f486-40ac-9fd3-bf05b4196ca1 div.sk-toggleable {background-color: white;}#sk-39fe1867-f486-40ac-9fd3-bf05b4196ca1 label.sk-toggleable__label {cursor: pointer;display: block;width: 100%;margin-bottom: 0;padding: 0.3em;box-sizing: border-box;text-align: center;}#sk-39fe1867-f486-40ac-9fd3-bf05b4196ca1 label.sk-toggleable__label-arrow:before {content: \"▸\";float: left;margin-right: 0.25em;color: #696969;}#sk-39fe1867-f486-40ac-9fd3-bf05b4196ca1 label.sk-toggleable__label-arrow:hover:before {color: black;}#sk-39fe1867-f486-40ac-9fd3-bf05b4196ca1 div.sk-estimator:hover label.sk-toggleable__label-arrow:before {color: black;}#sk-39fe1867-f486-40ac-9fd3-bf05b4196ca1 div.sk-toggleable__content {max-height: 0;max-width: 0;overflow: hidden;text-align: left;background-color: #f0f8ff;}#sk-39fe1867-f486-40ac-9fd3-bf05b4196ca1 div.sk-toggleable__content pre {margin: 0.2em;color: black;border-radius: 0.25em;background-color: #f0f8ff;}#sk-39fe1867-f486-40ac-9fd3-bf05b4196ca1 input.sk-toggleable__control:checked~div.sk-toggleable__content {max-height: 200px;max-width: 100%;overflow: auto;}#sk-39fe1867-f486-40ac-9fd3-bf05b4196ca1 input.sk-toggleable__control:checked~label.sk-toggleable__label-arrow:before {content: \"▾\";}#sk-39fe1867-f486-40ac-9fd3-bf05b4196ca1 div.sk-estimator input.sk-toggleable__control:checked~label.sk-toggleable__label {background-color: #d4ebff;}#sk-39fe1867-f486-40ac-9fd3-bf05b4196ca1 div.sk-label input.sk-toggleable__control:checked~label.sk-toggleable__label {background-color: #d4ebff;}#sk-39fe1867-f486-40ac-9fd3-bf05b4196ca1 input.sk-hidden--visually {border: 0;clip: rect(1px 1px 1px 1px);clip: rect(1px, 1px, 1px, 1px);height: 1px;margin: -1px;overflow: hidden;padding: 0;position: absolute;width: 1px;}#sk-39fe1867-f486-40ac-9fd3-bf05b4196ca1 div.sk-estimator {font-family: monospace;background-color: #f0f8ff;border: 1px dotted black;border-radius: 0.25em;box-sizing: border-box;margin-bottom: 0.5em;}#sk-39fe1867-f486-40ac-9fd3-bf05b4196ca1 div.sk-estimator:hover {background-color: #d4ebff;}#sk-39fe1867-f486-40ac-9fd3-bf05b4196ca1 div.sk-parallel-item::after {content: \"\";width: 100%;border-bottom: 1px solid gray;flex-grow: 1;}#sk-39fe1867-f486-40ac-9fd3-bf05b4196ca1 div.sk-label:hover label.sk-toggleable__label {background-color: #d4ebff;}#sk-39fe1867-f486-40ac-9fd3-bf05b4196ca1 div.sk-serial::before {content: \"\";position: absolute;border-left: 1px solid gray;box-sizing: border-box;top: 2em;bottom: 0;left: 50%;}#sk-39fe1867-f486-40ac-9fd3-bf05b4196ca1 div.sk-serial {display: flex;flex-direction: column;align-items: center;background-color: white;padding-right: 0.2em;padding-left: 0.2em;}#sk-39fe1867-f486-40ac-9fd3-bf05b4196ca1 div.sk-item {z-index: 1;}#sk-39fe1867-f486-40ac-9fd3-bf05b4196ca1 div.sk-parallel {display: flex;align-items: stretch;justify-content: center;background-color: white;}#sk-39fe1867-f486-40ac-9fd3-bf05b4196ca1 div.sk-parallel::before {content: \"\";position: absolute;border-left: 1px solid gray;box-sizing: border-box;top: 2em;bottom: 0;left: 50%;}#sk-39fe1867-f486-40ac-9fd3-bf05b4196ca1 div.sk-parallel-item {display: flex;flex-direction: column;position: relative;background-color: white;}#sk-39fe1867-f486-40ac-9fd3-bf05b4196ca1 div.sk-parallel-item:first-child::after {align-self: flex-end;width: 50%;}#sk-39fe1867-f486-40ac-9fd3-bf05b4196ca1 div.sk-parallel-item:last-child::after {align-self: flex-start;width: 50%;}#sk-39fe1867-f486-40ac-9fd3-bf05b4196ca1 div.sk-parallel-item:only-child::after {width: 0;}#sk-39fe1867-f486-40ac-9fd3-bf05b4196ca1 div.sk-dashed-wrapped {border: 1px dashed gray;margin: 0 0.4em 0.5em 0.4em;box-sizing: border-box;padding-bottom: 0.4em;background-color: white;position: relative;}#sk-39fe1867-f486-40ac-9fd3-bf05b4196ca1 div.sk-label label {font-family: monospace;font-weight: bold;background-color: white;display: inline-block;line-height: 1.2em;}#sk-39fe1867-f486-40ac-9fd3-bf05b4196ca1 div.sk-label-container {position: relative;z-index: 2;text-align: center;}#sk-39fe1867-f486-40ac-9fd3-bf05b4196ca1 div.sk-container {/* jupyter's `normalize.less` sets `[hidden] { display: none; }` but bootstrap.min.css set `[hidden] { display: none !important; }` so we also need the `!important` here to be able to override the default hidden behavior on the sphinx rendered scikit-learn.org. See: https://github.com/scikit-learn/scikit-learn/issues/21755 */display: inline-block !important;position: relative;}#sk-39fe1867-f486-40ac-9fd3-bf05b4196ca1 div.sk-text-repr-fallback {display: none;}</style><div id='sk-39fe1867-f486-40ac-9fd3-bf05b4196ca1' class=\"sk-top-container\"><div class=\"sk-text-repr-fallback\"><pre>ForecastingPipeline(steps=[(&#x27;forecaster&#x27;,\n",
       "                            TransformedTargetForecaster(steps=[(&#x27;forecast&#x27;,\n",
       "                                                                DirectTabularRegressionForecaster(estimator=LGBMRegressor(boosting_type=&#x27;dart&#x27;, device=&#x27;gpu&#x27;, learning_rate=0.01,\n",
       "              max_depth=15, min_data_in_leaf=20, n_estimators=1000,\n",
       "              num_leaves=70, num_threads=12, reg_alpha=30, reg_lambda=20),\n",
       "                                                                                                  window_length=24))]))])</pre><b>Please rerun this cell to show the HTML repr or trust the notebook.</b></div><div class=\"sk-container\" hidden><div class=\"sk-item sk-dashed-wrapped\"><div class='sk-label-container'><div class=\"sk-label sk-toggleable\"><input class=\"sk-toggleable__control sk-hidden--visually\" id=UUID('48973b2b-4ac4-4fdf-a9c8-c74ec19b782d') type=\"checkbox\" ><label for=UUID('48973b2b-4ac4-4fdf-a9c8-c74ec19b782d') class='sk-toggleable__label sk-toggleable__label-arrow'>ForecastingPipeline</label><div class=\"sk-toggleable__content\"><pre>ForecastingPipeline(steps=[(&#x27;forecaster&#x27;,\n",
       "                            TransformedTargetForecaster(steps=[(&#x27;forecast&#x27;,\n",
       "                                                                DirectTabularRegressionForecaster(estimator=LGBMRegressor(boosting_type=&#x27;dart&#x27;, device=&#x27;gpu&#x27;, learning_rate=0.01,\n",
       "              max_depth=15, min_data_in_leaf=20, n_estimators=1000,\n",
       "              num_leaves=70, num_threads=12, reg_alpha=30, reg_lambda=20),\n",
       "                                                                                                  window_length=24))]))])</pre></div></div></div><div class=\"sk-parallel\"><div class=\"sk-parallel-item\"><div class=\"sk-item\"><div class=\"sk-serial\"><div class=\"sk-item sk-dashed-wrapped\"><div class=\"sk-parallel\"><div class=\"sk-parallel-item\"><div class=\"sk-item\"><div class=\"sk-serial\"><div class=\"sk-item sk-dashed-wrapped\"><div class=\"sk-parallel\"><div class=\"sk-parallel-item\"><div class=\"sk-item\"><div class=\"sk-serial\"><div class='sk-item'><div class=\"sk-estimator sk-toggleable\"><input class=\"sk-toggleable__control sk-hidden--visually\" id=UUID('df4dcb4c-e652-46ef-97c7-d68789ba0a53') type=\"checkbox\" ><label for=UUID('df4dcb4c-e652-46ef-97c7-d68789ba0a53') class='sk-toggleable__label sk-toggleable__label-arrow'>LGBMRegressor</label><div class=\"sk-toggleable__content\"><pre>LGBMRegressor(boosting_type=&#x27;dart&#x27;, device=&#x27;gpu&#x27;, learning_rate=0.01,\n",
       "              max_depth=15, min_data_in_leaf=20, n_estimators=1000,\n",
       "              num_leaves=70, num_threads=12, reg_alpha=30, reg_lambda=20)</pre></div></div></div></div></div></div></div></div></div></div></div></div></div></div></div></div></div></div></div></div>"
      ],
      "text/plain": [
       "ForecastingPipeline(steps=[('forecaster',\n",
       "                            TransformedTargetForecaster(steps=[('forecast',\n",
       "                                                                DirectTabularRegressionForecaster(estimator=LGBMRegressor(boosting_type='dart', device='gpu', learning_rate=0.01,\n",
       "              max_depth=15, min_data_in_leaf=20, n_estimators=1000,\n",
       "              num_leaves=70, num_threads=12, reg_alpha=30, reg_lambda=20),\n",
       "                                                                                                  window_length=24))]))])"
      ]
     },
     "execution_count": 8,
     "metadata": {},
     "output_type": "execute_result"
    }
   ],
   "source": [
    "lgbm_pipeline.fit(y=y_train, X=X_train, fh=fh)"
   ]
  },
  {
   "cell_type": "code",
   "execution_count": 9,
   "metadata": {},
   "outputs": [
    {
     "name": "stdout",
     "output_type": "stream",
     "text": [
      "[LightGBM] [Warning] min_data_in_leaf is set=20, min_child_samples=20 will be ignored. Current value: min_data_in_leaf=20\n",
      "[LightGBM] [Warning] num_threads is set=12, n_jobs=-1 will be ignored. Current value: num_threads=12\n",
      "[LightGBM] [Warning] min_data_in_leaf is set=20, min_child_samples=20 will be ignored. Current value: min_data_in_leaf=20\n",
      "[LightGBM] [Warning] num_threads is set=12, n_jobs=-1 will be ignored. Current value: num_threads=12\n",
      "[LightGBM] [Warning] min_data_in_leaf is set=20, min_child_samples=20 will be ignored. Current value: min_data_in_leaf=20\n",
      "[LightGBM] [Warning] num_threads is set=12, n_jobs=-1 will be ignored. Current value: num_threads=12\n",
      "[LightGBM] [Warning] min_data_in_leaf is set=20, min_child_samples=20 will be ignored. Current value: min_data_in_leaf=20\n",
      "[LightGBM] [Warning] num_threads is set=12, n_jobs=-1 will be ignored. Current value: num_threads=12\n",
      "[LightGBM] [Warning] min_data_in_leaf is set=20, min_child_samples=20 will be ignored. Current value: min_data_in_leaf=20\n",
      "[LightGBM] [Warning] num_threads is set=12, n_jobs=-1 will be ignored. Current value: num_threads=12\n",
      "[LightGBM] [Warning] min_data_in_leaf is set=20, min_child_samples=20 will be ignored. Current value: min_data_in_leaf=20\n",
      "[LightGBM] [Warning] num_threads is set=12, n_jobs=-1 will be ignored. Current value: num_threads=12\n",
      "[LightGBM] [Warning] min_data_in_leaf is set=20, min_child_samples=20 will be ignored. Current value: min_data_in_leaf=20\n",
      "[LightGBM] [Warning] num_threads is set=12, n_jobs=-1 will be ignored. Current value: num_threads=12\n",
      "[LightGBM] [Warning] min_data_in_leaf is set=20, min_child_samples=20 will be ignored. Current value: min_data_in_leaf=20\n",
      "[LightGBM] [Warning] num_threads is set=12, n_jobs=-1 will be ignored. Current value: num_threads=12\n",
      "[LightGBM] [Warning] min_data_in_leaf is set=20, min_child_samples=20 will be ignored. Current value: min_data_in_leaf=20\n",
      "[LightGBM] [Warning] num_threads is set=12, n_jobs=-1 will be ignored. Current value: num_threads=12\n",
      "[LightGBM] [Warning] min_data_in_leaf is set=20, min_child_samples=20 will be ignored. Current value: min_data_in_leaf=20\n",
      "[LightGBM] [Warning] num_threads is set=12, n_jobs=-1 will be ignored. Current value: num_threads=12\n",
      "[LightGBM] [Warning] min_data_in_leaf is set=20, min_child_samples=20 will be ignored. Current value: min_data_in_leaf=20\n",
      "[LightGBM] [Warning] num_threads is set=12, n_jobs=-1 will be ignored. Current value: num_threads=12\n",
      "[LightGBM] [Warning] min_data_in_leaf is set=20, min_child_samples=20 will be ignored. Current value: min_data_in_leaf=20\n",
      "[LightGBM] [Warning] num_threads is set=12, n_jobs=-1 will be ignored. Current value: num_threads=12\n",
      "[LightGBM] [Warning] min_data_in_leaf is set=20, min_child_samples=20 will be ignored. Current value: min_data_in_leaf=20\n",
      "[LightGBM] [Warning] num_threads is set=12, n_jobs=-1 will be ignored. Current value: num_threads=12\n",
      "[LightGBM] [Warning] min_data_in_leaf is set=20, min_child_samples=20 will be ignored. Current value: min_data_in_leaf=20\n",
      "[LightGBM] [Warning] num_threads is set=12, n_jobs=-1 will be ignored. Current value: num_threads=12\n",
      "[LightGBM] [Warning] min_data_in_leaf is set=20, min_child_samples=20 will be ignored. Current value: min_data_in_leaf=20\n",
      "[LightGBM] [Warning] num_threads is set=12, n_jobs=-1 will be ignored. Current value: num_threads=12\n",
      "[LightGBM] [Warning] min_data_in_leaf is set=20, min_child_samples=20 will be ignored. Current value: min_data_in_leaf=20\n",
      "[LightGBM] [Warning] num_threads is set=12, n_jobs=-1 will be ignored. Current value: num_threads=12\n",
      "[LightGBM] [Warning] min_data_in_leaf is set=20, min_child_samples=20 will be ignored. Current value: min_data_in_leaf=20\n",
      "[LightGBM] [Warning] num_threads is set=12, n_jobs=-1 will be ignored. Current value: num_threads=12\n",
      "[LightGBM] [Warning] min_data_in_leaf is set=20, min_child_samples=20 will be ignored. Current value: min_data_in_leaf=20\n",
      "[LightGBM] [Warning] num_threads is set=12, n_jobs=-1 will be ignored. Current value: num_threads=12\n",
      "[LightGBM] [Warning] min_data_in_leaf is set=20, min_child_samples=20 will be ignored. Current value: min_data_in_leaf=20\n",
      "[LightGBM] [Warning] num_threads is set=12, n_jobs=-1 will be ignored. Current value: num_threads=12\n",
      "[LightGBM] [Warning] min_data_in_leaf is set=20, min_child_samples=20 will be ignored. Current value: min_data_in_leaf=20\n",
      "[LightGBM] [Warning] num_threads is set=12, n_jobs=-1 will be ignored. Current value: num_threads=12\n",
      "[LightGBM] [Warning] min_data_in_leaf is set=20, min_child_samples=20 will be ignored. Current value: min_data_in_leaf=20\n",
      "[LightGBM] [Warning] num_threads is set=12, n_jobs=-1 will be ignored. Current value: num_threads=12\n",
      "[LightGBM] [Warning] min_data_in_leaf is set=20, min_child_samples=20 will be ignored. Current value: min_data_in_leaf=20\n",
      "[LightGBM] [Warning] num_threads is set=12, n_jobs=-1 will be ignored. Current value: num_threads=12\n",
      "[LightGBM] [Warning] min_data_in_leaf is set=20, min_child_samples=20 will be ignored. Current value: min_data_in_leaf=20\n",
      "[LightGBM] [Warning] num_threads is set=12, n_jobs=-1 will be ignored. Current value: num_threads=12\n",
      "[LightGBM] [Warning] min_data_in_leaf is set=20, min_child_samples=20 will be ignored. Current value: min_data_in_leaf=20\n",
      "[LightGBM] [Warning] num_threads is set=12, n_jobs=-1 will be ignored. Current value: num_threads=12\n",
      "[LightGBM] [Warning] min_data_in_leaf is set=20, min_child_samples=20 will be ignored. Current value: min_data_in_leaf=20\n",
      "[LightGBM] [Warning] num_threads is set=12, n_jobs=-1 will be ignored. Current value: num_threads=12\n",
      "[LightGBM] [Warning] min_data_in_leaf is set=20, min_child_samples=20 will be ignored. Current value: min_data_in_leaf=20\n",
      "[LightGBM] [Warning] num_threads is set=12, n_jobs=-1 will be ignored. Current value: num_threads=12\n",
      "[LightGBM] [Warning] min_data_in_leaf is set=20, min_child_samples=20 will be ignored. Current value: min_data_in_leaf=20\n",
      "[LightGBM] [Warning] num_threads is set=12, n_jobs=-1 will be ignored. Current value: num_threads=12\n",
      "[LightGBM] [Warning] min_data_in_leaf is set=20, min_child_samples=20 will be ignored. Current value: min_data_in_leaf=20\n",
      "[LightGBM] [Warning] num_threads is set=12, n_jobs=-1 will be ignored. Current value: num_threads=12\n",
      "[LightGBM] [Warning] min_data_in_leaf is set=20, min_child_samples=20 will be ignored. Current value: min_data_in_leaf=20\n",
      "[LightGBM] [Warning] num_threads is set=12, n_jobs=-1 will be ignored. Current value: num_threads=12\n",
      "[LightGBM] [Warning] min_data_in_leaf is set=20, min_child_samples=20 will be ignored. Current value: min_data_in_leaf=20\n",
      "[LightGBM] [Warning] num_threads is set=12, n_jobs=-1 will be ignored. Current value: num_threads=12\n",
      "[LightGBM] [Warning] min_data_in_leaf is set=20, min_child_samples=20 will be ignored. Current value: min_data_in_leaf=20\n",
      "[LightGBM] [Warning] num_threads is set=12, n_jobs=-1 will be ignored. Current value: num_threads=12\n",
      "[LightGBM] [Warning] min_data_in_leaf is set=20, min_child_samples=20 will be ignored. Current value: min_data_in_leaf=20\n",
      "[LightGBM] [Warning] num_threads is set=12, n_jobs=-1 will be ignored. Current value: num_threads=12\n",
      "[LightGBM] [Warning] min_data_in_leaf is set=20, min_child_samples=20 will be ignored. Current value: min_data_in_leaf=20\n",
      "[LightGBM] [Warning] num_threads is set=12, n_jobs=-1 will be ignored. Current value: num_threads=12\n",
      "[LightGBM] [Warning] min_data_in_leaf is set=20, min_child_samples=20 will be ignored. Current value: min_data_in_leaf=20\n",
      "[LightGBM] [Warning] num_threads is set=12, n_jobs=-1 will be ignored. Current value: num_threads=12\n",
      "[LightGBM] [Warning] min_data_in_leaf is set=20, min_child_samples=20 will be ignored. Current value: min_data_in_leaf=20\n",
      "[LightGBM] [Warning] num_threads is set=12, n_jobs=-1 will be ignored. Current value: num_threads=12\n",
      "[LightGBM] [Warning] min_data_in_leaf is set=20, min_child_samples=20 will be ignored. Current value: min_data_in_leaf=20\n",
      "[LightGBM] [Warning] num_threads is set=12, n_jobs=-1 will be ignored. Current value: num_threads=12\n",
      "[LightGBM] [Warning] min_data_in_leaf is set=20, min_child_samples=20 will be ignored. Current value: min_data_in_leaf=20\n",
      "[LightGBM] [Warning] num_threads is set=12, n_jobs=-1 will be ignored. Current value: num_threads=12\n",
      "[LightGBM] [Warning] min_data_in_leaf is set=20, min_child_samples=20 will be ignored. Current value: min_data_in_leaf=20\n",
      "[LightGBM] [Warning] num_threads is set=12, n_jobs=-1 will be ignored. Current value: num_threads=12\n",
      "[LightGBM] [Warning] min_data_in_leaf is set=20, min_child_samples=20 will be ignored. Current value: min_data_in_leaf=20\n",
      "[LightGBM] [Warning] num_threads is set=12, n_jobs=-1 will be ignored. Current value: num_threads=12\n",
      "[LightGBM] [Warning] min_data_in_leaf is set=20, min_child_samples=20 will be ignored. Current value: min_data_in_leaf=20\n",
      "[LightGBM] [Warning] num_threads is set=12, n_jobs=-1 will be ignored. Current value: num_threads=12\n",
      "[LightGBM] [Warning] min_data_in_leaf is set=20, min_child_samples=20 will be ignored. Current value: min_data_in_leaf=20\n",
      "[LightGBM] [Warning] num_threads is set=12, n_jobs=-1 will be ignored. Current value: num_threads=12\n",
      "[LightGBM] [Warning] min_data_in_leaf is set=20, min_child_samples=20 will be ignored. Current value: min_data_in_leaf=20\n",
      "[LightGBM] [Warning] num_threads is set=12, n_jobs=-1 will be ignored. Current value: num_threads=12\n",
      "[LightGBM] [Warning] min_data_in_leaf is set=20, min_child_samples=20 will be ignored. Current value: min_data_in_leaf=20\n",
      "[LightGBM] [Warning] num_threads is set=12, n_jobs=-1 will be ignored. Current value: num_threads=12\n",
      "[LightGBM] [Warning] min_data_in_leaf is set=20, min_child_samples=20 will be ignored. Current value: min_data_in_leaf=20\n",
      "[LightGBM] [Warning] num_threads is set=12, n_jobs=-1 will be ignored. Current value: num_threads=12\n",
      "[LightGBM] [Warning] min_data_in_leaf is set=20, min_child_samples=20 will be ignored. Current value: min_data_in_leaf=20\n",
      "[LightGBM] [Warning] num_threads is set=12, n_jobs=-1 will be ignored. Current value: num_threads=12\n",
      "[LightGBM] [Warning] min_data_in_leaf is set=20, min_child_samples=20 will be ignored. Current value: min_data_in_leaf=20\n",
      "[LightGBM] [Warning] num_threads is set=12, n_jobs=-1 will be ignored. Current value: num_threads=12\n",
      "[LightGBM] [Warning] min_data_in_leaf is set=20, min_child_samples=20 will be ignored. Current value: min_data_in_leaf=20\n",
      "[LightGBM] [Warning] num_threads is set=12, n_jobs=-1 will be ignored. Current value: num_threads=12\n",
      "[LightGBM] [Warning] min_data_in_leaf is set=20, min_child_samples=20 will be ignored. Current value: min_data_in_leaf=20\n",
      "[LightGBM] [Warning] num_threads is set=12, n_jobs=-1 will be ignored. Current value: num_threads=12\n",
      "[LightGBM] [Warning] min_data_in_leaf is set=20, min_child_samples=20 will be ignored. Current value: min_data_in_leaf=20\n",
      "[LightGBM] [Warning] num_threads is set=12, n_jobs=-1 will be ignored. Current value: num_threads=12\n",
      "[LightGBM] [Warning] min_data_in_leaf is set=20, min_child_samples=20 will be ignored. Current value: min_data_in_leaf=20\n",
      "[LightGBM] [Warning] num_threads is set=12, n_jobs=-1 will be ignored. Current value: num_threads=12\n",
      "[LightGBM] [Warning] min_data_in_leaf is set=20, min_child_samples=20 will be ignored. Current value: min_data_in_leaf=20\n",
      "[LightGBM] [Warning] num_threads is set=12, n_jobs=-1 will be ignored. Current value: num_threads=12\n",
      "[LightGBM] [Warning] min_data_in_leaf is set=20, min_child_samples=20 will be ignored. Current value: min_data_in_leaf=20\n",
      "[LightGBM] [Warning] num_threads is set=12, n_jobs=-1 will be ignored. Current value: num_threads=12\n",
      "[LightGBM] [Warning] min_data_in_leaf is set=20, min_child_samples=20 will be ignored. Current value: min_data_in_leaf=20\n",
      "[LightGBM] [Warning] num_threads is set=12, n_jobs=-1 will be ignored. Current value: num_threads=12\n",
      "[LightGBM] [Warning] min_data_in_leaf is set=20, min_child_samples=20 will be ignored. Current value: min_data_in_leaf=20\n",
      "[LightGBM] [Warning] num_threads is set=12, n_jobs=-1 will be ignored. Current value: num_threads=12\n",
      "[LightGBM] [Warning] min_data_in_leaf is set=20, min_child_samples=20 will be ignored. Current value: min_data_in_leaf=20\n",
      "[LightGBM] [Warning] num_threads is set=12, n_jobs=-1 will be ignored. Current value: num_threads=12\n",
      "[LightGBM] [Warning] min_data_in_leaf is set=20, min_child_samples=20 will be ignored. Current value: min_data_in_leaf=20\n",
      "[LightGBM] [Warning] num_threads is set=12, n_jobs=-1 will be ignored. Current value: num_threads=12\n",
      "[LightGBM] [Warning] min_data_in_leaf is set=20, min_child_samples=20 will be ignored. Current value: min_data_in_leaf=20\n",
      "[LightGBM] [Warning] num_threads is set=12, n_jobs=-1 will be ignored. Current value: num_threads=12\n",
      "[LightGBM] [Warning] min_data_in_leaf is set=20, min_child_samples=20 will be ignored. Current value: min_data_in_leaf=20\n",
      "[LightGBM] [Warning] num_threads is set=12, n_jobs=-1 will be ignored. Current value: num_threads=12\n",
      "[LightGBM] [Warning] min_data_in_leaf is set=20, min_child_samples=20 will be ignored. Current value: min_data_in_leaf=20\n",
      "[LightGBM] [Warning] num_threads is set=12, n_jobs=-1 will be ignored. Current value: num_threads=12\n",
      "[LightGBM] [Warning] min_data_in_leaf is set=20, min_child_samples=20 will be ignored. Current value: min_data_in_leaf=20\n",
      "[LightGBM] [Warning] num_threads is set=12, n_jobs=-1 will be ignored. Current value: num_threads=12\n",
      "[LightGBM] [Warning] min_data_in_leaf is set=20, min_child_samples=20 will be ignored. Current value: min_data_in_leaf=20\n",
      "[LightGBM] [Warning] num_threads is set=12, n_jobs=-1 will be ignored. Current value: num_threads=12\n",
      "[LightGBM] [Warning] min_data_in_leaf is set=20, min_child_samples=20 will be ignored. Current value: min_data_in_leaf=20\n",
      "[LightGBM] [Warning] num_threads is set=12, n_jobs=-1 will be ignored. Current value: num_threads=12\n",
      "[LightGBM] [Warning] min_data_in_leaf is set=20, min_child_samples=20 will be ignored. Current value: min_data_in_leaf=20\n",
      "[LightGBM] [Warning] num_threads is set=12, n_jobs=-1 will be ignored. Current value: num_threads=12\n",
      "[LightGBM] [Warning] min_data_in_leaf is set=20, min_child_samples=20 will be ignored. Current value: min_data_in_leaf=20\n",
      "[LightGBM] [Warning] num_threads is set=12, n_jobs=-1 will be ignored. Current value: num_threads=12\n",
      "[LightGBM] [Warning] min_data_in_leaf is set=20, min_child_samples=20 will be ignored. Current value: min_data_in_leaf=20\n",
      "[LightGBM] [Warning] num_threads is set=12, n_jobs=-1 will be ignored. Current value: num_threads=12\n",
      "[LightGBM] [Warning] min_data_in_leaf is set=20, min_child_samples=20 will be ignored. Current value: min_data_in_leaf=20\n",
      "[LightGBM] [Warning] num_threads is set=12, n_jobs=-1 will be ignored. Current value: num_threads=12\n",
      "[LightGBM] [Warning] min_data_in_leaf is set=20, min_child_samples=20 will be ignored. Current value: min_data_in_leaf=20\n",
      "[LightGBM] [Warning] num_threads is set=12, n_jobs=-1 will be ignored. Current value: num_threads=12\n",
      "[LightGBM] [Warning] min_data_in_leaf is set=20, min_child_samples=20 will be ignored. Current value: min_data_in_leaf=20\n",
      "[LightGBM] [Warning] num_threads is set=12, n_jobs=-1 will be ignored. Current value: num_threads=12\n",
      "[LightGBM] [Warning] min_data_in_leaf is set=20, min_child_samples=20 will be ignored. Current value: min_data_in_leaf=20\n",
      "[LightGBM] [Warning] num_threads is set=12, n_jobs=-1 will be ignored. Current value: num_threads=12\n",
      "[LightGBM] [Warning] min_data_in_leaf is set=20, min_child_samples=20 will be ignored. Current value: min_data_in_leaf=20\n",
      "[LightGBM] [Warning] num_threads is set=12, n_jobs=-1 will be ignored. Current value: num_threads=12\n",
      "[LightGBM] [Warning] min_data_in_leaf is set=20, min_child_samples=20 will be ignored. Current value: min_data_in_leaf=20\n",
      "[LightGBM] [Warning] num_threads is set=12, n_jobs=-1 will be ignored. Current value: num_threads=12\n",
      "[LightGBM] [Warning] min_data_in_leaf is set=20, min_child_samples=20 will be ignored. Current value: min_data_in_leaf=20\n",
      "[LightGBM] [Warning] num_threads is set=12, n_jobs=-1 will be ignored. Current value: num_threads=12\n",
      "[LightGBM] [Warning] min_data_in_leaf is set=20, min_child_samples=20 will be ignored. Current value: min_data_in_leaf=20\n",
      "[LightGBM] [Warning] num_threads is set=12, n_jobs=-1 will be ignored. Current value: num_threads=12\n",
      "[LightGBM] [Warning] min_data_in_leaf is set=20, min_child_samples=20 will be ignored. Current value: min_data_in_leaf=20\n",
      "[LightGBM] [Warning] num_threads is set=12, n_jobs=-1 will be ignored. Current value: num_threads=12\n",
      "[LightGBM] [Warning] min_data_in_leaf is set=20, min_child_samples=20 will be ignored. Current value: min_data_in_leaf=20\n",
      "[LightGBM] [Warning] num_threads is set=12, n_jobs=-1 will be ignored. Current value: num_threads=12\n",
      "[LightGBM] [Warning] min_data_in_leaf is set=20, min_child_samples=20 will be ignored. Current value: min_data_in_leaf=20\n",
      "[LightGBM] [Warning] num_threads is set=12, n_jobs=-1 will be ignored. Current value: num_threads=12\n",
      "[LightGBM] [Warning] min_data_in_leaf is set=20, min_child_samples=20 will be ignored. Current value: min_data_in_leaf=20\n",
      "[LightGBM] [Warning] num_threads is set=12, n_jobs=-1 will be ignored. Current value: num_threads=12\n",
      "[LightGBM] [Warning] min_data_in_leaf is set=20, min_child_samples=20 will be ignored. Current value: min_data_in_leaf=20\n",
      "[LightGBM] [Warning] num_threads is set=12, n_jobs=-1 will be ignored. Current value: num_threads=12\n",
      "[LightGBM] [Warning] min_data_in_leaf is set=20, min_child_samples=20 will be ignored. Current value: min_data_in_leaf=20\n",
      "[LightGBM] [Warning] num_threads is set=12, n_jobs=-1 will be ignored. Current value: num_threads=12\n",
      "[LightGBM] [Warning] min_data_in_leaf is set=20, min_child_samples=20 will be ignored. Current value: min_data_in_leaf=20\n",
      "[LightGBM] [Warning] num_threads is set=12, n_jobs=-1 will be ignored. Current value: num_threads=12\n",
      "[LightGBM] [Warning] min_data_in_leaf is set=20, min_child_samples=20 will be ignored. Current value: min_data_in_leaf=20\n",
      "[LightGBM] [Warning] num_threads is set=12, n_jobs=-1 will be ignored. Current value: num_threads=12\n",
      "[LightGBM] [Warning] min_data_in_leaf is set=20, min_child_samples=20 will be ignored. Current value: min_data_in_leaf=20\n",
      "[LightGBM] [Warning] num_threads is set=12, n_jobs=-1 will be ignored. Current value: num_threads=12\n",
      "[LightGBM] [Warning] min_data_in_leaf is set=20, min_child_samples=20 will be ignored. Current value: min_data_in_leaf=20\n",
      "[LightGBM] [Warning] num_threads is set=12, n_jobs=-1 will be ignored. Current value: num_threads=12\n",
      "[LightGBM] [Warning] min_data_in_leaf is set=20, min_child_samples=20 will be ignored. Current value: min_data_in_leaf=20\n",
      "[LightGBM] [Warning] num_threads is set=12, n_jobs=-1 will be ignored. Current value: num_threads=12\n",
      "[LightGBM] [Warning] min_data_in_leaf is set=20, min_child_samples=20 will be ignored. Current value: min_data_in_leaf=20\n",
      "[LightGBM] [Warning] num_threads is set=12, n_jobs=-1 will be ignored. Current value: num_threads=12\n",
      "[LightGBM] [Warning] min_data_in_leaf is set=20, min_child_samples=20 will be ignored. Current value: min_data_in_leaf=20\n",
      "[LightGBM] [Warning] num_threads is set=12, n_jobs=-1 will be ignored. Current value: num_threads=12\n",
      "[LightGBM] [Warning] min_data_in_leaf is set=20, min_child_samples=20 will be ignored. Current value: min_data_in_leaf=20\n",
      "[LightGBM] [Warning] num_threads is set=12, n_jobs=-1 will be ignored. Current value: num_threads=12\n",
      "[LightGBM] [Warning] min_data_in_leaf is set=20, min_child_samples=20 will be ignored. Current value: min_data_in_leaf=20\n",
      "[LightGBM] [Warning] num_threads is set=12, n_jobs=-1 will be ignored. Current value: num_threads=12\n",
      "[LightGBM] [Warning] min_data_in_leaf is set=20, min_child_samples=20 will be ignored. Current value: min_data_in_leaf=20\n",
      "[LightGBM] [Warning] num_threads is set=12, n_jobs=-1 will be ignored. Current value: num_threads=12\n",
      "[LightGBM] [Warning] min_data_in_leaf is set=20, min_child_samples=20 will be ignored. Current value: min_data_in_leaf=20\n",
      "[LightGBM] [Warning] num_threads is set=12, n_jobs=-1 will be ignored. Current value: num_threads=12\n",
      "[LightGBM] [Warning] min_data_in_leaf is set=20, min_child_samples=20 will be ignored. Current value: min_data_in_leaf=20\n",
      "[LightGBM] [Warning] num_threads is set=12, n_jobs=-1 will be ignored. Current value: num_threads=12\n",
      "[LightGBM] [Warning] min_data_in_leaf is set=20, min_child_samples=20 will be ignored. Current value: min_data_in_leaf=20\n",
      "[LightGBM] [Warning] num_threads is set=12, n_jobs=-1 will be ignored. Current value: num_threads=12\n",
      "[LightGBM] [Warning] min_data_in_leaf is set=20, min_child_samples=20 will be ignored. Current value: min_data_in_leaf=20\n",
      "[LightGBM] [Warning] num_threads is set=12, n_jobs=-1 will be ignored. Current value: num_threads=12\n",
      "[LightGBM] [Warning] min_data_in_leaf is set=20, min_child_samples=20 will be ignored. Current value: min_data_in_leaf=20\n",
      "[LightGBM] [Warning] num_threads is set=12, n_jobs=-1 will be ignored. Current value: num_threads=12\n",
      "[LightGBM] [Warning] min_data_in_leaf is set=20, min_child_samples=20 will be ignored. Current value: min_data_in_leaf=20\n",
      "[LightGBM] [Warning] num_threads is set=12, n_jobs=-1 will be ignored. Current value: num_threads=12\n",
      "[LightGBM] [Warning] min_data_in_leaf is set=20, min_child_samples=20 will be ignored. Current value: min_data_in_leaf=20\n",
      "[LightGBM] [Warning] num_threads is set=12, n_jobs=-1 will be ignored. Current value: num_threads=12\n"
     ]
    }
   ],
   "source": [
    "rolling_prediction_df = ph.get_rolling_predictions(lgbm_pipeline, X_train, X_test, y_test_full, fh, 1, forecast_len, verbose=False)"
   ]
  },
  {
   "cell_type": "code",
   "execution_count": 10,
   "metadata": {},
   "outputs": [],
   "source": [
    "fold_actuals, fold_predictions_list, rmse_list = ph.get_fold_predictions(rolling_prediction_df, y_test_full)"
   ]
  },
  {
   "cell_type": "code",
   "execution_count": 12,
   "metadata": {},
   "outputs": [],
   "source": [
    "predictions = ph.generate_step_predictions(rolling_prediction_df, y_test_full, forecast_len)"
   ]
  },
  {
   "cell_type": "code",
   "execution_count": 13,
   "metadata": {},
   "outputs": [],
   "source": [
    "actuals, rmses = ph.generate_step_errors(predictions, y_test_full, forecast_len)"
   ]
  },
  {
   "cell_type": "code",
   "execution_count": 16,
   "metadata": {},
   "outputs": [],
   "source": [
    "ddf = ph.get_plotting_df(fold_actuals=fold_actuals, fold_predictions_list=fold_predictions_list, y_hist=y)"
   ]
  },
  {
   "cell_type": "code",
   "execution_count": 17,
   "metadata": {},
   "outputs": [
    {
     "data": {
      "application/vnd.plotly.v1+json": {
       "config": {
        "plotlyServerURL": "https://plot.ly"
       },
       "data": [
        {
         "hovertemplate": "variable=HistoricalPrice<br>timestep=0<br>periodstep=%{x}<br>value=%{y}<extra></extra>",
         "legendgroup": "HistoricalPrice",
         "line": {
          "color": "#636efa",
          "dash": "solid"
         },
         "marker": {
          "symbol": "circle"
         },
         "mode": "lines",
         "name": "HistoricalPrice",
         "orientation": "v",
         "showlegend": true,
         "type": "scatter",
         "x": [
          1,
          2,
          3,
          4,
          5,
          6,
          7,
          8,
          9,
          10,
          11,
          12,
          13,
          14,
          15,
          16,
          17,
          18,
          19,
          20,
          21,
          22,
          23,
          24
         ],
         "xaxis": "x",
         "y": [
          64.87,
          59.22,
          112.05,
          261.51,
          700.22,
          699.6,
          458.33,
          64.29,
          66,
          69.95,
          69.79,
          61.23,
          null,
          null,
          null,
          null,
          null,
          null,
          null,
          null,
          null,
          null,
          null,
          null
         ],
         "yaxis": "y"
        },
        {
         "hovertemplate": "variable=FuturePrice<br>timestep=0<br>periodstep=%{x}<br>value=%{y}<extra></extra>",
         "legendgroup": "FuturePrice",
         "line": {
          "color": "#EF553B",
          "dash": "solid"
         },
         "marker": {
          "symbol": "circle"
         },
         "mode": "lines",
         "name": "FuturePrice",
         "orientation": "v",
         "showlegend": true,
         "type": "scatter",
         "x": [
          1,
          2,
          3,
          4,
          5,
          6,
          7,
          8,
          9,
          10,
          11,
          12,
          13,
          14,
          15,
          16,
          17,
          18,
          19,
          20,
          21,
          22,
          23,
          24
         ],
         "xaxis": "x",
         "y": [
          null,
          null,
          null,
          null,
          null,
          null,
          null,
          null,
          null,
          null,
          null,
          null,
          64.64,
          120.55,
          427.8,
          359.68,
          156,
          628.31,
          781.1,
          788.27,
          281.77,
          51,
          43.09,
          31.18
         ],
         "yaxis": "y"
        },
        {
         "hovertemplate": "variable=Predicted<br>timestep=0<br>periodstep=%{x}<br>value=%{y}<extra></extra>",
         "legendgroup": "Predicted",
         "line": {
          "color": "#00cc96",
          "dash": "solid"
         },
         "marker": {
          "symbol": "circle"
         },
         "mode": "lines",
         "name": "Predicted",
         "orientation": "v",
         "showlegend": true,
         "type": "scatter",
         "x": [
          1,
          2,
          3,
          4,
          5,
          6,
          7,
          8,
          9,
          10,
          11,
          12,
          13,
          14,
          15,
          16,
          17,
          18,
          19,
          20,
          21,
          22,
          23,
          24
         ],
         "xaxis": "x",
         "y": [
          null,
          null,
          null,
          null,
          null,
          null,
          null,
          null,
          null,
          null,
          null,
          null,
          98.00374551963749,
          170.1776287537922,
          191.04653180623455,
          239.47577422285323,
          323.4381360651385,
          269.766835982411,
          330.0552681590007,
          286.15936251410875,
          213.77694521063708,
          186.03578155885023,
          120.40700784360222,
          106.69852922865347
         ],
         "yaxis": "y"
        }
       ],
       "frames": [
        {
         "data": [
          {
           "hovertemplate": "variable=HistoricalPrice<br>timestep=0<br>periodstep=%{x}<br>value=%{y}<extra></extra>",
           "legendgroup": "HistoricalPrice",
           "line": {
            "color": "#636efa",
            "dash": "solid"
           },
           "marker": {
            "symbol": "circle"
           },
           "mode": "lines",
           "name": "HistoricalPrice",
           "orientation": "v",
           "showlegend": true,
           "type": "scatter",
           "x": [
            1,
            2,
            3,
            4,
            5,
            6,
            7,
            8,
            9,
            10,
            11,
            12,
            13,
            14,
            15,
            16,
            17,
            18,
            19,
            20,
            21,
            22,
            23,
            24
           ],
           "xaxis": "x",
           "y": [
            64.87,
            59.22,
            112.05,
            261.51,
            700.22,
            699.6,
            458.33,
            64.29,
            66,
            69.95,
            69.79,
            61.23,
            null,
            null,
            null,
            null,
            null,
            null,
            null,
            null,
            null,
            null,
            null,
            null
           ],
           "yaxis": "y"
          },
          {
           "hovertemplate": "variable=FuturePrice<br>timestep=0<br>periodstep=%{x}<br>value=%{y}<extra></extra>",
           "legendgroup": "FuturePrice",
           "line": {
            "color": "#EF553B",
            "dash": "solid"
           },
           "marker": {
            "symbol": "circle"
           },
           "mode": "lines",
           "name": "FuturePrice",
           "orientation": "v",
           "showlegend": true,
           "type": "scatter",
           "x": [
            1,
            2,
            3,
            4,
            5,
            6,
            7,
            8,
            9,
            10,
            11,
            12,
            13,
            14,
            15,
            16,
            17,
            18,
            19,
            20,
            21,
            22,
            23,
            24
           ],
           "xaxis": "x",
           "y": [
            null,
            null,
            null,
            null,
            null,
            null,
            null,
            null,
            null,
            null,
            null,
            null,
            64.64,
            120.55,
            427.8,
            359.68,
            156,
            628.31,
            781.1,
            788.27,
            281.77,
            51,
            43.09,
            31.18
           ],
           "yaxis": "y"
          },
          {
           "hovertemplate": "variable=Predicted<br>timestep=0<br>periodstep=%{x}<br>value=%{y}<extra></extra>",
           "legendgroup": "Predicted",
           "line": {
            "color": "#00cc96",
            "dash": "solid"
           },
           "marker": {
            "symbol": "circle"
           },
           "mode": "lines",
           "name": "Predicted",
           "orientation": "v",
           "showlegend": true,
           "type": "scatter",
           "x": [
            1,
            2,
            3,
            4,
            5,
            6,
            7,
            8,
            9,
            10,
            11,
            12,
            13,
            14,
            15,
            16,
            17,
            18,
            19,
            20,
            21,
            22,
            23,
            24
           ],
           "xaxis": "x",
           "y": [
            null,
            null,
            null,
            null,
            null,
            null,
            null,
            null,
            null,
            null,
            null,
            null,
            98.00374551963749,
            170.1776287537922,
            191.04653180623455,
            239.47577422285323,
            323.4381360651385,
            269.766835982411,
            330.0552681590007,
            286.15936251410875,
            213.77694521063708,
            186.03578155885023,
            120.40700784360222,
            106.69852922865347
           ],
           "yaxis": "y"
          }
         ],
         "name": "0"
        },
        {
         "data": [
          {
           "hovertemplate": "variable=HistoricalPrice<br>timestep=1<br>periodstep=%{x}<br>value=%{y}<extra></extra>",
           "legendgroup": "HistoricalPrice",
           "line": {
            "color": "#636efa",
            "dash": "solid"
           },
           "marker": {
            "symbol": "circle"
           },
           "mode": "lines",
           "name": "HistoricalPrice",
           "orientation": "v",
           "showlegend": true,
           "type": "scatter",
           "x": [
            1,
            2,
            3,
            4,
            5,
            6,
            7,
            8,
            9,
            10,
            11,
            12,
            13,
            14,
            15,
            16,
            17,
            18,
            19,
            20,
            21,
            22,
            23,
            24
           ],
           "xaxis": "x",
           "y": [
            59.22,
            112.05,
            261.51,
            700.22,
            699.6,
            458.33,
            64.29,
            66,
            69.95,
            69.79,
            61.23,
            64.64,
            null,
            null,
            null,
            null,
            null,
            null,
            null,
            null,
            null,
            null,
            null,
            null
           ],
           "yaxis": "y"
          },
          {
           "hovertemplate": "variable=FuturePrice<br>timestep=1<br>periodstep=%{x}<br>value=%{y}<extra></extra>",
           "legendgroup": "FuturePrice",
           "line": {
            "color": "#EF553B",
            "dash": "solid"
           },
           "marker": {
            "symbol": "circle"
           },
           "mode": "lines",
           "name": "FuturePrice",
           "orientation": "v",
           "showlegend": true,
           "type": "scatter",
           "x": [
            1,
            2,
            3,
            4,
            5,
            6,
            7,
            8,
            9,
            10,
            11,
            12,
            13,
            14,
            15,
            16,
            17,
            18,
            19,
            20,
            21,
            22,
            23,
            24
           ],
           "xaxis": "x",
           "y": [
            null,
            null,
            null,
            null,
            null,
            null,
            null,
            null,
            null,
            null,
            null,
            null,
            120.55,
            427.8,
            359.68,
            156,
            628.31,
            781.1,
            788.27,
            281.77,
            51,
            43.09,
            31.18,
            42.45
           ],
           "yaxis": "y"
          },
          {
           "hovertemplate": "variable=Predicted<br>timestep=1<br>periodstep=%{x}<br>value=%{y}<extra></extra>",
           "legendgroup": "Predicted",
           "line": {
            "color": "#00cc96",
            "dash": "solid"
           },
           "marker": {
            "symbol": "circle"
           },
           "mode": "lines",
           "name": "Predicted",
           "orientation": "v",
           "showlegend": true,
           "type": "scatter",
           "x": [
            1,
            2,
            3,
            4,
            5,
            6,
            7,
            8,
            9,
            10,
            11,
            12,
            13,
            14,
            15,
            16,
            17,
            18,
            19,
            20,
            21,
            22,
            23,
            24
           ],
           "xaxis": "x",
           "y": [
            null,
            null,
            null,
            null,
            null,
            null,
            null,
            null,
            null,
            null,
            null,
            null,
            98.27244538683568,
            179.64852719705863,
            204.72854355203742,
            249.12683119910162,
            297.09373973395117,
            280.25265240944,
            303.2110895583356,
            222.3304041782221,
            149.58083363904726,
            111.01377580471751,
            114.1799182269865,
            85.90711799496705
           ],
           "yaxis": "y"
          }
         ],
         "name": "1"
        },
        {
         "data": [
          {
           "hovertemplate": "variable=HistoricalPrice<br>timestep=2<br>periodstep=%{x}<br>value=%{y}<extra></extra>",
           "legendgroup": "HistoricalPrice",
           "line": {
            "color": "#636efa",
            "dash": "solid"
           },
           "marker": {
            "symbol": "circle"
           },
           "mode": "lines",
           "name": "HistoricalPrice",
           "orientation": "v",
           "showlegend": true,
           "type": "scatter",
           "x": [
            1,
            2,
            3,
            4,
            5,
            6,
            7,
            8,
            9,
            10,
            11,
            12,
            13,
            14,
            15,
            16,
            17,
            18,
            19,
            20,
            21,
            22,
            23,
            24
           ],
           "xaxis": "x",
           "y": [
            112.05,
            261.51,
            700.22,
            699.6,
            458.33,
            64.29,
            66,
            69.95,
            69.79,
            61.23,
            64.64,
            120.55,
            null,
            null,
            null,
            null,
            null,
            null,
            null,
            null,
            null,
            null,
            null,
            null
           ],
           "yaxis": "y"
          },
          {
           "hovertemplate": "variable=FuturePrice<br>timestep=2<br>periodstep=%{x}<br>value=%{y}<extra></extra>",
           "legendgroup": "FuturePrice",
           "line": {
            "color": "#EF553B",
            "dash": "solid"
           },
           "marker": {
            "symbol": "circle"
           },
           "mode": "lines",
           "name": "FuturePrice",
           "orientation": "v",
           "showlegend": true,
           "type": "scatter",
           "x": [
            1,
            2,
            3,
            4,
            5,
            6,
            7,
            8,
            9,
            10,
            11,
            12,
            13,
            14,
            15,
            16,
            17,
            18,
            19,
            20,
            21,
            22,
            23,
            24
           ],
           "xaxis": "x",
           "y": [
            null,
            null,
            null,
            null,
            null,
            null,
            null,
            null,
            null,
            null,
            null,
            null,
            427.8,
            359.68,
            156,
            628.31,
            781.1,
            788.27,
            281.77,
            51,
            43.09,
            31.18,
            42.45,
            43.7
           ],
           "yaxis": "y"
          },
          {
           "hovertemplate": "variable=Predicted<br>timestep=2<br>periodstep=%{x}<br>value=%{y}<extra></extra>",
           "legendgroup": "Predicted",
           "line": {
            "color": "#00cc96",
            "dash": "solid"
           },
           "marker": {
            "symbol": "circle"
           },
           "mode": "lines",
           "name": "Predicted",
           "orientation": "v",
           "showlegend": true,
           "type": "scatter",
           "x": [
            1,
            2,
            3,
            4,
            5,
            6,
            7,
            8,
            9,
            10,
            11,
            12,
            13,
            14,
            15,
            16,
            17,
            18,
            19,
            20,
            21,
            22,
            23,
            24
           ],
           "xaxis": "x",
           "y": [
            null,
            null,
            null,
            null,
            null,
            null,
            null,
            null,
            null,
            null,
            null,
            null,
            204.25053730364445,
            303.3077820271143,
            321.3232832882263,
            323.4516100408372,
            317.41478986549583,
            267.51765036962036,
            215.44085727130064,
            185.85832815302808,
            117.30921480239476,
            101.65916314449711,
            86.89304307736671,
            88.1337150413926
           ],
           "yaxis": "y"
          }
         ],
         "name": "2"
        },
        {
         "data": [
          {
           "hovertemplate": "variable=HistoricalPrice<br>timestep=3<br>periodstep=%{x}<br>value=%{y}<extra></extra>",
           "legendgroup": "HistoricalPrice",
           "line": {
            "color": "#636efa",
            "dash": "solid"
           },
           "marker": {
            "symbol": "circle"
           },
           "mode": "lines",
           "name": "HistoricalPrice",
           "orientation": "v",
           "showlegend": true,
           "type": "scatter",
           "x": [
            1,
            2,
            3,
            4,
            5,
            6,
            7,
            8,
            9,
            10,
            11,
            12,
            13,
            14,
            15,
            16,
            17,
            18,
            19,
            20,
            21,
            22,
            23,
            24
           ],
           "xaxis": "x",
           "y": [
            261.51,
            700.22,
            699.6,
            458.33,
            64.29,
            66,
            69.95,
            69.79,
            61.23,
            64.64,
            120.55,
            427.8,
            null,
            null,
            null,
            null,
            null,
            null,
            null,
            null,
            null,
            null,
            null,
            null
           ],
           "yaxis": "y"
          },
          {
           "hovertemplate": "variable=FuturePrice<br>timestep=3<br>periodstep=%{x}<br>value=%{y}<extra></extra>",
           "legendgroup": "FuturePrice",
           "line": {
            "color": "#EF553B",
            "dash": "solid"
           },
           "marker": {
            "symbol": "circle"
           },
           "mode": "lines",
           "name": "FuturePrice",
           "orientation": "v",
           "showlegend": true,
           "type": "scatter",
           "x": [
            1,
            2,
            3,
            4,
            5,
            6,
            7,
            8,
            9,
            10,
            11,
            12,
            13,
            14,
            15,
            16,
            17,
            18,
            19,
            20,
            21,
            22,
            23,
            24
           ],
           "xaxis": "x",
           "y": [
            null,
            null,
            null,
            null,
            null,
            null,
            null,
            null,
            null,
            null,
            null,
            null,
            359.68,
            156,
            628.31,
            781.1,
            788.27,
            281.77,
            51,
            43.09,
            31.18,
            42.45,
            43.7,
            43.65
           ],
           "yaxis": "y"
          },
          {
           "hovertemplate": "variable=Predicted<br>timestep=3<br>periodstep=%{x}<br>value=%{y}<extra></extra>",
           "legendgroup": "Predicted",
           "line": {
            "color": "#00cc96",
            "dash": "solid"
           },
           "marker": {
            "symbol": "circle"
           },
           "mode": "lines",
           "name": "Predicted",
           "orientation": "v",
           "showlegend": true,
           "type": "scatter",
           "x": [
            1,
            2,
            3,
            4,
            5,
            6,
            7,
            8,
            9,
            10,
            11,
            12,
            13,
            14,
            15,
            16,
            17,
            18,
            19,
            20,
            21,
            22,
            23,
            24
           ],
           "xaxis": "x",
           "y": [
            null,
            null,
            null,
            null,
            null,
            null,
            null,
            null,
            null,
            null,
            null,
            null,
            354.7845796561394,
            313.03183552361196,
            351.3643348560982,
            329.616887765163,
            278.5807095434344,
            172.30165564956675,
            238.50273030926633,
            126.39417722111762,
            101.66779829123925,
            83.63154109875829,
            84.48560593244433,
            112.57719789621363
           ],
           "yaxis": "y"
          }
         ],
         "name": "3"
        },
        {
         "data": [
          {
           "hovertemplate": "variable=HistoricalPrice<br>timestep=4<br>periodstep=%{x}<br>value=%{y}<extra></extra>",
           "legendgroup": "HistoricalPrice",
           "line": {
            "color": "#636efa",
            "dash": "solid"
           },
           "marker": {
            "symbol": "circle"
           },
           "mode": "lines",
           "name": "HistoricalPrice",
           "orientation": "v",
           "showlegend": true,
           "type": "scatter",
           "x": [
            1,
            2,
            3,
            4,
            5,
            6,
            7,
            8,
            9,
            10,
            11,
            12,
            13,
            14,
            15,
            16,
            17,
            18,
            19,
            20,
            21,
            22,
            23,
            24
           ],
           "xaxis": "x",
           "y": [
            700.22,
            699.6,
            458.33,
            64.29,
            66,
            69.95,
            69.79,
            61.23,
            64.64,
            120.55,
            427.8,
            359.68,
            null,
            null,
            null,
            null,
            null,
            null,
            null,
            null,
            null,
            null,
            null,
            null
           ],
           "yaxis": "y"
          },
          {
           "hovertemplate": "variable=FuturePrice<br>timestep=4<br>periodstep=%{x}<br>value=%{y}<extra></extra>",
           "legendgroup": "FuturePrice",
           "line": {
            "color": "#EF553B",
            "dash": "solid"
           },
           "marker": {
            "symbol": "circle"
           },
           "mode": "lines",
           "name": "FuturePrice",
           "orientation": "v",
           "showlegend": true,
           "type": "scatter",
           "x": [
            1,
            2,
            3,
            4,
            5,
            6,
            7,
            8,
            9,
            10,
            11,
            12,
            13,
            14,
            15,
            16,
            17,
            18,
            19,
            20,
            21,
            22,
            23,
            24
           ],
           "xaxis": "x",
           "y": [
            null,
            null,
            null,
            null,
            null,
            null,
            null,
            null,
            null,
            null,
            null,
            null,
            156,
            628.31,
            781.1,
            788.27,
            281.77,
            51,
            43.09,
            31.18,
            42.45,
            43.7,
            43.65,
            44.05
           ],
           "yaxis": "y"
          },
          {
           "hovertemplate": "variable=Predicted<br>timestep=4<br>periodstep=%{x}<br>value=%{y}<extra></extra>",
           "legendgroup": "Predicted",
           "line": {
            "color": "#00cc96",
            "dash": "solid"
           },
           "marker": {
            "symbol": "circle"
           },
           "mode": "lines",
           "name": "Predicted",
           "orientation": "v",
           "showlegend": true,
           "type": "scatter",
           "x": [
            1,
            2,
            3,
            4,
            5,
            6,
            7,
            8,
            9,
            10,
            11,
            12,
            13,
            14,
            15,
            16,
            17,
            18,
            19,
            20,
            21,
            22,
            23,
            24
           ],
           "xaxis": "x",
           "y": [
            null,
            null,
            null,
            null,
            null,
            null,
            null,
            null,
            null,
            null,
            null,
            null,
            303.094390208165,
            376.1782214250538,
            338.5672832505499,
            256.0324417942969,
            212.67918552111428,
            168.14402011028028,
            117.81184649258043,
            117.10954773658466,
            83.70924322489105,
            74.86053494579576,
            89.40937305557935,
            116.63395733911612
           ],
           "yaxis": "y"
          }
         ],
         "name": "4"
        },
        {
         "data": [
          {
           "hovertemplate": "variable=HistoricalPrice<br>timestep=5<br>periodstep=%{x}<br>value=%{y}<extra></extra>",
           "legendgroup": "HistoricalPrice",
           "line": {
            "color": "#636efa",
            "dash": "solid"
           },
           "marker": {
            "symbol": "circle"
           },
           "mode": "lines",
           "name": "HistoricalPrice",
           "orientation": "v",
           "showlegend": true,
           "type": "scatter",
           "x": [
            1,
            2,
            3,
            4,
            5,
            6,
            7,
            8,
            9,
            10,
            11,
            12,
            13,
            14,
            15,
            16,
            17,
            18,
            19,
            20,
            21,
            22,
            23,
            24
           ],
           "xaxis": "x",
           "y": [
            699.6,
            458.33,
            64.29,
            66,
            69.95,
            69.79,
            61.23,
            64.64,
            120.55,
            427.8,
            359.68,
            156,
            null,
            null,
            null,
            null,
            null,
            null,
            null,
            null,
            null,
            null,
            null,
            null
           ],
           "yaxis": "y"
          },
          {
           "hovertemplate": "variable=FuturePrice<br>timestep=5<br>periodstep=%{x}<br>value=%{y}<extra></extra>",
           "legendgroup": "FuturePrice",
           "line": {
            "color": "#EF553B",
            "dash": "solid"
           },
           "marker": {
            "symbol": "circle"
           },
           "mode": "lines",
           "name": "FuturePrice",
           "orientation": "v",
           "showlegend": true,
           "type": "scatter",
           "x": [
            1,
            2,
            3,
            4,
            5,
            6,
            7,
            8,
            9,
            10,
            11,
            12,
            13,
            14,
            15,
            16,
            17,
            18,
            19,
            20,
            21,
            22,
            23,
            24
           ],
           "xaxis": "x",
           "y": [
            null,
            null,
            null,
            null,
            null,
            null,
            null,
            null,
            null,
            null,
            null,
            null,
            628.31,
            781.1,
            788.27,
            281.77,
            51,
            43.09,
            31.18,
            42.45,
            43.7,
            43.65,
            44.05,
            44.23
           ],
           "yaxis": "y"
          },
          {
           "hovertemplate": "variable=Predicted<br>timestep=5<br>periodstep=%{x}<br>value=%{y}<extra></extra>",
           "legendgroup": "Predicted",
           "line": {
            "color": "#00cc96",
            "dash": "solid"
           },
           "marker": {
            "symbol": "circle"
           },
           "mode": "lines",
           "name": "Predicted",
           "orientation": "v",
           "showlegend": true,
           "type": "scatter",
           "x": [
            1,
            2,
            3,
            4,
            5,
            6,
            7,
            8,
            9,
            10,
            11,
            12,
            13,
            14,
            15,
            16,
            17,
            18,
            19,
            20,
            21,
            22,
            23,
            24
           ],
           "xaxis": "x",
           "y": [
            null,
            null,
            null,
            null,
            null,
            null,
            null,
            null,
            null,
            null,
            null,
            null,
            280.5069338247798,
            348.36177701179685,
            314.56057188513256,
            240.62623552754684,
            137.8110369524008,
            112.31473486642244,
            107.59736429881941,
            92.517353336354,
            79.06259441708612,
            103.0380567655872,
            117.04509629718567,
            132.24137707166037
           ],
           "yaxis": "y"
          }
         ],
         "name": "5"
        },
        {
         "data": [
          {
           "hovertemplate": "variable=HistoricalPrice<br>timestep=6<br>periodstep=%{x}<br>value=%{y}<extra></extra>",
           "legendgroup": "HistoricalPrice",
           "line": {
            "color": "#636efa",
            "dash": "solid"
           },
           "marker": {
            "symbol": "circle"
           },
           "mode": "lines",
           "name": "HistoricalPrice",
           "orientation": "v",
           "showlegend": true,
           "type": "scatter",
           "x": [
            1,
            2,
            3,
            4,
            5,
            6,
            7,
            8,
            9,
            10,
            11,
            12,
            13,
            14,
            15,
            16,
            17,
            18,
            19,
            20,
            21,
            22,
            23,
            24
           ],
           "xaxis": "x",
           "y": [
            458.33,
            64.29,
            66,
            69.95,
            69.79,
            61.23,
            64.64,
            120.55,
            427.8,
            359.68,
            156,
            628.31,
            null,
            null,
            null,
            null,
            null,
            null,
            null,
            null,
            null,
            null,
            null,
            null
           ],
           "yaxis": "y"
          },
          {
           "hovertemplate": "variable=FuturePrice<br>timestep=6<br>periodstep=%{x}<br>value=%{y}<extra></extra>",
           "legendgroup": "FuturePrice",
           "line": {
            "color": "#EF553B",
            "dash": "solid"
           },
           "marker": {
            "symbol": "circle"
           },
           "mode": "lines",
           "name": "FuturePrice",
           "orientation": "v",
           "showlegend": true,
           "type": "scatter",
           "x": [
            1,
            2,
            3,
            4,
            5,
            6,
            7,
            8,
            9,
            10,
            11,
            12,
            13,
            14,
            15,
            16,
            17,
            18,
            19,
            20,
            21,
            22,
            23,
            24
           ],
           "xaxis": "x",
           "y": [
            null,
            null,
            null,
            null,
            null,
            null,
            null,
            null,
            null,
            null,
            null,
            null,
            781.1,
            788.27,
            281.77,
            51,
            43.09,
            31.18,
            42.45,
            43.7,
            43.65,
            44.05,
            44.23,
            47.96
           ],
           "yaxis": "y"
          },
          {
           "hovertemplate": "variable=Predicted<br>timestep=6<br>periodstep=%{x}<br>value=%{y}<extra></extra>",
           "legendgroup": "Predicted",
           "line": {
            "color": "#00cc96",
            "dash": "solid"
           },
           "marker": {
            "symbol": "circle"
           },
           "mode": "lines",
           "name": "Predicted",
           "orientation": "v",
           "showlegend": true,
           "type": "scatter",
           "x": [
            1,
            2,
            3,
            4,
            5,
            6,
            7,
            8,
            9,
            10,
            11,
            12,
            13,
            14,
            15,
            16,
            17,
            18,
            19,
            20,
            21,
            22,
            23,
            24
           ],
           "xaxis": "x",
           "y": [
            null,
            null,
            null,
            null,
            null,
            null,
            null,
            null,
            null,
            null,
            null,
            null,
            387.0063285472895,
            297.0043377524746,
            205.3052807693479,
            168.7537766191612,
            106.06016309701617,
            103.08793294472605,
            109.98959273517914,
            96.87342533146779,
            101.49777273184613,
            140.59673666451272,
            164.4342988441595,
            153.14844497935462
           ],
           "yaxis": "y"
          }
         ],
         "name": "6"
        },
        {
         "data": [
          {
           "hovertemplate": "variable=HistoricalPrice<br>timestep=7<br>periodstep=%{x}<br>value=%{y}<extra></extra>",
           "legendgroup": "HistoricalPrice",
           "line": {
            "color": "#636efa",
            "dash": "solid"
           },
           "marker": {
            "symbol": "circle"
           },
           "mode": "lines",
           "name": "HistoricalPrice",
           "orientation": "v",
           "showlegend": true,
           "type": "scatter",
           "x": [
            1,
            2,
            3,
            4,
            5,
            6,
            7,
            8,
            9,
            10,
            11,
            12,
            13,
            14,
            15,
            16,
            17,
            18,
            19,
            20,
            21,
            22,
            23,
            24
           ],
           "xaxis": "x",
           "y": [
            64.29,
            66,
            69.95,
            69.79,
            61.23,
            64.64,
            120.55,
            427.8,
            359.68,
            156,
            628.31,
            781.1,
            null,
            null,
            null,
            null,
            null,
            null,
            null,
            null,
            null,
            null,
            null,
            null
           ],
           "yaxis": "y"
          },
          {
           "hovertemplate": "variable=FuturePrice<br>timestep=7<br>periodstep=%{x}<br>value=%{y}<extra></extra>",
           "legendgroup": "FuturePrice",
           "line": {
            "color": "#EF553B",
            "dash": "solid"
           },
           "marker": {
            "symbol": "circle"
           },
           "mode": "lines",
           "name": "FuturePrice",
           "orientation": "v",
           "showlegend": true,
           "type": "scatter",
           "x": [
            1,
            2,
            3,
            4,
            5,
            6,
            7,
            8,
            9,
            10,
            11,
            12,
            13,
            14,
            15,
            16,
            17,
            18,
            19,
            20,
            21,
            22,
            23,
            24
           ],
           "xaxis": "x",
           "y": [
            null,
            null,
            null,
            null,
            null,
            null,
            null,
            null,
            null,
            null,
            null,
            null,
            788.27,
            281.77,
            51,
            43.09,
            31.18,
            42.45,
            43.7,
            43.65,
            44.05,
            44.23,
            47.96,
            51.96
           ],
           "yaxis": "y"
          },
          {
           "hovertemplate": "variable=Predicted<br>timestep=7<br>periodstep=%{x}<br>value=%{y}<extra></extra>",
           "legendgroup": "Predicted",
           "line": {
            "color": "#00cc96",
            "dash": "solid"
           },
           "marker": {
            "symbol": "circle"
           },
           "mode": "lines",
           "name": "Predicted",
           "orientation": "v",
           "showlegend": true,
           "type": "scatter",
           "x": [
            1,
            2,
            3,
            4,
            5,
            6,
            7,
            8,
            9,
            10,
            11,
            12,
            13,
            14,
            15,
            16,
            17,
            18,
            19,
            20,
            21,
            22,
            23,
            24
           ],
           "xaxis": "x",
           "y": [
            null,
            null,
            null,
            null,
            null,
            null,
            null,
            null,
            null,
            null,
            null,
            null,
            411.6830339277872,
            239.32052184848723,
            214.47981417988416,
            154.4201847365961,
            107.4283153301769,
            112.07160017072542,
            94.23084832001636,
            102.05308285661339,
            140.48613634490547,
            161.89032621149673,
            180.53900973360447,
            182.71647862106872
           ],
           "yaxis": "y"
          }
         ],
         "name": "7"
        },
        {
         "data": [
          {
           "hovertemplate": "variable=HistoricalPrice<br>timestep=8<br>periodstep=%{x}<br>value=%{y}<extra></extra>",
           "legendgroup": "HistoricalPrice",
           "line": {
            "color": "#636efa",
            "dash": "solid"
           },
           "marker": {
            "symbol": "circle"
           },
           "mode": "lines",
           "name": "HistoricalPrice",
           "orientation": "v",
           "showlegend": true,
           "type": "scatter",
           "x": [
            1,
            2,
            3,
            4,
            5,
            6,
            7,
            8,
            9,
            10,
            11,
            12,
            13,
            14,
            15,
            16,
            17,
            18,
            19,
            20,
            21,
            22,
            23,
            24
           ],
           "xaxis": "x",
           "y": [
            66,
            69.95,
            69.79,
            61.23,
            64.64,
            120.55,
            427.8,
            359.68,
            156,
            628.31,
            781.1,
            788.27,
            null,
            null,
            null,
            null,
            null,
            null,
            null,
            null,
            null,
            null,
            null,
            null
           ],
           "yaxis": "y"
          },
          {
           "hovertemplate": "variable=FuturePrice<br>timestep=8<br>periodstep=%{x}<br>value=%{y}<extra></extra>",
           "legendgroup": "FuturePrice",
           "line": {
            "color": "#EF553B",
            "dash": "solid"
           },
           "marker": {
            "symbol": "circle"
           },
           "mode": "lines",
           "name": "FuturePrice",
           "orientation": "v",
           "showlegend": true,
           "type": "scatter",
           "x": [
            1,
            2,
            3,
            4,
            5,
            6,
            7,
            8,
            9,
            10,
            11,
            12,
            13,
            14,
            15,
            16,
            17,
            18,
            19,
            20,
            21,
            22,
            23,
            24
           ],
           "xaxis": "x",
           "y": [
            null,
            null,
            null,
            null,
            null,
            null,
            null,
            null,
            null,
            null,
            null,
            null,
            281.77,
            51,
            43.09,
            31.18,
            42.45,
            43.7,
            43.65,
            44.05,
            44.23,
            47.96,
            51.96,
            56.47
           ],
           "yaxis": "y"
          },
          {
           "hovertemplate": "variable=Predicted<br>timestep=8<br>periodstep=%{x}<br>value=%{y}<extra></extra>",
           "legendgroup": "Predicted",
           "line": {
            "color": "#00cc96",
            "dash": "solid"
           },
           "marker": {
            "symbol": "circle"
           },
           "mode": "lines",
           "name": "Predicted",
           "orientation": "v",
           "showlegend": true,
           "type": "scatter",
           "x": [
            1,
            2,
            3,
            4,
            5,
            6,
            7,
            8,
            9,
            10,
            11,
            12,
            13,
            14,
            15,
            16,
            17,
            18,
            19,
            20,
            21,
            22,
            23,
            24
           ],
           "xaxis": "x",
           "y": [
            null,
            null,
            null,
            null,
            null,
            null,
            null,
            null,
            null,
            null,
            null,
            null,
            382.97543615202306,
            187.46930206986758,
            170.51553807299246,
            129.6701352257214,
            124.68868450430303,
            109.36544610766565,
            114.5631479963713,
            123.51020884789025,
            193.82603727666546,
            207.01284322016184,
            187.6086940090447,
            115.11226225485657
           ],
           "yaxis": "y"
          }
         ],
         "name": "8"
        },
        {
         "data": [
          {
           "hovertemplate": "variable=HistoricalPrice<br>timestep=9<br>periodstep=%{x}<br>value=%{y}<extra></extra>",
           "legendgroup": "HistoricalPrice",
           "line": {
            "color": "#636efa",
            "dash": "solid"
           },
           "marker": {
            "symbol": "circle"
           },
           "mode": "lines",
           "name": "HistoricalPrice",
           "orientation": "v",
           "showlegend": true,
           "type": "scatter",
           "x": [
            1,
            2,
            3,
            4,
            5,
            6,
            7,
            8,
            9,
            10,
            11,
            12,
            13,
            14,
            15,
            16,
            17,
            18,
            19,
            20,
            21,
            22,
            23,
            24
           ],
           "xaxis": "x",
           "y": [
            69.95,
            69.79,
            61.23,
            64.64,
            120.55,
            427.8,
            359.68,
            156,
            628.31,
            781.1,
            788.27,
            281.77,
            null,
            null,
            null,
            null,
            null,
            null,
            null,
            null,
            null,
            null,
            null,
            null
           ],
           "yaxis": "y"
          },
          {
           "hovertemplate": "variable=FuturePrice<br>timestep=9<br>periodstep=%{x}<br>value=%{y}<extra></extra>",
           "legendgroup": "FuturePrice",
           "line": {
            "color": "#EF553B",
            "dash": "solid"
           },
           "marker": {
            "symbol": "circle"
           },
           "mode": "lines",
           "name": "FuturePrice",
           "orientation": "v",
           "showlegend": true,
           "type": "scatter",
           "x": [
            1,
            2,
            3,
            4,
            5,
            6,
            7,
            8,
            9,
            10,
            11,
            12,
            13,
            14,
            15,
            16,
            17,
            18,
            19,
            20,
            21,
            22,
            23,
            24
           ],
           "xaxis": "x",
           "y": [
            null,
            null,
            null,
            null,
            null,
            null,
            null,
            null,
            null,
            null,
            null,
            null,
            51,
            43.09,
            31.18,
            42.45,
            43.7,
            43.65,
            44.05,
            44.23,
            47.96,
            51.96,
            56.47,
            53.7
           ],
           "yaxis": "y"
          },
          {
           "hovertemplate": "variable=Predicted<br>timestep=9<br>periodstep=%{x}<br>value=%{y}<extra></extra>",
           "legendgroup": "Predicted",
           "line": {
            "color": "#00cc96",
            "dash": "solid"
           },
           "marker": {
            "symbol": "circle"
           },
           "mode": "lines",
           "name": "Predicted",
           "orientation": "v",
           "showlegend": true,
           "type": "scatter",
           "x": [
            1,
            2,
            3,
            4,
            5,
            6,
            7,
            8,
            9,
            10,
            11,
            12,
            13,
            14,
            15,
            16,
            17,
            18,
            19,
            20,
            21,
            22,
            23,
            24
           ],
           "xaxis": "x",
           "y": [
            null,
            null,
            null,
            null,
            null,
            null,
            null,
            null,
            null,
            null,
            null,
            null,
            120.43037629084458,
            112.31534636617327,
            144.39581842946086,
            115.6406420433402,
            113.74146973968516,
            125.1259148412756,
            146.9281684355354,
            216.24550458646448,
            206.71203381474388,
            199.42223498144824,
            163.58264368044127,
            132.99756787859724
           ],
           "yaxis": "y"
          }
         ],
         "name": "9"
        },
        {
         "data": [
          {
           "hovertemplate": "variable=HistoricalPrice<br>timestep=10<br>periodstep=%{x}<br>value=%{y}<extra></extra>",
           "legendgroup": "HistoricalPrice",
           "line": {
            "color": "#636efa",
            "dash": "solid"
           },
           "marker": {
            "symbol": "circle"
           },
           "mode": "lines",
           "name": "HistoricalPrice",
           "orientation": "v",
           "showlegend": true,
           "type": "scatter",
           "x": [
            1,
            2,
            3,
            4,
            5,
            6,
            7,
            8,
            9,
            10,
            11,
            12,
            13,
            14,
            15,
            16,
            17,
            18,
            19,
            20,
            21,
            22,
            23,
            24
           ],
           "xaxis": "x",
           "y": [
            69.79,
            61.23,
            64.64,
            120.55,
            427.8,
            359.68,
            156,
            628.31,
            781.1,
            788.27,
            281.77,
            51,
            null,
            null,
            null,
            null,
            null,
            null,
            null,
            null,
            null,
            null,
            null,
            null
           ],
           "yaxis": "y"
          },
          {
           "hovertemplate": "variable=FuturePrice<br>timestep=10<br>periodstep=%{x}<br>value=%{y}<extra></extra>",
           "legendgroup": "FuturePrice",
           "line": {
            "color": "#EF553B",
            "dash": "solid"
           },
           "marker": {
            "symbol": "circle"
           },
           "mode": "lines",
           "name": "FuturePrice",
           "orientation": "v",
           "showlegend": true,
           "type": "scatter",
           "x": [
            1,
            2,
            3,
            4,
            5,
            6,
            7,
            8,
            9,
            10,
            11,
            12,
            13,
            14,
            15,
            16,
            17,
            18,
            19,
            20,
            21,
            22,
            23,
            24
           ],
           "xaxis": "x",
           "y": [
            null,
            null,
            null,
            null,
            null,
            null,
            null,
            null,
            null,
            null,
            null,
            null,
            43.09,
            31.18,
            42.45,
            43.7,
            43.65,
            44.05,
            44.23,
            47.96,
            51.96,
            56.47,
            53.7,
            52.88
           ],
           "yaxis": "y"
          },
          {
           "hovertemplate": "variable=Predicted<br>timestep=10<br>periodstep=%{x}<br>value=%{y}<extra></extra>",
           "legendgroup": "Predicted",
           "line": {
            "color": "#00cc96",
            "dash": "solid"
           },
           "marker": {
            "symbol": "circle"
           },
           "mode": "lines",
           "name": "Predicted",
           "orientation": "v",
           "showlegend": true,
           "type": "scatter",
           "x": [
            1,
            2,
            3,
            4,
            5,
            6,
            7,
            8,
            9,
            10,
            11,
            12,
            13,
            14,
            15,
            16,
            17,
            18,
            19,
            20,
            21,
            22,
            23,
            24
           ],
           "xaxis": "x",
           "y": [
            null,
            null,
            null,
            null,
            null,
            null,
            null,
            null,
            null,
            null,
            null,
            null,
            47.88152943226552,
            56.72897461082116,
            49.46101054353326,
            57.01601247069245,
            99.58987916144794,
            156.45774615421462,
            185.9433045204704,
            207.68580768883302,
            138.3860976949404,
            132.9987052596652,
            129.83177178194322,
            114.5153873503249
           ],
           "yaxis": "y"
          }
         ],
         "name": "10"
        },
        {
         "data": [
          {
           "hovertemplate": "variable=HistoricalPrice<br>timestep=11<br>periodstep=%{x}<br>value=%{y}<extra></extra>",
           "legendgroup": "HistoricalPrice",
           "line": {
            "color": "#636efa",
            "dash": "solid"
           },
           "marker": {
            "symbol": "circle"
           },
           "mode": "lines",
           "name": "HistoricalPrice",
           "orientation": "v",
           "showlegend": true,
           "type": "scatter",
           "x": [
            1,
            2,
            3,
            4,
            5,
            6,
            7,
            8,
            9,
            10,
            11,
            12,
            13,
            14,
            15,
            16,
            17,
            18,
            19,
            20,
            21,
            22,
            23,
            24
           ],
           "xaxis": "x",
           "y": [
            61.23,
            64.64,
            120.55,
            427.8,
            359.68,
            156,
            628.31,
            781.1,
            788.27,
            281.77,
            51,
            43.09,
            null,
            null,
            null,
            null,
            null,
            null,
            null,
            null,
            null,
            null,
            null,
            null
           ],
           "yaxis": "y"
          },
          {
           "hovertemplate": "variable=FuturePrice<br>timestep=11<br>periodstep=%{x}<br>value=%{y}<extra></extra>",
           "legendgroup": "FuturePrice",
           "line": {
            "color": "#EF553B",
            "dash": "solid"
           },
           "marker": {
            "symbol": "circle"
           },
           "mode": "lines",
           "name": "FuturePrice",
           "orientation": "v",
           "showlegend": true,
           "type": "scatter",
           "x": [
            1,
            2,
            3,
            4,
            5,
            6,
            7,
            8,
            9,
            10,
            11,
            12,
            13,
            14,
            15,
            16,
            17,
            18,
            19,
            20,
            21,
            22,
            23,
            24
           ],
           "xaxis": "x",
           "y": [
            null,
            null,
            null,
            null,
            null,
            null,
            null,
            null,
            null,
            null,
            null,
            null,
            31.18,
            42.45,
            43.7,
            43.65,
            44.05,
            44.23,
            47.96,
            51.96,
            56.47,
            53.7,
            52.88,
            50.28
           ],
           "yaxis": "y"
          },
          {
           "hovertemplate": "variable=Predicted<br>timestep=11<br>periodstep=%{x}<br>value=%{y}<extra></extra>",
           "legendgroup": "Predicted",
           "line": {
            "color": "#00cc96",
            "dash": "solid"
           },
           "marker": {
            "symbol": "circle"
           },
           "mode": "lines",
           "name": "Predicted",
           "orientation": "v",
           "showlegend": true,
           "type": "scatter",
           "x": [
            1,
            2,
            3,
            4,
            5,
            6,
            7,
            8,
            9,
            10,
            11,
            12,
            13,
            14,
            15,
            16,
            17,
            18,
            19,
            20,
            21,
            22,
            23,
            24
           ],
           "xaxis": "x",
           "y": [
            null,
            null,
            null,
            null,
            null,
            null,
            null,
            null,
            null,
            null,
            null,
            null,
            40.98262191591846,
            42.72677606258829,
            48.746014268175074,
            64.57613527989385,
            97.4684254403395,
            138.91758398253788,
            139.6363531657055,
            141.74074968152152,
            143.7572774578096,
            91.53264084965272,
            115.48550321467872,
            96.28605043717417
           ],
           "yaxis": "y"
          }
         ],
         "name": "11"
        },
        {
         "data": [
          {
           "hovertemplate": "variable=HistoricalPrice<br>timestep=12<br>periodstep=%{x}<br>value=%{y}<extra></extra>",
           "legendgroup": "HistoricalPrice",
           "line": {
            "color": "#636efa",
            "dash": "solid"
           },
           "marker": {
            "symbol": "circle"
           },
           "mode": "lines",
           "name": "HistoricalPrice",
           "orientation": "v",
           "showlegend": true,
           "type": "scatter",
           "x": [
            1,
            2,
            3,
            4,
            5,
            6,
            7,
            8,
            9,
            10,
            11,
            12,
            13,
            14,
            15,
            16,
            17,
            18,
            19,
            20,
            21,
            22,
            23,
            24
           ],
           "xaxis": "x",
           "y": [
            64.64,
            120.55,
            427.8,
            359.68,
            156,
            628.31,
            781.1,
            788.27,
            281.77,
            51,
            43.09,
            31.18,
            null,
            null,
            null,
            null,
            null,
            null,
            null,
            null,
            null,
            null,
            null,
            null
           ],
           "yaxis": "y"
          },
          {
           "hovertemplate": "variable=FuturePrice<br>timestep=12<br>periodstep=%{x}<br>value=%{y}<extra></extra>",
           "legendgroup": "FuturePrice",
           "line": {
            "color": "#EF553B",
            "dash": "solid"
           },
           "marker": {
            "symbol": "circle"
           },
           "mode": "lines",
           "name": "FuturePrice",
           "orientation": "v",
           "showlegend": true,
           "type": "scatter",
           "x": [
            1,
            2,
            3,
            4,
            5,
            6,
            7,
            8,
            9,
            10,
            11,
            12,
            13,
            14,
            15,
            16,
            17,
            18,
            19,
            20,
            21,
            22,
            23,
            24
           ],
           "xaxis": "x",
           "y": [
            null,
            null,
            null,
            null,
            null,
            null,
            null,
            null,
            null,
            null,
            null,
            null,
            42.45,
            43.7,
            43.65,
            44.05,
            44.23,
            47.96,
            51.96,
            56.47,
            53.7,
            52.88,
            50.28,
            43.44
           ],
           "yaxis": "y"
          },
          {
           "hovertemplate": "variable=Predicted<br>timestep=12<br>periodstep=%{x}<br>value=%{y}<extra></extra>",
           "legendgroup": "Predicted",
           "line": {
            "color": "#00cc96",
            "dash": "solid"
           },
           "marker": {
            "symbol": "circle"
           },
           "mode": "lines",
           "name": "Predicted",
           "orientation": "v",
           "showlegend": true,
           "type": "scatter",
           "x": [
            1,
            2,
            3,
            4,
            5,
            6,
            7,
            8,
            9,
            10,
            11,
            12,
            13,
            14,
            15,
            16,
            17,
            18,
            19,
            20,
            21,
            22,
            23,
            24
           ],
           "xaxis": "x",
           "y": [
            null,
            null,
            null,
            null,
            null,
            null,
            null,
            null,
            null,
            null,
            null,
            null,
            33.33564205923028,
            47.24427901102618,
            51.65038986179069,
            78.96970761833806,
            121.28225569553722,
            117.68867361601353,
            114.90964458031698,
            109.3281606880236,
            91.02501360165603,
            83.77248795474733,
            112.6713083999101,
            107.77826848444636
           ],
           "yaxis": "y"
          }
         ],
         "name": "12"
        },
        {
         "data": [
          {
           "hovertemplate": "variable=HistoricalPrice<br>timestep=13<br>periodstep=%{x}<br>value=%{y}<extra></extra>",
           "legendgroup": "HistoricalPrice",
           "line": {
            "color": "#636efa",
            "dash": "solid"
           },
           "marker": {
            "symbol": "circle"
           },
           "mode": "lines",
           "name": "HistoricalPrice",
           "orientation": "v",
           "showlegend": true,
           "type": "scatter",
           "x": [
            1,
            2,
            3,
            4,
            5,
            6,
            7,
            8,
            9,
            10,
            11,
            12,
            13,
            14,
            15,
            16,
            17,
            18,
            19,
            20,
            21,
            22,
            23,
            24
           ],
           "xaxis": "x",
           "y": [
            120.55,
            427.8,
            359.68,
            156,
            628.31,
            781.1,
            788.27,
            281.77,
            51,
            43.09,
            31.18,
            42.45,
            null,
            null,
            null,
            null,
            null,
            null,
            null,
            null,
            null,
            null,
            null,
            null
           ],
           "yaxis": "y"
          },
          {
           "hovertemplate": "variable=FuturePrice<br>timestep=13<br>periodstep=%{x}<br>value=%{y}<extra></extra>",
           "legendgroup": "FuturePrice",
           "line": {
            "color": "#EF553B",
            "dash": "solid"
           },
           "marker": {
            "symbol": "circle"
           },
           "mode": "lines",
           "name": "FuturePrice",
           "orientation": "v",
           "showlegend": true,
           "type": "scatter",
           "x": [
            1,
            2,
            3,
            4,
            5,
            6,
            7,
            8,
            9,
            10,
            11,
            12,
            13,
            14,
            15,
            16,
            17,
            18,
            19,
            20,
            21,
            22,
            23,
            24
           ],
           "xaxis": "x",
           "y": [
            null,
            null,
            null,
            null,
            null,
            null,
            null,
            null,
            null,
            null,
            null,
            null,
            43.7,
            43.65,
            44.05,
            44.23,
            47.96,
            51.96,
            56.47,
            53.7,
            52.88,
            50.28,
            43.44,
            43.7
           ],
           "yaxis": "y"
          },
          {
           "hovertemplate": "variable=Predicted<br>timestep=13<br>periodstep=%{x}<br>value=%{y}<extra></extra>",
           "legendgroup": "Predicted",
           "line": {
            "color": "#00cc96",
            "dash": "solid"
           },
           "marker": {
            "symbol": "circle"
           },
           "mode": "lines",
           "name": "Predicted",
           "orientation": "v",
           "showlegend": true,
           "type": "scatter",
           "x": [
            1,
            2,
            3,
            4,
            5,
            6,
            7,
            8,
            9,
            10,
            11,
            12,
            13,
            14,
            15,
            16,
            17,
            18,
            19,
            20,
            21,
            22,
            23,
            24
           ],
           "xaxis": "x",
           "y": [
            null,
            null,
            null,
            null,
            null,
            null,
            null,
            null,
            null,
            null,
            null,
            null,
            41.378447298044634,
            46.1706023405506,
            82.3045617543717,
            104.39227260505112,
            121.04779781334798,
            82.70788828916773,
            79.29240685272772,
            94.9144720959314,
            105.77308316404778,
            104.00563764789464,
            113.24243336066202,
            130.1999643910573
           ],
           "yaxis": "y"
          }
         ],
         "name": "13"
        },
        {
         "data": [
          {
           "hovertemplate": "variable=HistoricalPrice<br>timestep=14<br>periodstep=%{x}<br>value=%{y}<extra></extra>",
           "legendgroup": "HistoricalPrice",
           "line": {
            "color": "#636efa",
            "dash": "solid"
           },
           "marker": {
            "symbol": "circle"
           },
           "mode": "lines",
           "name": "HistoricalPrice",
           "orientation": "v",
           "showlegend": true,
           "type": "scatter",
           "x": [
            1,
            2,
            3,
            4,
            5,
            6,
            7,
            8,
            9,
            10,
            11,
            12,
            13,
            14,
            15,
            16,
            17,
            18,
            19,
            20,
            21,
            22,
            23,
            24
           ],
           "xaxis": "x",
           "y": [
            427.8,
            359.68,
            156,
            628.31,
            781.1,
            788.27,
            281.77,
            51,
            43.09,
            31.18,
            42.45,
            43.7,
            null,
            null,
            null,
            null,
            null,
            null,
            null,
            null,
            null,
            null,
            null,
            null
           ],
           "yaxis": "y"
          },
          {
           "hovertemplate": "variable=FuturePrice<br>timestep=14<br>periodstep=%{x}<br>value=%{y}<extra></extra>",
           "legendgroup": "FuturePrice",
           "line": {
            "color": "#EF553B",
            "dash": "solid"
           },
           "marker": {
            "symbol": "circle"
           },
           "mode": "lines",
           "name": "FuturePrice",
           "orientation": "v",
           "showlegend": true,
           "type": "scatter",
           "x": [
            1,
            2,
            3,
            4,
            5,
            6,
            7,
            8,
            9,
            10,
            11,
            12,
            13,
            14,
            15,
            16,
            17,
            18,
            19,
            20,
            21,
            22,
            23,
            24
           ],
           "xaxis": "x",
           "y": [
            null,
            null,
            null,
            null,
            null,
            null,
            null,
            null,
            null,
            null,
            null,
            null,
            43.65,
            44.05,
            44.23,
            47.96,
            51.96,
            56.47,
            53.7,
            52.88,
            50.28,
            43.44,
            43.7,
            44.74
           ],
           "yaxis": "y"
          },
          {
           "hovertemplate": "variable=Predicted<br>timestep=14<br>periodstep=%{x}<br>value=%{y}<extra></extra>",
           "legendgroup": "Predicted",
           "line": {
            "color": "#00cc96",
            "dash": "solid"
           },
           "marker": {
            "symbol": "circle"
           },
           "mode": "lines",
           "name": "Predicted",
           "orientation": "v",
           "showlegend": true,
           "type": "scatter",
           "x": [
            1,
            2,
            3,
            4,
            5,
            6,
            7,
            8,
            9,
            10,
            11,
            12,
            13,
            14,
            15,
            16,
            17,
            18,
            19,
            20,
            21,
            22,
            23,
            24
           ],
           "xaxis": "x",
           "y": [
            null,
            null,
            null,
            null,
            null,
            null,
            null,
            null,
            null,
            null,
            null,
            null,
            42.97966050836522,
            60.32525260722243,
            96.70395414195308,
            109.48190342144652,
            113.08793393341541,
            69.78126248144144,
            68.60950066160696,
            99.81630615507639,
            113.72581883529708,
            105.84168267921379,
            125.5114736602037,
            198.17517763791255
           ],
           "yaxis": "y"
          }
         ],
         "name": "14"
        },
        {
         "data": [
          {
           "hovertemplate": "variable=HistoricalPrice<br>timestep=15<br>periodstep=%{x}<br>value=%{y}<extra></extra>",
           "legendgroup": "HistoricalPrice",
           "line": {
            "color": "#636efa",
            "dash": "solid"
           },
           "marker": {
            "symbol": "circle"
           },
           "mode": "lines",
           "name": "HistoricalPrice",
           "orientation": "v",
           "showlegend": true,
           "type": "scatter",
           "x": [
            1,
            2,
            3,
            4,
            5,
            6,
            7,
            8,
            9,
            10,
            11,
            12,
            13,
            14,
            15,
            16,
            17,
            18,
            19,
            20,
            21,
            22,
            23,
            24
           ],
           "xaxis": "x",
           "y": [
            359.68,
            156,
            628.31,
            781.1,
            788.27,
            281.77,
            51,
            43.09,
            31.18,
            42.45,
            43.7,
            43.65,
            null,
            null,
            null,
            null,
            null,
            null,
            null,
            null,
            null,
            null,
            null,
            null
           ],
           "yaxis": "y"
          },
          {
           "hovertemplate": "variable=FuturePrice<br>timestep=15<br>periodstep=%{x}<br>value=%{y}<extra></extra>",
           "legendgroup": "FuturePrice",
           "line": {
            "color": "#EF553B",
            "dash": "solid"
           },
           "marker": {
            "symbol": "circle"
           },
           "mode": "lines",
           "name": "FuturePrice",
           "orientation": "v",
           "showlegend": true,
           "type": "scatter",
           "x": [
            1,
            2,
            3,
            4,
            5,
            6,
            7,
            8,
            9,
            10,
            11,
            12,
            13,
            14,
            15,
            16,
            17,
            18,
            19,
            20,
            21,
            22,
            23,
            24
           ],
           "xaxis": "x",
           "y": [
            null,
            null,
            null,
            null,
            null,
            null,
            null,
            null,
            null,
            null,
            null,
            null,
            44.05,
            44.23,
            47.96,
            51.96,
            56.47,
            53.7,
            52.88,
            50.28,
            43.44,
            43.7,
            44.74,
            91.9
           ],
           "yaxis": "y"
          },
          {
           "hovertemplate": "variable=Predicted<br>timestep=15<br>periodstep=%{x}<br>value=%{y}<extra></extra>",
           "legendgroup": "Predicted",
           "line": {
            "color": "#00cc96",
            "dash": "solid"
           },
           "marker": {
            "symbol": "circle"
           },
           "mode": "lines",
           "name": "Predicted",
           "orientation": "v",
           "showlegend": true,
           "type": "scatter",
           "x": [
            1,
            2,
            3,
            4,
            5,
            6,
            7,
            8,
            9,
            10,
            11,
            12,
            13,
            14,
            15,
            16,
            17,
            18,
            19,
            20,
            21,
            22,
            23,
            24
           ],
           "xaxis": "x",
           "y": [
            null,
            null,
            null,
            null,
            null,
            null,
            null,
            null,
            null,
            null,
            null,
            null,
            44.92826869600222,
            66.66153866619881,
            77.01541416838481,
            114.92430762281944,
            66.45373518654017,
            65.49502079308631,
            78.85947685892116,
            107.97536170284262,
            113.85832635111,
            99.66926165412228,
            164.37561371121586,
            220.0919271369563
           ],
           "yaxis": "y"
          }
         ],
         "name": "15"
        },
        {
         "data": [
          {
           "hovertemplate": "variable=HistoricalPrice<br>timestep=16<br>periodstep=%{x}<br>value=%{y}<extra></extra>",
           "legendgroup": "HistoricalPrice",
           "line": {
            "color": "#636efa",
            "dash": "solid"
           },
           "marker": {
            "symbol": "circle"
           },
           "mode": "lines",
           "name": "HistoricalPrice",
           "orientation": "v",
           "showlegend": true,
           "type": "scatter",
           "x": [
            1,
            2,
            3,
            4,
            5,
            6,
            7,
            8,
            9,
            10,
            11,
            12,
            13,
            14,
            15,
            16,
            17,
            18,
            19,
            20,
            21,
            22,
            23,
            24
           ],
           "xaxis": "x",
           "y": [
            156,
            628.31,
            781.1,
            788.27,
            281.77,
            51,
            43.09,
            31.18,
            42.45,
            43.7,
            43.65,
            44.05,
            null,
            null,
            null,
            null,
            null,
            null,
            null,
            null,
            null,
            null,
            null,
            null
           ],
           "yaxis": "y"
          },
          {
           "hovertemplate": "variable=FuturePrice<br>timestep=16<br>periodstep=%{x}<br>value=%{y}<extra></extra>",
           "legendgroup": "FuturePrice",
           "line": {
            "color": "#EF553B",
            "dash": "solid"
           },
           "marker": {
            "symbol": "circle"
           },
           "mode": "lines",
           "name": "FuturePrice",
           "orientation": "v",
           "showlegend": true,
           "type": "scatter",
           "x": [
            1,
            2,
            3,
            4,
            5,
            6,
            7,
            8,
            9,
            10,
            11,
            12,
            13,
            14,
            15,
            16,
            17,
            18,
            19,
            20,
            21,
            22,
            23,
            24
           ],
           "xaxis": "x",
           "y": [
            null,
            null,
            null,
            null,
            null,
            null,
            null,
            null,
            null,
            null,
            null,
            null,
            44.23,
            47.96,
            51.96,
            56.47,
            53.7,
            52.88,
            50.28,
            43.44,
            43.7,
            44.74,
            91.9,
            54.63
           ],
           "yaxis": "y"
          },
          {
           "hovertemplate": "variable=Predicted<br>timestep=16<br>periodstep=%{x}<br>value=%{y}<extra></extra>",
           "legendgroup": "Predicted",
           "line": {
            "color": "#00cc96",
            "dash": "solid"
           },
           "marker": {
            "symbol": "circle"
           },
           "mode": "lines",
           "name": "Predicted",
           "orientation": "v",
           "showlegend": true,
           "type": "scatter",
           "x": [
            1,
            2,
            3,
            4,
            5,
            6,
            7,
            8,
            9,
            10,
            11,
            12,
            13,
            14,
            15,
            16,
            17,
            18,
            19,
            20,
            21,
            22,
            23,
            24
           ],
           "xaxis": "x",
           "y": [
            null,
            null,
            null,
            null,
            null,
            null,
            null,
            null,
            null,
            null,
            null,
            null,
            44.632269021835334,
            63.86633803279982,
            61.22932056769558,
            59.41058194955124,
            58.02097350285573,
            66.19334797282855,
            88.37621653765056,
            92.92888514873398,
            126.83880677882672,
            108.05590388154185,
            202.2811738039312,
            210.0563079358542
           ],
           "yaxis": "y"
          }
         ],
         "name": "16"
        },
        {
         "data": [
          {
           "hovertemplate": "variable=HistoricalPrice<br>timestep=17<br>periodstep=%{x}<br>value=%{y}<extra></extra>",
           "legendgroup": "HistoricalPrice",
           "line": {
            "color": "#636efa",
            "dash": "solid"
           },
           "marker": {
            "symbol": "circle"
           },
           "mode": "lines",
           "name": "HistoricalPrice",
           "orientation": "v",
           "showlegend": true,
           "type": "scatter",
           "x": [
            1,
            2,
            3,
            4,
            5,
            6,
            7,
            8,
            9,
            10,
            11,
            12,
            13,
            14,
            15,
            16,
            17,
            18,
            19,
            20,
            21,
            22,
            23,
            24
           ],
           "xaxis": "x",
           "y": [
            628.31,
            781.1,
            788.27,
            281.77,
            51,
            43.09,
            31.18,
            42.45,
            43.7,
            43.65,
            44.05,
            44.23,
            null,
            null,
            null,
            null,
            null,
            null,
            null,
            null,
            null,
            null,
            null,
            null
           ],
           "yaxis": "y"
          },
          {
           "hovertemplate": "variable=FuturePrice<br>timestep=17<br>periodstep=%{x}<br>value=%{y}<extra></extra>",
           "legendgroup": "FuturePrice",
           "line": {
            "color": "#EF553B",
            "dash": "solid"
           },
           "marker": {
            "symbol": "circle"
           },
           "mode": "lines",
           "name": "FuturePrice",
           "orientation": "v",
           "showlegend": true,
           "type": "scatter",
           "x": [
            1,
            2,
            3,
            4,
            5,
            6,
            7,
            8,
            9,
            10,
            11,
            12,
            13,
            14,
            15,
            16,
            17,
            18,
            19,
            20,
            21,
            22,
            23,
            24
           ],
           "xaxis": "x",
           "y": [
            null,
            null,
            null,
            null,
            null,
            null,
            null,
            null,
            null,
            null,
            null,
            null,
            47.96,
            51.96,
            56.47,
            53.7,
            52.88,
            50.28,
            43.44,
            43.7,
            44.74,
            91.9,
            54.63,
            44.83
           ],
           "yaxis": "y"
          },
          {
           "hovertemplate": "variable=Predicted<br>timestep=17<br>periodstep=%{x}<br>value=%{y}<extra></extra>",
           "legendgroup": "Predicted",
           "line": {
            "color": "#00cc96",
            "dash": "solid"
           },
           "marker": {
            "symbol": "circle"
           },
           "mode": "lines",
           "name": "Predicted",
           "orientation": "v",
           "showlegend": true,
           "type": "scatter",
           "x": [
            1,
            2,
            3,
            4,
            5,
            6,
            7,
            8,
            9,
            10,
            11,
            12,
            13,
            14,
            15,
            16,
            17,
            18,
            19,
            20,
            21,
            22,
            23,
            24
           ],
           "xaxis": "x",
           "y": [
            null,
            null,
            null,
            null,
            null,
            null,
            null,
            null,
            null,
            null,
            null,
            null,
            45.82138315808335,
            57.760270661141426,
            57.252703783549954,
            60.67863027541293,
            57.2168004291694,
            77.25437071247497,
            83.1040607004003,
            126.93180726468188,
            137.88390757102306,
            160.62941107503892,
            220.82283315149974,
            159.58903051845957
           ],
           "yaxis": "y"
          }
         ],
         "name": "17"
        },
        {
         "data": [
          {
           "hovertemplate": "variable=HistoricalPrice<br>timestep=18<br>periodstep=%{x}<br>value=%{y}<extra></extra>",
           "legendgroup": "HistoricalPrice",
           "line": {
            "color": "#636efa",
            "dash": "solid"
           },
           "marker": {
            "symbol": "circle"
           },
           "mode": "lines",
           "name": "HistoricalPrice",
           "orientation": "v",
           "showlegend": true,
           "type": "scatter",
           "x": [
            1,
            2,
            3,
            4,
            5,
            6,
            7,
            8,
            9,
            10,
            11,
            12,
            13,
            14,
            15,
            16,
            17,
            18,
            19,
            20,
            21,
            22,
            23,
            24
           ],
           "xaxis": "x",
           "y": [
            781.1,
            788.27,
            281.77,
            51,
            43.09,
            31.18,
            42.45,
            43.7,
            43.65,
            44.05,
            44.23,
            47.96,
            null,
            null,
            null,
            null,
            null,
            null,
            null,
            null,
            null,
            null,
            null,
            null
           ],
           "yaxis": "y"
          },
          {
           "hovertemplate": "variable=FuturePrice<br>timestep=18<br>periodstep=%{x}<br>value=%{y}<extra></extra>",
           "legendgroup": "FuturePrice",
           "line": {
            "color": "#EF553B",
            "dash": "solid"
           },
           "marker": {
            "symbol": "circle"
           },
           "mode": "lines",
           "name": "FuturePrice",
           "orientation": "v",
           "showlegend": true,
           "type": "scatter",
           "x": [
            1,
            2,
            3,
            4,
            5,
            6,
            7,
            8,
            9,
            10,
            11,
            12,
            13,
            14,
            15,
            16,
            17,
            18,
            19,
            20,
            21,
            22,
            23,
            24
           ],
           "xaxis": "x",
           "y": [
            null,
            null,
            null,
            null,
            null,
            null,
            null,
            null,
            null,
            null,
            null,
            null,
            51.96,
            56.47,
            53.7,
            52.88,
            50.28,
            43.44,
            43.7,
            44.74,
            91.9,
            54.63,
            44.83,
            124.18
           ],
           "yaxis": "y"
          },
          {
           "hovertemplate": "variable=Predicted<br>timestep=18<br>periodstep=%{x}<br>value=%{y}<extra></extra>",
           "legendgroup": "Predicted",
           "line": {
            "color": "#00cc96",
            "dash": "solid"
           },
           "marker": {
            "symbol": "circle"
           },
           "mode": "lines",
           "name": "Predicted",
           "orientation": "v",
           "showlegend": true,
           "type": "scatter",
           "x": [
            1,
            2,
            3,
            4,
            5,
            6,
            7,
            8,
            9,
            10,
            11,
            12,
            13,
            14,
            15,
            16,
            17,
            18,
            19,
            20,
            21,
            22,
            23,
            24
           ],
           "xaxis": "x",
           "y": [
            null,
            null,
            null,
            null,
            null,
            null,
            null,
            null,
            null,
            null,
            null,
            null,
            52.414877104561995,
            70.04048729340053,
            63.30917102123148,
            65.12193618878263,
            65.68166694172238,
            94.46940873788225,
            108.66295618683066,
            178.83550738872054,
            151.4083672138531,
            206.1324570521437,
            189.2941185571936,
            215.53138472404834
           ],
           "yaxis": "y"
          }
         ],
         "name": "18"
        },
        {
         "data": [
          {
           "hovertemplate": "variable=HistoricalPrice<br>timestep=19<br>periodstep=%{x}<br>value=%{y}<extra></extra>",
           "legendgroup": "HistoricalPrice",
           "line": {
            "color": "#636efa",
            "dash": "solid"
           },
           "marker": {
            "symbol": "circle"
           },
           "mode": "lines",
           "name": "HistoricalPrice",
           "orientation": "v",
           "showlegend": true,
           "type": "scatter",
           "x": [
            1,
            2,
            3,
            4,
            5,
            6,
            7,
            8,
            9,
            10,
            11,
            12,
            13,
            14,
            15,
            16,
            17,
            18,
            19,
            20,
            21,
            22,
            23,
            24
           ],
           "xaxis": "x",
           "y": [
            788.27,
            281.77,
            51,
            43.09,
            31.18,
            42.45,
            43.7,
            43.65,
            44.05,
            44.23,
            47.96,
            51.96,
            null,
            null,
            null,
            null,
            null,
            null,
            null,
            null,
            null,
            null,
            null,
            null
           ],
           "yaxis": "y"
          },
          {
           "hovertemplate": "variable=FuturePrice<br>timestep=19<br>periodstep=%{x}<br>value=%{y}<extra></extra>",
           "legendgroup": "FuturePrice",
           "line": {
            "color": "#EF553B",
            "dash": "solid"
           },
           "marker": {
            "symbol": "circle"
           },
           "mode": "lines",
           "name": "FuturePrice",
           "orientation": "v",
           "showlegend": true,
           "type": "scatter",
           "x": [
            1,
            2,
            3,
            4,
            5,
            6,
            7,
            8,
            9,
            10,
            11,
            12,
            13,
            14,
            15,
            16,
            17,
            18,
            19,
            20,
            21,
            22,
            23,
            24
           ],
           "xaxis": "x",
           "y": [
            null,
            null,
            null,
            null,
            null,
            null,
            null,
            null,
            null,
            null,
            null,
            null,
            56.47,
            53.7,
            52.88,
            50.28,
            43.44,
            43.7,
            44.74,
            91.9,
            54.63,
            44.83,
            124.18,
            100.97
           ],
           "yaxis": "y"
          },
          {
           "hovertemplate": "variable=Predicted<br>timestep=19<br>periodstep=%{x}<br>value=%{y}<extra></extra>",
           "legendgroup": "Predicted",
           "line": {
            "color": "#00cc96",
            "dash": "solid"
           },
           "marker": {
            "symbol": "circle"
           },
           "mode": "lines",
           "name": "Predicted",
           "orientation": "v",
           "showlegend": true,
           "type": "scatter",
           "x": [
            1,
            2,
            3,
            4,
            5,
            6,
            7,
            8,
            9,
            10,
            11,
            12,
            13,
            14,
            15,
            16,
            17,
            18,
            19,
            20,
            21,
            22,
            23,
            24
           ],
           "xaxis": "x",
           "y": [
            null,
            null,
            null,
            null,
            null,
            null,
            null,
            null,
            null,
            null,
            null,
            null,
            51.32625883419574,
            79.97082369715369,
            73.35472250930124,
            72.51431798376322,
            83.01603956003211,
            115.16733671784478,
            150.57980601998796,
            224.06006038481507,
            207.70301431765813,
            159.42603844409888,
            213.30045539762503,
            206.91196746218918
           ],
           "yaxis": "y"
          }
         ],
         "name": "19"
        },
        {
         "data": [
          {
           "hovertemplate": "variable=HistoricalPrice<br>timestep=20<br>periodstep=%{x}<br>value=%{y}<extra></extra>",
           "legendgroup": "HistoricalPrice",
           "line": {
            "color": "#636efa",
            "dash": "solid"
           },
           "marker": {
            "symbol": "circle"
           },
           "mode": "lines",
           "name": "HistoricalPrice",
           "orientation": "v",
           "showlegend": true,
           "type": "scatter",
           "x": [
            1,
            2,
            3,
            4,
            5,
            6,
            7,
            8,
            9,
            10,
            11,
            12,
            13,
            14,
            15,
            16,
            17,
            18,
            19,
            20,
            21,
            22,
            23,
            24
           ],
           "xaxis": "x",
           "y": [
            281.77,
            51,
            43.09,
            31.18,
            42.45,
            43.7,
            43.65,
            44.05,
            44.23,
            47.96,
            51.96,
            56.47,
            null,
            null,
            null,
            null,
            null,
            null,
            null,
            null,
            null,
            null,
            null,
            null
           ],
           "yaxis": "y"
          },
          {
           "hovertemplate": "variable=FuturePrice<br>timestep=20<br>periodstep=%{x}<br>value=%{y}<extra></extra>",
           "legendgroup": "FuturePrice",
           "line": {
            "color": "#EF553B",
            "dash": "solid"
           },
           "marker": {
            "symbol": "circle"
           },
           "mode": "lines",
           "name": "FuturePrice",
           "orientation": "v",
           "showlegend": true,
           "type": "scatter",
           "x": [
            1,
            2,
            3,
            4,
            5,
            6,
            7,
            8,
            9,
            10,
            11,
            12,
            13,
            14,
            15,
            16,
            17,
            18,
            19,
            20,
            21,
            22,
            23,
            24
           ],
           "xaxis": "x",
           "y": [
            null,
            null,
            null,
            null,
            null,
            null,
            null,
            null,
            null,
            null,
            null,
            null,
            53.7,
            52.88,
            50.28,
            43.44,
            43.7,
            44.74,
            91.9,
            54.63,
            44.83,
            124.18,
            100.97,
            82.45
           ],
           "yaxis": "y"
          },
          {
           "hovertemplate": "variable=Predicted<br>timestep=20<br>periodstep=%{x}<br>value=%{y}<extra></extra>",
           "legendgroup": "Predicted",
           "line": {
            "color": "#00cc96",
            "dash": "solid"
           },
           "marker": {
            "symbol": "circle"
           },
           "mode": "lines",
           "name": "Predicted",
           "orientation": "v",
           "showlegend": true,
           "type": "scatter",
           "x": [
            1,
            2,
            3,
            4,
            5,
            6,
            7,
            8,
            9,
            10,
            11,
            12,
            13,
            14,
            15,
            16,
            17,
            18,
            19,
            20,
            21,
            22,
            23,
            24
           ],
           "xaxis": "x",
           "y": [
            null,
            null,
            null,
            null,
            null,
            null,
            null,
            null,
            null,
            null,
            null,
            null,
            57.65704087164203,
            79.81250257935788,
            83.94606171064133,
            85.66399543320209,
            88.3933361639823,
            143.97708740990507,
            202.0903286034141,
            250.66494750898667,
            185.7778466671128,
            228.29865124510542,
            201.67038010123662,
            148.90753641277115
           ],
           "yaxis": "y"
          }
         ],
         "name": "20"
        },
        {
         "data": [
          {
           "hovertemplate": "variable=HistoricalPrice<br>timestep=21<br>periodstep=%{x}<br>value=%{y}<extra></extra>",
           "legendgroup": "HistoricalPrice",
           "line": {
            "color": "#636efa",
            "dash": "solid"
           },
           "marker": {
            "symbol": "circle"
           },
           "mode": "lines",
           "name": "HistoricalPrice",
           "orientation": "v",
           "showlegend": true,
           "type": "scatter",
           "x": [
            1,
            2,
            3,
            4,
            5,
            6,
            7,
            8,
            9,
            10,
            11,
            12,
            13,
            14,
            15,
            16,
            17,
            18,
            19,
            20,
            21,
            22,
            23,
            24
           ],
           "xaxis": "x",
           "y": [
            51,
            43.09,
            31.18,
            42.45,
            43.7,
            43.65,
            44.05,
            44.23,
            47.96,
            51.96,
            56.47,
            53.7,
            null,
            null,
            null,
            null,
            null,
            null,
            null,
            null,
            null,
            null,
            null,
            null
           ],
           "yaxis": "y"
          },
          {
           "hovertemplate": "variable=FuturePrice<br>timestep=21<br>periodstep=%{x}<br>value=%{y}<extra></extra>",
           "legendgroup": "FuturePrice",
           "line": {
            "color": "#EF553B",
            "dash": "solid"
           },
           "marker": {
            "symbol": "circle"
           },
           "mode": "lines",
           "name": "FuturePrice",
           "orientation": "v",
           "showlegend": true,
           "type": "scatter",
           "x": [
            1,
            2,
            3,
            4,
            5,
            6,
            7,
            8,
            9,
            10,
            11,
            12,
            13,
            14,
            15,
            16,
            17,
            18,
            19,
            20,
            21,
            22,
            23,
            24
           ],
           "xaxis": "x",
           "y": [
            null,
            null,
            null,
            null,
            null,
            null,
            null,
            null,
            null,
            null,
            null,
            null,
            52.88,
            50.28,
            43.44,
            43.7,
            44.74,
            91.9,
            54.63,
            44.83,
            124.18,
            100.97,
            82.45,
            53.57
           ],
           "yaxis": "y"
          },
          {
           "hovertemplate": "variable=Predicted<br>timestep=21<br>periodstep=%{x}<br>value=%{y}<extra></extra>",
           "legendgroup": "Predicted",
           "line": {
            "color": "#00cc96",
            "dash": "solid"
           },
           "marker": {
            "symbol": "circle"
           },
           "mode": "lines",
           "name": "Predicted",
           "orientation": "v",
           "showlegend": true,
           "type": "scatter",
           "x": [
            1,
            2,
            3,
            4,
            5,
            6,
            7,
            8,
            9,
            10,
            11,
            12,
            13,
            14,
            15,
            16,
            17,
            18,
            19,
            20,
            21,
            22,
            23,
            24
           ],
           "xaxis": "x",
           "y": [
            null,
            null,
            null,
            null,
            null,
            null,
            null,
            null,
            null,
            null,
            null,
            null,
            53.73773168063578,
            72.77807669004599,
            85.82187922519132,
            85.464648381391,
            128.2659491764612,
            156.79348478266584,
            226.96202388484667,
            194.99415419622514,
            233.0120792652933,
            192.48698631314474,
            181.05835120367004,
            144.6815279478499
           ],
           "yaxis": "y"
          }
         ],
         "name": "21"
        },
        {
         "data": [
          {
           "hovertemplate": "variable=HistoricalPrice<br>timestep=22<br>periodstep=%{x}<br>value=%{y}<extra></extra>",
           "legendgroup": "HistoricalPrice",
           "line": {
            "color": "#636efa",
            "dash": "solid"
           },
           "marker": {
            "symbol": "circle"
           },
           "mode": "lines",
           "name": "HistoricalPrice",
           "orientation": "v",
           "showlegend": true,
           "type": "scatter",
           "x": [
            1,
            2,
            3,
            4,
            5,
            6,
            7,
            8,
            9,
            10,
            11,
            12,
            13,
            14,
            15,
            16,
            17,
            18,
            19,
            20,
            21,
            22,
            23,
            24
           ],
           "xaxis": "x",
           "y": [
            43.09,
            31.18,
            42.45,
            43.7,
            43.65,
            44.05,
            44.23,
            47.96,
            51.96,
            56.47,
            53.7,
            52.88,
            null,
            null,
            null,
            null,
            null,
            null,
            null,
            null,
            null,
            null,
            null,
            null
           ],
           "yaxis": "y"
          },
          {
           "hovertemplate": "variable=FuturePrice<br>timestep=22<br>periodstep=%{x}<br>value=%{y}<extra></extra>",
           "legendgroup": "FuturePrice",
           "line": {
            "color": "#EF553B",
            "dash": "solid"
           },
           "marker": {
            "symbol": "circle"
           },
           "mode": "lines",
           "name": "FuturePrice",
           "orientation": "v",
           "showlegend": true,
           "type": "scatter",
           "x": [
            1,
            2,
            3,
            4,
            5,
            6,
            7,
            8,
            9,
            10,
            11,
            12,
            13,
            14,
            15,
            16,
            17,
            18,
            19,
            20,
            21,
            22,
            23,
            24
           ],
           "xaxis": "x",
           "y": [
            null,
            null,
            null,
            null,
            null,
            null,
            null,
            null,
            null,
            null,
            null,
            null,
            50.28,
            43.44,
            43.7,
            44.74,
            91.9,
            54.63,
            44.83,
            124.18,
            100.97,
            82.45,
            53.57,
            100.48
           ],
           "yaxis": "y"
          },
          {
           "hovertemplate": "variable=Predicted<br>timestep=22<br>periodstep=%{x}<br>value=%{y}<extra></extra>",
           "legendgroup": "Predicted",
           "line": {
            "color": "#00cc96",
            "dash": "solid"
           },
           "marker": {
            "symbol": "circle"
           },
           "mode": "lines",
           "name": "Predicted",
           "orientation": "v",
           "showlegend": true,
           "type": "scatter",
           "x": [
            1,
            2,
            3,
            4,
            5,
            6,
            7,
            8,
            9,
            10,
            11,
            12,
            13,
            14,
            15,
            16,
            17,
            18,
            19,
            20,
            21,
            22,
            23,
            24
           ],
           "xaxis": "x",
           "y": [
            null,
            null,
            null,
            null,
            null,
            null,
            null,
            null,
            null,
            null,
            null,
            null,
            50.4759017849449,
            78.53527485294063,
            91.74778220125302,
            115.69938130053184,
            192.28569820737206,
            154.86545908311842,
            176.88074322839316,
            205.8895308365844,
            195.18373641831974,
            162.9945143317242,
            156.29249853808153,
            64.45361493253452
           ],
           "yaxis": "y"
          }
         ],
         "name": "22"
        },
        {
         "data": [
          {
           "hovertemplate": "variable=HistoricalPrice<br>timestep=23<br>periodstep=%{x}<br>value=%{y}<extra></extra>",
           "legendgroup": "HistoricalPrice",
           "line": {
            "color": "#636efa",
            "dash": "solid"
           },
           "marker": {
            "symbol": "circle"
           },
           "mode": "lines",
           "name": "HistoricalPrice",
           "orientation": "v",
           "showlegend": true,
           "type": "scatter",
           "x": [
            1,
            2,
            3,
            4,
            5,
            6,
            7,
            8,
            9,
            10,
            11,
            12,
            13,
            14,
            15,
            16,
            17,
            18,
            19,
            20,
            21,
            22,
            23,
            24
           ],
           "xaxis": "x",
           "y": [
            31.18,
            42.45,
            43.7,
            43.65,
            44.05,
            44.23,
            47.96,
            51.96,
            56.47,
            53.7,
            52.88,
            50.28,
            null,
            null,
            null,
            null,
            null,
            null,
            null,
            null,
            null,
            null,
            null,
            null
           ],
           "yaxis": "y"
          },
          {
           "hovertemplate": "variable=FuturePrice<br>timestep=23<br>periodstep=%{x}<br>value=%{y}<extra></extra>",
           "legendgroup": "FuturePrice",
           "line": {
            "color": "#EF553B",
            "dash": "solid"
           },
           "marker": {
            "symbol": "circle"
           },
           "mode": "lines",
           "name": "FuturePrice",
           "orientation": "v",
           "showlegend": true,
           "type": "scatter",
           "x": [
            1,
            2,
            3,
            4,
            5,
            6,
            7,
            8,
            9,
            10,
            11,
            12,
            13,
            14,
            15,
            16,
            17,
            18,
            19,
            20,
            21,
            22,
            23,
            24
           ],
           "xaxis": "x",
           "y": [
            null,
            null,
            null,
            null,
            null,
            null,
            null,
            null,
            null,
            null,
            null,
            null,
            43.44,
            43.7,
            44.74,
            91.9,
            54.63,
            44.83,
            124.18,
            100.97,
            82.45,
            53.57,
            100.48,
            48.95
           ],
           "yaxis": "y"
          },
          {
           "hovertemplate": "variable=Predicted<br>timestep=23<br>periodstep=%{x}<br>value=%{y}<extra></extra>",
           "legendgroup": "Predicted",
           "line": {
            "color": "#00cc96",
            "dash": "solid"
           },
           "marker": {
            "symbol": "circle"
           },
           "mode": "lines",
           "name": "Predicted",
           "orientation": "v",
           "showlegend": true,
           "type": "scatter",
           "x": [
            1,
            2,
            3,
            4,
            5,
            6,
            7,
            8,
            9,
            10,
            11,
            12,
            13,
            14,
            15,
            16,
            17,
            18,
            19,
            20,
            21,
            22,
            23,
            24
           ],
           "xaxis": "x",
           "y": [
            null,
            null,
            null,
            null,
            null,
            null,
            null,
            null,
            null,
            null,
            null,
            null,
            50.34071535506106,
            77.23484718374272,
            92.05256402520837,
            157.89286981378916,
            166.203576653407,
            147.35034432954393,
            192.87350815439686,
            154.56765257114395,
            194.56762630265865,
            111.49192730995591,
            60.316712846366066,
            52.980872811016596
           ],
           "yaxis": "y"
          }
         ],
         "name": "23"
        },
        {
         "data": [
          {
           "hovertemplate": "variable=HistoricalPrice<br>timestep=24<br>periodstep=%{x}<br>value=%{y}<extra></extra>",
           "legendgroup": "HistoricalPrice",
           "line": {
            "color": "#636efa",
            "dash": "solid"
           },
           "marker": {
            "symbol": "circle"
           },
           "mode": "lines",
           "name": "HistoricalPrice",
           "orientation": "v",
           "showlegend": true,
           "type": "scatter",
           "x": [
            1,
            2,
            3,
            4,
            5,
            6,
            7,
            8,
            9,
            10,
            11,
            12,
            13,
            14,
            15,
            16,
            17,
            18,
            19,
            20,
            21,
            22,
            23,
            24
           ],
           "xaxis": "x",
           "y": [
            42.45,
            43.7,
            43.65,
            44.05,
            44.23,
            47.96,
            51.96,
            56.47,
            53.7,
            52.88,
            50.28,
            43.44,
            null,
            null,
            null,
            null,
            null,
            null,
            null,
            null,
            null,
            null,
            null,
            null
           ],
           "yaxis": "y"
          },
          {
           "hovertemplate": "variable=FuturePrice<br>timestep=24<br>periodstep=%{x}<br>value=%{y}<extra></extra>",
           "legendgroup": "FuturePrice",
           "line": {
            "color": "#EF553B",
            "dash": "solid"
           },
           "marker": {
            "symbol": "circle"
           },
           "mode": "lines",
           "name": "FuturePrice",
           "orientation": "v",
           "showlegend": true,
           "type": "scatter",
           "x": [
            1,
            2,
            3,
            4,
            5,
            6,
            7,
            8,
            9,
            10,
            11,
            12,
            13,
            14,
            15,
            16,
            17,
            18,
            19,
            20,
            21,
            22,
            23,
            24
           ],
           "xaxis": "x",
           "y": [
            null,
            null,
            null,
            null,
            null,
            null,
            null,
            null,
            null,
            null,
            null,
            null,
            43.7,
            44.74,
            91.9,
            54.63,
            44.83,
            124.18,
            100.97,
            82.45,
            53.57,
            100.48,
            48.95,
            47.86
           ],
           "yaxis": "y"
          },
          {
           "hovertemplate": "variable=Predicted<br>timestep=24<br>periodstep=%{x}<br>value=%{y}<extra></extra>",
           "legendgroup": "Predicted",
           "line": {
            "color": "#00cc96",
            "dash": "solid"
           },
           "marker": {
            "symbol": "circle"
           },
           "mode": "lines",
           "name": "Predicted",
           "orientation": "v",
           "showlegend": true,
           "type": "scatter",
           "x": [
            1,
            2,
            3,
            4,
            5,
            6,
            7,
            8,
            9,
            10,
            11,
            12,
            13,
            14,
            15,
            16,
            17,
            18,
            19,
            20,
            21,
            22,
            23,
            24
           ],
           "xaxis": "x",
           "y": [
            null,
            null,
            null,
            null,
            null,
            null,
            null,
            null,
            null,
            null,
            null,
            null,
            42.334146282052124,
            65.09776858826905,
            84.16428183122176,
            115.3693013290174,
            138.22185788732844,
            129.1402970177035,
            100.52513023651017,
            136.3206335691514,
            126.7863617292293,
            61.688275723956146,
            54.450597664091426,
            50.466454597309635
           ],
           "yaxis": "y"
          }
         ],
         "name": "24"
        },
        {
         "data": [
          {
           "hovertemplate": "variable=HistoricalPrice<br>timestep=25<br>periodstep=%{x}<br>value=%{y}<extra></extra>",
           "legendgroup": "HistoricalPrice",
           "line": {
            "color": "#636efa",
            "dash": "solid"
           },
           "marker": {
            "symbol": "circle"
           },
           "mode": "lines",
           "name": "HistoricalPrice",
           "orientation": "v",
           "showlegend": true,
           "type": "scatter",
           "x": [
            1,
            2,
            3,
            4,
            5,
            6,
            7,
            8,
            9,
            10,
            11,
            12,
            13,
            14,
            15,
            16,
            17,
            18,
            19,
            20,
            21,
            22,
            23,
            24
           ],
           "xaxis": "x",
           "y": [
            43.7,
            43.65,
            44.05,
            44.23,
            47.96,
            51.96,
            56.47,
            53.7,
            52.88,
            50.28,
            43.44,
            43.7,
            null,
            null,
            null,
            null,
            null,
            null,
            null,
            null,
            null,
            null,
            null,
            null
           ],
           "yaxis": "y"
          },
          {
           "hovertemplate": "variable=FuturePrice<br>timestep=25<br>periodstep=%{x}<br>value=%{y}<extra></extra>",
           "legendgroup": "FuturePrice",
           "line": {
            "color": "#EF553B",
            "dash": "solid"
           },
           "marker": {
            "symbol": "circle"
           },
           "mode": "lines",
           "name": "FuturePrice",
           "orientation": "v",
           "showlegend": true,
           "type": "scatter",
           "x": [
            1,
            2,
            3,
            4,
            5,
            6,
            7,
            8,
            9,
            10,
            11,
            12,
            13,
            14,
            15,
            16,
            17,
            18,
            19,
            20,
            21,
            22,
            23,
            24
           ],
           "xaxis": "x",
           "y": [
            null,
            null,
            null,
            null,
            null,
            null,
            null,
            null,
            null,
            null,
            null,
            null,
            44.74,
            91.9,
            54.63,
            44.83,
            124.18,
            100.97,
            82.45,
            53.57,
            100.48,
            48.95,
            47.86,
            44.28
           ],
           "yaxis": "y"
          },
          {
           "hovertemplate": "variable=Predicted<br>timestep=25<br>periodstep=%{x}<br>value=%{y}<extra></extra>",
           "legendgroup": "Predicted",
           "line": {
            "color": "#00cc96",
            "dash": "solid"
           },
           "marker": {
            "symbol": "circle"
           },
           "mode": "lines",
           "name": "Predicted",
           "orientation": "v",
           "showlegend": true,
           "type": "scatter",
           "x": [
            1,
            2,
            3,
            4,
            5,
            6,
            7,
            8,
            9,
            10,
            11,
            12,
            13,
            14,
            15,
            16,
            17,
            18,
            19,
            20,
            21,
            22,
            23,
            24
           ],
           "xaxis": "x",
           "y": [
            null,
            null,
            null,
            null,
            null,
            null,
            null,
            null,
            null,
            null,
            null,
            null,
            43.79115641253874,
            64.20866817338657,
            78.5424935103265,
            117.06694842247268,
            136.7410937820502,
            123.08419075981888,
            97.17151730442919,
            119.71150121324102,
            61.87926191506195,
            52.695364864179325,
            51.56194200782141,
            50.23674579251886
           ],
           "yaxis": "y"
          }
         ],
         "name": "25"
        },
        {
         "data": [
          {
           "hovertemplate": "variable=HistoricalPrice<br>timestep=26<br>periodstep=%{x}<br>value=%{y}<extra></extra>",
           "legendgroup": "HistoricalPrice",
           "line": {
            "color": "#636efa",
            "dash": "solid"
           },
           "marker": {
            "symbol": "circle"
           },
           "mode": "lines",
           "name": "HistoricalPrice",
           "orientation": "v",
           "showlegend": true,
           "type": "scatter",
           "x": [
            1,
            2,
            3,
            4,
            5,
            6,
            7,
            8,
            9,
            10,
            11,
            12,
            13,
            14,
            15,
            16,
            17,
            18,
            19,
            20,
            21,
            22,
            23,
            24
           ],
           "xaxis": "x",
           "y": [
            43.65,
            44.05,
            44.23,
            47.96,
            51.96,
            56.47,
            53.7,
            52.88,
            50.28,
            43.44,
            43.7,
            44.74,
            null,
            null,
            null,
            null,
            null,
            null,
            null,
            null,
            null,
            null,
            null,
            null
           ],
           "yaxis": "y"
          },
          {
           "hovertemplate": "variable=FuturePrice<br>timestep=26<br>periodstep=%{x}<br>value=%{y}<extra></extra>",
           "legendgroup": "FuturePrice",
           "line": {
            "color": "#EF553B",
            "dash": "solid"
           },
           "marker": {
            "symbol": "circle"
           },
           "mode": "lines",
           "name": "FuturePrice",
           "orientation": "v",
           "showlegend": true,
           "type": "scatter",
           "x": [
            1,
            2,
            3,
            4,
            5,
            6,
            7,
            8,
            9,
            10,
            11,
            12,
            13,
            14,
            15,
            16,
            17,
            18,
            19,
            20,
            21,
            22,
            23,
            24
           ],
           "xaxis": "x",
           "y": [
            null,
            null,
            null,
            null,
            null,
            null,
            null,
            null,
            null,
            null,
            null,
            null,
            91.9,
            54.63,
            44.83,
            124.18,
            100.97,
            82.45,
            53.57,
            100.48,
            48.95,
            47.86,
            44.28,
            43.46
           ],
           "yaxis": "y"
          },
          {
           "hovertemplate": "variable=Predicted<br>timestep=26<br>periodstep=%{x}<br>value=%{y}<extra></extra>",
           "legendgroup": "Predicted",
           "line": {
            "color": "#00cc96",
            "dash": "solid"
           },
           "marker": {
            "symbol": "circle"
           },
           "mode": "lines",
           "name": "Predicted",
           "orientation": "v",
           "showlegend": true,
           "type": "scatter",
           "x": [
            1,
            2,
            3,
            4,
            5,
            6,
            7,
            8,
            9,
            10,
            11,
            12,
            13,
            14,
            15,
            16,
            17,
            18,
            19,
            20,
            21,
            22,
            23,
            24
           ],
           "xaxis": "x",
           "y": [
            null,
            null,
            null,
            null,
            null,
            null,
            null,
            null,
            null,
            null,
            null,
            null,
            45.287883187767136,
            64.18452249824414,
            110.91965301639387,
            129.89638882184795,
            145.9183856493657,
            105.13051437900795,
            87.11626039680928,
            55.09869109437308,
            50.30593077961565,
            51.95430835754522,
            51.521738867193186,
            50.16544629715959
           ],
           "yaxis": "y"
          }
         ],
         "name": "26"
        },
        {
         "data": [
          {
           "hovertemplate": "variable=HistoricalPrice<br>timestep=27<br>periodstep=%{x}<br>value=%{y}<extra></extra>",
           "legendgroup": "HistoricalPrice",
           "line": {
            "color": "#636efa",
            "dash": "solid"
           },
           "marker": {
            "symbol": "circle"
           },
           "mode": "lines",
           "name": "HistoricalPrice",
           "orientation": "v",
           "showlegend": true,
           "type": "scatter",
           "x": [
            1,
            2,
            3,
            4,
            5,
            6,
            7,
            8,
            9,
            10,
            11,
            12,
            13,
            14,
            15,
            16,
            17,
            18,
            19,
            20,
            21,
            22,
            23,
            24
           ],
           "xaxis": "x",
           "y": [
            44.05,
            44.23,
            47.96,
            51.96,
            56.47,
            53.7,
            52.88,
            50.28,
            43.44,
            43.7,
            44.74,
            91.9,
            null,
            null,
            null,
            null,
            null,
            null,
            null,
            null,
            null,
            null,
            null,
            null
           ],
           "yaxis": "y"
          },
          {
           "hovertemplate": "variable=FuturePrice<br>timestep=27<br>periodstep=%{x}<br>value=%{y}<extra></extra>",
           "legendgroup": "FuturePrice",
           "line": {
            "color": "#EF553B",
            "dash": "solid"
           },
           "marker": {
            "symbol": "circle"
           },
           "mode": "lines",
           "name": "FuturePrice",
           "orientation": "v",
           "showlegend": true,
           "type": "scatter",
           "x": [
            1,
            2,
            3,
            4,
            5,
            6,
            7,
            8,
            9,
            10,
            11,
            12,
            13,
            14,
            15,
            16,
            17,
            18,
            19,
            20,
            21,
            22,
            23,
            24
           ],
           "xaxis": "x",
           "y": [
            null,
            null,
            null,
            null,
            null,
            null,
            null,
            null,
            null,
            null,
            null,
            null,
            54.63,
            44.83,
            124.18,
            100.97,
            82.45,
            53.57,
            100.48,
            48.95,
            47.86,
            44.28,
            43.46,
            42.46
           ],
           "yaxis": "y"
          },
          {
           "hovertemplate": "variable=Predicted<br>timestep=27<br>periodstep=%{x}<br>value=%{y}<extra></extra>",
           "legendgroup": "Predicted",
           "line": {
            "color": "#00cc96",
            "dash": "solid"
           },
           "marker": {
            "symbol": "circle"
           },
           "mode": "lines",
           "name": "Predicted",
           "orientation": "v",
           "showlegend": true,
           "type": "scatter",
           "x": [
            1,
            2,
            3,
            4,
            5,
            6,
            7,
            8,
            9,
            10,
            11,
            12,
            13,
            14,
            15,
            16,
            17,
            18,
            19,
            20,
            21,
            22,
            23,
            24
           ],
           "xaxis": "x",
           "y": [
            null,
            null,
            null,
            null,
            null,
            null,
            null,
            null,
            null,
            null,
            null,
            null,
            128.60864699960769,
            199.3818362414799,
            154.5682209813699,
            169.3195278460459,
            125.73571255515743,
            101.34306718009958,
            81.1585690486319,
            54.11831179048742,
            51.96333465599196,
            52.049881475765766,
            53.63893781779592,
            55.917368177021835
           ],
           "yaxis": "y"
          }
         ],
         "name": "27"
        },
        {
         "data": [
          {
           "hovertemplate": "variable=HistoricalPrice<br>timestep=28<br>periodstep=%{x}<br>value=%{y}<extra></extra>",
           "legendgroup": "HistoricalPrice",
           "line": {
            "color": "#636efa",
            "dash": "solid"
           },
           "marker": {
            "symbol": "circle"
           },
           "mode": "lines",
           "name": "HistoricalPrice",
           "orientation": "v",
           "showlegend": true,
           "type": "scatter",
           "x": [
            1,
            2,
            3,
            4,
            5,
            6,
            7,
            8,
            9,
            10,
            11,
            12,
            13,
            14,
            15,
            16,
            17,
            18,
            19,
            20,
            21,
            22,
            23,
            24
           ],
           "xaxis": "x",
           "y": [
            44.23,
            47.96,
            51.96,
            56.47,
            53.7,
            52.88,
            50.28,
            43.44,
            43.7,
            44.74,
            91.9,
            54.63,
            null,
            null,
            null,
            null,
            null,
            null,
            null,
            null,
            null,
            null,
            null,
            null
           ],
           "yaxis": "y"
          },
          {
           "hovertemplate": "variable=FuturePrice<br>timestep=28<br>periodstep=%{x}<br>value=%{y}<extra></extra>",
           "legendgroup": "FuturePrice",
           "line": {
            "color": "#EF553B",
            "dash": "solid"
           },
           "marker": {
            "symbol": "circle"
           },
           "mode": "lines",
           "name": "FuturePrice",
           "orientation": "v",
           "showlegend": true,
           "type": "scatter",
           "x": [
            1,
            2,
            3,
            4,
            5,
            6,
            7,
            8,
            9,
            10,
            11,
            12,
            13,
            14,
            15,
            16,
            17,
            18,
            19,
            20,
            21,
            22,
            23,
            24
           ],
           "xaxis": "x",
           "y": [
            null,
            null,
            null,
            null,
            null,
            null,
            null,
            null,
            null,
            null,
            null,
            null,
            44.83,
            124.18,
            100.97,
            82.45,
            53.57,
            100.48,
            48.95,
            47.86,
            44.28,
            43.46,
            42.46,
            43.8
           ],
           "yaxis": "y"
          },
          {
           "hovertemplate": "variable=Predicted<br>timestep=28<br>periodstep=%{x}<br>value=%{y}<extra></extra>",
           "legendgroup": "Predicted",
           "line": {
            "color": "#00cc96",
            "dash": "solid"
           },
           "marker": {
            "symbol": "circle"
           },
           "mode": "lines",
           "name": "Predicted",
           "orientation": "v",
           "showlegend": true,
           "type": "scatter",
           "x": [
            1,
            2,
            3,
            4,
            5,
            6,
            7,
            8,
            9,
            10,
            11,
            12,
            13,
            14,
            15,
            16,
            17,
            18,
            19,
            20,
            21,
            22,
            23,
            24
           ],
           "xaxis": "x",
           "y": [
            null,
            null,
            null,
            null,
            null,
            null,
            null,
            null,
            null,
            null,
            null,
            null,
            59.62960218193092,
            99.9746800658076,
            102.91955889520354,
            117.92641470479656,
            101.56008494076461,
            54.023452056387036,
            70.71344716225079,
            51.577902688482965,
            61.899879083427095,
            51.85645827972251,
            52.93926166449251,
            51.77686215278557
           ],
           "yaxis": "y"
          }
         ],
         "name": "28"
        },
        {
         "data": [
          {
           "hovertemplate": "variable=HistoricalPrice<br>timestep=29<br>periodstep=%{x}<br>value=%{y}<extra></extra>",
           "legendgroup": "HistoricalPrice",
           "line": {
            "color": "#636efa",
            "dash": "solid"
           },
           "marker": {
            "symbol": "circle"
           },
           "mode": "lines",
           "name": "HistoricalPrice",
           "orientation": "v",
           "showlegend": true,
           "type": "scatter",
           "x": [
            1,
            2,
            3,
            4,
            5,
            6,
            7,
            8,
            9,
            10,
            11,
            12,
            13,
            14,
            15,
            16,
            17,
            18,
            19,
            20,
            21,
            22,
            23,
            24
           ],
           "xaxis": "x",
           "y": [
            47.96,
            51.96,
            56.47,
            53.7,
            52.88,
            50.28,
            43.44,
            43.7,
            44.74,
            91.9,
            54.63,
            44.83,
            null,
            null,
            null,
            null,
            null,
            null,
            null,
            null,
            null,
            null,
            null,
            null
           ],
           "yaxis": "y"
          },
          {
           "hovertemplate": "variable=FuturePrice<br>timestep=29<br>periodstep=%{x}<br>value=%{y}<extra></extra>",
           "legendgroup": "FuturePrice",
           "line": {
            "color": "#EF553B",
            "dash": "solid"
           },
           "marker": {
            "symbol": "circle"
           },
           "mode": "lines",
           "name": "FuturePrice",
           "orientation": "v",
           "showlegend": true,
           "type": "scatter",
           "x": [
            1,
            2,
            3,
            4,
            5,
            6,
            7,
            8,
            9,
            10,
            11,
            12,
            13,
            14,
            15,
            16,
            17,
            18,
            19,
            20,
            21,
            22,
            23,
            24
           ],
           "xaxis": "x",
           "y": [
            null,
            null,
            null,
            null,
            null,
            null,
            null,
            null,
            null,
            null,
            null,
            null,
            124.18,
            100.97,
            82.45,
            53.57,
            100.48,
            48.95,
            47.86,
            44.28,
            43.46,
            42.46,
            43.8,
            41.73
           ],
           "yaxis": "y"
          },
          {
           "hovertemplate": "variable=Predicted<br>timestep=29<br>periodstep=%{x}<br>value=%{y}<extra></extra>",
           "legendgroup": "Predicted",
           "line": {
            "color": "#00cc96",
            "dash": "solid"
           },
           "marker": {
            "symbol": "circle"
           },
           "mode": "lines",
           "name": "Predicted",
           "orientation": "v",
           "showlegend": true,
           "type": "scatter",
           "x": [
            1,
            2,
            3,
            4,
            5,
            6,
            7,
            8,
            9,
            10,
            11,
            12,
            13,
            14,
            15,
            16,
            17,
            18,
            19,
            20,
            21,
            22,
            23,
            24
           ],
           "xaxis": "x",
           "y": [
            null,
            null,
            null,
            null,
            null,
            null,
            null,
            null,
            null,
            null,
            null,
            null,
            45.6161437388775,
            80.52836854023464,
            84.3418051395171,
            80.70171926240305,
            47.74767907829528,
            48.870789714162946,
            56.54841122125905,
            51.29853083110744,
            60.47639021199273,
            53.01380965605399,
            55.093278402492466,
            56.59972569155001
           ],
           "yaxis": "y"
          }
         ],
         "name": "29"
        },
        {
         "data": [
          {
           "hovertemplate": "variable=HistoricalPrice<br>timestep=30<br>periodstep=%{x}<br>value=%{y}<extra></extra>",
           "legendgroup": "HistoricalPrice",
           "line": {
            "color": "#636efa",
            "dash": "solid"
           },
           "marker": {
            "symbol": "circle"
           },
           "mode": "lines",
           "name": "HistoricalPrice",
           "orientation": "v",
           "showlegend": true,
           "type": "scatter",
           "x": [
            1,
            2,
            3,
            4,
            5,
            6,
            7,
            8,
            9,
            10,
            11,
            12,
            13,
            14,
            15,
            16,
            17,
            18,
            19,
            20,
            21,
            22,
            23,
            24
           ],
           "xaxis": "x",
           "y": [
            51.96,
            56.47,
            53.7,
            52.88,
            50.28,
            43.44,
            43.7,
            44.74,
            91.9,
            54.63,
            44.83,
            124.18,
            null,
            null,
            null,
            null,
            null,
            null,
            null,
            null,
            null,
            null,
            null,
            null
           ],
           "yaxis": "y"
          },
          {
           "hovertemplate": "variable=FuturePrice<br>timestep=30<br>periodstep=%{x}<br>value=%{y}<extra></extra>",
           "legendgroup": "FuturePrice",
           "line": {
            "color": "#EF553B",
            "dash": "solid"
           },
           "marker": {
            "symbol": "circle"
           },
           "mode": "lines",
           "name": "FuturePrice",
           "orientation": "v",
           "showlegend": true,
           "type": "scatter",
           "x": [
            1,
            2,
            3,
            4,
            5,
            6,
            7,
            8,
            9,
            10,
            11,
            12,
            13,
            14,
            15,
            16,
            17,
            18,
            19,
            20,
            21,
            22,
            23,
            24
           ],
           "xaxis": "x",
           "y": [
            null,
            null,
            null,
            null,
            null,
            null,
            null,
            null,
            null,
            null,
            null,
            null,
            100.97,
            82.45,
            53.57,
            100.48,
            48.95,
            47.86,
            44.28,
            43.46,
            42.46,
            43.8,
            41.73,
            33.43
           ],
           "yaxis": "y"
          },
          {
           "hovertemplate": "variable=Predicted<br>timestep=30<br>periodstep=%{x}<br>value=%{y}<extra></extra>",
           "legendgroup": "Predicted",
           "line": {
            "color": "#00cc96",
            "dash": "solid"
           },
           "marker": {
            "symbol": "circle"
           },
           "mode": "lines",
           "name": "Predicted",
           "orientation": "v",
           "showlegend": true,
           "type": "scatter",
           "x": [
            1,
            2,
            3,
            4,
            5,
            6,
            7,
            8,
            9,
            10,
            11,
            12,
            13,
            14,
            15,
            16,
            17,
            18,
            19,
            20,
            21,
            22,
            23,
            24
           ],
           "xaxis": "x",
           "y": [
            null,
            null,
            null,
            null,
            null,
            null,
            null,
            null,
            null,
            null,
            null,
            null,
            155.03558385724594,
            164.3826369397499,
            141.00734393431338,
            81.41808039452492,
            71.02925627137094,
            71.2065527068117,
            77.58602141374163,
            56.58111199281238,
            61.02050261579941,
            53.129262650357475,
            81.78599228954606,
            65.32013434989923
           ],
           "yaxis": "y"
          }
         ],
         "name": "30"
        },
        {
         "data": [
          {
           "hovertemplate": "variable=HistoricalPrice<br>timestep=31<br>periodstep=%{x}<br>value=%{y}<extra></extra>",
           "legendgroup": "HistoricalPrice",
           "line": {
            "color": "#636efa",
            "dash": "solid"
           },
           "marker": {
            "symbol": "circle"
           },
           "mode": "lines",
           "name": "HistoricalPrice",
           "orientation": "v",
           "showlegend": true,
           "type": "scatter",
           "x": [
            1,
            2,
            3,
            4,
            5,
            6,
            7,
            8,
            9,
            10,
            11,
            12,
            13,
            14,
            15,
            16,
            17,
            18,
            19,
            20,
            21,
            22,
            23,
            24
           ],
           "xaxis": "x",
           "y": [
            56.47,
            53.7,
            52.88,
            50.28,
            43.44,
            43.7,
            44.74,
            91.9,
            54.63,
            44.83,
            124.18,
            100.97,
            null,
            null,
            null,
            null,
            null,
            null,
            null,
            null,
            null,
            null,
            null,
            null
           ],
           "yaxis": "y"
          },
          {
           "hovertemplate": "variable=FuturePrice<br>timestep=31<br>periodstep=%{x}<br>value=%{y}<extra></extra>",
           "legendgroup": "FuturePrice",
           "line": {
            "color": "#EF553B",
            "dash": "solid"
           },
           "marker": {
            "symbol": "circle"
           },
           "mode": "lines",
           "name": "FuturePrice",
           "orientation": "v",
           "showlegend": true,
           "type": "scatter",
           "x": [
            1,
            2,
            3,
            4,
            5,
            6,
            7,
            8,
            9,
            10,
            11,
            12,
            13,
            14,
            15,
            16,
            17,
            18,
            19,
            20,
            21,
            22,
            23,
            24
           ],
           "xaxis": "x",
           "y": [
            null,
            null,
            null,
            null,
            null,
            null,
            null,
            null,
            null,
            null,
            null,
            null,
            82.45,
            53.57,
            100.48,
            48.95,
            47.86,
            44.28,
            43.46,
            42.46,
            43.8,
            41.73,
            33.43,
            34.95
           ],
           "yaxis": "y"
          },
          {
           "hovertemplate": "variable=Predicted<br>timestep=31<br>periodstep=%{x}<br>value=%{y}<extra></extra>",
           "legendgroup": "Predicted",
           "line": {
            "color": "#00cc96",
            "dash": "solid"
           },
           "marker": {
            "symbol": "circle"
           },
           "mode": "lines",
           "name": "Predicted",
           "orientation": "v",
           "showlegend": true,
           "type": "scatter",
           "x": [
            1,
            2,
            3,
            4,
            5,
            6,
            7,
            8,
            9,
            10,
            11,
            12,
            13,
            14,
            15,
            16,
            17,
            18,
            19,
            20,
            21,
            22,
            23,
            24
           ],
           "xaxis": "x",
           "y": [
            null,
            null,
            null,
            null,
            null,
            null,
            null,
            null,
            null,
            null,
            null,
            null,
            107.48455728787599,
            105.16457247859715,
            88.71354811957703,
            79.13733773840771,
            73.16329479290225,
            69.5633842794846,
            81.69704416969985,
            56.371532176286316,
            62.49486158243014,
            78.96013755109433,
            88.74950552563521,
            93.75883263771122
           ],
           "yaxis": "y"
          }
         ],
         "name": "31"
        },
        {
         "data": [
          {
           "hovertemplate": "variable=HistoricalPrice<br>timestep=32<br>periodstep=%{x}<br>value=%{y}<extra></extra>",
           "legendgroup": "HistoricalPrice",
           "line": {
            "color": "#636efa",
            "dash": "solid"
           },
           "marker": {
            "symbol": "circle"
           },
           "mode": "lines",
           "name": "HistoricalPrice",
           "orientation": "v",
           "showlegend": true,
           "type": "scatter",
           "x": [
            1,
            2,
            3,
            4,
            5,
            6,
            7,
            8,
            9,
            10,
            11,
            12,
            13,
            14,
            15,
            16,
            17,
            18,
            19,
            20,
            21,
            22,
            23,
            24
           ],
           "xaxis": "x",
           "y": [
            53.7,
            52.88,
            50.28,
            43.44,
            43.7,
            44.74,
            91.9,
            54.63,
            44.83,
            124.18,
            100.97,
            82.45,
            null,
            null,
            null,
            null,
            null,
            null,
            null,
            null,
            null,
            null,
            null,
            null
           ],
           "yaxis": "y"
          },
          {
           "hovertemplate": "variable=FuturePrice<br>timestep=32<br>periodstep=%{x}<br>value=%{y}<extra></extra>",
           "legendgroup": "FuturePrice",
           "line": {
            "color": "#EF553B",
            "dash": "solid"
           },
           "marker": {
            "symbol": "circle"
           },
           "mode": "lines",
           "name": "FuturePrice",
           "orientation": "v",
           "showlegend": true,
           "type": "scatter",
           "x": [
            1,
            2,
            3,
            4,
            5,
            6,
            7,
            8,
            9,
            10,
            11,
            12,
            13,
            14,
            15,
            16,
            17,
            18,
            19,
            20,
            21,
            22,
            23,
            24
           ],
           "xaxis": "x",
           "y": [
            null,
            null,
            null,
            null,
            null,
            null,
            null,
            null,
            null,
            null,
            null,
            null,
            53.57,
            100.48,
            48.95,
            47.86,
            44.28,
            43.46,
            42.46,
            43.8,
            41.73,
            33.43,
            34.95,
            37.58
           ],
           "yaxis": "y"
          },
          {
           "hovertemplate": "variable=Predicted<br>timestep=32<br>periodstep=%{x}<br>value=%{y}<extra></extra>",
           "legendgroup": "Predicted",
           "line": {
            "color": "#00cc96",
            "dash": "solid"
           },
           "marker": {
            "symbol": "circle"
           },
           "mode": "lines",
           "name": "Predicted",
           "orientation": "v",
           "showlegend": true,
           "type": "scatter",
           "x": [
            1,
            2,
            3,
            4,
            5,
            6,
            7,
            8,
            9,
            10,
            11,
            12,
            13,
            14,
            15,
            16,
            17,
            18,
            19,
            20,
            21,
            22,
            23,
            24
           ],
           "xaxis": "x",
           "y": [
            null,
            null,
            null,
            null,
            null,
            null,
            null,
            null,
            null,
            null,
            null,
            null,
            90.56747055326501,
            84.29642895534876,
            79.94667380338704,
            68.2384406353655,
            64.22161693338057,
            57.15588542127555,
            70.42412437240051,
            53.28226891054865,
            85.08523734791648,
            85.13347203899592,
            76.49984730267099,
            111.27364541283697
           ],
           "yaxis": "y"
          }
         ],
         "name": "32"
        },
        {
         "data": [
          {
           "hovertemplate": "variable=HistoricalPrice<br>timestep=33<br>periodstep=%{x}<br>value=%{y}<extra></extra>",
           "legendgroup": "HistoricalPrice",
           "line": {
            "color": "#636efa",
            "dash": "solid"
           },
           "marker": {
            "symbol": "circle"
           },
           "mode": "lines",
           "name": "HistoricalPrice",
           "orientation": "v",
           "showlegend": true,
           "type": "scatter",
           "x": [
            1,
            2,
            3,
            4,
            5,
            6,
            7,
            8,
            9,
            10,
            11,
            12,
            13,
            14,
            15,
            16,
            17,
            18,
            19,
            20,
            21,
            22,
            23,
            24
           ],
           "xaxis": "x",
           "y": [
            52.88,
            50.28,
            43.44,
            43.7,
            44.74,
            91.9,
            54.63,
            44.83,
            124.18,
            100.97,
            82.45,
            53.57,
            null,
            null,
            null,
            null,
            null,
            null,
            null,
            null,
            null,
            null,
            null,
            null
           ],
           "yaxis": "y"
          },
          {
           "hovertemplate": "variable=FuturePrice<br>timestep=33<br>periodstep=%{x}<br>value=%{y}<extra></extra>",
           "legendgroup": "FuturePrice",
           "line": {
            "color": "#EF553B",
            "dash": "solid"
           },
           "marker": {
            "symbol": "circle"
           },
           "mode": "lines",
           "name": "FuturePrice",
           "orientation": "v",
           "showlegend": true,
           "type": "scatter",
           "x": [
            1,
            2,
            3,
            4,
            5,
            6,
            7,
            8,
            9,
            10,
            11,
            12,
            13,
            14,
            15,
            16,
            17,
            18,
            19,
            20,
            21,
            22,
            23,
            24
           ],
           "xaxis": "x",
           "y": [
            null,
            null,
            null,
            null,
            null,
            null,
            null,
            null,
            null,
            null,
            null,
            null,
            100.48,
            48.95,
            47.86,
            44.28,
            43.46,
            42.46,
            43.8,
            41.73,
            33.43,
            34.95,
            37.58,
            41.38
           ],
           "yaxis": "y"
          },
          {
           "hovertemplate": "variable=Predicted<br>timestep=33<br>periodstep=%{x}<br>value=%{y}<extra></extra>",
           "legendgroup": "Predicted",
           "line": {
            "color": "#00cc96",
            "dash": "solid"
           },
           "marker": {
            "symbol": "circle"
           },
           "mode": "lines",
           "name": "Predicted",
           "orientation": "v",
           "showlegend": true,
           "type": "scatter",
           "x": [
            1,
            2,
            3,
            4,
            5,
            6,
            7,
            8,
            9,
            10,
            11,
            12,
            13,
            14,
            15,
            16,
            17,
            18,
            19,
            20,
            21,
            22,
            23,
            24
           ],
           "xaxis": "x",
           "y": [
            null,
            null,
            null,
            null,
            null,
            null,
            null,
            null,
            null,
            null,
            null,
            null,
            49.636683959742,
            54.63262625588915,
            72.74783915439077,
            45.11418355257458,
            48.42230129456772,
            47.10053125254426,
            63.06609452127426,
            61.241442454865975,
            60.89163408903929,
            81.54443261257234,
            110.69394112411246,
            115.4981859217197
           ],
           "yaxis": "y"
          }
         ],
         "name": "33"
        },
        {
         "data": [
          {
           "hovertemplate": "variable=HistoricalPrice<br>timestep=34<br>periodstep=%{x}<br>value=%{y}<extra></extra>",
           "legendgroup": "HistoricalPrice",
           "line": {
            "color": "#636efa",
            "dash": "solid"
           },
           "marker": {
            "symbol": "circle"
           },
           "mode": "lines",
           "name": "HistoricalPrice",
           "orientation": "v",
           "showlegend": true,
           "type": "scatter",
           "x": [
            1,
            2,
            3,
            4,
            5,
            6,
            7,
            8,
            9,
            10,
            11,
            12,
            13,
            14,
            15,
            16,
            17,
            18,
            19,
            20,
            21,
            22,
            23,
            24
           ],
           "xaxis": "x",
           "y": [
            50.28,
            43.44,
            43.7,
            44.74,
            91.9,
            54.63,
            44.83,
            124.18,
            100.97,
            82.45,
            53.57,
            100.48,
            null,
            null,
            null,
            null,
            null,
            null,
            null,
            null,
            null,
            null,
            null,
            null
           ],
           "yaxis": "y"
          },
          {
           "hovertemplate": "variable=FuturePrice<br>timestep=34<br>periodstep=%{x}<br>value=%{y}<extra></extra>",
           "legendgroup": "FuturePrice",
           "line": {
            "color": "#EF553B",
            "dash": "solid"
           },
           "marker": {
            "symbol": "circle"
           },
           "mode": "lines",
           "name": "FuturePrice",
           "orientation": "v",
           "showlegend": true,
           "type": "scatter",
           "x": [
            1,
            2,
            3,
            4,
            5,
            6,
            7,
            8,
            9,
            10,
            11,
            12,
            13,
            14,
            15,
            16,
            17,
            18,
            19,
            20,
            21,
            22,
            23,
            24
           ],
           "xaxis": "x",
           "y": [
            null,
            null,
            null,
            null,
            null,
            null,
            null,
            null,
            null,
            null,
            null,
            null,
            48.95,
            47.86,
            44.28,
            43.46,
            42.46,
            43.8,
            41.73,
            33.43,
            34.95,
            37.58,
            41.38,
            43.93
           ],
           "yaxis": "y"
          },
          {
           "hovertemplate": "variable=Predicted<br>timestep=34<br>periodstep=%{x}<br>value=%{y}<extra></extra>",
           "legendgroup": "Predicted",
           "line": {
            "color": "#00cc96",
            "dash": "solid"
           },
           "marker": {
            "symbol": "circle"
           },
           "mode": "lines",
           "name": "Predicted",
           "orientation": "v",
           "showlegend": true,
           "type": "scatter",
           "x": [
            1,
            2,
            3,
            4,
            5,
            6,
            7,
            8,
            9,
            10,
            11,
            12,
            13,
            14,
            15,
            16,
            17,
            18,
            19,
            20,
            21,
            22,
            23,
            24
           ],
           "xaxis": "x",
           "y": [
            null,
            null,
            null,
            null,
            null,
            null,
            null,
            null,
            null,
            null,
            null,
            null,
            112.29765447358544,
            92.65402234048324,
            88.24791885702501,
            71.3850531993418,
            77.23855542244752,
            67.51907110998089,
            115.02840623738666,
            99.9260687026098,
            99.02542580123033,
            104.00997111406464,
            129.86873559804104,
            97.0243257291272
           ],
           "yaxis": "y"
          }
         ],
         "name": "34"
        },
        {
         "data": [
          {
           "hovertemplate": "variable=HistoricalPrice<br>timestep=35<br>periodstep=%{x}<br>value=%{y}<extra></extra>",
           "legendgroup": "HistoricalPrice",
           "line": {
            "color": "#636efa",
            "dash": "solid"
           },
           "marker": {
            "symbol": "circle"
           },
           "mode": "lines",
           "name": "HistoricalPrice",
           "orientation": "v",
           "showlegend": true,
           "type": "scatter",
           "x": [
            1,
            2,
            3,
            4,
            5,
            6,
            7,
            8,
            9,
            10,
            11,
            12,
            13,
            14,
            15,
            16,
            17,
            18,
            19,
            20,
            21,
            22,
            23,
            24
           ],
           "xaxis": "x",
           "y": [
            43.44,
            43.7,
            44.74,
            91.9,
            54.63,
            44.83,
            124.18,
            100.97,
            82.45,
            53.57,
            100.48,
            48.95,
            null,
            null,
            null,
            null,
            null,
            null,
            null,
            null,
            null,
            null,
            null,
            null
           ],
           "yaxis": "y"
          },
          {
           "hovertemplate": "variable=FuturePrice<br>timestep=35<br>periodstep=%{x}<br>value=%{y}<extra></extra>",
           "legendgroup": "FuturePrice",
           "line": {
            "color": "#EF553B",
            "dash": "solid"
           },
           "marker": {
            "symbol": "circle"
           },
           "mode": "lines",
           "name": "FuturePrice",
           "orientation": "v",
           "showlegend": true,
           "type": "scatter",
           "x": [
            1,
            2,
            3,
            4,
            5,
            6,
            7,
            8,
            9,
            10,
            11,
            12,
            13,
            14,
            15,
            16,
            17,
            18,
            19,
            20,
            21,
            22,
            23,
            24
           ],
           "xaxis": "x",
           "y": [
            null,
            null,
            null,
            null,
            null,
            null,
            null,
            null,
            null,
            null,
            null,
            null,
            47.86,
            44.28,
            43.46,
            42.46,
            43.8,
            41.73,
            33.43,
            34.95,
            37.58,
            41.38,
            43.93,
            46.99
           ],
           "yaxis": "y"
          },
          {
           "hovertemplate": "variable=Predicted<br>timestep=35<br>periodstep=%{x}<br>value=%{y}<extra></extra>",
           "legendgroup": "Predicted",
           "line": {
            "color": "#00cc96",
            "dash": "solid"
           },
           "marker": {
            "symbol": "circle"
           },
           "mode": "lines",
           "name": "Predicted",
           "orientation": "v",
           "showlegend": true,
           "type": "scatter",
           "x": [
            1,
            2,
            3,
            4,
            5,
            6,
            7,
            8,
            9,
            10,
            11,
            12,
            13,
            14,
            15,
            16,
            17,
            18,
            19,
            20,
            21,
            22,
            23,
            24
           ],
           "xaxis": "x",
           "y": [
            null,
            null,
            null,
            null,
            null,
            null,
            null,
            null,
            null,
            null,
            null,
            null,
            46.39572910264769,
            51.79194414756306,
            51.22241361490469,
            43.67825820451627,
            44.98276873767157,
            60.09480991803637,
            62.83802070515572,
            73.45997354144858,
            92.38047433168174,
            100.42511419827123,
            70.21196978200187,
            63.0075076183741
           ],
           "yaxis": "y"
          }
         ],
         "name": "35"
        },
        {
         "data": [
          {
           "hovertemplate": "variable=HistoricalPrice<br>timestep=36<br>periodstep=%{x}<br>value=%{y}<extra></extra>",
           "legendgroup": "HistoricalPrice",
           "line": {
            "color": "#636efa",
            "dash": "solid"
           },
           "marker": {
            "symbol": "circle"
           },
           "mode": "lines",
           "name": "HistoricalPrice",
           "orientation": "v",
           "showlegend": true,
           "type": "scatter",
           "x": [
            1,
            2,
            3,
            4,
            5,
            6,
            7,
            8,
            9,
            10,
            11,
            12,
            13,
            14,
            15,
            16,
            17,
            18,
            19,
            20,
            21,
            22,
            23,
            24
           ],
           "xaxis": "x",
           "y": [
            43.7,
            44.74,
            91.9,
            54.63,
            44.83,
            124.18,
            100.97,
            82.45,
            53.57,
            100.48,
            48.95,
            47.86,
            null,
            null,
            null,
            null,
            null,
            null,
            null,
            null,
            null,
            null,
            null,
            null
           ],
           "yaxis": "y"
          },
          {
           "hovertemplate": "variable=FuturePrice<br>timestep=36<br>periodstep=%{x}<br>value=%{y}<extra></extra>",
           "legendgroup": "FuturePrice",
           "line": {
            "color": "#EF553B",
            "dash": "solid"
           },
           "marker": {
            "symbol": "circle"
           },
           "mode": "lines",
           "name": "FuturePrice",
           "orientation": "v",
           "showlegend": true,
           "type": "scatter",
           "x": [
            1,
            2,
            3,
            4,
            5,
            6,
            7,
            8,
            9,
            10,
            11,
            12,
            13,
            14,
            15,
            16,
            17,
            18,
            19,
            20,
            21,
            22,
            23,
            24
           ],
           "xaxis": "x",
           "y": [
            null,
            null,
            null,
            null,
            null,
            null,
            null,
            null,
            null,
            null,
            null,
            null,
            44.28,
            43.46,
            42.46,
            43.8,
            41.73,
            33.43,
            34.95,
            37.58,
            41.38,
            43.93,
            46.99,
            62.73
           ],
           "yaxis": "y"
          },
          {
           "hovertemplate": "variable=Predicted<br>timestep=36<br>periodstep=%{x}<br>value=%{y}<extra></extra>",
           "legendgroup": "Predicted",
           "line": {
            "color": "#00cc96",
            "dash": "solid"
           },
           "marker": {
            "symbol": "circle"
           },
           "mode": "lines",
           "name": "Predicted",
           "orientation": "v",
           "showlegend": true,
           "type": "scatter",
           "x": [
            1,
            2,
            3,
            4,
            5,
            6,
            7,
            8,
            9,
            10,
            11,
            12,
            13,
            14,
            15,
            16,
            17,
            18,
            19,
            20,
            21,
            22,
            23,
            24
           ],
           "xaxis": "x",
           "y": [
            null,
            null,
            null,
            null,
            null,
            null,
            null,
            null,
            null,
            null,
            null,
            null,
            44.43048285787409,
            47.55893303144113,
            46.769086481131104,
            46.908875869709455,
            51.265385547318274,
            61.63831124553769,
            54.841548367867325,
            97.18693156630167,
            91.20352375540025,
            81.69036620077274,
            73.05575962265677,
            82.03830688147917
           ],
           "yaxis": "y"
          }
         ],
         "name": "36"
        },
        {
         "data": [
          {
           "hovertemplate": "variable=HistoricalPrice<br>timestep=37<br>periodstep=%{x}<br>value=%{y}<extra></extra>",
           "legendgroup": "HistoricalPrice",
           "line": {
            "color": "#636efa",
            "dash": "solid"
           },
           "marker": {
            "symbol": "circle"
           },
           "mode": "lines",
           "name": "HistoricalPrice",
           "orientation": "v",
           "showlegend": true,
           "type": "scatter",
           "x": [
            1,
            2,
            3,
            4,
            5,
            6,
            7,
            8,
            9,
            10,
            11,
            12,
            13,
            14,
            15,
            16,
            17,
            18,
            19,
            20,
            21,
            22,
            23,
            24
           ],
           "xaxis": "x",
           "y": [
            44.74,
            91.9,
            54.63,
            44.83,
            124.18,
            100.97,
            82.45,
            53.57,
            100.48,
            48.95,
            47.86,
            44.28,
            null,
            null,
            null,
            null,
            null,
            null,
            null,
            null,
            null,
            null,
            null,
            null
           ],
           "yaxis": "y"
          },
          {
           "hovertemplate": "variable=FuturePrice<br>timestep=37<br>periodstep=%{x}<br>value=%{y}<extra></extra>",
           "legendgroup": "FuturePrice",
           "line": {
            "color": "#EF553B",
            "dash": "solid"
           },
           "marker": {
            "symbol": "circle"
           },
           "mode": "lines",
           "name": "FuturePrice",
           "orientation": "v",
           "showlegend": true,
           "type": "scatter",
           "x": [
            1,
            2,
            3,
            4,
            5,
            6,
            7,
            8,
            9,
            10,
            11,
            12,
            13,
            14,
            15,
            16,
            17,
            18,
            19,
            20,
            21,
            22,
            23,
            24
           ],
           "xaxis": "x",
           "y": [
            null,
            null,
            null,
            null,
            null,
            null,
            null,
            null,
            null,
            null,
            null,
            null,
            43.46,
            42.46,
            43.8,
            41.73,
            33.43,
            34.95,
            37.58,
            41.38,
            43.93,
            46.99,
            62.73,
            344.92
           ],
           "yaxis": "y"
          },
          {
           "hovertemplate": "variable=Predicted<br>timestep=37<br>periodstep=%{x}<br>value=%{y}<extra></extra>",
           "legendgroup": "Predicted",
           "line": {
            "color": "#00cc96",
            "dash": "solid"
           },
           "marker": {
            "symbol": "circle"
           },
           "mode": "lines",
           "name": "Predicted",
           "orientation": "v",
           "showlegend": true,
           "type": "scatter",
           "x": [
            1,
            2,
            3,
            4,
            5,
            6,
            7,
            8,
            9,
            10,
            11,
            12,
            13,
            14,
            15,
            16,
            17,
            18,
            19,
            20,
            21,
            22,
            23,
            24
           ],
           "xaxis": "x",
           "y": [
            null,
            null,
            null,
            null,
            null,
            null,
            null,
            null,
            null,
            null,
            null,
            null,
            40.98262191591846,
            42.16135903200009,
            45.983345073691254,
            54.055273946563396,
            51.402449273664004,
            55.46197391934688,
            64.70656357139725,
            77.23268280141406,
            63.67681283940741,
            69.81094977490395,
            78.71791553288793,
            82.62210195344487
           ],
           "yaxis": "y"
          }
         ],
         "name": "37"
        },
        {
         "data": [
          {
           "hovertemplate": "variable=HistoricalPrice<br>timestep=38<br>periodstep=%{x}<br>value=%{y}<extra></extra>",
           "legendgroup": "HistoricalPrice",
           "line": {
            "color": "#636efa",
            "dash": "solid"
           },
           "marker": {
            "symbol": "circle"
           },
           "mode": "lines",
           "name": "HistoricalPrice",
           "orientation": "v",
           "showlegend": true,
           "type": "scatter",
           "x": [
            1,
            2,
            3,
            4,
            5,
            6,
            7,
            8,
            9,
            10,
            11,
            12,
            13,
            14,
            15,
            16,
            17,
            18,
            19,
            20,
            21,
            22,
            23,
            24
           ],
           "xaxis": "x",
           "y": [
            91.9,
            54.63,
            44.83,
            124.18,
            100.97,
            82.45,
            53.57,
            100.48,
            48.95,
            47.86,
            44.28,
            43.46,
            null,
            null,
            null,
            null,
            null,
            null,
            null,
            null,
            null,
            null,
            null,
            null
           ],
           "yaxis": "y"
          },
          {
           "hovertemplate": "variable=FuturePrice<br>timestep=38<br>periodstep=%{x}<br>value=%{y}<extra></extra>",
           "legendgroup": "FuturePrice",
           "line": {
            "color": "#EF553B",
            "dash": "solid"
           },
           "marker": {
            "symbol": "circle"
           },
           "mode": "lines",
           "name": "FuturePrice",
           "orientation": "v",
           "showlegend": true,
           "type": "scatter",
           "x": [
            1,
            2,
            3,
            4,
            5,
            6,
            7,
            8,
            9,
            10,
            11,
            12,
            13,
            14,
            15,
            16,
            17,
            18,
            19,
            20,
            21,
            22,
            23,
            24
           ],
           "xaxis": "x",
           "y": [
            null,
            null,
            null,
            null,
            null,
            null,
            null,
            null,
            null,
            null,
            null,
            null,
            42.46,
            43.8,
            41.73,
            33.43,
            34.95,
            37.58,
            41.38,
            43.93,
            46.99,
            62.73,
            344.92,
            346.72
           ],
           "yaxis": "y"
          },
          {
           "hovertemplate": "variable=Predicted<br>timestep=38<br>periodstep=%{x}<br>value=%{y}<extra></extra>",
           "legendgroup": "Predicted",
           "line": {
            "color": "#00cc96",
            "dash": "solid"
           },
           "marker": {
            "symbol": "circle"
           },
           "mode": "lines",
           "name": "Predicted",
           "orientation": "v",
           "showlegend": true,
           "type": "scatter",
           "x": [
            1,
            2,
            3,
            4,
            5,
            6,
            7,
            8,
            9,
            10,
            11,
            12,
            13,
            14,
            15,
            16,
            17,
            18,
            19,
            20,
            21,
            22,
            23,
            24
           ],
           "xaxis": "x",
           "y": [
            null,
            null,
            null,
            null,
            null,
            null,
            null,
            null,
            null,
            null,
            null,
            null,
            41.10837572706595,
            45.60741041125968,
            50.8826480384388,
            49.079827989211985,
            50.99965022956188,
            55.989213375180555,
            63.33693328156477,
            57.18396478836458,
            61.5845689997389,
            75.00609036024167,
            72.23724610710245,
            72.28303268866372
           ],
           "yaxis": "y"
          }
         ],
         "name": "38"
        },
        {
         "data": [
          {
           "hovertemplate": "variable=HistoricalPrice<br>timestep=39<br>periodstep=%{x}<br>value=%{y}<extra></extra>",
           "legendgroup": "HistoricalPrice",
           "line": {
            "color": "#636efa",
            "dash": "solid"
           },
           "marker": {
            "symbol": "circle"
           },
           "mode": "lines",
           "name": "HistoricalPrice",
           "orientation": "v",
           "showlegend": true,
           "type": "scatter",
           "x": [
            1,
            2,
            3,
            4,
            5,
            6,
            7,
            8,
            9,
            10,
            11,
            12,
            13,
            14,
            15,
            16,
            17,
            18,
            19,
            20,
            21,
            22,
            23,
            24
           ],
           "xaxis": "x",
           "y": [
            54.63,
            44.83,
            124.18,
            100.97,
            82.45,
            53.57,
            100.48,
            48.95,
            47.86,
            44.28,
            43.46,
            42.46,
            null,
            null,
            null,
            null,
            null,
            null,
            null,
            null,
            null,
            null,
            null,
            null
           ],
           "yaxis": "y"
          },
          {
           "hovertemplate": "variable=FuturePrice<br>timestep=39<br>periodstep=%{x}<br>value=%{y}<extra></extra>",
           "legendgroup": "FuturePrice",
           "line": {
            "color": "#EF553B",
            "dash": "solid"
           },
           "marker": {
            "symbol": "circle"
           },
           "mode": "lines",
           "name": "FuturePrice",
           "orientation": "v",
           "showlegend": true,
           "type": "scatter",
           "x": [
            1,
            2,
            3,
            4,
            5,
            6,
            7,
            8,
            9,
            10,
            11,
            12,
            13,
            14,
            15,
            16,
            17,
            18,
            19,
            20,
            21,
            22,
            23,
            24
           ],
           "xaxis": "x",
           "y": [
            null,
            null,
            null,
            null,
            null,
            null,
            null,
            null,
            null,
            null,
            null,
            null,
            43.8,
            41.73,
            33.43,
            34.95,
            37.58,
            41.38,
            43.93,
            46.99,
            62.73,
            344.92,
            346.72,
            178.48
           ],
           "yaxis": "y"
          },
          {
           "hovertemplate": "variable=Predicted<br>timestep=39<br>periodstep=%{x}<br>value=%{y}<extra></extra>",
           "legendgroup": "Predicted",
           "line": {
            "color": "#00cc96",
            "dash": "solid"
           },
           "marker": {
            "symbol": "circle"
           },
           "mode": "lines",
           "name": "Predicted",
           "orientation": "v",
           "showlegend": true,
           "type": "scatter",
           "x": [
            1,
            2,
            3,
            4,
            5,
            6,
            7,
            8,
            9,
            10,
            11,
            12,
            13,
            14,
            15,
            16,
            17,
            18,
            19,
            20,
            21,
            22,
            23,
            24
           ],
           "xaxis": "x",
           "y": [
            null,
            null,
            null,
            null,
            null,
            null,
            null,
            null,
            null,
            null,
            null,
            null,
            41.55345100587385,
            48.68860345485639,
            51.26899978264414,
            49.21004420938827,
            50.23199046794253,
            51.914378315067545,
            62.68508679716488,
            57.3970120452036,
            64.75194856966918,
            70.72357787169264,
            71.4703918759159,
            193.35098312180358
           ],
           "yaxis": "y"
          }
         ],
         "name": "39"
        },
        {
         "data": [
          {
           "hovertemplate": "variable=HistoricalPrice<br>timestep=40<br>periodstep=%{x}<br>value=%{y}<extra></extra>",
           "legendgroup": "HistoricalPrice",
           "line": {
            "color": "#636efa",
            "dash": "solid"
           },
           "marker": {
            "symbol": "circle"
           },
           "mode": "lines",
           "name": "HistoricalPrice",
           "orientation": "v",
           "showlegend": true,
           "type": "scatter",
           "x": [
            1,
            2,
            3,
            4,
            5,
            6,
            7,
            8,
            9,
            10,
            11,
            12,
            13,
            14,
            15,
            16,
            17,
            18,
            19,
            20,
            21,
            22,
            23,
            24
           ],
           "xaxis": "x",
           "y": [
            44.83,
            124.18,
            100.97,
            82.45,
            53.57,
            100.48,
            48.95,
            47.86,
            44.28,
            43.46,
            42.46,
            43.8,
            null,
            null,
            null,
            null,
            null,
            null,
            null,
            null,
            null,
            null,
            null,
            null
           ],
           "yaxis": "y"
          },
          {
           "hovertemplate": "variable=FuturePrice<br>timestep=40<br>periodstep=%{x}<br>value=%{y}<extra></extra>",
           "legendgroup": "FuturePrice",
           "line": {
            "color": "#EF553B",
            "dash": "solid"
           },
           "marker": {
            "symbol": "circle"
           },
           "mode": "lines",
           "name": "FuturePrice",
           "orientation": "v",
           "showlegend": true,
           "type": "scatter",
           "x": [
            1,
            2,
            3,
            4,
            5,
            6,
            7,
            8,
            9,
            10,
            11,
            12,
            13,
            14,
            15,
            16,
            17,
            18,
            19,
            20,
            21,
            22,
            23,
            24
           ],
           "xaxis": "x",
           "y": [
            null,
            null,
            null,
            null,
            null,
            null,
            null,
            null,
            null,
            null,
            null,
            null,
            41.73,
            33.43,
            34.95,
            37.58,
            41.38,
            43.93,
            46.99,
            62.73,
            344.92,
            346.72,
            178.48,
            507.7
           ],
           "yaxis": "y"
          },
          {
           "hovertemplate": "variable=Predicted<br>timestep=40<br>periodstep=%{x}<br>value=%{y}<extra></extra>",
           "legendgroup": "Predicted",
           "line": {
            "color": "#00cc96",
            "dash": "solid"
           },
           "marker": {
            "symbol": "circle"
           },
           "mode": "lines",
           "name": "Predicted",
           "orientation": "v",
           "showlegend": true,
           "type": "scatter",
           "x": [
            1,
            2,
            3,
            4,
            5,
            6,
            7,
            8,
            9,
            10,
            11,
            12,
            13,
            14,
            15,
            16,
            17,
            18,
            19,
            20,
            21,
            22,
            23,
            24
           ],
           "xaxis": "x",
           "y": [
            null,
            null,
            null,
            null,
            null,
            null,
            null,
            null,
            null,
            null,
            null,
            null,
            41.55345100587385,
            48.824764368068216,
            50.919713638253945,
            52.541974582548804,
            51.85889630351401,
            50.325536708821566,
            59.671520669105085,
            60.39401405677264,
            60.358311163576616,
            80.02618089879792,
            180.55790579858808,
            160.79668880742705
           ],
           "yaxis": "y"
          }
         ],
         "name": "40"
        },
        {
         "data": [
          {
           "hovertemplate": "variable=HistoricalPrice<br>timestep=41<br>periodstep=%{x}<br>value=%{y}<extra></extra>",
           "legendgroup": "HistoricalPrice",
           "line": {
            "color": "#636efa",
            "dash": "solid"
           },
           "marker": {
            "symbol": "circle"
           },
           "mode": "lines",
           "name": "HistoricalPrice",
           "orientation": "v",
           "showlegend": true,
           "type": "scatter",
           "x": [
            1,
            2,
            3,
            4,
            5,
            6,
            7,
            8,
            9,
            10,
            11,
            12,
            13,
            14,
            15,
            16,
            17,
            18,
            19,
            20,
            21,
            22,
            23,
            24
           ],
           "xaxis": "x",
           "y": [
            124.18,
            100.97,
            82.45,
            53.57,
            100.48,
            48.95,
            47.86,
            44.28,
            43.46,
            42.46,
            43.8,
            41.73,
            null,
            null,
            null,
            null,
            null,
            null,
            null,
            null,
            null,
            null,
            null,
            null
           ],
           "yaxis": "y"
          },
          {
           "hovertemplate": "variable=FuturePrice<br>timestep=41<br>periodstep=%{x}<br>value=%{y}<extra></extra>",
           "legendgroup": "FuturePrice",
           "line": {
            "color": "#EF553B",
            "dash": "solid"
           },
           "marker": {
            "symbol": "circle"
           },
           "mode": "lines",
           "name": "FuturePrice",
           "orientation": "v",
           "showlegend": true,
           "type": "scatter",
           "x": [
            1,
            2,
            3,
            4,
            5,
            6,
            7,
            8,
            9,
            10,
            11,
            12,
            13,
            14,
            15,
            16,
            17,
            18,
            19,
            20,
            21,
            22,
            23,
            24
           ],
           "xaxis": "x",
           "y": [
            null,
            null,
            null,
            null,
            null,
            null,
            null,
            null,
            null,
            null,
            null,
            null,
            33.43,
            34.95,
            37.58,
            41.38,
            43.93,
            46.99,
            62.73,
            344.92,
            346.72,
            178.48,
            507.7,
            492.81
           ],
           "yaxis": "y"
          },
          {
           "hovertemplate": "variable=Predicted<br>timestep=41<br>periodstep=%{x}<br>value=%{y}<extra></extra>",
           "legendgroup": "Predicted",
           "line": {
            "color": "#00cc96",
            "dash": "solid"
           },
           "marker": {
            "symbol": "circle"
           },
           "mode": "lines",
           "name": "Predicted",
           "orientation": "v",
           "showlegend": true,
           "type": "scatter",
           "x": [
            1,
            2,
            3,
            4,
            5,
            6,
            7,
            8,
            9,
            10,
            11,
            12,
            13,
            14,
            15,
            16,
            17,
            18,
            19,
            20,
            21,
            22,
            23,
            24
           ],
           "xaxis": "x",
           "y": [
            null,
            null,
            null,
            null,
            null,
            null,
            null,
            null,
            null,
            null,
            null,
            null,
            40.19497388264718,
            48.99661108759285,
            48.71242017241999,
            49.201381519459346,
            50.72410350103903,
            50.131277280619926,
            56.32427584804029,
            59.717612774827906,
            64.97951574679058,
            164.99320832048954,
            142.62783761885774,
            126.3984500302767
           ],
           "yaxis": "y"
          }
         ],
         "name": "41"
        },
        {
         "data": [
          {
           "hovertemplate": "variable=HistoricalPrice<br>timestep=42<br>periodstep=%{x}<br>value=%{y}<extra></extra>",
           "legendgroup": "HistoricalPrice",
           "line": {
            "color": "#636efa",
            "dash": "solid"
           },
           "marker": {
            "symbol": "circle"
           },
           "mode": "lines",
           "name": "HistoricalPrice",
           "orientation": "v",
           "showlegend": true,
           "type": "scatter",
           "x": [
            1,
            2,
            3,
            4,
            5,
            6,
            7,
            8,
            9,
            10,
            11,
            12,
            13,
            14,
            15,
            16,
            17,
            18,
            19,
            20,
            21,
            22,
            23,
            24
           ],
           "xaxis": "x",
           "y": [
            100.97,
            82.45,
            53.57,
            100.48,
            48.95,
            47.86,
            44.28,
            43.46,
            42.46,
            43.8,
            41.73,
            33.43,
            null,
            null,
            null,
            null,
            null,
            null,
            null,
            null,
            null,
            null,
            null,
            null
           ],
           "yaxis": "y"
          },
          {
           "hovertemplate": "variable=FuturePrice<br>timestep=42<br>periodstep=%{x}<br>value=%{y}<extra></extra>",
           "legendgroup": "FuturePrice",
           "line": {
            "color": "#EF553B",
            "dash": "solid"
           },
           "marker": {
            "symbol": "circle"
           },
           "mode": "lines",
           "name": "FuturePrice",
           "orientation": "v",
           "showlegend": true,
           "type": "scatter",
           "x": [
            1,
            2,
            3,
            4,
            5,
            6,
            7,
            8,
            9,
            10,
            11,
            12,
            13,
            14,
            15,
            16,
            17,
            18,
            19,
            20,
            21,
            22,
            23,
            24
           ],
           "xaxis": "x",
           "y": [
            null,
            null,
            null,
            null,
            null,
            null,
            null,
            null,
            null,
            null,
            null,
            null,
            34.95,
            37.58,
            41.38,
            43.93,
            46.99,
            62.73,
            344.92,
            346.72,
            178.48,
            507.7,
            492.81,
            324.61
           ],
           "yaxis": "y"
          },
          {
           "hovertemplate": "variable=Predicted<br>timestep=42<br>periodstep=%{x}<br>value=%{y}<extra></extra>",
           "legendgroup": "Predicted",
           "line": {
            "color": "#00cc96",
            "dash": "solid"
           },
           "marker": {
            "symbol": "circle"
           },
           "mode": "lines",
           "name": "Predicted",
           "orientation": "v",
           "showlegend": true,
           "type": "scatter",
           "x": [
            1,
            2,
            3,
            4,
            5,
            6,
            7,
            8,
            9,
            10,
            11,
            12,
            13,
            14,
            15,
            16,
            17,
            18,
            19,
            20,
            21,
            22,
            23,
            24
           ],
           "xaxis": "x",
           "y": [
            null,
            null,
            null,
            null,
            null,
            null,
            null,
            null,
            null,
            null,
            null,
            null,
            33.33564205923028,
            41.379115775464996,
            45.401520051398336,
            47.51350061220597,
            48.047925225839066,
            50.97309107925078,
            55.08734340474116,
            65.39279217442594,
            138.51924890031805,
            110.31603024377053,
            110.98475463903824,
            244.39303627070396
           ],
           "yaxis": "y"
          }
         ],
         "name": "42"
        },
        {
         "data": [
          {
           "hovertemplate": "variable=HistoricalPrice<br>timestep=43<br>periodstep=%{x}<br>value=%{y}<extra></extra>",
           "legendgroup": "HistoricalPrice",
           "line": {
            "color": "#636efa",
            "dash": "solid"
           },
           "marker": {
            "symbol": "circle"
           },
           "mode": "lines",
           "name": "HistoricalPrice",
           "orientation": "v",
           "showlegend": true,
           "type": "scatter",
           "x": [
            1,
            2,
            3,
            4,
            5,
            6,
            7,
            8,
            9,
            10,
            11,
            12,
            13,
            14,
            15,
            16,
            17,
            18,
            19,
            20,
            21,
            22,
            23,
            24
           ],
           "xaxis": "x",
           "y": [
            82.45,
            53.57,
            100.48,
            48.95,
            47.86,
            44.28,
            43.46,
            42.46,
            43.8,
            41.73,
            33.43,
            34.95,
            null,
            null,
            null,
            null,
            null,
            null,
            null,
            null,
            null,
            null,
            null,
            null
           ],
           "yaxis": "y"
          },
          {
           "hovertemplate": "variable=FuturePrice<br>timestep=43<br>periodstep=%{x}<br>value=%{y}<extra></extra>",
           "legendgroup": "FuturePrice",
           "line": {
            "color": "#EF553B",
            "dash": "solid"
           },
           "marker": {
            "symbol": "circle"
           },
           "mode": "lines",
           "name": "FuturePrice",
           "orientation": "v",
           "showlegend": true,
           "type": "scatter",
           "x": [
            1,
            2,
            3,
            4,
            5,
            6,
            7,
            8,
            9,
            10,
            11,
            12,
            13,
            14,
            15,
            16,
            17,
            18,
            19,
            20,
            21,
            22,
            23,
            24
           ],
           "xaxis": "x",
           "y": [
            null,
            null,
            null,
            null,
            null,
            null,
            null,
            null,
            null,
            null,
            null,
            null,
            37.58,
            41.38,
            43.93,
            46.99,
            62.73,
            344.92,
            346.72,
            178.48,
            507.7,
            492.81,
            324.61,
            85.23
           ],
           "yaxis": "y"
          },
          {
           "hovertemplate": "variable=Predicted<br>timestep=43<br>periodstep=%{x}<br>value=%{y}<extra></extra>",
           "legendgroup": "Predicted",
           "line": {
            "color": "#00cc96",
            "dash": "solid"
           },
           "marker": {
            "symbol": "circle"
           },
           "mode": "lines",
           "name": "Predicted",
           "orientation": "v",
           "showlegend": true,
           "type": "scatter",
           "x": [
            1,
            2,
            3,
            4,
            5,
            6,
            7,
            8,
            9,
            10,
            11,
            12,
            13,
            14,
            15,
            16,
            17,
            18,
            19,
            20,
            21,
            22,
            23,
            24
           ],
           "xaxis": "x",
           "y": [
            null,
            null,
            null,
            null,
            null,
            null,
            null,
            null,
            null,
            null,
            null,
            null,
            33.36302124470338,
            41.497463866785715,
            45.53194786075636,
            47.327334670906836,
            48.40741518776972,
            52.45702904657989,
            62.98313592480436,
            131.18077571484847,
            97.6079873796772,
            112.07129617020524,
            204.26019296098744,
            181.97900740482194
           ],
           "yaxis": "y"
          }
         ],
         "name": "43"
        },
        {
         "data": [
          {
           "hovertemplate": "variable=HistoricalPrice<br>timestep=44<br>periodstep=%{x}<br>value=%{y}<extra></extra>",
           "legendgroup": "HistoricalPrice",
           "line": {
            "color": "#636efa",
            "dash": "solid"
           },
           "marker": {
            "symbol": "circle"
           },
           "mode": "lines",
           "name": "HistoricalPrice",
           "orientation": "v",
           "showlegend": true,
           "type": "scatter",
           "x": [
            1,
            2,
            3,
            4,
            5,
            6,
            7,
            8,
            9,
            10,
            11,
            12,
            13,
            14,
            15,
            16,
            17,
            18,
            19,
            20,
            21,
            22,
            23,
            24
           ],
           "xaxis": "x",
           "y": [
            53.57,
            100.48,
            48.95,
            47.86,
            44.28,
            43.46,
            42.46,
            43.8,
            41.73,
            33.43,
            34.95,
            37.58,
            null,
            null,
            null,
            null,
            null,
            null,
            null,
            null,
            null,
            null,
            null,
            null
           ],
           "yaxis": "y"
          },
          {
           "hovertemplate": "variable=FuturePrice<br>timestep=44<br>periodstep=%{x}<br>value=%{y}<extra></extra>",
           "legendgroup": "FuturePrice",
           "line": {
            "color": "#EF553B",
            "dash": "solid"
           },
           "marker": {
            "symbol": "circle"
           },
           "mode": "lines",
           "name": "FuturePrice",
           "orientation": "v",
           "showlegend": true,
           "type": "scatter",
           "x": [
            1,
            2,
            3,
            4,
            5,
            6,
            7,
            8,
            9,
            10,
            11,
            12,
            13,
            14,
            15,
            16,
            17,
            18,
            19,
            20,
            21,
            22,
            23,
            24
           ],
           "xaxis": "x",
           "y": [
            null,
            null,
            null,
            null,
            null,
            null,
            null,
            null,
            null,
            null,
            null,
            null,
            41.38,
            43.93,
            46.99,
            62.73,
            344.92,
            346.72,
            178.48,
            507.7,
            492.81,
            324.61,
            85.23,
            47.95
           ],
           "yaxis": "y"
          },
          {
           "hovertemplate": "variable=Predicted<br>timestep=44<br>periodstep=%{x}<br>value=%{y}<extra></extra>",
           "legendgroup": "Predicted",
           "line": {
            "color": "#00cc96",
            "dash": "solid"
           },
           "marker": {
            "symbol": "circle"
           },
           "mode": "lines",
           "name": "Predicted",
           "orientation": "v",
           "showlegend": true,
           "type": "scatter",
           "x": [
            1,
            2,
            3,
            4,
            5,
            6,
            7,
            8,
            9,
            10,
            11,
            12,
            13,
            14,
            15,
            16,
            17,
            18,
            19,
            20,
            21,
            22,
            23,
            24
           ],
           "xaxis": "x",
           "y": [
            null,
            null,
            null,
            null,
            null,
            null,
            null,
            null,
            null,
            null,
            null,
            null,
            35.795886909640586,
            41.22638045548093,
            45.92529009261205,
            47.14974652568977,
            52.43759333413264,
            58.527929343509335,
            101.14354025030401,
            114.96833359578144,
            101.16548936091165,
            178.71399201426397,
            165.96012223340455,
            151.83337282476256
           ],
           "yaxis": "y"
          }
         ],
         "name": "44"
        },
        {
         "data": [
          {
           "hovertemplate": "variable=HistoricalPrice<br>timestep=45<br>periodstep=%{x}<br>value=%{y}<extra></extra>",
           "legendgroup": "HistoricalPrice",
           "line": {
            "color": "#636efa",
            "dash": "solid"
           },
           "marker": {
            "symbol": "circle"
           },
           "mode": "lines",
           "name": "HistoricalPrice",
           "orientation": "v",
           "showlegend": true,
           "type": "scatter",
           "x": [
            1,
            2,
            3,
            4,
            5,
            6,
            7,
            8,
            9,
            10,
            11,
            12,
            13,
            14,
            15,
            16,
            17,
            18,
            19,
            20,
            21,
            22,
            23,
            24
           ],
           "xaxis": "x",
           "y": [
            100.48,
            48.95,
            47.86,
            44.28,
            43.46,
            42.46,
            43.8,
            41.73,
            33.43,
            34.95,
            37.58,
            41.38,
            null,
            null,
            null,
            null,
            null,
            null,
            null,
            null,
            null,
            null,
            null,
            null
           ],
           "yaxis": "y"
          },
          {
           "hovertemplate": "variable=FuturePrice<br>timestep=45<br>periodstep=%{x}<br>value=%{y}<extra></extra>",
           "legendgroup": "FuturePrice",
           "line": {
            "color": "#EF553B",
            "dash": "solid"
           },
           "marker": {
            "symbol": "circle"
           },
           "mode": "lines",
           "name": "FuturePrice",
           "orientation": "v",
           "showlegend": true,
           "type": "scatter",
           "x": [
            1,
            2,
            3,
            4,
            5,
            6,
            7,
            8,
            9,
            10,
            11,
            12,
            13,
            14,
            15,
            16,
            17,
            18,
            19,
            20,
            21,
            22,
            23,
            24
           ],
           "xaxis": "x",
           "y": [
            null,
            null,
            null,
            null,
            null,
            null,
            null,
            null,
            null,
            null,
            null,
            null,
            43.93,
            46.99,
            62.73,
            344.92,
            346.72,
            178.48,
            507.7,
            492.81,
            324.61,
            85.23,
            47.95,
            47.1
           ],
           "yaxis": "y"
          },
          {
           "hovertemplate": "variable=Predicted<br>timestep=45<br>periodstep=%{x}<br>value=%{y}<extra></extra>",
           "legendgroup": "Predicted",
           "line": {
            "color": "#00cc96",
            "dash": "solid"
           },
           "marker": {
            "symbol": "circle"
           },
           "mode": "lines",
           "name": "Predicted",
           "orientation": "v",
           "showlegend": true,
           "type": "scatter",
           "x": [
            1,
            2,
            3,
            4,
            5,
            6,
            7,
            8,
            9,
            10,
            11,
            12,
            13,
            14,
            15,
            16,
            17,
            18,
            19,
            20,
            21,
            22,
            23,
            24
           ],
           "xaxis": "x",
           "y": [
            null,
            null,
            null,
            null,
            null,
            null,
            null,
            null,
            null,
            null,
            null,
            null,
            40.6030712588037,
            47.84016702020841,
            47.071380634127856,
            48.96224159288317,
            55.76797471539351,
            77.64481053661278,
            101.06722662737204,
            82.85145358263951,
            188.0096295718318,
            175.6600393482239,
            160.61240961842432,
            73.90741941942846
           ],
           "yaxis": "y"
          }
         ],
         "name": "45"
        },
        {
         "data": [
          {
           "hovertemplate": "variable=HistoricalPrice<br>timestep=46<br>periodstep=%{x}<br>value=%{y}<extra></extra>",
           "legendgroup": "HistoricalPrice",
           "line": {
            "color": "#636efa",
            "dash": "solid"
           },
           "marker": {
            "symbol": "circle"
           },
           "mode": "lines",
           "name": "HistoricalPrice",
           "orientation": "v",
           "showlegend": true,
           "type": "scatter",
           "x": [
            1,
            2,
            3,
            4,
            5,
            6,
            7,
            8,
            9,
            10,
            11,
            12,
            13,
            14,
            15,
            16,
            17,
            18,
            19,
            20,
            21,
            22,
            23,
            24
           ],
           "xaxis": "x",
           "y": [
            48.95,
            47.86,
            44.28,
            43.46,
            42.46,
            43.8,
            41.73,
            33.43,
            34.95,
            37.58,
            41.38,
            43.93,
            null,
            null,
            null,
            null,
            null,
            null,
            null,
            null,
            null,
            null,
            null,
            null
           ],
           "yaxis": "y"
          },
          {
           "hovertemplate": "variable=FuturePrice<br>timestep=46<br>periodstep=%{x}<br>value=%{y}<extra></extra>",
           "legendgroup": "FuturePrice",
           "line": {
            "color": "#EF553B",
            "dash": "solid"
           },
           "marker": {
            "symbol": "circle"
           },
           "mode": "lines",
           "name": "FuturePrice",
           "orientation": "v",
           "showlegend": true,
           "type": "scatter",
           "x": [
            1,
            2,
            3,
            4,
            5,
            6,
            7,
            8,
            9,
            10,
            11,
            12,
            13,
            14,
            15,
            16,
            17,
            18,
            19,
            20,
            21,
            22,
            23,
            24
           ],
           "xaxis": "x",
           "y": [
            null,
            null,
            null,
            null,
            null,
            null,
            null,
            null,
            null,
            null,
            null,
            null,
            46.99,
            62.73,
            344.92,
            346.72,
            178.48,
            507.7,
            492.81,
            324.61,
            85.23,
            47.95,
            47.1,
            39.22
           ],
           "yaxis": "y"
          },
          {
           "hovertemplate": "variable=Predicted<br>timestep=46<br>periodstep=%{x}<br>value=%{y}<extra></extra>",
           "legendgroup": "Predicted",
           "line": {
            "color": "#00cc96",
            "dash": "solid"
           },
           "marker": {
            "symbol": "circle"
           },
           "mode": "lines",
           "name": "Predicted",
           "orientation": "v",
           "showlegend": true,
           "type": "scatter",
           "x": [
            1,
            2,
            3,
            4,
            5,
            6,
            7,
            8,
            9,
            10,
            11,
            12,
            13,
            14,
            15,
            16,
            17,
            18,
            19,
            20,
            21,
            22,
            23,
            24
           ],
           "xaxis": "x",
           "y": [
            null,
            null,
            null,
            null,
            null,
            null,
            null,
            null,
            null,
            null,
            null,
            null,
            42.045904486416354,
            48.70768640473291,
            50.937302391624605,
            64.6317337934583,
            74.09809450981852,
            80.26294584302134,
            100.98848051533638,
            145.59352680701684,
            196.54642950281476,
            154.2130539565084,
            65.0455008777109,
            142.63799624751903
           ],
           "yaxis": "y"
          }
         ],
         "name": "46"
        },
        {
         "data": [
          {
           "hovertemplate": "variable=HistoricalPrice<br>timestep=47<br>periodstep=%{x}<br>value=%{y}<extra></extra>",
           "legendgroup": "HistoricalPrice",
           "line": {
            "color": "#636efa",
            "dash": "solid"
           },
           "marker": {
            "symbol": "circle"
           },
           "mode": "lines",
           "name": "HistoricalPrice",
           "orientation": "v",
           "showlegend": true,
           "type": "scatter",
           "x": [
            1,
            2,
            3,
            4,
            5,
            6,
            7,
            8,
            9,
            10,
            11,
            12,
            13,
            14,
            15,
            16,
            17,
            18,
            19,
            20,
            21,
            22,
            23,
            24
           ],
           "xaxis": "x",
           "y": [
            47.86,
            44.28,
            43.46,
            42.46,
            43.8,
            41.73,
            33.43,
            34.95,
            37.58,
            41.38,
            43.93,
            46.99,
            null,
            null,
            null,
            null,
            null,
            null,
            null,
            null,
            null,
            null,
            null,
            null
           ],
           "yaxis": "y"
          },
          {
           "hovertemplate": "variable=FuturePrice<br>timestep=47<br>periodstep=%{x}<br>value=%{y}<extra></extra>",
           "legendgroup": "FuturePrice",
           "line": {
            "color": "#EF553B",
            "dash": "solid"
           },
           "marker": {
            "symbol": "circle"
           },
           "mode": "lines",
           "name": "FuturePrice",
           "orientation": "v",
           "showlegend": true,
           "type": "scatter",
           "x": [
            1,
            2,
            3,
            4,
            5,
            6,
            7,
            8,
            9,
            10,
            11,
            12,
            13,
            14,
            15,
            16,
            17,
            18,
            19,
            20,
            21,
            22,
            23,
            24
           ],
           "xaxis": "x",
           "y": [
            null,
            null,
            null,
            null,
            null,
            null,
            null,
            null,
            null,
            null,
            null,
            null,
            62.73,
            344.92,
            346.72,
            178.48,
            507.7,
            492.81,
            324.61,
            85.23,
            47.95,
            47.1,
            39.22,
            28.12
           ],
           "yaxis": "y"
          },
          {
           "hovertemplate": "variable=Predicted<br>timestep=47<br>periodstep=%{x}<br>value=%{y}<extra></extra>",
           "legendgroup": "Predicted",
           "line": {
            "color": "#00cc96",
            "dash": "solid"
           },
           "marker": {
            "symbol": "circle"
           },
           "mode": "lines",
           "name": "Predicted",
           "orientation": "v",
           "showlegend": true,
           "type": "scatter",
           "x": [
            1,
            2,
            3,
            4,
            5,
            6,
            7,
            8,
            9,
            10,
            11,
            12,
            13,
            14,
            15,
            16,
            17,
            18,
            19,
            20,
            21,
            22,
            23,
            24
           ],
           "xaxis": "x",
           "y": [
            null,
            null,
            null,
            null,
            null,
            null,
            null,
            null,
            null,
            null,
            null,
            null,
            44.42912069258265,
            51.19741677067947,
            52.828096245840435,
            74.56915617018088,
            70.46197839348082,
            88.07103623719556,
            165.34281017558558,
            164.92147445399587,
            157.59402835838992,
            75.02804950197712,
            154.07881755399922,
            50.3010346934839
           ],
           "yaxis": "y"
          }
         ],
         "name": "47"
        },
        {
         "data": [
          {
           "hovertemplate": "variable=HistoricalPrice<br>timestep=48<br>periodstep=%{x}<br>value=%{y}<extra></extra>",
           "legendgroup": "HistoricalPrice",
           "line": {
            "color": "#636efa",
            "dash": "solid"
           },
           "marker": {
            "symbol": "circle"
           },
           "mode": "lines",
           "name": "HistoricalPrice",
           "orientation": "v",
           "showlegend": true,
           "type": "scatter",
           "x": [
            1,
            2,
            3,
            4,
            5,
            6,
            7,
            8,
            9,
            10,
            11,
            12,
            13,
            14,
            15,
            16,
            17,
            18,
            19,
            20,
            21,
            22,
            23,
            24
           ],
           "xaxis": "x",
           "y": [
            44.28,
            43.46,
            42.46,
            43.8,
            41.73,
            33.43,
            34.95,
            37.58,
            41.38,
            43.93,
            46.99,
            62.73,
            null,
            null,
            null,
            null,
            null,
            null,
            null,
            null,
            null,
            null,
            null,
            null
           ],
           "yaxis": "y"
          },
          {
           "hovertemplate": "variable=FuturePrice<br>timestep=48<br>periodstep=%{x}<br>value=%{y}<extra></extra>",
           "legendgroup": "FuturePrice",
           "line": {
            "color": "#EF553B",
            "dash": "solid"
           },
           "marker": {
            "symbol": "circle"
           },
           "mode": "lines",
           "name": "FuturePrice",
           "orientation": "v",
           "showlegend": true,
           "type": "scatter",
           "x": [
            1,
            2,
            3,
            4,
            5,
            6,
            7,
            8,
            9,
            10,
            11,
            12,
            13,
            14,
            15,
            16,
            17,
            18,
            19,
            20,
            21,
            22,
            23,
            24
           ],
           "xaxis": "x",
           "y": [
            null,
            null,
            null,
            null,
            null,
            null,
            null,
            null,
            null,
            null,
            null,
            null,
            344.92,
            346.72,
            178.48,
            507.7,
            492.81,
            324.61,
            85.23,
            47.95,
            47.1,
            39.22,
            28.12,
            29.66
           ],
           "yaxis": "y"
          },
          {
           "hovertemplate": "variable=Predicted<br>timestep=48<br>periodstep=%{x}<br>value=%{y}<extra></extra>",
           "legendgroup": "Predicted",
           "line": {
            "color": "#00cc96",
            "dash": "solid"
           },
           "marker": {
            "symbol": "circle"
           },
           "mode": "lines",
           "name": "Predicted",
           "orientation": "v",
           "showlegend": true,
           "type": "scatter",
           "x": [
            1,
            2,
            3,
            4,
            5,
            6,
            7,
            8,
            9,
            10,
            11,
            12,
            13,
            14,
            15,
            16,
            17,
            18,
            19,
            20,
            21,
            22,
            23,
            24
           ],
           "xaxis": "x",
           "y": [
            null,
            null,
            null,
            null,
            null,
            null,
            null,
            null,
            null,
            null,
            null,
            null,
            76.29573340977223,
            90.8714325879435,
            83.10793079478245,
            84.49659079041471,
            92.05206147431099,
            144.64296524766056,
            129.6470774704959,
            159.4091098597763,
            61.66629824804237,
            135.95478958906844,
            52.66741441520904,
            50.20161809097384
           ],
           "yaxis": "y"
          }
         ],
         "name": "48"
        },
        {
         "data": [
          {
           "hovertemplate": "variable=HistoricalPrice<br>timestep=49<br>periodstep=%{x}<br>value=%{y}<extra></extra>",
           "legendgroup": "HistoricalPrice",
           "line": {
            "color": "#636efa",
            "dash": "solid"
           },
           "marker": {
            "symbol": "circle"
           },
           "mode": "lines",
           "name": "HistoricalPrice",
           "orientation": "v",
           "showlegend": true,
           "type": "scatter",
           "x": [
            1,
            2,
            3,
            4,
            5,
            6,
            7,
            8,
            9,
            10,
            11,
            12,
            13,
            14,
            15,
            16,
            17,
            18,
            19,
            20,
            21,
            22,
            23,
            24
           ],
           "xaxis": "x",
           "y": [
            43.46,
            42.46,
            43.8,
            41.73,
            33.43,
            34.95,
            37.58,
            41.38,
            43.93,
            46.99,
            62.73,
            344.92,
            null,
            null,
            null,
            null,
            null,
            null,
            null,
            null,
            null,
            null,
            null,
            null
           ],
           "yaxis": "y"
          },
          {
           "hovertemplate": "variable=FuturePrice<br>timestep=49<br>periodstep=%{x}<br>value=%{y}<extra></extra>",
           "legendgroup": "FuturePrice",
           "line": {
            "color": "#EF553B",
            "dash": "solid"
           },
           "marker": {
            "symbol": "circle"
           },
           "mode": "lines",
           "name": "FuturePrice",
           "orientation": "v",
           "showlegend": true,
           "type": "scatter",
           "x": [
            1,
            2,
            3,
            4,
            5,
            6,
            7,
            8,
            9,
            10,
            11,
            12,
            13,
            14,
            15,
            16,
            17,
            18,
            19,
            20,
            21,
            22,
            23,
            24
           ],
           "xaxis": "x",
           "y": [
            null,
            null,
            null,
            null,
            null,
            null,
            null,
            null,
            null,
            null,
            null,
            null,
            346.72,
            178.48,
            507.7,
            492.81,
            324.61,
            85.23,
            47.95,
            47.1,
            39.22,
            28.12,
            29.66,
            38.48
           ],
           "yaxis": "y"
          },
          {
           "hovertemplate": "variable=Predicted<br>timestep=49<br>periodstep=%{x}<br>value=%{y}<extra></extra>",
           "legendgroup": "Predicted",
           "line": {
            "color": "#00cc96",
            "dash": "solid"
           },
           "marker": {
            "symbol": "circle"
           },
           "mode": "lines",
           "name": "Predicted",
           "orientation": "v",
           "showlegend": true,
           "type": "scatter",
           "x": [
            1,
            2,
            3,
            4,
            5,
            6,
            7,
            8,
            9,
            10,
            11,
            12,
            13,
            14,
            15,
            16,
            17,
            18,
            19,
            20,
            21,
            22,
            23,
            24
           ],
           "xaxis": "x",
           "y": [
            null,
            null,
            null,
            null,
            null,
            null,
            null,
            null,
            null,
            null,
            null,
            null,
            235.48892659275478,
            288.823887860556,
            246.94831310459296,
            268.91951409461177,
            277.63139083154147,
            178.93106280095517,
            140.6219515893427,
            85.8603019834227,
            147.49309744176827,
            65.21327554756245,
            58.0908156226255,
            63.43732131894145
           ],
           "yaxis": "y"
          }
         ],
         "name": "49"
        },
        {
         "data": [
          {
           "hovertemplate": "variable=HistoricalPrice<br>timestep=50<br>periodstep=%{x}<br>value=%{y}<extra></extra>",
           "legendgroup": "HistoricalPrice",
           "line": {
            "color": "#636efa",
            "dash": "solid"
           },
           "marker": {
            "symbol": "circle"
           },
           "mode": "lines",
           "name": "HistoricalPrice",
           "orientation": "v",
           "showlegend": true,
           "type": "scatter",
           "x": [
            1,
            2,
            3,
            4,
            5,
            6,
            7,
            8,
            9,
            10,
            11,
            12,
            13,
            14,
            15,
            16,
            17,
            18,
            19,
            20,
            21,
            22,
            23,
            24
           ],
           "xaxis": "x",
           "y": [
            42.46,
            43.8,
            41.73,
            33.43,
            34.95,
            37.58,
            41.38,
            43.93,
            46.99,
            62.73,
            344.92,
            346.72,
            null,
            null,
            null,
            null,
            null,
            null,
            null,
            null,
            null,
            null,
            null,
            null
           ],
           "yaxis": "y"
          },
          {
           "hovertemplate": "variable=FuturePrice<br>timestep=50<br>periodstep=%{x}<br>value=%{y}<extra></extra>",
           "legendgroup": "FuturePrice",
           "line": {
            "color": "#EF553B",
            "dash": "solid"
           },
           "marker": {
            "symbol": "circle"
           },
           "mode": "lines",
           "name": "FuturePrice",
           "orientation": "v",
           "showlegend": true,
           "type": "scatter",
           "x": [
            1,
            2,
            3,
            4,
            5,
            6,
            7,
            8,
            9,
            10,
            11,
            12,
            13,
            14,
            15,
            16,
            17,
            18,
            19,
            20,
            21,
            22,
            23,
            24
           ],
           "xaxis": "x",
           "y": [
            null,
            null,
            null,
            null,
            null,
            null,
            null,
            null,
            null,
            null,
            null,
            null,
            178.48,
            507.7,
            492.81,
            324.61,
            85.23,
            47.95,
            47.1,
            39.22,
            28.12,
            29.66,
            38.48,
            41.16
           ],
           "yaxis": "y"
          },
          {
           "hovertemplate": "variable=Predicted<br>timestep=50<br>periodstep=%{x}<br>value=%{y}<extra></extra>",
           "legendgroup": "Predicted",
           "line": {
            "color": "#00cc96",
            "dash": "solid"
           },
           "marker": {
            "symbol": "circle"
           },
           "mode": "lines",
           "name": "Predicted",
           "orientation": "v",
           "showlegend": true,
           "type": "scatter",
           "x": [
            1,
            2,
            3,
            4,
            5,
            6,
            7,
            8,
            9,
            10,
            11,
            12,
            13,
            14,
            15,
            16,
            17,
            18,
            19,
            20,
            21,
            22,
            23,
            24
           ],
           "xaxis": "x",
           "y": [
            null,
            null,
            null,
            null,
            null,
            null,
            null,
            null,
            null,
            null,
            null,
            null,
            230.82526747127756,
            260.7392065750513,
            255.54708650783968,
            251.01081219310868,
            219.55259229365328,
            162.7418394682647,
            92.05932567593784,
            150.1803606418289,
            88.42495159438913,
            57.61279595153939,
            58.43504491802934,
            62.571185329873266
           ],
           "yaxis": "y"
          }
         ],
         "name": "50"
        },
        {
         "data": [
          {
           "hovertemplate": "variable=HistoricalPrice<br>timestep=51<br>periodstep=%{x}<br>value=%{y}<extra></extra>",
           "legendgroup": "HistoricalPrice",
           "line": {
            "color": "#636efa",
            "dash": "solid"
           },
           "marker": {
            "symbol": "circle"
           },
           "mode": "lines",
           "name": "HistoricalPrice",
           "orientation": "v",
           "showlegend": true,
           "type": "scatter",
           "x": [
            1,
            2,
            3,
            4,
            5,
            6,
            7,
            8,
            9,
            10,
            11,
            12,
            13,
            14,
            15,
            16,
            17,
            18,
            19,
            20,
            21,
            22,
            23,
            24
           ],
           "xaxis": "x",
           "y": [
            43.8,
            41.73,
            33.43,
            34.95,
            37.58,
            41.38,
            43.93,
            46.99,
            62.73,
            344.92,
            346.72,
            178.48,
            null,
            null,
            null,
            null,
            null,
            null,
            null,
            null,
            null,
            null,
            null,
            null
           ],
           "yaxis": "y"
          },
          {
           "hovertemplate": "variable=FuturePrice<br>timestep=51<br>periodstep=%{x}<br>value=%{y}<extra></extra>",
           "legendgroup": "FuturePrice",
           "line": {
            "color": "#EF553B",
            "dash": "solid"
           },
           "marker": {
            "symbol": "circle"
           },
           "mode": "lines",
           "name": "FuturePrice",
           "orientation": "v",
           "showlegend": true,
           "type": "scatter",
           "x": [
            1,
            2,
            3,
            4,
            5,
            6,
            7,
            8,
            9,
            10,
            11,
            12,
            13,
            14,
            15,
            16,
            17,
            18,
            19,
            20,
            21,
            22,
            23,
            24
           ],
           "xaxis": "x",
           "y": [
            null,
            null,
            null,
            null,
            null,
            null,
            null,
            null,
            null,
            null,
            null,
            null,
            507.7,
            492.81,
            324.61,
            85.23,
            47.95,
            47.1,
            39.22,
            28.12,
            29.66,
            38.48,
            41.16,
            41.5
           ],
           "yaxis": "y"
          },
          {
           "hovertemplate": "variable=Predicted<br>timestep=51<br>periodstep=%{x}<br>value=%{y}<extra></extra>",
           "legendgroup": "Predicted",
           "line": {
            "color": "#00cc96",
            "dash": "solid"
           },
           "marker": {
            "symbol": "circle"
           },
           "mode": "lines",
           "name": "Predicted",
           "orientation": "v",
           "showlegend": true,
           "type": "scatter",
           "x": [
            1,
            2,
            3,
            4,
            5,
            6,
            7,
            8,
            9,
            10,
            11,
            12,
            13,
            14,
            15,
            16,
            17,
            18,
            19,
            20,
            21,
            22,
            23,
            24
           ],
           "xaxis": "x",
           "y": [
            null,
            null,
            null,
            null,
            null,
            null,
            null,
            null,
            null,
            null,
            null,
            null,
            181.1954836443437,
            152.76158076122226,
            197.92453018382542,
            220.45531213004054,
            159.2025165707383,
            83.96151753982853,
            119.31001759008494,
            57.97016470153628,
            64.48644022955425,
            55.116749836093064,
            56.869033950367516,
            62.22697683657665
           ],
           "yaxis": "y"
          }
         ],
         "name": "51"
        },
        {
         "data": [
          {
           "hovertemplate": "variable=HistoricalPrice<br>timestep=52<br>periodstep=%{x}<br>value=%{y}<extra></extra>",
           "legendgroup": "HistoricalPrice",
           "line": {
            "color": "#636efa",
            "dash": "solid"
           },
           "marker": {
            "symbol": "circle"
           },
           "mode": "lines",
           "name": "HistoricalPrice",
           "orientation": "v",
           "showlegend": true,
           "type": "scatter",
           "x": [
            1,
            2,
            3,
            4,
            5,
            6,
            7,
            8,
            9,
            10,
            11,
            12,
            13,
            14,
            15,
            16,
            17,
            18,
            19,
            20,
            21,
            22,
            23,
            24
           ],
           "xaxis": "x",
           "y": [
            41.73,
            33.43,
            34.95,
            37.58,
            41.38,
            43.93,
            46.99,
            62.73,
            344.92,
            346.72,
            178.48,
            507.7,
            null,
            null,
            null,
            null,
            null,
            null,
            null,
            null,
            null,
            null,
            null,
            null
           ],
           "yaxis": "y"
          },
          {
           "hovertemplate": "variable=FuturePrice<br>timestep=52<br>periodstep=%{x}<br>value=%{y}<extra></extra>",
           "legendgroup": "FuturePrice",
           "line": {
            "color": "#EF553B",
            "dash": "solid"
           },
           "marker": {
            "symbol": "circle"
           },
           "mode": "lines",
           "name": "FuturePrice",
           "orientation": "v",
           "showlegend": true,
           "type": "scatter",
           "x": [
            1,
            2,
            3,
            4,
            5,
            6,
            7,
            8,
            9,
            10,
            11,
            12,
            13,
            14,
            15,
            16,
            17,
            18,
            19,
            20,
            21,
            22,
            23,
            24
           ],
           "xaxis": "x",
           "y": [
            null,
            null,
            null,
            null,
            null,
            null,
            null,
            null,
            null,
            null,
            null,
            null,
            492.81,
            324.61,
            85.23,
            47.95,
            47.1,
            39.22,
            28.12,
            29.66,
            38.48,
            41.16,
            41.5,
            44.26
           ],
           "yaxis": "y"
          },
          {
           "hovertemplate": "variable=Predicted<br>timestep=52<br>periodstep=%{x}<br>value=%{y}<extra></extra>",
           "legendgroup": "Predicted",
           "line": {
            "color": "#00cc96",
            "dash": "solid"
           },
           "marker": {
            "symbol": "circle"
           },
           "mode": "lines",
           "name": "Predicted",
           "orientation": "v",
           "showlegend": true,
           "type": "scatter",
           "x": [
            1,
            2,
            3,
            4,
            5,
            6,
            7,
            8,
            9,
            10,
            11,
            12,
            13,
            14,
            15,
            16,
            17,
            18,
            19,
            20,
            21,
            22,
            23,
            24
           ],
           "xaxis": "x",
           "y": [
            null,
            null,
            null,
            null,
            null,
            null,
            null,
            null,
            null,
            null,
            null,
            null,
            343.98915300771193,
            355.62303674431257,
            298.6018266642899,
            216.14463487283032,
            114.65968194873248,
            118.29433385151016,
            81.98014910588198,
            57.70696541949736,
            58.837208027153316,
            63.95908840713339,
            59.94217785191069,
            62.87705375178178
           ],
           "yaxis": "y"
          }
         ],
         "name": "52"
        },
        {
         "data": [
          {
           "hovertemplate": "variable=HistoricalPrice<br>timestep=53<br>periodstep=%{x}<br>value=%{y}<extra></extra>",
           "legendgroup": "HistoricalPrice",
           "line": {
            "color": "#636efa",
            "dash": "solid"
           },
           "marker": {
            "symbol": "circle"
           },
           "mode": "lines",
           "name": "HistoricalPrice",
           "orientation": "v",
           "showlegend": true,
           "type": "scatter",
           "x": [
            1,
            2,
            3,
            4,
            5,
            6,
            7,
            8,
            9,
            10,
            11,
            12,
            13,
            14,
            15,
            16,
            17,
            18,
            19,
            20,
            21,
            22,
            23,
            24
           ],
           "xaxis": "x",
           "y": [
            33.43,
            34.95,
            37.58,
            41.38,
            43.93,
            46.99,
            62.73,
            344.92,
            346.72,
            178.48,
            507.7,
            492.81,
            null,
            null,
            null,
            null,
            null,
            null,
            null,
            null,
            null,
            null,
            null,
            null
           ],
           "yaxis": "y"
          },
          {
           "hovertemplate": "variable=FuturePrice<br>timestep=53<br>periodstep=%{x}<br>value=%{y}<extra></extra>",
           "legendgroup": "FuturePrice",
           "line": {
            "color": "#EF553B",
            "dash": "solid"
           },
           "marker": {
            "symbol": "circle"
           },
           "mode": "lines",
           "name": "FuturePrice",
           "orientation": "v",
           "showlegend": true,
           "type": "scatter",
           "x": [
            1,
            2,
            3,
            4,
            5,
            6,
            7,
            8,
            9,
            10,
            11,
            12,
            13,
            14,
            15,
            16,
            17,
            18,
            19,
            20,
            21,
            22,
            23,
            24
           ],
           "xaxis": "x",
           "y": [
            null,
            null,
            null,
            null,
            null,
            null,
            null,
            null,
            null,
            null,
            null,
            null,
            324.61,
            85.23,
            47.95,
            47.1,
            39.22,
            28.12,
            29.66,
            38.48,
            41.16,
            41.5,
            44.26,
            45.55
           ],
           "yaxis": "y"
          },
          {
           "hovertemplate": "variable=Predicted<br>timestep=53<br>periodstep=%{x}<br>value=%{y}<extra></extra>",
           "legendgroup": "Predicted",
           "line": {
            "color": "#00cc96",
            "dash": "solid"
           },
           "marker": {
            "symbol": "circle"
           },
           "mode": "lines",
           "name": "Predicted",
           "orientation": "v",
           "showlegend": true,
           "type": "scatter",
           "x": [
            1,
            2,
            3,
            4,
            5,
            6,
            7,
            8,
            9,
            10,
            11,
            12,
            13,
            14,
            15,
            16,
            17,
            18,
            19,
            20,
            21,
            22,
            23,
            24
           ],
           "xaxis": "x",
           "y": [
            null,
            null,
            null,
            null,
            null,
            null,
            null,
            null,
            null,
            null,
            null,
            null,
            375.79330981455195,
            374.0549991130241,
            314.7279480876649,
            191.67133145955756,
            123.8224851633199,
            75.0133237404636,
            72.95443321641433,
            57.27878823706849,
            55.78545179258796,
            59.16863600984657,
            59.46270889559976,
            85.82817522502579
           ],
           "yaxis": "y"
          }
         ],
         "name": "53"
        },
        {
         "data": [
          {
           "hovertemplate": "variable=HistoricalPrice<br>timestep=54<br>periodstep=%{x}<br>value=%{y}<extra></extra>",
           "legendgroup": "HistoricalPrice",
           "line": {
            "color": "#636efa",
            "dash": "solid"
           },
           "marker": {
            "symbol": "circle"
           },
           "mode": "lines",
           "name": "HistoricalPrice",
           "orientation": "v",
           "showlegend": true,
           "type": "scatter",
           "x": [
            1,
            2,
            3,
            4,
            5,
            6,
            7,
            8,
            9,
            10,
            11,
            12,
            13,
            14,
            15,
            16,
            17,
            18,
            19,
            20,
            21,
            22,
            23,
            24
           ],
           "xaxis": "x",
           "y": [
            34.95,
            37.58,
            41.38,
            43.93,
            46.99,
            62.73,
            344.92,
            346.72,
            178.48,
            507.7,
            492.81,
            324.61,
            null,
            null,
            null,
            null,
            null,
            null,
            null,
            null,
            null,
            null,
            null,
            null
           ],
           "yaxis": "y"
          },
          {
           "hovertemplate": "variable=FuturePrice<br>timestep=54<br>periodstep=%{x}<br>value=%{y}<extra></extra>",
           "legendgroup": "FuturePrice",
           "line": {
            "color": "#EF553B",
            "dash": "solid"
           },
           "marker": {
            "symbol": "circle"
           },
           "mode": "lines",
           "name": "FuturePrice",
           "orientation": "v",
           "showlegend": true,
           "type": "scatter",
           "x": [
            1,
            2,
            3,
            4,
            5,
            6,
            7,
            8,
            9,
            10,
            11,
            12,
            13,
            14,
            15,
            16,
            17,
            18,
            19,
            20,
            21,
            22,
            23,
            24
           ],
           "xaxis": "x",
           "y": [
            null,
            null,
            null,
            null,
            null,
            null,
            null,
            null,
            null,
            null,
            null,
            null,
            85.23,
            47.95,
            47.1,
            39.22,
            28.12,
            29.66,
            38.48,
            41.16,
            41.5,
            44.26,
            45.55,
            53.41
           ],
           "yaxis": "y"
          },
          {
           "hovertemplate": "variable=Predicted<br>timestep=54<br>periodstep=%{x}<br>value=%{y}<extra></extra>",
           "legendgroup": "Predicted",
           "line": {
            "color": "#00cc96",
            "dash": "solid"
           },
           "marker": {
            "symbol": "circle"
           },
           "mode": "lines",
           "name": "Predicted",
           "orientation": "v",
           "showlegend": true,
           "type": "scatter",
           "x": [
            1,
            2,
            3,
            4,
            5,
            6,
            7,
            8,
            9,
            10,
            11,
            12,
            13,
            14,
            15,
            16,
            17,
            18,
            19,
            20,
            21,
            22,
            23,
            24
           ],
           "xaxis": "x",
           "y": [
            null,
            null,
            null,
            null,
            null,
            null,
            null,
            null,
            null,
            null,
            null,
            null,
            227.3692942597554,
            223.70463925800465,
            212.502644295877,
            143.83251873861468,
            98.263511499761,
            78.37176583589275,
            65.92740406122044,
            59.498775988816625,
            57.368108486110714,
            57.82210084838296,
            85.59337689344896,
            87.08237048283581
           ],
           "yaxis": "y"
          }
         ],
         "name": "54"
        },
        {
         "data": [
          {
           "hovertemplate": "variable=HistoricalPrice<br>timestep=55<br>periodstep=%{x}<br>value=%{y}<extra></extra>",
           "legendgroup": "HistoricalPrice",
           "line": {
            "color": "#636efa",
            "dash": "solid"
           },
           "marker": {
            "symbol": "circle"
           },
           "mode": "lines",
           "name": "HistoricalPrice",
           "orientation": "v",
           "showlegend": true,
           "type": "scatter",
           "x": [
            1,
            2,
            3,
            4,
            5,
            6,
            7,
            8,
            9,
            10,
            11,
            12,
            13,
            14,
            15,
            16,
            17,
            18,
            19,
            20,
            21,
            22,
            23,
            24
           ],
           "xaxis": "x",
           "y": [
            37.58,
            41.38,
            43.93,
            46.99,
            62.73,
            344.92,
            346.72,
            178.48,
            507.7,
            492.81,
            324.61,
            85.23,
            null,
            null,
            null,
            null,
            null,
            null,
            null,
            null,
            null,
            null,
            null,
            null
           ],
           "yaxis": "y"
          },
          {
           "hovertemplate": "variable=FuturePrice<br>timestep=55<br>periodstep=%{x}<br>value=%{y}<extra></extra>",
           "legendgroup": "FuturePrice",
           "line": {
            "color": "#EF553B",
            "dash": "solid"
           },
           "marker": {
            "symbol": "circle"
           },
           "mode": "lines",
           "name": "FuturePrice",
           "orientation": "v",
           "showlegend": true,
           "type": "scatter",
           "x": [
            1,
            2,
            3,
            4,
            5,
            6,
            7,
            8,
            9,
            10,
            11,
            12,
            13,
            14,
            15,
            16,
            17,
            18,
            19,
            20,
            21,
            22,
            23,
            24
           ],
           "xaxis": "x",
           "y": [
            null,
            null,
            null,
            null,
            null,
            null,
            null,
            null,
            null,
            null,
            null,
            null,
            47.95,
            47.1,
            39.22,
            28.12,
            29.66,
            38.48,
            41.16,
            41.5,
            44.26,
            45.55,
            53.41,
            51.81
           ],
           "yaxis": "y"
          },
          {
           "hovertemplate": "variable=Predicted<br>timestep=55<br>periodstep=%{x}<br>value=%{y}<extra></extra>",
           "legendgroup": "Predicted",
           "line": {
            "color": "#00cc96",
            "dash": "solid"
           },
           "marker": {
            "symbol": "circle"
           },
           "mode": "lines",
           "name": "Predicted",
           "orientation": "v",
           "showlegend": true,
           "type": "scatter",
           "x": [
            1,
            2,
            3,
            4,
            5,
            6,
            7,
            8,
            9,
            10,
            11,
            12,
            13,
            14,
            15,
            16,
            17,
            18,
            19,
            20,
            21,
            22,
            23,
            24
           ],
           "xaxis": "x",
           "y": [
            null,
            null,
            null,
            null,
            null,
            null,
            null,
            null,
            null,
            null,
            null,
            null,
            79.93365934432836,
            82.93376680574421,
            72.95924277991045,
            65.05165109577638,
            63.147525530695575,
            53.102513058030596,
            58.7605169506744,
            56.79988061382965,
            52.93685472904553,
            67.21507521276791,
            65.98948178096158,
            85.0317142351603
           ],
           "yaxis": "y"
          }
         ],
         "name": "55"
        },
        {
         "data": [
          {
           "hovertemplate": "variable=HistoricalPrice<br>timestep=56<br>periodstep=%{x}<br>value=%{y}<extra></extra>",
           "legendgroup": "HistoricalPrice",
           "line": {
            "color": "#636efa",
            "dash": "solid"
           },
           "marker": {
            "symbol": "circle"
           },
           "mode": "lines",
           "name": "HistoricalPrice",
           "orientation": "v",
           "showlegend": true,
           "type": "scatter",
           "x": [
            1,
            2,
            3,
            4,
            5,
            6,
            7,
            8,
            9,
            10,
            11,
            12,
            13,
            14,
            15,
            16,
            17,
            18,
            19,
            20,
            21,
            22,
            23,
            24
           ],
           "xaxis": "x",
           "y": [
            41.38,
            43.93,
            46.99,
            62.73,
            344.92,
            346.72,
            178.48,
            507.7,
            492.81,
            324.61,
            85.23,
            47.95,
            null,
            null,
            null,
            null,
            null,
            null,
            null,
            null,
            null,
            null,
            null,
            null
           ],
           "yaxis": "y"
          },
          {
           "hovertemplate": "variable=FuturePrice<br>timestep=56<br>periodstep=%{x}<br>value=%{y}<extra></extra>",
           "legendgroup": "FuturePrice",
           "line": {
            "color": "#EF553B",
            "dash": "solid"
           },
           "marker": {
            "symbol": "circle"
           },
           "mode": "lines",
           "name": "FuturePrice",
           "orientation": "v",
           "showlegend": true,
           "type": "scatter",
           "x": [
            1,
            2,
            3,
            4,
            5,
            6,
            7,
            8,
            9,
            10,
            11,
            12,
            13,
            14,
            15,
            16,
            17,
            18,
            19,
            20,
            21,
            22,
            23,
            24
           ],
           "xaxis": "x",
           "y": [
            null,
            null,
            null,
            null,
            null,
            null,
            null,
            null,
            null,
            null,
            null,
            null,
            47.1,
            39.22,
            28.12,
            29.66,
            38.48,
            41.16,
            41.5,
            44.26,
            45.55,
            53.41,
            51.81,
            52.84
           ],
           "yaxis": "y"
          },
          {
           "hovertemplate": "variable=Predicted<br>timestep=56<br>periodstep=%{x}<br>value=%{y}<extra></extra>",
           "legendgroup": "Predicted",
           "line": {
            "color": "#00cc96",
            "dash": "solid"
           },
           "marker": {
            "symbol": "circle"
           },
           "mode": "lines",
           "name": "Predicted",
           "orientation": "v",
           "showlegend": true,
           "type": "scatter",
           "x": [
            1,
            2,
            3,
            4,
            5,
            6,
            7,
            8,
            9,
            10,
            11,
            12,
            13,
            14,
            15,
            16,
            17,
            18,
            19,
            20,
            21,
            22,
            23,
            24
           ],
           "xaxis": "x",
           "y": [
            null,
            null,
            null,
            null,
            null,
            null,
            null,
            null,
            null,
            null,
            null,
            null,
            47.19789601848825,
            47.69156676963303,
            52.6661095063481,
            46.85775720607058,
            44.79378017322681,
            42.515147220895486,
            51.60834814143898,
            51.82045729960055,
            57.15080989446358,
            61.77661911676425,
            63.018937410790414,
            79.84199151551442
           ],
           "yaxis": "y"
          }
         ],
         "name": "56"
        },
        {
         "data": [
          {
           "hovertemplate": "variable=HistoricalPrice<br>timestep=57<br>periodstep=%{x}<br>value=%{y}<extra></extra>",
           "legendgroup": "HistoricalPrice",
           "line": {
            "color": "#636efa",
            "dash": "solid"
           },
           "marker": {
            "symbol": "circle"
           },
           "mode": "lines",
           "name": "HistoricalPrice",
           "orientation": "v",
           "showlegend": true,
           "type": "scatter",
           "x": [
            1,
            2,
            3,
            4,
            5,
            6,
            7,
            8,
            9,
            10,
            11,
            12,
            13,
            14,
            15,
            16,
            17,
            18,
            19,
            20,
            21,
            22,
            23,
            24
           ],
           "xaxis": "x",
           "y": [
            43.93,
            46.99,
            62.73,
            344.92,
            346.72,
            178.48,
            507.7,
            492.81,
            324.61,
            85.23,
            47.95,
            47.1,
            null,
            null,
            null,
            null,
            null,
            null,
            null,
            null,
            null,
            null,
            null,
            null
           ],
           "yaxis": "y"
          },
          {
           "hovertemplate": "variable=FuturePrice<br>timestep=57<br>periodstep=%{x}<br>value=%{y}<extra></extra>",
           "legendgroup": "FuturePrice",
           "line": {
            "color": "#EF553B",
            "dash": "solid"
           },
           "marker": {
            "symbol": "circle"
           },
           "mode": "lines",
           "name": "FuturePrice",
           "orientation": "v",
           "showlegend": true,
           "type": "scatter",
           "x": [
            1,
            2,
            3,
            4,
            5,
            6,
            7,
            8,
            9,
            10,
            11,
            12,
            13,
            14,
            15,
            16,
            17,
            18,
            19,
            20,
            21,
            22,
            23,
            24
           ],
           "xaxis": "x",
           "y": [
            null,
            null,
            null,
            null,
            null,
            null,
            null,
            null,
            null,
            null,
            null,
            null,
            39.22,
            28.12,
            29.66,
            38.48,
            41.16,
            41.5,
            44.26,
            45.55,
            53.41,
            51.81,
            52.84,
            145.34
           ],
           "yaxis": "y"
          },
          {
           "hovertemplate": "variable=Predicted<br>timestep=57<br>periodstep=%{x}<br>value=%{y}<extra></extra>",
           "legendgroup": "Predicted",
           "line": {
            "color": "#00cc96",
            "dash": "solid"
           },
           "marker": {
            "symbol": "circle"
           },
           "mode": "lines",
           "name": "Predicted",
           "orientation": "v",
           "showlegend": true,
           "type": "scatter",
           "x": [
            1,
            2,
            3,
            4,
            5,
            6,
            7,
            8,
            9,
            10,
            11,
            12,
            13,
            14,
            15,
            16,
            17,
            18,
            19,
            20,
            21,
            22,
            23,
            24
           ],
           "xaxis": "x",
           "y": [
            null,
            null,
            null,
            null,
            null,
            null,
            null,
            null,
            null,
            null,
            null,
            null,
            44.258721449078536,
            48.990682060228586,
            46.10958082377662,
            44.089593659697975,
            43.50647616591701,
            41.60045788411675,
            49.70917714249281,
            79.8816752460507,
            63.835042065083286,
            63.26566635444661,
            63.07504846379523,
            91.8037191672221
           ],
           "yaxis": "y"
          }
         ],
         "name": "57"
        },
        {
         "data": [
          {
           "hovertemplate": "variable=HistoricalPrice<br>timestep=58<br>periodstep=%{x}<br>value=%{y}<extra></extra>",
           "legendgroup": "HistoricalPrice",
           "line": {
            "color": "#636efa",
            "dash": "solid"
           },
           "marker": {
            "symbol": "circle"
           },
           "mode": "lines",
           "name": "HistoricalPrice",
           "orientation": "v",
           "showlegend": true,
           "type": "scatter",
           "x": [
            1,
            2,
            3,
            4,
            5,
            6,
            7,
            8,
            9,
            10,
            11,
            12,
            13,
            14,
            15,
            16,
            17,
            18,
            19,
            20,
            21,
            22,
            23,
            24
           ],
           "xaxis": "x",
           "y": [
            46.99,
            62.73,
            344.92,
            346.72,
            178.48,
            507.7,
            492.81,
            324.61,
            85.23,
            47.95,
            47.1,
            39.22,
            null,
            null,
            null,
            null,
            null,
            null,
            null,
            null,
            null,
            null,
            null,
            null
           ],
           "yaxis": "y"
          },
          {
           "hovertemplate": "variable=FuturePrice<br>timestep=58<br>periodstep=%{x}<br>value=%{y}<extra></extra>",
           "legendgroup": "FuturePrice",
           "line": {
            "color": "#EF553B",
            "dash": "solid"
           },
           "marker": {
            "symbol": "circle"
           },
           "mode": "lines",
           "name": "FuturePrice",
           "orientation": "v",
           "showlegend": true,
           "type": "scatter",
           "x": [
            1,
            2,
            3,
            4,
            5,
            6,
            7,
            8,
            9,
            10,
            11,
            12,
            13,
            14,
            15,
            16,
            17,
            18,
            19,
            20,
            21,
            22,
            23,
            24
           ],
           "xaxis": "x",
           "y": [
            null,
            null,
            null,
            null,
            null,
            null,
            null,
            null,
            null,
            null,
            null,
            null,
            28.12,
            29.66,
            38.48,
            41.16,
            41.5,
            44.26,
            45.55,
            53.41,
            51.81,
            52.84,
            145.34,
            108.67
           ],
           "yaxis": "y"
          },
          {
           "hovertemplate": "variable=Predicted<br>timestep=58<br>periodstep=%{x}<br>value=%{y}<extra></extra>",
           "legendgroup": "Predicted",
           "line": {
            "color": "#00cc96",
            "dash": "solid"
           },
           "marker": {
            "symbol": "circle"
           },
           "mode": "lines",
           "name": "Predicted",
           "orientation": "v",
           "showlegend": true,
           "type": "scatter",
           "x": [
            1,
            2,
            3,
            4,
            5,
            6,
            7,
            8,
            9,
            10,
            11,
            12,
            13,
            14,
            15,
            16,
            17,
            18,
            19,
            20,
            21,
            22,
            23,
            24
           ],
           "xaxis": "x",
           "y": [
            null,
            null,
            null,
            null,
            null,
            null,
            null,
            null,
            null,
            null,
            null,
            null,
            35.67936340868988,
            38.849318745275404,
            38.23646862807423,
            40.724659951594965,
            41.51617744241837,
            44.901975978132384,
            59.493253560852544,
            67.73589120576463,
            64.32019056220759,
            66.78867291356917,
            69.68697736600767,
            98.74345508096339
           ],
           "yaxis": "y"
          }
         ],
         "name": "58"
        },
        {
         "data": [
          {
           "hovertemplate": "variable=HistoricalPrice<br>timestep=59<br>periodstep=%{x}<br>value=%{y}<extra></extra>",
           "legendgroup": "HistoricalPrice",
           "line": {
            "color": "#636efa",
            "dash": "solid"
           },
           "marker": {
            "symbol": "circle"
           },
           "mode": "lines",
           "name": "HistoricalPrice",
           "orientation": "v",
           "showlegend": true,
           "type": "scatter",
           "x": [
            1,
            2,
            3,
            4,
            5,
            6,
            7,
            8,
            9,
            10,
            11,
            12,
            13,
            14,
            15,
            16,
            17,
            18,
            19,
            20,
            21,
            22,
            23,
            24
           ],
           "xaxis": "x",
           "y": [
            62.73,
            344.92,
            346.72,
            178.48,
            507.7,
            492.81,
            324.61,
            85.23,
            47.95,
            47.1,
            39.22,
            28.12,
            null,
            null,
            null,
            null,
            null,
            null,
            null,
            null,
            null,
            null,
            null,
            null
           ],
           "yaxis": "y"
          },
          {
           "hovertemplate": "variable=FuturePrice<br>timestep=59<br>periodstep=%{x}<br>value=%{y}<extra></extra>",
           "legendgroup": "FuturePrice",
           "line": {
            "color": "#EF553B",
            "dash": "solid"
           },
           "marker": {
            "symbol": "circle"
           },
           "mode": "lines",
           "name": "FuturePrice",
           "orientation": "v",
           "showlegend": true,
           "type": "scatter",
           "x": [
            1,
            2,
            3,
            4,
            5,
            6,
            7,
            8,
            9,
            10,
            11,
            12,
            13,
            14,
            15,
            16,
            17,
            18,
            19,
            20,
            21,
            22,
            23,
            24
           ],
           "xaxis": "x",
           "y": [
            null,
            null,
            null,
            null,
            null,
            null,
            null,
            null,
            null,
            null,
            null,
            null,
            29.66,
            38.48,
            41.16,
            41.5,
            44.26,
            45.55,
            53.41,
            51.81,
            52.84,
            145.34,
            108.67,
            125.17
           ],
           "yaxis": "y"
          },
          {
           "hovertemplate": "variable=Predicted<br>timestep=59<br>periodstep=%{x}<br>value=%{y}<extra></extra>",
           "legendgroup": "Predicted",
           "line": {
            "color": "#00cc96",
            "dash": "solid"
           },
           "marker": {
            "symbol": "circle"
           },
           "mode": "lines",
           "name": "Predicted",
           "orientation": "v",
           "showlegend": true,
           "type": "scatter",
           "x": [
            1,
            2,
            3,
            4,
            5,
            6,
            7,
            8,
            9,
            10,
            11,
            12,
            13,
            14,
            15,
            16,
            17,
            18,
            19,
            20,
            21,
            22,
            23,
            24
           ],
           "xaxis": "x",
           "y": [
            null,
            null,
            null,
            null,
            null,
            null,
            null,
            null,
            null,
            null,
            null,
            null,
            31.435875575396928,
            36.57975929303053,
            39.64905334641738,
            40.35971864751113,
            42.08132671967747,
            50.09422060493114,
            60.19595465976198,
            73.49756136572266,
            65.68412121738793,
            67.22635268500596,
            71.32005397176393,
            90.98075592549152
           ],
           "yaxis": "y"
          }
         ],
         "name": "59"
        },
        {
         "data": [
          {
           "hovertemplate": "variable=HistoricalPrice<br>timestep=60<br>periodstep=%{x}<br>value=%{y}<extra></extra>",
           "legendgroup": "HistoricalPrice",
           "line": {
            "color": "#636efa",
            "dash": "solid"
           },
           "marker": {
            "symbol": "circle"
           },
           "mode": "lines",
           "name": "HistoricalPrice",
           "orientation": "v",
           "showlegend": true,
           "type": "scatter",
           "x": [
            1,
            2,
            3,
            4,
            5,
            6,
            7,
            8,
            9,
            10,
            11,
            12,
            13,
            14,
            15,
            16,
            17,
            18,
            19,
            20,
            21,
            22,
            23,
            24
           ],
           "xaxis": "x",
           "y": [
            344.92,
            346.72,
            178.48,
            507.7,
            492.81,
            324.61,
            85.23,
            47.95,
            47.1,
            39.22,
            28.12,
            29.66,
            null,
            null,
            null,
            null,
            null,
            null,
            null,
            null,
            null,
            null,
            null,
            null
           ],
           "yaxis": "y"
          },
          {
           "hovertemplate": "variable=FuturePrice<br>timestep=60<br>periodstep=%{x}<br>value=%{y}<extra></extra>",
           "legendgroup": "FuturePrice",
           "line": {
            "color": "#EF553B",
            "dash": "solid"
           },
           "marker": {
            "symbol": "circle"
           },
           "mode": "lines",
           "name": "FuturePrice",
           "orientation": "v",
           "showlegend": true,
           "type": "scatter",
           "x": [
            1,
            2,
            3,
            4,
            5,
            6,
            7,
            8,
            9,
            10,
            11,
            12,
            13,
            14,
            15,
            16,
            17,
            18,
            19,
            20,
            21,
            22,
            23,
            24
           ],
           "xaxis": "x",
           "y": [
            null,
            null,
            null,
            null,
            null,
            null,
            null,
            null,
            null,
            null,
            null,
            null,
            38.48,
            41.16,
            41.5,
            44.26,
            45.55,
            53.41,
            51.81,
            52.84,
            145.34,
            108.67,
            125.17,
            247.08
           ],
           "yaxis": "y"
          },
          {
           "hovertemplate": "variable=Predicted<br>timestep=60<br>periodstep=%{x}<br>value=%{y}<extra></extra>",
           "legendgroup": "Predicted",
           "line": {
            "color": "#00cc96",
            "dash": "solid"
           },
           "marker": {
            "symbol": "circle"
           },
           "mode": "lines",
           "name": "Predicted",
           "orientation": "v",
           "showlegend": true,
           "type": "scatter",
           "x": [
            1,
            2,
            3,
            4,
            5,
            6,
            7,
            8,
            9,
            10,
            11,
            12,
            13,
            14,
            15,
            16,
            17,
            18,
            19,
            20,
            21,
            22,
            23,
            24
           ],
           "xaxis": "x",
           "y": [
            null,
            null,
            null,
            null,
            null,
            null,
            null,
            null,
            null,
            null,
            null,
            null,
            32.21881478829984,
            36.89146848760677,
            39.67285038190689,
            40.35971864751113,
            52.65589140296941,
            54.324650103231306,
            66.11169428322385,
            89.00167839153782,
            85.0623794815369,
            88.3227784662708,
            105.4627616076331,
            157.4219296517873
           ],
           "yaxis": "y"
          }
         ],
         "name": "60"
        },
        {
         "data": [
          {
           "hovertemplate": "variable=HistoricalPrice<br>timestep=61<br>periodstep=%{x}<br>value=%{y}<extra></extra>",
           "legendgroup": "HistoricalPrice",
           "line": {
            "color": "#636efa",
            "dash": "solid"
           },
           "marker": {
            "symbol": "circle"
           },
           "mode": "lines",
           "name": "HistoricalPrice",
           "orientation": "v",
           "showlegend": true,
           "type": "scatter",
           "x": [
            1,
            2,
            3,
            4,
            5,
            6,
            7,
            8,
            9,
            10,
            11,
            12,
            13,
            14,
            15,
            16,
            17,
            18,
            19,
            20,
            21,
            22,
            23,
            24
           ],
           "xaxis": "x",
           "y": [
            346.72,
            178.48,
            507.7,
            492.81,
            324.61,
            85.23,
            47.95,
            47.1,
            39.22,
            28.12,
            29.66,
            38.48,
            null,
            null,
            null,
            null,
            null,
            null,
            null,
            null,
            null,
            null,
            null,
            null
           ],
           "yaxis": "y"
          },
          {
           "hovertemplate": "variable=FuturePrice<br>timestep=61<br>periodstep=%{x}<br>value=%{y}<extra></extra>",
           "legendgroup": "FuturePrice",
           "line": {
            "color": "#EF553B",
            "dash": "solid"
           },
           "marker": {
            "symbol": "circle"
           },
           "mode": "lines",
           "name": "FuturePrice",
           "orientation": "v",
           "showlegend": true,
           "type": "scatter",
           "x": [
            1,
            2,
            3,
            4,
            5,
            6,
            7,
            8,
            9,
            10,
            11,
            12,
            13,
            14,
            15,
            16,
            17,
            18,
            19,
            20,
            21,
            22,
            23,
            24
           ],
           "xaxis": "x",
           "y": [
            null,
            null,
            null,
            null,
            null,
            null,
            null,
            null,
            null,
            null,
            null,
            null,
            41.16,
            41.5,
            44.26,
            45.55,
            53.41,
            51.81,
            52.84,
            145.34,
            108.67,
            125.17,
            247.08,
            200.88
           ],
           "yaxis": "y"
          },
          {
           "hovertemplate": "variable=Predicted<br>timestep=61<br>periodstep=%{x}<br>value=%{y}<extra></extra>",
           "legendgroup": "Predicted",
           "line": {
            "color": "#00cc96",
            "dash": "solid"
           },
           "marker": {
            "symbol": "circle"
           },
           "mode": "lines",
           "name": "Predicted",
           "orientation": "v",
           "showlegend": true,
           "type": "scatter",
           "x": [
            1,
            2,
            3,
            4,
            5,
            6,
            7,
            8,
            9,
            10,
            11,
            12,
            13,
            14,
            15,
            16,
            17,
            18,
            19,
            20,
            21,
            22,
            23,
            24
           ],
           "xaxis": "x",
           "y": [
            null,
            null,
            null,
            null,
            null,
            null,
            null,
            null,
            null,
            null,
            null,
            null,
            35.79194116061688,
            38.98894404254784,
            45.019604378749925,
            62.59348021022635,
            55.213638207050174,
            74.00057663943915,
            83.58538259497172,
            111.17567561332434,
            109.21294739625414,
            145.75580776122166,
            176.76273420920495,
            191.4910274259948
           ],
           "yaxis": "y"
          }
         ],
         "name": "61"
        },
        {
         "data": [
          {
           "hovertemplate": "variable=HistoricalPrice<br>timestep=62<br>periodstep=%{x}<br>value=%{y}<extra></extra>",
           "legendgroup": "HistoricalPrice",
           "line": {
            "color": "#636efa",
            "dash": "solid"
           },
           "marker": {
            "symbol": "circle"
           },
           "mode": "lines",
           "name": "HistoricalPrice",
           "orientation": "v",
           "showlegend": true,
           "type": "scatter",
           "x": [
            1,
            2,
            3,
            4,
            5,
            6,
            7,
            8,
            9,
            10,
            11,
            12,
            13,
            14,
            15,
            16,
            17,
            18,
            19,
            20,
            21,
            22,
            23,
            24
           ],
           "xaxis": "x",
           "y": [
            178.48,
            507.7,
            492.81,
            324.61,
            85.23,
            47.95,
            47.1,
            39.22,
            28.12,
            29.66,
            38.48,
            41.16,
            null,
            null,
            null,
            null,
            null,
            null,
            null,
            null,
            null,
            null,
            null,
            null
           ],
           "yaxis": "y"
          },
          {
           "hovertemplate": "variable=FuturePrice<br>timestep=62<br>periodstep=%{x}<br>value=%{y}<extra></extra>",
           "legendgroup": "FuturePrice",
           "line": {
            "color": "#EF553B",
            "dash": "solid"
           },
           "marker": {
            "symbol": "circle"
           },
           "mode": "lines",
           "name": "FuturePrice",
           "orientation": "v",
           "showlegend": true,
           "type": "scatter",
           "x": [
            1,
            2,
            3,
            4,
            5,
            6,
            7,
            8,
            9,
            10,
            11,
            12,
            13,
            14,
            15,
            16,
            17,
            18,
            19,
            20,
            21,
            22,
            23,
            24
           ],
           "xaxis": "x",
           "y": [
            null,
            null,
            null,
            null,
            null,
            null,
            null,
            null,
            null,
            null,
            null,
            null,
            41.5,
            44.26,
            45.55,
            53.41,
            51.81,
            52.84,
            145.34,
            108.67,
            125.17,
            247.08,
            200.88,
            501.16
           ],
           "yaxis": "y"
          },
          {
           "hovertemplate": "variable=Predicted<br>timestep=62<br>periodstep=%{x}<br>value=%{y}<extra></extra>",
           "legendgroup": "Predicted",
           "line": {
            "color": "#00cc96",
            "dash": "solid"
           },
           "marker": {
            "symbol": "circle"
           },
           "mode": "lines",
           "name": "Predicted",
           "orientation": "v",
           "showlegend": true,
           "type": "scatter",
           "x": [
            1,
            2,
            3,
            4,
            5,
            6,
            7,
            8,
            9,
            10,
            11,
            12,
            13,
            14,
            15,
            16,
            17,
            18,
            19,
            20,
            21,
            22,
            23,
            24
           ],
           "xaxis": "x",
           "y": [
            null,
            null,
            null,
            null,
            null,
            null,
            null,
            null,
            null,
            null,
            null,
            null,
            37.679841047450246,
            39.62592085889195,
            49.892952353235685,
            80.0422090319346,
            76.24364063782622,
            91.4063756671335,
            93.36995897664066,
            120.42406549483685,
            140.50933419324252,
            159.3475959852652,
            201.98132769399035,
            166.62732331037216
           ],
           "yaxis": "y"
          }
         ],
         "name": "62"
        },
        {
         "data": [
          {
           "hovertemplate": "variable=HistoricalPrice<br>timestep=63<br>periodstep=%{x}<br>value=%{y}<extra></extra>",
           "legendgroup": "HistoricalPrice",
           "line": {
            "color": "#636efa",
            "dash": "solid"
           },
           "marker": {
            "symbol": "circle"
           },
           "mode": "lines",
           "name": "HistoricalPrice",
           "orientation": "v",
           "showlegend": true,
           "type": "scatter",
           "x": [
            1,
            2,
            3,
            4,
            5,
            6,
            7,
            8,
            9,
            10,
            11,
            12,
            13,
            14,
            15,
            16,
            17,
            18,
            19,
            20,
            21,
            22,
            23,
            24
           ],
           "xaxis": "x",
           "y": [
            507.7,
            492.81,
            324.61,
            85.23,
            47.95,
            47.1,
            39.22,
            28.12,
            29.66,
            38.48,
            41.16,
            41.5,
            null,
            null,
            null,
            null,
            null,
            null,
            null,
            null,
            null,
            null,
            null,
            null
           ],
           "yaxis": "y"
          },
          {
           "hovertemplate": "variable=FuturePrice<br>timestep=63<br>periodstep=%{x}<br>value=%{y}<extra></extra>",
           "legendgroup": "FuturePrice",
           "line": {
            "color": "#EF553B",
            "dash": "solid"
           },
           "marker": {
            "symbol": "circle"
           },
           "mode": "lines",
           "name": "FuturePrice",
           "orientation": "v",
           "showlegend": true,
           "type": "scatter",
           "x": [
            1,
            2,
            3,
            4,
            5,
            6,
            7,
            8,
            9,
            10,
            11,
            12,
            13,
            14,
            15,
            16,
            17,
            18,
            19,
            20,
            21,
            22,
            23,
            24
           ],
           "xaxis": "x",
           "y": [
            null,
            null,
            null,
            null,
            null,
            null,
            null,
            null,
            null,
            null,
            null,
            null,
            44.26,
            45.55,
            53.41,
            51.81,
            52.84,
            145.34,
            108.67,
            125.17,
            247.08,
            200.88,
            501.16,
            63.45
           ],
           "yaxis": "y"
          },
          {
           "hovertemplate": "variable=Predicted<br>timestep=63<br>periodstep=%{x}<br>value=%{y}<extra></extra>",
           "legendgroup": "Predicted",
           "line": {
            "color": "#00cc96",
            "dash": "solid"
           },
           "marker": {
            "symbol": "circle"
           },
           "mode": "lines",
           "name": "Predicted",
           "orientation": "v",
           "showlegend": true,
           "type": "scatter",
           "x": [
            1,
            2,
            3,
            4,
            5,
            6,
            7,
            8,
            9,
            10,
            11,
            12,
            13,
            14,
            15,
            16,
            17,
            18,
            19,
            20,
            21,
            22,
            23,
            24
           ],
           "xaxis": "x",
           "y": [
            null,
            null,
            null,
            null,
            null,
            null,
            null,
            null,
            null,
            null,
            null,
            null,
            40.20998753645238,
            49.234242408942634,
            51.01982921024196,
            81.11549386815526,
            87.9189867006038,
            89.21170075977305,
            107.95426571101447,
            126.31378512350393,
            181.60405296835285,
            149.91289926775065,
            167.7053309390577,
            255.39335750393005
           ],
           "yaxis": "y"
          }
         ],
         "name": "63"
        },
        {
         "data": [
          {
           "hovertemplate": "variable=HistoricalPrice<br>timestep=64<br>periodstep=%{x}<br>value=%{y}<extra></extra>",
           "legendgroup": "HistoricalPrice",
           "line": {
            "color": "#636efa",
            "dash": "solid"
           },
           "marker": {
            "symbol": "circle"
           },
           "mode": "lines",
           "name": "HistoricalPrice",
           "orientation": "v",
           "showlegend": true,
           "type": "scatter",
           "x": [
            1,
            2,
            3,
            4,
            5,
            6,
            7,
            8,
            9,
            10,
            11,
            12,
            13,
            14,
            15,
            16,
            17,
            18,
            19,
            20,
            21,
            22,
            23,
            24
           ],
           "xaxis": "x",
           "y": [
            492.81,
            324.61,
            85.23,
            47.95,
            47.1,
            39.22,
            28.12,
            29.66,
            38.48,
            41.16,
            41.5,
            44.26,
            null,
            null,
            null,
            null,
            null,
            null,
            null,
            null,
            null,
            null,
            null,
            null
           ],
           "yaxis": "y"
          },
          {
           "hovertemplate": "variable=FuturePrice<br>timestep=64<br>periodstep=%{x}<br>value=%{y}<extra></extra>",
           "legendgroup": "FuturePrice",
           "line": {
            "color": "#EF553B",
            "dash": "solid"
           },
           "marker": {
            "symbol": "circle"
           },
           "mode": "lines",
           "name": "FuturePrice",
           "orientation": "v",
           "showlegend": true,
           "type": "scatter",
           "x": [
            1,
            2,
            3,
            4,
            5,
            6,
            7,
            8,
            9,
            10,
            11,
            12,
            13,
            14,
            15,
            16,
            17,
            18,
            19,
            20,
            21,
            22,
            23,
            24
           ],
           "xaxis": "x",
           "y": [
            null,
            null,
            null,
            null,
            null,
            null,
            null,
            null,
            null,
            null,
            null,
            null,
            45.55,
            53.41,
            51.81,
            52.84,
            145.34,
            108.67,
            125.17,
            247.08,
            200.88,
            501.16,
            63.45,
            49.54
           ],
           "yaxis": "y"
          },
          {
           "hovertemplate": "variable=Predicted<br>timestep=64<br>periodstep=%{x}<br>value=%{y}<extra></extra>",
           "legendgroup": "Predicted",
           "line": {
            "color": "#00cc96",
            "dash": "solid"
           },
           "marker": {
            "symbol": "circle"
           },
           "mode": "lines",
           "name": "Predicted",
           "orientation": "v",
           "showlegend": true,
           "type": "scatter",
           "x": [
            1,
            2,
            3,
            4,
            5,
            6,
            7,
            8,
            9,
            10,
            11,
            12,
            13,
            14,
            15,
            16,
            17,
            18,
            19,
            20,
            21,
            22,
            23,
            24
           ],
           "xaxis": "x",
           "y": [
            null,
            null,
            null,
            null,
            null,
            null,
            null,
            null,
            null,
            null,
            null,
            null,
            41.66030150130742,
            51.70747315116394,
            74.87609235934957,
            92.60012934043945,
            98.71147841725652,
            101.39684413264206,
            124.92677260899612,
            185.0554810345447,
            205.01895787402853,
            205.99797705521996,
            256.5606777259719,
            195.15986558257035
           ],
           "yaxis": "y"
          }
         ],
         "name": "64"
        },
        {
         "data": [
          {
           "hovertemplate": "variable=HistoricalPrice<br>timestep=65<br>periodstep=%{x}<br>value=%{y}<extra></extra>",
           "legendgroup": "HistoricalPrice",
           "line": {
            "color": "#636efa",
            "dash": "solid"
           },
           "marker": {
            "symbol": "circle"
           },
           "mode": "lines",
           "name": "HistoricalPrice",
           "orientation": "v",
           "showlegend": true,
           "type": "scatter",
           "x": [
            1,
            2,
            3,
            4,
            5,
            6,
            7,
            8,
            9,
            10,
            11,
            12,
            13,
            14,
            15,
            16,
            17,
            18,
            19,
            20,
            21,
            22,
            23,
            24
           ],
           "xaxis": "x",
           "y": [
            324.61,
            85.23,
            47.95,
            47.1,
            39.22,
            28.12,
            29.66,
            38.48,
            41.16,
            41.5,
            44.26,
            45.55,
            null,
            null,
            null,
            null,
            null,
            null,
            null,
            null,
            null,
            null,
            null,
            null
           ],
           "yaxis": "y"
          },
          {
           "hovertemplate": "variable=FuturePrice<br>timestep=65<br>periodstep=%{x}<br>value=%{y}<extra></extra>",
           "legendgroup": "FuturePrice",
           "line": {
            "color": "#EF553B",
            "dash": "solid"
           },
           "marker": {
            "symbol": "circle"
           },
           "mode": "lines",
           "name": "FuturePrice",
           "orientation": "v",
           "showlegend": true,
           "type": "scatter",
           "x": [
            1,
            2,
            3,
            4,
            5,
            6,
            7,
            8,
            9,
            10,
            11,
            12,
            13,
            14,
            15,
            16,
            17,
            18,
            19,
            20,
            21,
            22,
            23,
            24
           ],
           "xaxis": "x",
           "y": [
            null,
            null,
            null,
            null,
            null,
            null,
            null,
            null,
            null,
            null,
            null,
            null,
            53.41,
            51.81,
            52.84,
            145.34,
            108.67,
            125.17,
            247.08,
            200.88,
            501.16,
            63.45,
            49.54,
            79.06
           ],
           "yaxis": "y"
          },
          {
           "hovertemplate": "variable=Predicted<br>timestep=65<br>periodstep=%{x}<br>value=%{y}<extra></extra>",
           "legendgroup": "Predicted",
           "line": {
            "color": "#00cc96",
            "dash": "solid"
           },
           "marker": {
            "symbol": "circle"
           },
           "mode": "lines",
           "name": "Predicted",
           "orientation": "v",
           "showlegend": true,
           "type": "scatter",
           "x": [
            1,
            2,
            3,
            4,
            5,
            6,
            7,
            8,
            9,
            10,
            11,
            12,
            13,
            14,
            15,
            16,
            17,
            18,
            19,
            20,
            21,
            22,
            23,
            24
           ],
           "xaxis": "x",
           "y": [
            null,
            null,
            null,
            null,
            null,
            null,
            null,
            null,
            null,
            null,
            null,
            null,
            43.18931018940138,
            54.92421785240064,
            74.99247731839947,
            91.26211109300954,
            110.53411140756879,
            104.64938615930282,
            174.52377847008938,
            150.8528234309142,
            128.07059472243114,
            217.84968091648355,
            161.614251257189,
            202.718439602091
           ],
           "yaxis": "y"
          }
         ],
         "name": "65"
        },
        {
         "data": [
          {
           "hovertemplate": "variable=HistoricalPrice<br>timestep=66<br>periodstep=%{x}<br>value=%{y}<extra></extra>",
           "legendgroup": "HistoricalPrice",
           "line": {
            "color": "#636efa",
            "dash": "solid"
           },
           "marker": {
            "symbol": "circle"
           },
           "mode": "lines",
           "name": "HistoricalPrice",
           "orientation": "v",
           "showlegend": true,
           "type": "scatter",
           "x": [
            1,
            2,
            3,
            4,
            5,
            6,
            7,
            8,
            9,
            10,
            11,
            12,
            13,
            14,
            15,
            16,
            17,
            18,
            19,
            20,
            21,
            22,
            23,
            24
           ],
           "xaxis": "x",
           "y": [
            85.23,
            47.95,
            47.1,
            39.22,
            28.12,
            29.66,
            38.48,
            41.16,
            41.5,
            44.26,
            45.55,
            53.41,
            null,
            null,
            null,
            null,
            null,
            null,
            null,
            null,
            null,
            null,
            null,
            null
           ],
           "yaxis": "y"
          },
          {
           "hovertemplate": "variable=FuturePrice<br>timestep=66<br>periodstep=%{x}<br>value=%{y}<extra></extra>",
           "legendgroup": "FuturePrice",
           "line": {
            "color": "#EF553B",
            "dash": "solid"
           },
           "marker": {
            "symbol": "circle"
           },
           "mode": "lines",
           "name": "FuturePrice",
           "orientation": "v",
           "showlegend": true,
           "type": "scatter",
           "x": [
            1,
            2,
            3,
            4,
            5,
            6,
            7,
            8,
            9,
            10,
            11,
            12,
            13,
            14,
            15,
            16,
            17,
            18,
            19,
            20,
            21,
            22,
            23,
            24
           ],
           "xaxis": "x",
           "y": [
            null,
            null,
            null,
            null,
            null,
            null,
            null,
            null,
            null,
            null,
            null,
            null,
            51.81,
            52.84,
            145.34,
            108.67,
            125.17,
            247.08,
            200.88,
            501.16,
            63.45,
            49.54,
            79.06,
            77.26
           ],
           "yaxis": "y"
          },
          {
           "hovertemplate": "variable=Predicted<br>timestep=66<br>periodstep=%{x}<br>value=%{y}<extra></extra>",
           "legendgroup": "Predicted",
           "line": {
            "color": "#00cc96",
            "dash": "solid"
           },
           "marker": {
            "symbol": "circle"
           },
           "mode": "lines",
           "name": "Predicted",
           "orientation": "v",
           "showlegend": true,
           "type": "scatter",
           "x": [
            1,
            2,
            3,
            4,
            5,
            6,
            7,
            8,
            9,
            10,
            11,
            12,
            13,
            14,
            15,
            16,
            17,
            18,
            19,
            20,
            21,
            22,
            23,
            24
           ],
           "xaxis": "x",
           "y": [
            null,
            null,
            null,
            null,
            null,
            null,
            null,
            null,
            null,
            null,
            null,
            null,
            51.01996714131354,
            67.7025443388401,
            93.05995322345211,
            118.55197834552693,
            122.0822421017109,
            157.03627371037553,
            192.49333541783403,
            167.3523439343019,
            221.72184729601054,
            121.42175942810073,
            174.72952948874413,
            210.96414103527798
           ],
           "yaxis": "y"
          }
         ],
         "name": "66"
        },
        {
         "data": [
          {
           "hovertemplate": "variable=HistoricalPrice<br>timestep=67<br>periodstep=%{x}<br>value=%{y}<extra></extra>",
           "legendgroup": "HistoricalPrice",
           "line": {
            "color": "#636efa",
            "dash": "solid"
           },
           "marker": {
            "symbol": "circle"
           },
           "mode": "lines",
           "name": "HistoricalPrice",
           "orientation": "v",
           "showlegend": true,
           "type": "scatter",
           "x": [
            1,
            2,
            3,
            4,
            5,
            6,
            7,
            8,
            9,
            10,
            11,
            12,
            13,
            14,
            15,
            16,
            17,
            18,
            19,
            20,
            21,
            22,
            23,
            24
           ],
           "xaxis": "x",
           "y": [
            47.95,
            47.1,
            39.22,
            28.12,
            29.66,
            38.48,
            41.16,
            41.5,
            44.26,
            45.55,
            53.41,
            51.81,
            null,
            null,
            null,
            null,
            null,
            null,
            null,
            null,
            null,
            null,
            null,
            null
           ],
           "yaxis": "y"
          },
          {
           "hovertemplate": "variable=FuturePrice<br>timestep=67<br>periodstep=%{x}<br>value=%{y}<extra></extra>",
           "legendgroup": "FuturePrice",
           "line": {
            "color": "#EF553B",
            "dash": "solid"
           },
           "marker": {
            "symbol": "circle"
           },
           "mode": "lines",
           "name": "FuturePrice",
           "orientation": "v",
           "showlegend": true,
           "type": "scatter",
           "x": [
            1,
            2,
            3,
            4,
            5,
            6,
            7,
            8,
            9,
            10,
            11,
            12,
            13,
            14,
            15,
            16,
            17,
            18,
            19,
            20,
            21,
            22,
            23,
            24
           ],
           "xaxis": "x",
           "y": [
            null,
            null,
            null,
            null,
            null,
            null,
            null,
            null,
            null,
            null,
            null,
            null,
            52.84,
            145.34,
            108.67,
            125.17,
            247.08,
            200.88,
            501.16,
            63.45,
            49.54,
            79.06,
            77.26,
            74.3
           ],
           "yaxis": "y"
          },
          {
           "hovertemplate": "variable=Predicted<br>timestep=67<br>periodstep=%{x}<br>value=%{y}<extra></extra>",
           "legendgroup": "Predicted",
           "line": {
            "color": "#00cc96",
            "dash": "solid"
           },
           "marker": {
            "symbol": "circle"
           },
           "mode": "lines",
           "name": "Predicted",
           "orientation": "v",
           "showlegend": true,
           "type": "scatter",
           "x": [
            1,
            2,
            3,
            4,
            5,
            6,
            7,
            8,
            9,
            10,
            11,
            12,
            13,
            14,
            15,
            16,
            17,
            18,
            19,
            20,
            21,
            22,
            23,
            24
           ],
           "xaxis": "x",
           "y": [
            null,
            null,
            null,
            null,
            null,
            null,
            null,
            null,
            null,
            null,
            null,
            null,
            52.79254557447763,
            69.09527043261016,
            99.35368431212301,
            127.89236196937048,
            116.11622161013752,
            156.78977479029092,
            176.60452592032973,
            221.0374088131935,
            126.67373138015046,
            113.44981922168938,
            166.55427852700282,
            237.1580936647184
           ],
           "yaxis": "y"
          }
         ],
         "name": "67"
        },
        {
         "data": [
          {
           "hovertemplate": "variable=HistoricalPrice<br>timestep=68<br>periodstep=%{x}<br>value=%{y}<extra></extra>",
           "legendgroup": "HistoricalPrice",
           "line": {
            "color": "#636efa",
            "dash": "solid"
           },
           "marker": {
            "symbol": "circle"
           },
           "mode": "lines",
           "name": "HistoricalPrice",
           "orientation": "v",
           "showlegend": true,
           "type": "scatter",
           "x": [
            1,
            2,
            3,
            4,
            5,
            6,
            7,
            8,
            9,
            10,
            11,
            12,
            13,
            14,
            15,
            16,
            17,
            18,
            19,
            20,
            21,
            22,
            23,
            24
           ],
           "xaxis": "x",
           "y": [
            47.1,
            39.22,
            28.12,
            29.66,
            38.48,
            41.16,
            41.5,
            44.26,
            45.55,
            53.41,
            51.81,
            52.84,
            null,
            null,
            null,
            null,
            null,
            null,
            null,
            null,
            null,
            null,
            null,
            null
           ],
           "yaxis": "y"
          },
          {
           "hovertemplate": "variable=FuturePrice<br>timestep=68<br>periodstep=%{x}<br>value=%{y}<extra></extra>",
           "legendgroup": "FuturePrice",
           "line": {
            "color": "#EF553B",
            "dash": "solid"
           },
           "marker": {
            "symbol": "circle"
           },
           "mode": "lines",
           "name": "FuturePrice",
           "orientation": "v",
           "showlegend": true,
           "type": "scatter",
           "x": [
            1,
            2,
            3,
            4,
            5,
            6,
            7,
            8,
            9,
            10,
            11,
            12,
            13,
            14,
            15,
            16,
            17,
            18,
            19,
            20,
            21,
            22,
            23,
            24
           ],
           "xaxis": "x",
           "y": [
            null,
            null,
            null,
            null,
            null,
            null,
            null,
            null,
            null,
            null,
            null,
            null,
            145.34,
            108.67,
            125.17,
            247.08,
            200.88,
            501.16,
            63.45,
            49.54,
            79.06,
            77.26,
            74.3,
            44.43
           ],
           "yaxis": "y"
          },
          {
           "hovertemplate": "variable=Predicted<br>timestep=68<br>periodstep=%{x}<br>value=%{y}<extra></extra>",
           "legendgroup": "Predicted",
           "line": {
            "color": "#00cc96",
            "dash": "solid"
           },
           "marker": {
            "symbol": "circle"
           },
           "mode": "lines",
           "name": "Predicted",
           "orientation": "v",
           "showlegend": true,
           "type": "scatter",
           "x": [
            1,
            2,
            3,
            4,
            5,
            6,
            7,
            8,
            9,
            10,
            11,
            12,
            13,
            14,
            15,
            16,
            17,
            18,
            19,
            20,
            21,
            22,
            23,
            24
           ],
           "xaxis": "x",
           "y": [
            null,
            null,
            null,
            null,
            null,
            null,
            null,
            null,
            null,
            null,
            null,
            null,
            53.74895592908365,
            69.48590142167563,
            101.40186312415356,
            144.37991013808767,
            137.17674298718723,
            172.2305523246638,
            211.66486606378183,
            183.4707954469528,
            212.84357084145745,
            205.92809552189547,
            189.63862815526699,
            95.8324340175264
           ],
           "yaxis": "y"
          }
         ],
         "name": "68"
        },
        {
         "data": [
          {
           "hovertemplate": "variable=HistoricalPrice<br>timestep=69<br>periodstep=%{x}<br>value=%{y}<extra></extra>",
           "legendgroup": "HistoricalPrice",
           "line": {
            "color": "#636efa",
            "dash": "solid"
           },
           "marker": {
            "symbol": "circle"
           },
           "mode": "lines",
           "name": "HistoricalPrice",
           "orientation": "v",
           "showlegend": true,
           "type": "scatter",
           "x": [
            1,
            2,
            3,
            4,
            5,
            6,
            7,
            8,
            9,
            10,
            11,
            12,
            13,
            14,
            15,
            16,
            17,
            18,
            19,
            20,
            21,
            22,
            23,
            24
           ],
           "xaxis": "x",
           "y": [
            39.22,
            28.12,
            29.66,
            38.48,
            41.16,
            41.5,
            44.26,
            45.55,
            53.41,
            51.81,
            52.84,
            145.34,
            null,
            null,
            null,
            null,
            null,
            null,
            null,
            null,
            null,
            null,
            null,
            null
           ],
           "yaxis": "y"
          },
          {
           "hovertemplate": "variable=FuturePrice<br>timestep=69<br>periodstep=%{x}<br>value=%{y}<extra></extra>",
           "legendgroup": "FuturePrice",
           "line": {
            "color": "#EF553B",
            "dash": "solid"
           },
           "marker": {
            "symbol": "circle"
           },
           "mode": "lines",
           "name": "FuturePrice",
           "orientation": "v",
           "showlegend": true,
           "type": "scatter",
           "x": [
            1,
            2,
            3,
            4,
            5,
            6,
            7,
            8,
            9,
            10,
            11,
            12,
            13,
            14,
            15,
            16,
            17,
            18,
            19,
            20,
            21,
            22,
            23,
            24
           ],
           "xaxis": "x",
           "y": [
            null,
            null,
            null,
            null,
            null,
            null,
            null,
            null,
            null,
            null,
            null,
            null,
            108.67,
            125.17,
            247.08,
            200.88,
            501.16,
            63.45,
            49.54,
            79.06,
            77.26,
            74.3,
            44.43,
            35.2
           ],
           "yaxis": "y"
          },
          {
           "hovertemplate": "variable=Predicted<br>timestep=69<br>periodstep=%{x}<br>value=%{y}<extra></extra>",
           "legendgroup": "Predicted",
           "line": {
            "color": "#00cc96",
            "dash": "solid"
           },
           "marker": {
            "symbol": "circle"
           },
           "mode": "lines",
           "name": "Predicted",
           "orientation": "v",
           "showlegend": true,
           "type": "scatter",
           "x": [
            1,
            2,
            3,
            4,
            5,
            6,
            7,
            8,
            9,
            10,
            11,
            12,
            13,
            14,
            15,
            16,
            17,
            18,
            19,
            20,
            21,
            22,
            23,
            24
           ],
           "xaxis": "x",
           "y": [
            null,
            null,
            null,
            null,
            null,
            null,
            null,
            null,
            null,
            null,
            null,
            null,
            172.97560193024134,
            175.5955610411139,
            216.0323513501979,
            202.28850155118369,
            245.11383875182563,
            262.8020875506708,
            177.16693287202395,
            181.33600583164397,
            240.08599334558096,
            216.30696734566905,
            140.73115980106417,
            101.18325403628964
           ],
           "yaxis": "y"
          }
         ],
         "name": "69"
        },
        {
         "data": [
          {
           "hovertemplate": "variable=HistoricalPrice<br>timestep=70<br>periodstep=%{x}<br>value=%{y}<extra></extra>",
           "legendgroup": "HistoricalPrice",
           "line": {
            "color": "#636efa",
            "dash": "solid"
           },
           "marker": {
            "symbol": "circle"
           },
           "mode": "lines",
           "name": "HistoricalPrice",
           "orientation": "v",
           "showlegend": true,
           "type": "scatter",
           "x": [
            1,
            2,
            3,
            4,
            5,
            6,
            7,
            8,
            9,
            10,
            11,
            12,
            13,
            14,
            15,
            16,
            17,
            18,
            19,
            20,
            21,
            22,
            23,
            24
           ],
           "xaxis": "x",
           "y": [
            28.12,
            29.66,
            38.48,
            41.16,
            41.5,
            44.26,
            45.55,
            53.41,
            51.81,
            52.84,
            145.34,
            108.67,
            null,
            null,
            null,
            null,
            null,
            null,
            null,
            null,
            null,
            null,
            null,
            null
           ],
           "yaxis": "y"
          },
          {
           "hovertemplate": "variable=FuturePrice<br>timestep=70<br>periodstep=%{x}<br>value=%{y}<extra></extra>",
           "legendgroup": "FuturePrice",
           "line": {
            "color": "#EF553B",
            "dash": "solid"
           },
           "marker": {
            "symbol": "circle"
           },
           "mode": "lines",
           "name": "FuturePrice",
           "orientation": "v",
           "showlegend": true,
           "type": "scatter",
           "x": [
            1,
            2,
            3,
            4,
            5,
            6,
            7,
            8,
            9,
            10,
            11,
            12,
            13,
            14,
            15,
            16,
            17,
            18,
            19,
            20,
            21,
            22,
            23,
            24
           ],
           "xaxis": "x",
           "y": [
            null,
            null,
            null,
            null,
            null,
            null,
            null,
            null,
            null,
            null,
            null,
            null,
            125.17,
            247.08,
            200.88,
            501.16,
            63.45,
            49.54,
            79.06,
            77.26,
            74.3,
            44.43,
            35.2,
            26.4
           ],
           "yaxis": "y"
          },
          {
           "hovertemplate": "variable=Predicted<br>timestep=70<br>periodstep=%{x}<br>value=%{y}<extra></extra>",
           "legendgroup": "Predicted",
           "line": {
            "color": "#00cc96",
            "dash": "solid"
           },
           "marker": {
            "symbol": "circle"
           },
           "mode": "lines",
           "name": "Predicted",
           "orientation": "v",
           "showlegend": true,
           "type": "scatter",
           "x": [
            1,
            2,
            3,
            4,
            5,
            6,
            7,
            8,
            9,
            10,
            11,
            12,
            13,
            14,
            15,
            16,
            17,
            18,
            19,
            20,
            21,
            22,
            23,
            24
           ],
           "xaxis": "x",
           "y": [
            null,
            null,
            null,
            null,
            null,
            null,
            null,
            null,
            null,
            null,
            null,
            null,
            124.74850096955494,
            178.2679855721236,
            200.3658594040776,
            213.9660248548088,
            279.63355395689575,
            203.67251993748417,
            201.5690913087217,
            221.10166520118563,
            264.8495266338018,
            154.54235993677517,
            100.39431485471626,
            87.20443829593654
           ],
           "yaxis": "y"
          }
         ],
         "name": "70"
        },
        {
         "data": [
          {
           "hovertemplate": "variable=HistoricalPrice<br>timestep=71<br>periodstep=%{x}<br>value=%{y}<extra></extra>",
           "legendgroup": "HistoricalPrice",
           "line": {
            "color": "#636efa",
            "dash": "solid"
           },
           "marker": {
            "symbol": "circle"
           },
           "mode": "lines",
           "name": "HistoricalPrice",
           "orientation": "v",
           "showlegend": true,
           "type": "scatter",
           "x": [
            1,
            2,
            3,
            4,
            5,
            6,
            7,
            8,
            9,
            10,
            11,
            12,
            13,
            14,
            15,
            16,
            17,
            18,
            19,
            20,
            21,
            22,
            23,
            24
           ],
           "xaxis": "x",
           "y": [
            29.66,
            38.48,
            41.16,
            41.5,
            44.26,
            45.55,
            53.41,
            51.81,
            52.84,
            145.34,
            108.67,
            125.17,
            null,
            null,
            null,
            null,
            null,
            null,
            null,
            null,
            null,
            null,
            null,
            null
           ],
           "yaxis": "y"
          },
          {
           "hovertemplate": "variable=FuturePrice<br>timestep=71<br>periodstep=%{x}<br>value=%{y}<extra></extra>",
           "legendgroup": "FuturePrice",
           "line": {
            "color": "#EF553B",
            "dash": "solid"
           },
           "marker": {
            "symbol": "circle"
           },
           "mode": "lines",
           "name": "FuturePrice",
           "orientation": "v",
           "showlegend": true,
           "type": "scatter",
           "x": [
            1,
            2,
            3,
            4,
            5,
            6,
            7,
            8,
            9,
            10,
            11,
            12,
            13,
            14,
            15,
            16,
            17,
            18,
            19,
            20,
            21,
            22,
            23,
            24
           ],
           "xaxis": "x",
           "y": [
            null,
            null,
            null,
            null,
            null,
            null,
            null,
            null,
            null,
            null,
            null,
            null,
            247.08,
            200.88,
            501.16,
            63.45,
            49.54,
            79.06,
            77.26,
            74.3,
            44.43,
            35.2,
            26.4,
            18.66
           ],
           "yaxis": "y"
          },
          {
           "hovertemplate": "variable=Predicted<br>timestep=71<br>periodstep=%{x}<br>value=%{y}<extra></extra>",
           "legendgroup": "Predicted",
           "line": {
            "color": "#00cc96",
            "dash": "solid"
           },
           "marker": {
            "symbol": "circle"
           },
           "mode": "lines",
           "name": "Predicted",
           "orientation": "v",
           "showlegend": true,
           "type": "scatter",
           "x": [
            1,
            2,
            3,
            4,
            5,
            6,
            7,
            8,
            9,
            10,
            11,
            12,
            13,
            14,
            15,
            16,
            17,
            18,
            19,
            20,
            21,
            22,
            23,
            24
           ],
           "xaxis": "x",
           "y": [
            null,
            null,
            null,
            null,
            null,
            null,
            null,
            null,
            null,
            null,
            null,
            null,
            149.5973986846245,
            192.08748076825586,
            214.6271424161183,
            293.8684954670955,
            156.50258529989327,
            189.994995912751,
            212.24259579599575,
            239.97005004745617,
            210.49845431559376,
            68.8986610303572,
            103.77129935999979,
            71.73228368996847
           ],
           "yaxis": "y"
          }
         ],
         "name": "71"
        },
        {
         "data": [
          {
           "hovertemplate": "variable=HistoricalPrice<br>timestep=72<br>periodstep=%{x}<br>value=%{y}<extra></extra>",
           "legendgroup": "HistoricalPrice",
           "line": {
            "color": "#636efa",
            "dash": "solid"
           },
           "marker": {
            "symbol": "circle"
           },
           "mode": "lines",
           "name": "HistoricalPrice",
           "orientation": "v",
           "showlegend": true,
           "type": "scatter",
           "x": [
            1,
            2,
            3,
            4,
            5,
            6,
            7,
            8,
            9,
            10,
            11,
            12,
            13,
            14,
            15,
            16,
            17,
            18,
            19,
            20,
            21,
            22,
            23,
            24
           ],
           "xaxis": "x",
           "y": [
            38.48,
            41.16,
            41.5,
            44.26,
            45.55,
            53.41,
            51.81,
            52.84,
            145.34,
            108.67,
            125.17,
            247.08,
            null,
            null,
            null,
            null,
            null,
            null,
            null,
            null,
            null,
            null,
            null,
            null
           ],
           "yaxis": "y"
          },
          {
           "hovertemplate": "variable=FuturePrice<br>timestep=72<br>periodstep=%{x}<br>value=%{y}<extra></extra>",
           "legendgroup": "FuturePrice",
           "line": {
            "color": "#EF553B",
            "dash": "solid"
           },
           "marker": {
            "symbol": "circle"
           },
           "mode": "lines",
           "name": "FuturePrice",
           "orientation": "v",
           "showlegend": true,
           "type": "scatter",
           "x": [
            1,
            2,
            3,
            4,
            5,
            6,
            7,
            8,
            9,
            10,
            11,
            12,
            13,
            14,
            15,
            16,
            17,
            18,
            19,
            20,
            21,
            22,
            23,
            24
           ],
           "xaxis": "x",
           "y": [
            null,
            null,
            null,
            null,
            null,
            null,
            null,
            null,
            null,
            null,
            null,
            null,
            200.88,
            501.16,
            63.45,
            49.54,
            79.06,
            77.26,
            74.3,
            44.43,
            35.2,
            26.4,
            18.66,
            21.42
           ],
           "yaxis": "y"
          },
          {
           "hovertemplate": "variable=Predicted<br>timestep=72<br>periodstep=%{x}<br>value=%{y}<extra></extra>",
           "legendgroup": "Predicted",
           "line": {
            "color": "#00cc96",
            "dash": "solid"
           },
           "marker": {
            "symbol": "circle"
           },
           "mode": "lines",
           "name": "Predicted",
           "orientation": "v",
           "showlegend": true,
           "type": "scatter",
           "x": [
            1,
            2,
            3,
            4,
            5,
            6,
            7,
            8,
            9,
            10,
            11,
            12,
            13,
            14,
            15,
            16,
            17,
            18,
            19,
            20,
            21,
            22,
            23,
            24
           ],
           "xaxis": "x",
           "y": [
            null,
            null,
            null,
            null,
            null,
            null,
            null,
            null,
            null,
            null,
            null,
            null,
            278.49508166875074,
            310.82933083266397,
            323.5931662504891,
            205.18687689138847,
            164.80378258657072,
            282.12065419394935,
            250.01216830366698,
            203.88631445953092,
            112.13979643606922,
            80.77604013841103,
            91.47864293871223,
            68.67349006468214
           ],
           "yaxis": "y"
          }
         ],
         "name": "72"
        },
        {
         "data": [
          {
           "hovertemplate": "variable=HistoricalPrice<br>timestep=73<br>periodstep=%{x}<br>value=%{y}<extra></extra>",
           "legendgroup": "HistoricalPrice",
           "line": {
            "color": "#636efa",
            "dash": "solid"
           },
           "marker": {
            "symbol": "circle"
           },
           "mode": "lines",
           "name": "HistoricalPrice",
           "orientation": "v",
           "showlegend": true,
           "type": "scatter",
           "x": [
            1,
            2,
            3,
            4,
            5,
            6,
            7,
            8,
            9,
            10,
            11,
            12,
            13,
            14,
            15,
            16,
            17,
            18,
            19,
            20,
            21,
            22,
            23,
            24
           ],
           "xaxis": "x",
           "y": [
            41.16,
            41.5,
            44.26,
            45.55,
            53.41,
            51.81,
            52.84,
            145.34,
            108.67,
            125.17,
            247.08,
            200.88,
            null,
            null,
            null,
            null,
            null,
            null,
            null,
            null,
            null,
            null,
            null,
            null
           ],
           "yaxis": "y"
          },
          {
           "hovertemplate": "variable=FuturePrice<br>timestep=73<br>periodstep=%{x}<br>value=%{y}<extra></extra>",
           "legendgroup": "FuturePrice",
           "line": {
            "color": "#EF553B",
            "dash": "solid"
           },
           "marker": {
            "symbol": "circle"
           },
           "mode": "lines",
           "name": "FuturePrice",
           "orientation": "v",
           "showlegend": true,
           "type": "scatter",
           "x": [
            1,
            2,
            3,
            4,
            5,
            6,
            7,
            8,
            9,
            10,
            11,
            12,
            13,
            14,
            15,
            16,
            17,
            18,
            19,
            20,
            21,
            22,
            23,
            24
           ],
           "xaxis": "x",
           "y": [
            null,
            null,
            null,
            null,
            null,
            null,
            null,
            null,
            null,
            null,
            null,
            null,
            501.16,
            63.45,
            49.54,
            79.06,
            77.26,
            74.3,
            44.43,
            35.2,
            26.4,
            18.66,
            21.42,
            24.26
           ],
           "yaxis": "y"
          },
          {
           "hovertemplate": "variable=Predicted<br>timestep=73<br>periodstep=%{x}<br>value=%{y}<extra></extra>",
           "legendgroup": "Predicted",
           "line": {
            "color": "#00cc96",
            "dash": "solid"
           },
           "marker": {
            "symbol": "circle"
           },
           "mode": "lines",
           "name": "Predicted",
           "orientation": "v",
           "showlegend": true,
           "type": "scatter",
           "x": [
            1,
            2,
            3,
            4,
            5,
            6,
            7,
            8,
            9,
            10,
            11,
            12,
            13,
            14,
            15,
            16,
            17,
            18,
            19,
            20,
            21,
            22,
            23,
            24
           ],
           "xaxis": "x",
           "y": [
            null,
            null,
            null,
            null,
            null,
            null,
            null,
            null,
            null,
            null,
            null,
            null,
            219.86506930823063,
            208.15833404723162,
            232.82270617574264,
            153.9561801991175,
            212.15876738345642,
            306.45277247672686,
            234.0862348764532,
            89.58261601633974,
            89.03367881266573,
            74.47643072594042,
            59.77378311340743,
            67.94469706292358
           ],
           "yaxis": "y"
          }
         ],
         "name": "73"
        },
        {
         "data": [
          {
           "hovertemplate": "variable=HistoricalPrice<br>timestep=74<br>periodstep=%{x}<br>value=%{y}<extra></extra>",
           "legendgroup": "HistoricalPrice",
           "line": {
            "color": "#636efa",
            "dash": "solid"
           },
           "marker": {
            "symbol": "circle"
           },
           "mode": "lines",
           "name": "HistoricalPrice",
           "orientation": "v",
           "showlegend": true,
           "type": "scatter",
           "x": [
            1,
            2,
            3,
            4,
            5,
            6,
            7,
            8,
            9,
            10,
            11,
            12,
            13,
            14,
            15,
            16,
            17,
            18,
            19,
            20,
            21,
            22,
            23,
            24
           ],
           "xaxis": "x",
           "y": [
            41.5,
            44.26,
            45.55,
            53.41,
            51.81,
            52.84,
            145.34,
            108.67,
            125.17,
            247.08,
            200.88,
            501.16,
            null,
            null,
            null,
            null,
            null,
            null,
            null,
            null,
            null,
            null,
            null,
            null
           ],
           "yaxis": "y"
          },
          {
           "hovertemplate": "variable=FuturePrice<br>timestep=74<br>periodstep=%{x}<br>value=%{y}<extra></extra>",
           "legendgroup": "FuturePrice",
           "line": {
            "color": "#EF553B",
            "dash": "solid"
           },
           "marker": {
            "symbol": "circle"
           },
           "mode": "lines",
           "name": "FuturePrice",
           "orientation": "v",
           "showlegend": true,
           "type": "scatter",
           "x": [
            1,
            2,
            3,
            4,
            5,
            6,
            7,
            8,
            9,
            10,
            11,
            12,
            13,
            14,
            15,
            16,
            17,
            18,
            19,
            20,
            21,
            22,
            23,
            24
           ],
           "xaxis": "x",
           "y": [
            null,
            null,
            null,
            null,
            null,
            null,
            null,
            null,
            null,
            null,
            null,
            null,
            63.45,
            49.54,
            79.06,
            77.26,
            74.3,
            44.43,
            35.2,
            26.4,
            18.66,
            21.42,
            24.26,
            25.84
           ],
           "yaxis": "y"
          },
          {
           "hovertemplate": "variable=Predicted<br>timestep=74<br>periodstep=%{x}<br>value=%{y}<extra></extra>",
           "legendgroup": "Predicted",
           "line": {
            "color": "#00cc96",
            "dash": "solid"
           },
           "marker": {
            "symbol": "circle"
           },
           "mode": "lines",
           "name": "Predicted",
           "orientation": "v",
           "showlegend": true,
           "type": "scatter",
           "x": [
            1,
            2,
            3,
            4,
            5,
            6,
            7,
            8,
            9,
            10,
            11,
            12,
            13,
            14,
            15,
            16,
            17,
            18,
            19,
            20,
            21,
            22,
            23,
            24
           ],
           "xaxis": "x",
           "y": [
            null,
            null,
            null,
            null,
            null,
            null,
            null,
            null,
            null,
            null,
            null,
            null,
            432.10056781590316,
            338.1028267517393,
            345.1299225435628,
            333.40841532232463,
            301.22291390684506,
            281.37457778805833,
            104.82827288510943,
            81.68489077304724,
            77.98633293109945,
            62.229441960517285,
            62.238298760383586,
            69.05607880543688
           ],
           "yaxis": "y"
          }
         ],
         "name": "74"
        },
        {
         "data": [
          {
           "hovertemplate": "variable=HistoricalPrice<br>timestep=75<br>periodstep=%{x}<br>value=%{y}<extra></extra>",
           "legendgroup": "HistoricalPrice",
           "line": {
            "color": "#636efa",
            "dash": "solid"
           },
           "marker": {
            "symbol": "circle"
           },
           "mode": "lines",
           "name": "HistoricalPrice",
           "orientation": "v",
           "showlegend": true,
           "type": "scatter",
           "x": [
            1,
            2,
            3,
            4,
            5,
            6,
            7,
            8,
            9,
            10,
            11,
            12,
            13,
            14,
            15,
            16,
            17,
            18,
            19,
            20,
            21,
            22,
            23,
            24
           ],
           "xaxis": "x",
           "y": [
            44.26,
            45.55,
            53.41,
            51.81,
            52.84,
            145.34,
            108.67,
            125.17,
            247.08,
            200.88,
            501.16,
            63.45,
            null,
            null,
            null,
            null,
            null,
            null,
            null,
            null,
            null,
            null,
            null,
            null
           ],
           "yaxis": "y"
          },
          {
           "hovertemplate": "variable=FuturePrice<br>timestep=75<br>periodstep=%{x}<br>value=%{y}<extra></extra>",
           "legendgroup": "FuturePrice",
           "line": {
            "color": "#EF553B",
            "dash": "solid"
           },
           "marker": {
            "symbol": "circle"
           },
           "mode": "lines",
           "name": "FuturePrice",
           "orientation": "v",
           "showlegend": true,
           "type": "scatter",
           "x": [
            1,
            2,
            3,
            4,
            5,
            6,
            7,
            8,
            9,
            10,
            11,
            12,
            13,
            14,
            15,
            16,
            17,
            18,
            19,
            20,
            21,
            22,
            23,
            24
           ],
           "xaxis": "x",
           "y": [
            null,
            null,
            null,
            null,
            null,
            null,
            null,
            null,
            null,
            null,
            null,
            null,
            49.54,
            79.06,
            77.26,
            74.3,
            44.43,
            35.2,
            26.4,
            18.66,
            21.42,
            24.26,
            25.84,
            19.91
           ],
           "yaxis": "y"
          },
          {
           "hovertemplate": "variable=Predicted<br>timestep=75<br>periodstep=%{x}<br>value=%{y}<extra></extra>",
           "legendgroup": "Predicted",
           "line": {
            "color": "#00cc96",
            "dash": "solid"
           },
           "marker": {
            "symbol": "circle"
           },
           "mode": "lines",
           "name": "Predicted",
           "orientation": "v",
           "showlegend": true,
           "type": "scatter",
           "x": [
            1,
            2,
            3,
            4,
            5,
            6,
            7,
            8,
            9,
            10,
            11,
            12,
            13,
            14,
            15,
            16,
            17,
            18,
            19,
            20,
            21,
            22,
            23,
            24
           ],
           "xaxis": "x",
           "y": [
            null,
            null,
            null,
            null,
            null,
            null,
            null,
            null,
            null,
            null,
            null,
            null,
            80.63080746991366,
            127.60276512124722,
            93.55850064617762,
            104.85173440124896,
            99.45834425754236,
            83.51548488786344,
            70.57138773500925,
            59.62296541363456,
            61.13361903864372,
            56.08048393166939,
            56.574472298308486,
            63.08864405202825
           ],
           "yaxis": "y"
          }
         ],
         "name": "75"
        },
        {
         "data": [
          {
           "hovertemplate": "variable=HistoricalPrice<br>timestep=76<br>periodstep=%{x}<br>value=%{y}<extra></extra>",
           "legendgroup": "HistoricalPrice",
           "line": {
            "color": "#636efa",
            "dash": "solid"
           },
           "marker": {
            "symbol": "circle"
           },
           "mode": "lines",
           "name": "HistoricalPrice",
           "orientation": "v",
           "showlegend": true,
           "type": "scatter",
           "x": [
            1,
            2,
            3,
            4,
            5,
            6,
            7,
            8,
            9,
            10,
            11,
            12,
            13,
            14,
            15,
            16,
            17,
            18,
            19,
            20,
            21,
            22,
            23,
            24
           ],
           "xaxis": "x",
           "y": [
            45.55,
            53.41,
            51.81,
            52.84,
            145.34,
            108.67,
            125.17,
            247.08,
            200.88,
            501.16,
            63.45,
            49.54,
            null,
            null,
            null,
            null,
            null,
            null,
            null,
            null,
            null,
            null,
            null,
            null
           ],
           "yaxis": "y"
          },
          {
           "hovertemplate": "variable=FuturePrice<br>timestep=76<br>periodstep=%{x}<br>value=%{y}<extra></extra>",
           "legendgroup": "FuturePrice",
           "line": {
            "color": "#EF553B",
            "dash": "solid"
           },
           "marker": {
            "symbol": "circle"
           },
           "mode": "lines",
           "name": "FuturePrice",
           "orientation": "v",
           "showlegend": true,
           "type": "scatter",
           "x": [
            1,
            2,
            3,
            4,
            5,
            6,
            7,
            8,
            9,
            10,
            11,
            12,
            13,
            14,
            15,
            16,
            17,
            18,
            19,
            20,
            21,
            22,
            23,
            24
           ],
           "xaxis": "x",
           "y": [
            null,
            null,
            null,
            null,
            null,
            null,
            null,
            null,
            null,
            null,
            null,
            null,
            79.06,
            77.26,
            74.3,
            44.43,
            35.2,
            26.4,
            18.66,
            21.42,
            24.26,
            25.84,
            19.91,
            27
           ],
           "yaxis": "y"
          },
          {
           "hovertemplate": "variable=Predicted<br>timestep=76<br>periodstep=%{x}<br>value=%{y}<extra></extra>",
           "legendgroup": "Predicted",
           "line": {
            "color": "#00cc96",
            "dash": "solid"
           },
           "marker": {
            "symbol": "circle"
           },
           "mode": "lines",
           "name": "Predicted",
           "orientation": "v",
           "showlegend": true,
           "type": "scatter",
           "x": [
            1,
            2,
            3,
            4,
            5,
            6,
            7,
            8,
            9,
            10,
            11,
            12,
            13,
            14,
            15,
            16,
            17,
            18,
            19,
            20,
            21,
            22,
            23,
            24
           ],
           "xaxis": "x",
           "y": [
            null,
            null,
            null,
            null,
            null,
            null,
            null,
            null,
            null,
            null,
            null,
            null,
            56.966857540193935,
            69.0188398225432,
            82.64091103919294,
            74.67701411526264,
            47.42692267102221,
            46.94066808740585,
            51.50330774642193,
            53.6193020327455,
            60.92242815518472,
            54.33877275874951,
            55.01794155373782,
            59.867754510169156
           ],
           "yaxis": "y"
          }
         ],
         "name": "76"
        },
        {
         "data": [
          {
           "hovertemplate": "variable=HistoricalPrice<br>timestep=77<br>periodstep=%{x}<br>value=%{y}<extra></extra>",
           "legendgroup": "HistoricalPrice",
           "line": {
            "color": "#636efa",
            "dash": "solid"
           },
           "marker": {
            "symbol": "circle"
           },
           "mode": "lines",
           "name": "HistoricalPrice",
           "orientation": "v",
           "showlegend": true,
           "type": "scatter",
           "x": [
            1,
            2,
            3,
            4,
            5,
            6,
            7,
            8,
            9,
            10,
            11,
            12,
            13,
            14,
            15,
            16,
            17,
            18,
            19,
            20,
            21,
            22,
            23,
            24
           ],
           "xaxis": "x",
           "y": [
            53.41,
            51.81,
            52.84,
            145.34,
            108.67,
            125.17,
            247.08,
            200.88,
            501.16,
            63.45,
            49.54,
            79.06,
            null,
            null,
            null,
            null,
            null,
            null,
            null,
            null,
            null,
            null,
            null,
            null
           ],
           "yaxis": "y"
          },
          {
           "hovertemplate": "variable=FuturePrice<br>timestep=77<br>periodstep=%{x}<br>value=%{y}<extra></extra>",
           "legendgroup": "FuturePrice",
           "line": {
            "color": "#EF553B",
            "dash": "solid"
           },
           "marker": {
            "symbol": "circle"
           },
           "mode": "lines",
           "name": "FuturePrice",
           "orientation": "v",
           "showlegend": true,
           "type": "scatter",
           "x": [
            1,
            2,
            3,
            4,
            5,
            6,
            7,
            8,
            9,
            10,
            11,
            12,
            13,
            14,
            15,
            16,
            17,
            18,
            19,
            20,
            21,
            22,
            23,
            24
           ],
           "xaxis": "x",
           "y": [
            null,
            null,
            null,
            null,
            null,
            null,
            null,
            null,
            null,
            null,
            null,
            null,
            77.26,
            74.3,
            44.43,
            35.2,
            26.4,
            18.66,
            21.42,
            24.26,
            25.84,
            19.91,
            27,
            27.66
           ],
           "yaxis": "y"
          },
          {
           "hovertemplate": "variable=Predicted<br>timestep=77<br>periodstep=%{x}<br>value=%{y}<extra></extra>",
           "legendgroup": "Predicted",
           "line": {
            "color": "#00cc96",
            "dash": "solid"
           },
           "marker": {
            "symbol": "circle"
           },
           "mode": "lines",
           "name": "Predicted",
           "orientation": "v",
           "showlegend": true,
           "type": "scatter",
           "x": [
            1,
            2,
            3,
            4,
            5,
            6,
            7,
            8,
            9,
            10,
            11,
            12,
            13,
            14,
            15,
            16,
            17,
            18,
            19,
            20,
            21,
            22,
            23,
            24
           ],
           "xaxis": "x",
           "y": [
            null,
            null,
            null,
            null,
            null,
            null,
            null,
            null,
            null,
            null,
            null,
            null,
            101.7877428923646,
            101.83522730450517,
            85.59438604316728,
            62.281693063148595,
            77.7795132498899,
            60.23912366716926,
            54.978913615830635,
            57.892480740651244,
            60.80687934520289,
            58.50420697270194,
            55.92092513845796,
            88.0221641225635
           ],
           "yaxis": "y"
          }
         ],
         "name": "77"
        },
        {
         "data": [
          {
           "hovertemplate": "variable=HistoricalPrice<br>timestep=78<br>periodstep=%{x}<br>value=%{y}<extra></extra>",
           "legendgroup": "HistoricalPrice",
           "line": {
            "color": "#636efa",
            "dash": "solid"
           },
           "marker": {
            "symbol": "circle"
           },
           "mode": "lines",
           "name": "HistoricalPrice",
           "orientation": "v",
           "showlegend": true,
           "type": "scatter",
           "x": [
            1,
            2,
            3,
            4,
            5,
            6,
            7,
            8,
            9,
            10,
            11,
            12,
            13,
            14,
            15,
            16,
            17,
            18,
            19,
            20,
            21,
            22,
            23,
            24
           ],
           "xaxis": "x",
           "y": [
            51.81,
            52.84,
            145.34,
            108.67,
            125.17,
            247.08,
            200.88,
            501.16,
            63.45,
            49.54,
            79.06,
            77.26,
            null,
            null,
            null,
            null,
            null,
            null,
            null,
            null,
            null,
            null,
            null,
            null
           ],
           "yaxis": "y"
          },
          {
           "hovertemplate": "variable=FuturePrice<br>timestep=78<br>periodstep=%{x}<br>value=%{y}<extra></extra>",
           "legendgroup": "FuturePrice",
           "line": {
            "color": "#EF553B",
            "dash": "solid"
           },
           "marker": {
            "symbol": "circle"
           },
           "mode": "lines",
           "name": "FuturePrice",
           "orientation": "v",
           "showlegend": true,
           "type": "scatter",
           "x": [
            1,
            2,
            3,
            4,
            5,
            6,
            7,
            8,
            9,
            10,
            11,
            12,
            13,
            14,
            15,
            16,
            17,
            18,
            19,
            20,
            21,
            22,
            23,
            24
           ],
           "xaxis": "x",
           "y": [
            null,
            null,
            null,
            null,
            null,
            null,
            null,
            null,
            null,
            null,
            null,
            null,
            74.3,
            44.43,
            35.2,
            26.4,
            18.66,
            21.42,
            24.26,
            25.84,
            19.91,
            27,
            27.66,
            29.77
           ],
           "yaxis": "y"
          },
          {
           "hovertemplate": "variable=Predicted<br>timestep=78<br>periodstep=%{x}<br>value=%{y}<extra></extra>",
           "legendgroup": "Predicted",
           "line": {
            "color": "#00cc96",
            "dash": "solid"
           },
           "marker": {
            "symbol": "circle"
           },
           "mode": "lines",
           "name": "Predicted",
           "orientation": "v",
           "showlegend": true,
           "type": "scatter",
           "x": [
            1,
            2,
            3,
            4,
            5,
            6,
            7,
            8,
            9,
            10,
            11,
            12,
            13,
            14,
            15,
            16,
            17,
            18,
            19,
            20,
            21,
            22,
            23,
            24
           ],
           "xaxis": "x",
           "y": [
            null,
            null,
            null,
            null,
            null,
            null,
            null,
            null,
            null,
            null,
            null,
            null,
            85.21253053752568,
            81.69063736408003,
            64.24517982674395,
            66.54560670498888,
            70.26050902098285,
            49.84547704056775,
            54.1828618639275,
            57.77971090127547,
            53.577270765874054,
            64.34882539738946,
            85.01097204041389,
            98.5358435415862
           ],
           "yaxis": "y"
          }
         ],
         "name": "78"
        },
        {
         "data": [
          {
           "hovertemplate": "variable=HistoricalPrice<br>timestep=79<br>periodstep=%{x}<br>value=%{y}<extra></extra>",
           "legendgroup": "HistoricalPrice",
           "line": {
            "color": "#636efa",
            "dash": "solid"
           },
           "marker": {
            "symbol": "circle"
           },
           "mode": "lines",
           "name": "HistoricalPrice",
           "orientation": "v",
           "showlegend": true,
           "type": "scatter",
           "x": [
            1,
            2,
            3,
            4,
            5,
            6,
            7,
            8,
            9,
            10,
            11,
            12,
            13,
            14,
            15,
            16,
            17,
            18,
            19,
            20,
            21,
            22,
            23,
            24
           ],
           "xaxis": "x",
           "y": [
            52.84,
            145.34,
            108.67,
            125.17,
            247.08,
            200.88,
            501.16,
            63.45,
            49.54,
            79.06,
            77.26,
            74.3,
            null,
            null,
            null,
            null,
            null,
            null,
            null,
            null,
            null,
            null,
            null,
            null
           ],
           "yaxis": "y"
          },
          {
           "hovertemplate": "variable=FuturePrice<br>timestep=79<br>periodstep=%{x}<br>value=%{y}<extra></extra>",
           "legendgroup": "FuturePrice",
           "line": {
            "color": "#EF553B",
            "dash": "solid"
           },
           "marker": {
            "symbol": "circle"
           },
           "mode": "lines",
           "name": "FuturePrice",
           "orientation": "v",
           "showlegend": true,
           "type": "scatter",
           "x": [
            1,
            2,
            3,
            4,
            5,
            6,
            7,
            8,
            9,
            10,
            11,
            12,
            13,
            14,
            15,
            16,
            17,
            18,
            19,
            20,
            21,
            22,
            23,
            24
           ],
           "xaxis": "x",
           "y": [
            null,
            null,
            null,
            null,
            null,
            null,
            null,
            null,
            null,
            null,
            null,
            null,
            44.43,
            35.2,
            26.4,
            18.66,
            21.42,
            24.26,
            25.84,
            19.91,
            27,
            27.66,
            29.77,
            34.87
           ],
           "yaxis": "y"
          },
          {
           "hovertemplate": "variable=Predicted<br>timestep=79<br>periodstep=%{x}<br>value=%{y}<extra></extra>",
           "legendgroup": "Predicted",
           "line": {
            "color": "#00cc96",
            "dash": "solid"
           },
           "marker": {
            "symbol": "circle"
           },
           "mode": "lines",
           "name": "Predicted",
           "orientation": "v",
           "showlegend": true,
           "type": "scatter",
           "x": [
            1,
            2,
            3,
            4,
            5,
            6,
            7,
            8,
            9,
            10,
            11,
            12,
            13,
            14,
            15,
            16,
            17,
            18,
            19,
            20,
            21,
            22,
            23,
            24
           ],
           "xaxis": "x",
           "y": [
            null,
            null,
            null,
            null,
            null,
            null,
            null,
            null,
            null,
            null,
            null,
            null,
            74.09121258391093,
            73.13372343806954,
            62.095697843530466,
            56.64295092970622,
            49.1976933118457,
            48.117280166387296,
            53.89710507014881,
            58.17773005189302,
            56.61346118932876,
            85.59270870267096,
            84.28133060692053,
            118.1100687022611
           ],
           "yaxis": "y"
          }
         ],
         "name": "79"
        },
        {
         "data": [
          {
           "hovertemplate": "variable=HistoricalPrice<br>timestep=80<br>periodstep=%{x}<br>value=%{y}<extra></extra>",
           "legendgroup": "HistoricalPrice",
           "line": {
            "color": "#636efa",
            "dash": "solid"
           },
           "marker": {
            "symbol": "circle"
           },
           "mode": "lines",
           "name": "HistoricalPrice",
           "orientation": "v",
           "showlegend": true,
           "type": "scatter",
           "x": [
            1,
            2,
            3,
            4,
            5,
            6,
            7,
            8,
            9,
            10,
            11,
            12,
            13,
            14,
            15,
            16,
            17,
            18,
            19,
            20,
            21,
            22,
            23,
            24
           ],
           "xaxis": "x",
           "y": [
            145.34,
            108.67,
            125.17,
            247.08,
            200.88,
            501.16,
            63.45,
            49.54,
            79.06,
            77.26,
            74.3,
            44.43,
            null,
            null,
            null,
            null,
            null,
            null,
            null,
            null,
            null,
            null,
            null,
            null
           ],
           "yaxis": "y"
          },
          {
           "hovertemplate": "variable=FuturePrice<br>timestep=80<br>periodstep=%{x}<br>value=%{y}<extra></extra>",
           "legendgroup": "FuturePrice",
           "line": {
            "color": "#EF553B",
            "dash": "solid"
           },
           "marker": {
            "symbol": "circle"
           },
           "mode": "lines",
           "name": "FuturePrice",
           "orientation": "v",
           "showlegend": true,
           "type": "scatter",
           "x": [
            1,
            2,
            3,
            4,
            5,
            6,
            7,
            8,
            9,
            10,
            11,
            12,
            13,
            14,
            15,
            16,
            17,
            18,
            19,
            20,
            21,
            22,
            23,
            24
           ],
           "xaxis": "x",
           "y": [
            null,
            null,
            null,
            null,
            null,
            null,
            null,
            null,
            null,
            null,
            null,
            null,
            35.2,
            26.4,
            18.66,
            21.42,
            24.26,
            25.84,
            19.91,
            27,
            27.66,
            29.77,
            34.87,
            39.84
           ],
           "yaxis": "y"
          },
          {
           "hovertemplate": "variable=Predicted<br>timestep=80<br>periodstep=%{x}<br>value=%{y}<extra></extra>",
           "legendgroup": "Predicted",
           "line": {
            "color": "#00cc96",
            "dash": "solid"
           },
           "marker": {
            "symbol": "circle"
           },
           "mode": "lines",
           "name": "Predicted",
           "orientation": "v",
           "showlegend": true,
           "type": "scatter",
           "x": [
            1,
            2,
            3,
            4,
            5,
            6,
            7,
            8,
            9,
            10,
            11,
            12,
            13,
            14,
            15,
            16,
            17,
            18,
            19,
            20,
            21,
            22,
            23,
            24
           ],
           "xaxis": "x",
           "y": [
            null,
            null,
            null,
            null,
            null,
            null,
            null,
            null,
            null,
            null,
            null,
            null,
            40.45189576715542,
            48.45638160818186,
            42.77590152336889,
            42.11317852457354,
            42.169986772296305,
            41.52106756354021,
            48.62281089453689,
            58.40571904827899,
            68.57387119356385,
            93.2367192455602,
            96.89860285921763,
            125.90891584089583
           ],
           "yaxis": "y"
          }
         ],
         "name": "80"
        },
        {
         "data": [
          {
           "hovertemplate": "variable=HistoricalPrice<br>timestep=81<br>periodstep=%{x}<br>value=%{y}<extra></extra>",
           "legendgroup": "HistoricalPrice",
           "line": {
            "color": "#636efa",
            "dash": "solid"
           },
           "marker": {
            "symbol": "circle"
           },
           "mode": "lines",
           "name": "HistoricalPrice",
           "orientation": "v",
           "showlegend": true,
           "type": "scatter",
           "x": [
            1,
            2,
            3,
            4,
            5,
            6,
            7,
            8,
            9,
            10,
            11,
            12,
            13,
            14,
            15,
            16,
            17,
            18,
            19,
            20,
            21,
            22,
            23,
            24
           ],
           "xaxis": "x",
           "y": [
            108.67,
            125.17,
            247.08,
            200.88,
            501.16,
            63.45,
            49.54,
            79.06,
            77.26,
            74.3,
            44.43,
            35.2,
            null,
            null,
            null,
            null,
            null,
            null,
            null,
            null,
            null,
            null,
            null,
            null
           ],
           "yaxis": "y"
          },
          {
           "hovertemplate": "variable=FuturePrice<br>timestep=81<br>periodstep=%{x}<br>value=%{y}<extra></extra>",
           "legendgroup": "FuturePrice",
           "line": {
            "color": "#EF553B",
            "dash": "solid"
           },
           "marker": {
            "symbol": "circle"
           },
           "mode": "lines",
           "name": "FuturePrice",
           "orientation": "v",
           "showlegend": true,
           "type": "scatter",
           "x": [
            1,
            2,
            3,
            4,
            5,
            6,
            7,
            8,
            9,
            10,
            11,
            12,
            13,
            14,
            15,
            16,
            17,
            18,
            19,
            20,
            21,
            22,
            23,
            24
           ],
           "xaxis": "x",
           "y": [
            null,
            null,
            null,
            null,
            null,
            null,
            null,
            null,
            null,
            null,
            null,
            null,
            26.4,
            18.66,
            21.42,
            24.26,
            25.84,
            19.91,
            27,
            27.66,
            29.77,
            34.87,
            39.84,
            41.07
           ],
           "yaxis": "y"
          },
          {
           "hovertemplate": "variable=Predicted<br>timestep=81<br>periodstep=%{x}<br>value=%{y}<extra></extra>",
           "legendgroup": "Predicted",
           "line": {
            "color": "#00cc96",
            "dash": "solid"
           },
           "marker": {
            "symbol": "circle"
           },
           "mode": "lines",
           "name": "Predicted",
           "orientation": "v",
           "showlegend": true,
           "type": "scatter",
           "x": [
            1,
            2,
            3,
            4,
            5,
            6,
            7,
            8,
            9,
            10,
            11,
            12,
            13,
            14,
            15,
            16,
            17,
            18,
            19,
            20,
            21,
            22,
            23,
            24
           ],
           "xaxis": "x",
           "y": [
            null,
            null,
            null,
            null,
            null,
            null,
            null,
            null,
            null,
            null,
            null,
            null,
            32.832295095940346,
            35.57623030746888,
            37.82340420270747,
            39.79845142978056,
            41.305847571904,
            42.16865605591153,
            49.032503077405856,
            70.47427313024988,
            76.45090870528104,
            79.74770272103036,
            92.94788814480607,
            214.24995303851858
           ],
           "yaxis": "y"
          }
         ],
         "name": "81"
        },
        {
         "data": [
          {
           "hovertemplate": "variable=HistoricalPrice<br>timestep=82<br>periodstep=%{x}<br>value=%{y}<extra></extra>",
           "legendgroup": "HistoricalPrice",
           "line": {
            "color": "#636efa",
            "dash": "solid"
           },
           "marker": {
            "symbol": "circle"
           },
           "mode": "lines",
           "name": "HistoricalPrice",
           "orientation": "v",
           "showlegend": true,
           "type": "scatter",
           "x": [
            1,
            2,
            3,
            4,
            5,
            6,
            7,
            8,
            9,
            10,
            11,
            12,
            13,
            14,
            15,
            16,
            17,
            18,
            19,
            20,
            21,
            22,
            23,
            24
           ],
           "xaxis": "x",
           "y": [
            125.17,
            247.08,
            200.88,
            501.16,
            63.45,
            49.54,
            79.06,
            77.26,
            74.3,
            44.43,
            35.2,
            26.4,
            null,
            null,
            null,
            null,
            null,
            null,
            null,
            null,
            null,
            null,
            null,
            null
           ],
           "yaxis": "y"
          },
          {
           "hovertemplate": "variable=FuturePrice<br>timestep=82<br>periodstep=%{x}<br>value=%{y}<extra></extra>",
           "legendgroup": "FuturePrice",
           "line": {
            "color": "#EF553B",
            "dash": "solid"
           },
           "marker": {
            "symbol": "circle"
           },
           "mode": "lines",
           "name": "FuturePrice",
           "orientation": "v",
           "showlegend": true,
           "type": "scatter",
           "x": [
            1,
            2,
            3,
            4,
            5,
            6,
            7,
            8,
            9,
            10,
            11,
            12,
            13,
            14,
            15,
            16,
            17,
            18,
            19,
            20,
            21,
            22,
            23,
            24
           ],
           "xaxis": "x",
           "y": [
            null,
            null,
            null,
            null,
            null,
            null,
            null,
            null,
            null,
            null,
            null,
            null,
            18.66,
            21.42,
            24.26,
            25.84,
            19.91,
            27,
            27.66,
            29.77,
            34.87,
            39.84,
            41.07,
            44.5
           ],
           "yaxis": "y"
          },
          {
           "hovertemplate": "variable=Predicted<br>timestep=82<br>periodstep=%{x}<br>value=%{y}<extra></extra>",
           "legendgroup": "Predicted",
           "line": {
            "color": "#00cc96",
            "dash": "solid"
           },
           "marker": {
            "symbol": "circle"
           },
           "mode": "lines",
           "name": "Predicted",
           "orientation": "v",
           "showlegend": true,
           "type": "scatter",
           "x": [
            1,
            2,
            3,
            4,
            5,
            6,
            7,
            8,
            9,
            10,
            11,
            12,
            13,
            14,
            15,
            16,
            17,
            18,
            19,
            20,
            21,
            22,
            23,
            24
           ],
           "xaxis": "x",
           "y": [
            null,
            null,
            null,
            null,
            null,
            null,
            null,
            null,
            null,
            null,
            null,
            null,
            31.356329372979978,
            35.53481159106748,
            37.82340420270747,
            39.79845142978056,
            41.305847571904,
            42.595200705592106,
            60.10837488434208,
            79.18133960068056,
            82.0634232269255,
            104.635227325053,
            217.66601233538987,
            189.5764796605541
           ],
           "yaxis": "y"
          }
         ],
         "name": "82"
        },
        {
         "data": [
          {
           "hovertemplate": "variable=HistoricalPrice<br>timestep=83<br>periodstep=%{x}<br>value=%{y}<extra></extra>",
           "legendgroup": "HistoricalPrice",
           "line": {
            "color": "#636efa",
            "dash": "solid"
           },
           "marker": {
            "symbol": "circle"
           },
           "mode": "lines",
           "name": "HistoricalPrice",
           "orientation": "v",
           "showlegend": true,
           "type": "scatter",
           "x": [
            1,
            2,
            3,
            4,
            5,
            6,
            7,
            8,
            9,
            10,
            11,
            12,
            13,
            14,
            15,
            16,
            17,
            18,
            19,
            20,
            21,
            22,
            23,
            24
           ],
           "xaxis": "x",
           "y": [
            247.08,
            200.88,
            501.16,
            63.45,
            49.54,
            79.06,
            77.26,
            74.3,
            44.43,
            35.2,
            26.4,
            18.66,
            null,
            null,
            null,
            null,
            null,
            null,
            null,
            null,
            null,
            null,
            null,
            null
           ],
           "yaxis": "y"
          },
          {
           "hovertemplate": "variable=FuturePrice<br>timestep=83<br>periodstep=%{x}<br>value=%{y}<extra></extra>",
           "legendgroup": "FuturePrice",
           "line": {
            "color": "#EF553B",
            "dash": "solid"
           },
           "marker": {
            "symbol": "circle"
           },
           "mode": "lines",
           "name": "FuturePrice",
           "orientation": "v",
           "showlegend": true,
           "type": "scatter",
           "x": [
            1,
            2,
            3,
            4,
            5,
            6,
            7,
            8,
            9,
            10,
            11,
            12,
            13,
            14,
            15,
            16,
            17,
            18,
            19,
            20,
            21,
            22,
            23,
            24
           ],
           "xaxis": "x",
           "y": [
            null,
            null,
            null,
            null,
            null,
            null,
            null,
            null,
            null,
            null,
            null,
            null,
            21.42,
            24.26,
            25.84,
            19.91,
            27,
            27.66,
            29.77,
            34.87,
            39.84,
            41.07,
            44.5,
            45.55
           ],
           "yaxis": "y"
          },
          {
           "hovertemplate": "variable=Predicted<br>timestep=83<br>periodstep=%{x}<br>value=%{y}<extra></extra>",
           "legendgroup": "Predicted",
           "line": {
            "color": "#00cc96",
            "dash": "solid"
           },
           "marker": {
            "symbol": "circle"
           },
           "mode": "lines",
           "name": "Predicted",
           "orientation": "v",
           "showlegend": true,
           "type": "scatter",
           "x": [
            1,
            2,
            3,
            4,
            5,
            6,
            7,
            8,
            9,
            10,
            11,
            12,
            13,
            14,
            15,
            16,
            17,
            18,
            19,
            20,
            21,
            22,
            23,
            24
           ],
           "xaxis": "x",
           "y": [
            null,
            null,
            null,
            null,
            null,
            null,
            null,
            null,
            null,
            null,
            null,
            null,
            30.9199895476111,
            35.53481159106748,
            37.786382462121516,
            39.79845142978056,
            41.35154133153667,
            49.39967449222988,
            72.90245505199384,
            71.6578231698962,
            84.08788122584897,
            197.8055810283313,
            194.95181789553507,
            251.64799040453101
           ],
           "yaxis": "y"
          }
         ],
         "name": "83"
        },
        {
         "data": [
          {
           "hovertemplate": "variable=HistoricalPrice<br>timestep=84<br>periodstep=%{x}<br>value=%{y}<extra></extra>",
           "legendgroup": "HistoricalPrice",
           "line": {
            "color": "#636efa",
            "dash": "solid"
           },
           "marker": {
            "symbol": "circle"
           },
           "mode": "lines",
           "name": "HistoricalPrice",
           "orientation": "v",
           "showlegend": true,
           "type": "scatter",
           "x": [
            1,
            2,
            3,
            4,
            5,
            6,
            7,
            8,
            9,
            10,
            11,
            12,
            13,
            14,
            15,
            16,
            17,
            18,
            19,
            20,
            21,
            22,
            23,
            24
           ],
           "xaxis": "x",
           "y": [
            200.88,
            501.16,
            63.45,
            49.54,
            79.06,
            77.26,
            74.3,
            44.43,
            35.2,
            26.4,
            18.66,
            21.42,
            null,
            null,
            null,
            null,
            null,
            null,
            null,
            null,
            null,
            null,
            null,
            null
           ],
           "yaxis": "y"
          },
          {
           "hovertemplate": "variable=FuturePrice<br>timestep=84<br>periodstep=%{x}<br>value=%{y}<extra></extra>",
           "legendgroup": "FuturePrice",
           "line": {
            "color": "#EF553B",
            "dash": "solid"
           },
           "marker": {
            "symbol": "circle"
           },
           "mode": "lines",
           "name": "FuturePrice",
           "orientation": "v",
           "showlegend": true,
           "type": "scatter",
           "x": [
            1,
            2,
            3,
            4,
            5,
            6,
            7,
            8,
            9,
            10,
            11,
            12,
            13,
            14,
            15,
            16,
            17,
            18,
            19,
            20,
            21,
            22,
            23,
            24
           ],
           "xaxis": "x",
           "y": [
            null,
            null,
            null,
            null,
            null,
            null,
            null,
            null,
            null,
            null,
            null,
            null,
            24.26,
            25.84,
            19.91,
            27,
            27.66,
            29.77,
            34.87,
            39.84,
            41.07,
            44.5,
            45.55,
            48.46
           ],
           "yaxis": "y"
          },
          {
           "hovertemplate": "variable=Predicted<br>timestep=84<br>periodstep=%{x}<br>value=%{y}<extra></extra>",
           "legendgroup": "Predicted",
           "line": {
            "color": "#00cc96",
            "dash": "solid"
           },
           "marker": {
            "symbol": "circle"
           },
           "mode": "lines",
           "name": "Predicted",
           "orientation": "v",
           "showlegend": true,
           "type": "scatter",
           "x": [
            1,
            2,
            3,
            4,
            5,
            6,
            7,
            8,
            9,
            10,
            11,
            12,
            13,
            14,
            15,
            16,
            17,
            18,
            19,
            20,
            21,
            22,
            23,
            24
           ],
           "xaxis": "x",
           "y": [
            null,
            null,
            null,
            null,
            null,
            null,
            null,
            null,
            null,
            null,
            null,
            null,
            31.19467338204312,
            35.88968834025395,
            37.82340420270747,
            39.82661874418975,
            48.364472674162435,
            67.22884418428302,
            68.21317034932173,
            68.62197900676772,
            126.7117195305127,
            191.28931344898692,
            295.4816053733593,
            218.67786886472678
           ],
           "yaxis": "y"
          }
         ],
         "name": "84"
        },
        {
         "data": [
          {
           "hovertemplate": "variable=HistoricalPrice<br>timestep=85<br>periodstep=%{x}<br>value=%{y}<extra></extra>",
           "legendgroup": "HistoricalPrice",
           "line": {
            "color": "#636efa",
            "dash": "solid"
           },
           "marker": {
            "symbol": "circle"
           },
           "mode": "lines",
           "name": "HistoricalPrice",
           "orientation": "v",
           "showlegend": true,
           "type": "scatter",
           "x": [
            1,
            2,
            3,
            4,
            5,
            6,
            7,
            8,
            9,
            10,
            11,
            12,
            13,
            14,
            15,
            16,
            17,
            18,
            19,
            20,
            21,
            22,
            23,
            24
           ],
           "xaxis": "x",
           "y": [
            501.16,
            63.45,
            49.54,
            79.06,
            77.26,
            74.3,
            44.43,
            35.2,
            26.4,
            18.66,
            21.42,
            24.26,
            null,
            null,
            null,
            null,
            null,
            null,
            null,
            null,
            null,
            null,
            null,
            null
           ],
           "yaxis": "y"
          },
          {
           "hovertemplate": "variable=FuturePrice<br>timestep=85<br>periodstep=%{x}<br>value=%{y}<extra></extra>",
           "legendgroup": "FuturePrice",
           "line": {
            "color": "#EF553B",
            "dash": "solid"
           },
           "marker": {
            "symbol": "circle"
           },
           "mode": "lines",
           "name": "FuturePrice",
           "orientation": "v",
           "showlegend": true,
           "type": "scatter",
           "x": [
            1,
            2,
            3,
            4,
            5,
            6,
            7,
            8,
            9,
            10,
            11,
            12,
            13,
            14,
            15,
            16,
            17,
            18,
            19,
            20,
            21,
            22,
            23,
            24
           ],
           "xaxis": "x",
           "y": [
            null,
            null,
            null,
            null,
            null,
            null,
            null,
            null,
            null,
            null,
            null,
            null,
            25.84,
            19.91,
            27,
            27.66,
            29.77,
            34.87,
            39.84,
            41.07,
            44.5,
            45.55,
            48.46,
            61.45
           ],
           "yaxis": "y"
          },
          {
           "hovertemplate": "variable=Predicted<br>timestep=85<br>periodstep=%{x}<br>value=%{y}<extra></extra>",
           "legendgroup": "Predicted",
           "line": {
            "color": "#00cc96",
            "dash": "solid"
           },
           "marker": {
            "symbol": "circle"
           },
           "mode": "lines",
           "name": "Predicted",
           "orientation": "v",
           "showlegend": true,
           "type": "scatter",
           "x": [
            1,
            2,
            3,
            4,
            5,
            6,
            7,
            8,
            9,
            10,
            11,
            12,
            13,
            14,
            15,
            16,
            17,
            18,
            19,
            20,
            21,
            22,
            23,
            24
           ],
           "xaxis": "x",
           "y": [
            null,
            null,
            null,
            null,
            null,
            null,
            null,
            null,
            null,
            null,
            null,
            null,
            31.19467338204312,
            35.88968834025395,
            37.92565042197189,
            49.19191148711097,
            47.58925647548186,
            59.47823465535181,
            67.28452110642662,
            120.75549643814465,
            180.9350287603825,
            265.8099967847716,
            188.8748781650304,
            243.249343752849
           ],
           "yaxis": "y"
          }
         ],
         "name": "85"
        },
        {
         "data": [
          {
           "hovertemplate": "variable=HistoricalPrice<br>timestep=86<br>periodstep=%{x}<br>value=%{y}<extra></extra>",
           "legendgroup": "HistoricalPrice",
           "line": {
            "color": "#636efa",
            "dash": "solid"
           },
           "marker": {
            "symbol": "circle"
           },
           "mode": "lines",
           "name": "HistoricalPrice",
           "orientation": "v",
           "showlegend": true,
           "type": "scatter",
           "x": [
            1,
            2,
            3,
            4,
            5,
            6,
            7,
            8,
            9,
            10,
            11,
            12,
            13,
            14,
            15,
            16,
            17,
            18,
            19,
            20,
            21,
            22,
            23,
            24
           ],
           "xaxis": "x",
           "y": [
            63.45,
            49.54,
            79.06,
            77.26,
            74.3,
            44.43,
            35.2,
            26.4,
            18.66,
            21.42,
            24.26,
            25.84,
            null,
            null,
            null,
            null,
            null,
            null,
            null,
            null,
            null,
            null,
            null,
            null
           ],
           "yaxis": "y"
          },
          {
           "hovertemplate": "variable=FuturePrice<br>timestep=86<br>periodstep=%{x}<br>value=%{y}<extra></extra>",
           "legendgroup": "FuturePrice",
           "line": {
            "color": "#EF553B",
            "dash": "solid"
           },
           "marker": {
            "symbol": "circle"
           },
           "mode": "lines",
           "name": "FuturePrice",
           "orientation": "v",
           "showlegend": true,
           "type": "scatter",
           "x": [
            1,
            2,
            3,
            4,
            5,
            6,
            7,
            8,
            9,
            10,
            11,
            12,
            13,
            14,
            15,
            16,
            17,
            18,
            19,
            20,
            21,
            22,
            23,
            24
           ],
           "xaxis": "x",
           "y": [
            null,
            null,
            null,
            null,
            null,
            null,
            null,
            null,
            null,
            null,
            null,
            null,
            19.91,
            27,
            27.66,
            29.77,
            34.87,
            39.84,
            41.07,
            44.5,
            45.55,
            48.46,
            61.45,
            62.3
           ],
           "yaxis": "y"
          },
          {
           "hovertemplate": "variable=Predicted<br>timestep=86<br>periodstep=%{x}<br>value=%{y}<extra></extra>",
           "legendgroup": "Predicted",
           "line": {
            "color": "#00cc96",
            "dash": "solid"
           },
           "marker": {
            "symbol": "circle"
           },
           "mode": "lines",
           "name": "Predicted",
           "orientation": "v",
           "showlegend": true,
           "type": "scatter",
           "x": [
            1,
            2,
            3,
            4,
            5,
            6,
            7,
            8,
            9,
            10,
            11,
            12,
            13,
            14,
            15,
            16,
            17,
            18,
            19,
            20,
            21,
            22,
            23,
            24
           ],
           "xaxis": "x",
           "y": [
            null,
            null,
            null,
            null,
            null,
            null,
            null,
            null,
            null,
            null,
            null,
            null,
            31.356329372979978,
            35.88968834025395,
            46.632801744057154,
            50.34703834414583,
            52.026367838193494,
            72.38756081671063,
            123.43460027364814,
            134.50523142040214,
            231.38853368841808,
            202.3942259730507,
            240.59598204231776,
            155.08127546796356
           ],
           "yaxis": "y"
          }
         ],
         "name": "86"
        },
        {
         "data": [
          {
           "hovertemplate": "variable=HistoricalPrice<br>timestep=87<br>periodstep=%{x}<br>value=%{y}<extra></extra>",
           "legendgroup": "HistoricalPrice",
           "line": {
            "color": "#636efa",
            "dash": "solid"
           },
           "marker": {
            "symbol": "circle"
           },
           "mode": "lines",
           "name": "HistoricalPrice",
           "orientation": "v",
           "showlegend": true,
           "type": "scatter",
           "x": [
            1,
            2,
            3,
            4,
            5,
            6,
            7,
            8,
            9,
            10,
            11,
            12,
            13,
            14,
            15,
            16,
            17,
            18,
            19,
            20,
            21,
            22,
            23,
            24
           ],
           "xaxis": "x",
           "y": [
            49.54,
            79.06,
            77.26,
            74.3,
            44.43,
            35.2,
            26.4,
            18.66,
            21.42,
            24.26,
            25.84,
            19.91,
            null,
            null,
            null,
            null,
            null,
            null,
            null,
            null,
            null,
            null,
            null,
            null
           ],
           "yaxis": "y"
          },
          {
           "hovertemplate": "variable=FuturePrice<br>timestep=87<br>periodstep=%{x}<br>value=%{y}<extra></extra>",
           "legendgroup": "FuturePrice",
           "line": {
            "color": "#EF553B",
            "dash": "solid"
           },
           "marker": {
            "symbol": "circle"
           },
           "mode": "lines",
           "name": "FuturePrice",
           "orientation": "v",
           "showlegend": true,
           "type": "scatter",
           "x": [
            1,
            2,
            3,
            4,
            5,
            6,
            7,
            8,
            9,
            10,
            11,
            12,
            13,
            14,
            15,
            16,
            17,
            18,
            19,
            20,
            21,
            22,
            23,
            24
           ],
           "xaxis": "x",
           "y": [
            null,
            null,
            null,
            null,
            null,
            null,
            null,
            null,
            null,
            null,
            null,
            null,
            27,
            27.66,
            29.77,
            34.87,
            39.84,
            41.07,
            44.5,
            45.55,
            48.46,
            61.45,
            62.3,
            68.43
           ],
           "yaxis": "y"
          },
          {
           "hovertemplate": "variable=Predicted<br>timestep=87<br>periodstep=%{x}<br>value=%{y}<extra></extra>",
           "legendgroup": "Predicted",
           "line": {
            "color": "#00cc96",
            "dash": "solid"
           },
           "marker": {
            "symbol": "circle"
           },
           "mode": "lines",
           "name": "Predicted",
           "orientation": "v",
           "showlegend": true,
           "type": "scatter",
           "x": [
            1,
            2,
            3,
            4,
            5,
            6,
            7,
            8,
            9,
            10,
            11,
            12,
            13,
            14,
            15,
            16,
            17,
            18,
            19,
            20,
            21,
            22,
            23,
            24
           ],
           "xaxis": "x",
           "y": [
            null,
            null,
            null,
            null,
            null,
            null,
            null,
            null,
            null,
            null,
            null,
            null,
            31.19467338204312,
            39.980790131067245,
            46.03334127258762,
            51.35351632638647,
            53.741861746510594,
            78.03610624732164,
            125.71253723253834,
            127.2606343150218,
            139.43141460601362,
            225.13302050582192,
            114.67335918076937,
            233.43791845356196
           ],
           "yaxis": "y"
          }
         ],
         "name": "87"
        },
        {
         "data": [
          {
           "hovertemplate": "variable=HistoricalPrice<br>timestep=88<br>periodstep=%{x}<br>value=%{y}<extra></extra>",
           "legendgroup": "HistoricalPrice",
           "line": {
            "color": "#636efa",
            "dash": "solid"
           },
           "marker": {
            "symbol": "circle"
           },
           "mode": "lines",
           "name": "HistoricalPrice",
           "orientation": "v",
           "showlegend": true,
           "type": "scatter",
           "x": [
            1,
            2,
            3,
            4,
            5,
            6,
            7,
            8,
            9,
            10,
            11,
            12,
            13,
            14,
            15,
            16,
            17,
            18,
            19,
            20,
            21,
            22,
            23,
            24
           ],
           "xaxis": "x",
           "y": [
            79.06,
            77.26,
            74.3,
            44.43,
            35.2,
            26.4,
            18.66,
            21.42,
            24.26,
            25.84,
            19.91,
            27,
            null,
            null,
            null,
            null,
            null,
            null,
            null,
            null,
            null,
            null,
            null,
            null
           ],
           "yaxis": "y"
          },
          {
           "hovertemplate": "variable=FuturePrice<br>timestep=88<br>periodstep=%{x}<br>value=%{y}<extra></extra>",
           "legendgroup": "FuturePrice",
           "line": {
            "color": "#EF553B",
            "dash": "solid"
           },
           "marker": {
            "symbol": "circle"
           },
           "mode": "lines",
           "name": "FuturePrice",
           "orientation": "v",
           "showlegend": true,
           "type": "scatter",
           "x": [
            1,
            2,
            3,
            4,
            5,
            6,
            7,
            8,
            9,
            10,
            11,
            12,
            13,
            14,
            15,
            16,
            17,
            18,
            19,
            20,
            21,
            22,
            23,
            24
           ],
           "xaxis": "x",
           "y": [
            null,
            null,
            null,
            null,
            null,
            null,
            null,
            null,
            null,
            null,
            null,
            null,
            27.66,
            29.77,
            34.87,
            39.84,
            41.07,
            44.5,
            45.55,
            48.46,
            61.45,
            62.3,
            68.43,
            87.16
           ],
           "yaxis": "y"
          },
          {
           "hovertemplate": "variable=Predicted<br>timestep=88<br>periodstep=%{x}<br>value=%{y}<extra></extra>",
           "legendgroup": "Predicted",
           "line": {
            "color": "#00cc96",
            "dash": "solid"
           },
           "marker": {
            "symbol": "circle"
           },
           "mode": "lines",
           "name": "Predicted",
           "orientation": "v",
           "showlegend": true,
           "type": "scatter",
           "x": [
            1,
            2,
            3,
            4,
            5,
            6,
            7,
            8,
            9,
            10,
            11,
            12,
            13,
            14,
            15,
            16,
            17,
            18,
            19,
            20,
            21,
            22,
            23,
            24
           ],
           "xaxis": "x",
           "y": [
            null,
            null,
            null,
            null,
            null,
            null,
            null,
            null,
            null,
            null,
            null,
            null,
            31.548555218185104,
            40.8903896414474,
            45.34472775350847,
            53.879840140799686,
            65.3883923408513,
            80.62498910246137,
            129.55880387759564,
            94.89555674609646,
            205.9928345406652,
            119.34733395399961,
            248.4153062968929,
            161.39691262622256
           ],
           "yaxis": "y"
          }
         ],
         "name": "88"
        },
        {
         "data": [
          {
           "hovertemplate": "variable=HistoricalPrice<br>timestep=89<br>periodstep=%{x}<br>value=%{y}<extra></extra>",
           "legendgroup": "HistoricalPrice",
           "line": {
            "color": "#636efa",
            "dash": "solid"
           },
           "marker": {
            "symbol": "circle"
           },
           "mode": "lines",
           "name": "HistoricalPrice",
           "orientation": "v",
           "showlegend": true,
           "type": "scatter",
           "x": [
            1,
            2,
            3,
            4,
            5,
            6,
            7,
            8,
            9,
            10,
            11,
            12,
            13,
            14,
            15,
            16,
            17,
            18,
            19,
            20,
            21,
            22,
            23,
            24
           ],
           "xaxis": "x",
           "y": [
            77.26,
            74.3,
            44.43,
            35.2,
            26.4,
            18.66,
            21.42,
            24.26,
            25.84,
            19.91,
            27,
            27.66,
            null,
            null,
            null,
            null,
            null,
            null,
            null,
            null,
            null,
            null,
            null,
            null
           ],
           "yaxis": "y"
          },
          {
           "hovertemplate": "variable=FuturePrice<br>timestep=89<br>periodstep=%{x}<br>value=%{y}<extra></extra>",
           "legendgroup": "FuturePrice",
           "line": {
            "color": "#EF553B",
            "dash": "solid"
           },
           "marker": {
            "symbol": "circle"
           },
           "mode": "lines",
           "name": "FuturePrice",
           "orientation": "v",
           "showlegend": true,
           "type": "scatter",
           "x": [
            1,
            2,
            3,
            4,
            5,
            6,
            7,
            8,
            9,
            10,
            11,
            12,
            13,
            14,
            15,
            16,
            17,
            18,
            19,
            20,
            21,
            22,
            23,
            24
           ],
           "xaxis": "x",
           "y": [
            null,
            null,
            null,
            null,
            null,
            null,
            null,
            null,
            null,
            null,
            null,
            null,
            29.77,
            34.87,
            39.84,
            41.07,
            44.5,
            45.55,
            48.46,
            61.45,
            62.3,
            68.43,
            87.16,
            51.31
           ],
           "yaxis": "y"
          },
          {
           "hovertemplate": "variable=Predicted<br>timestep=89<br>periodstep=%{x}<br>value=%{y}<extra></extra>",
           "legendgroup": "Predicted",
           "line": {
            "color": "#00cc96",
            "dash": "solid"
           },
           "marker": {
            "symbol": "circle"
           },
           "mode": "lines",
           "name": "Predicted",
           "orientation": "v",
           "showlegend": true,
           "type": "scatter",
           "x": [
            1,
            2,
            3,
            4,
            5,
            6,
            7,
            8,
            9,
            10,
            11,
            12,
            13,
            14,
            15,
            16,
            17,
            18,
            19,
            20,
            21,
            22,
            23,
            24
           ],
           "xaxis": "x",
           "y": [
            null,
            null,
            null,
            null,
            null,
            null,
            null,
            null,
            null,
            null,
            null,
            null,
            31.548555218185104,
            40.3647985810875,
            46.4184752057338,
            58.3535820115681,
            61.62735693792265,
            78.95344451754531,
            72.48735332149744,
            120.75731840115101,
            89.96050968120831,
            201.70520359730116,
            184.26035286739196,
            207.0234754511849
           ],
           "yaxis": "y"
          }
         ],
         "name": "89"
        },
        {
         "data": [
          {
           "hovertemplate": "variable=HistoricalPrice<br>timestep=90<br>periodstep=%{x}<br>value=%{y}<extra></extra>",
           "legendgroup": "HistoricalPrice",
           "line": {
            "color": "#636efa",
            "dash": "solid"
           },
           "marker": {
            "symbol": "circle"
           },
           "mode": "lines",
           "name": "HistoricalPrice",
           "orientation": "v",
           "showlegend": true,
           "type": "scatter",
           "x": [
            1,
            2,
            3,
            4,
            5,
            6,
            7,
            8,
            9,
            10,
            11,
            12,
            13,
            14,
            15,
            16,
            17,
            18,
            19,
            20,
            21,
            22,
            23,
            24
           ],
           "xaxis": "x",
           "y": [
            74.3,
            44.43,
            35.2,
            26.4,
            18.66,
            21.42,
            24.26,
            25.84,
            19.91,
            27,
            27.66,
            29.77,
            null,
            null,
            null,
            null,
            null,
            null,
            null,
            null,
            null,
            null,
            null,
            null
           ],
           "yaxis": "y"
          },
          {
           "hovertemplate": "variable=FuturePrice<br>timestep=90<br>periodstep=%{x}<br>value=%{y}<extra></extra>",
           "legendgroup": "FuturePrice",
           "line": {
            "color": "#EF553B",
            "dash": "solid"
           },
           "marker": {
            "symbol": "circle"
           },
           "mode": "lines",
           "name": "FuturePrice",
           "orientation": "v",
           "showlegend": true,
           "type": "scatter",
           "x": [
            1,
            2,
            3,
            4,
            5,
            6,
            7,
            8,
            9,
            10,
            11,
            12,
            13,
            14,
            15,
            16,
            17,
            18,
            19,
            20,
            21,
            22,
            23,
            24
           ],
           "xaxis": "x",
           "y": [
            null,
            null,
            null,
            null,
            null,
            null,
            null,
            null,
            null,
            null,
            null,
            null,
            34.87,
            39.84,
            41.07,
            44.5,
            45.55,
            48.46,
            61.45,
            62.3,
            68.43,
            87.16,
            51.31,
            142.4
           ],
           "yaxis": "y"
          },
          {
           "hovertemplate": "variable=Predicted<br>timestep=90<br>periodstep=%{x}<br>value=%{y}<extra></extra>",
           "legendgroup": "Predicted",
           "line": {
            "color": "#00cc96",
            "dash": "solid"
           },
           "marker": {
            "symbol": "circle"
           },
           "mode": "lines",
           "name": "Predicted",
           "orientation": "v",
           "showlegend": true,
           "type": "scatter",
           "x": [
            1,
            2,
            3,
            4,
            5,
            6,
            7,
            8,
            9,
            10,
            11,
            12,
            13,
            14,
            15,
            16,
            17,
            18,
            19,
            20,
            21,
            22,
            23,
            24
           ],
           "xaxis": "x",
           "y": [
            null,
            null,
            null,
            null,
            null,
            null,
            null,
            null,
            null,
            null,
            null,
            null,
            32.331494431088025,
            44.7815830374772,
            58.802030610805645,
            79.36108286984884,
            81.03892425906879,
            99.07114935286853,
            140.34079616209658,
            100.05940376727962,
            211.02259335725682,
            192.04084515906956,
            268.3623617852495,
            207.26588834097439
           ],
           "yaxis": "y"
          }
         ],
         "name": "90"
        },
        {
         "data": [
          {
           "hovertemplate": "variable=HistoricalPrice<br>timestep=91<br>periodstep=%{x}<br>value=%{y}<extra></extra>",
           "legendgroup": "HistoricalPrice",
           "line": {
            "color": "#636efa",
            "dash": "solid"
           },
           "marker": {
            "symbol": "circle"
           },
           "mode": "lines",
           "name": "HistoricalPrice",
           "orientation": "v",
           "showlegend": true,
           "type": "scatter",
           "x": [
            1,
            2,
            3,
            4,
            5,
            6,
            7,
            8,
            9,
            10,
            11,
            12,
            13,
            14,
            15,
            16,
            17,
            18,
            19,
            20,
            21,
            22,
            23,
            24
           ],
           "xaxis": "x",
           "y": [
            44.43,
            35.2,
            26.4,
            18.66,
            21.42,
            24.26,
            25.84,
            19.91,
            27,
            27.66,
            29.77,
            34.87,
            null,
            null,
            null,
            null,
            null,
            null,
            null,
            null,
            null,
            null,
            null,
            null
           ],
           "yaxis": "y"
          },
          {
           "hovertemplate": "variable=FuturePrice<br>timestep=91<br>periodstep=%{x}<br>value=%{y}<extra></extra>",
           "legendgroup": "FuturePrice",
           "line": {
            "color": "#EF553B",
            "dash": "solid"
           },
           "marker": {
            "symbol": "circle"
           },
           "mode": "lines",
           "name": "FuturePrice",
           "orientation": "v",
           "showlegend": true,
           "type": "scatter",
           "x": [
            1,
            2,
            3,
            4,
            5,
            6,
            7,
            8,
            9,
            10,
            11,
            12,
            13,
            14,
            15,
            16,
            17,
            18,
            19,
            20,
            21,
            22,
            23,
            24
           ],
           "xaxis": "x",
           "y": [
            null,
            null,
            null,
            null,
            null,
            null,
            null,
            null,
            null,
            null,
            null,
            null,
            39.84,
            41.07,
            44.5,
            45.55,
            48.46,
            61.45,
            62.3,
            68.43,
            87.16,
            51.31,
            142.4,
            143.65
           ],
           "yaxis": "y"
          },
          {
           "hovertemplate": "variable=Predicted<br>timestep=91<br>periodstep=%{x}<br>value=%{y}<extra></extra>",
           "legendgroup": "Predicted",
           "line": {
            "color": "#00cc96",
            "dash": "solid"
           },
           "marker": {
            "symbol": "circle"
           },
           "mode": "lines",
           "name": "Predicted",
           "orientation": "v",
           "showlegend": true,
           "type": "scatter",
           "x": [
            1,
            2,
            3,
            4,
            5,
            6,
            7,
            8,
            9,
            10,
            11,
            12,
            13,
            14,
            15,
            16,
            17,
            18,
            19,
            20,
            21,
            22,
            23,
            24
           ],
           "xaxis": "x",
           "y": [
            null,
            null,
            null,
            null,
            null,
            null,
            null,
            null,
            null,
            null,
            null,
            null,
            35.00702088066882,
            55.381053593220706,
            69.74406188823396,
            96.31335431929935,
            96.85304196966173,
            112.3362915946329,
            70.25119933484446,
            183.42123542372903,
            157.41515711099112,
            277.23401526835477,
            252.0824756761189,
            190.64526488050126
           ],
           "yaxis": "y"
          }
         ],
         "name": "91"
        },
        {
         "data": [
          {
           "hovertemplate": "variable=HistoricalPrice<br>timestep=92<br>periodstep=%{x}<br>value=%{y}<extra></extra>",
           "legendgroup": "HistoricalPrice",
           "line": {
            "color": "#636efa",
            "dash": "solid"
           },
           "marker": {
            "symbol": "circle"
           },
           "mode": "lines",
           "name": "HistoricalPrice",
           "orientation": "v",
           "showlegend": true,
           "type": "scatter",
           "x": [
            1,
            2,
            3,
            4,
            5,
            6,
            7,
            8,
            9,
            10,
            11,
            12,
            13,
            14,
            15,
            16,
            17,
            18,
            19,
            20,
            21,
            22,
            23,
            24
           ],
           "xaxis": "x",
           "y": [
            35.2,
            26.4,
            18.66,
            21.42,
            24.26,
            25.84,
            19.91,
            27,
            27.66,
            29.77,
            34.87,
            39.84,
            null,
            null,
            null,
            null,
            null,
            null,
            null,
            null,
            null,
            null,
            null,
            null
           ],
           "yaxis": "y"
          },
          {
           "hovertemplate": "variable=FuturePrice<br>timestep=92<br>periodstep=%{x}<br>value=%{y}<extra></extra>",
           "legendgroup": "FuturePrice",
           "line": {
            "color": "#EF553B",
            "dash": "solid"
           },
           "marker": {
            "symbol": "circle"
           },
           "mode": "lines",
           "name": "FuturePrice",
           "orientation": "v",
           "showlegend": true,
           "type": "scatter",
           "x": [
            1,
            2,
            3,
            4,
            5,
            6,
            7,
            8,
            9,
            10,
            11,
            12,
            13,
            14,
            15,
            16,
            17,
            18,
            19,
            20,
            21,
            22,
            23,
            24
           ],
           "xaxis": "x",
           "y": [
            null,
            null,
            null,
            null,
            null,
            null,
            null,
            null,
            null,
            null,
            null,
            null,
            41.07,
            44.5,
            45.55,
            48.46,
            61.45,
            62.3,
            68.43,
            87.16,
            51.31,
            142.4,
            143.65,
            66.97
           ],
           "yaxis": "y"
          },
          {
           "hovertemplate": "variable=Predicted<br>timestep=92<br>periodstep=%{x}<br>value=%{y}<extra></extra>",
           "legendgroup": "Predicted",
           "line": {
            "color": "#00cc96",
            "dash": "solid"
           },
           "marker": {
            "symbol": "circle"
           },
           "mode": "lines",
           "name": "Predicted",
           "orientation": "v",
           "showlegend": true,
           "type": "scatter",
           "x": [
            1,
            2,
            3,
            4,
            5,
            6,
            7,
            8,
            9,
            10,
            11,
            12,
            13,
            14,
            15,
            16,
            17,
            18,
            19,
            20,
            21,
            22,
            23,
            24
           ],
           "xaxis": "x",
           "y": [
            null,
            null,
            null,
            null,
            null,
            null,
            null,
            null,
            null,
            null,
            null,
            null,
            37.909794685170894,
            52.798910082745124,
            77.60926729313148,
            101.0424670640301,
            88.9173909306524,
            88.18287264254687,
            154.26507377166848,
            167.036180852183,
            236.13735706763325,
            260.1669956776482,
            244.02059425303156,
            145.7495755614296
           ],
           "yaxis": "y"
          }
         ],
         "name": "92"
        },
        {
         "data": [
          {
           "hovertemplate": "variable=HistoricalPrice<br>timestep=93<br>periodstep=%{x}<br>value=%{y}<extra></extra>",
           "legendgroup": "HistoricalPrice",
           "line": {
            "color": "#636efa",
            "dash": "solid"
           },
           "marker": {
            "symbol": "circle"
           },
           "mode": "lines",
           "name": "HistoricalPrice",
           "orientation": "v",
           "showlegend": true,
           "type": "scatter",
           "x": [
            1,
            2,
            3,
            4,
            5,
            6,
            7,
            8,
            9,
            10,
            11,
            12,
            13,
            14,
            15,
            16,
            17,
            18,
            19,
            20,
            21,
            22,
            23,
            24
           ],
           "xaxis": "x",
           "y": [
            26.4,
            18.66,
            21.42,
            24.26,
            25.84,
            19.91,
            27,
            27.66,
            29.77,
            34.87,
            39.84,
            41.07,
            null,
            null,
            null,
            null,
            null,
            null,
            null,
            null,
            null,
            null,
            null,
            null
           ],
           "yaxis": "y"
          },
          {
           "hovertemplate": "variable=FuturePrice<br>timestep=93<br>periodstep=%{x}<br>value=%{y}<extra></extra>",
           "legendgroup": "FuturePrice",
           "line": {
            "color": "#EF553B",
            "dash": "solid"
           },
           "marker": {
            "symbol": "circle"
           },
           "mode": "lines",
           "name": "FuturePrice",
           "orientation": "v",
           "showlegend": true,
           "type": "scatter",
           "x": [
            1,
            2,
            3,
            4,
            5,
            6,
            7,
            8,
            9,
            10,
            11,
            12,
            13,
            14,
            15,
            16,
            17,
            18,
            19,
            20,
            21,
            22,
            23,
            24
           ],
           "xaxis": "x",
           "y": [
            null,
            null,
            null,
            null,
            null,
            null,
            null,
            null,
            null,
            null,
            null,
            null,
            44.5,
            45.55,
            48.46,
            61.45,
            62.3,
            68.43,
            87.16,
            51.31,
            142.4,
            143.65,
            66.97,
            43.54
           ],
           "yaxis": "y"
          },
          {
           "hovertemplate": "variable=Predicted<br>timestep=93<br>periodstep=%{x}<br>value=%{y}<extra></extra>",
           "legendgroup": "Predicted",
           "line": {
            "color": "#00cc96",
            "dash": "solid"
           },
           "marker": {
            "symbol": "circle"
           },
           "mode": "lines",
           "name": "Predicted",
           "orientation": "v",
           "showlegend": true,
           "type": "scatter",
           "x": [
            1,
            2,
            3,
            4,
            5,
            6,
            7,
            8,
            9,
            10,
            11,
            12,
            13,
            14,
            15,
            16,
            17,
            18,
            19,
            20,
            21,
            22,
            23,
            24
           ],
           "xaxis": "x",
           "y": [
            null,
            null,
            null,
            null,
            null,
            null,
            null,
            null,
            null,
            null,
            null,
            null,
            40.47586526808563,
            54.93863851553978,
            78.77704189807551,
            92.761228583376,
            84.97100508441277,
            108.65620409446417,
            129.0259101892006,
            245.01296637676964,
            235.18139269860225,
            266.13550396955856,
            156.21294315361683,
            90.90589060139224
           ],
           "yaxis": "y"
          }
         ],
         "name": "93"
        },
        {
         "data": [
          {
           "hovertemplate": "variable=HistoricalPrice<br>timestep=94<br>periodstep=%{x}<br>value=%{y}<extra></extra>",
           "legendgroup": "HistoricalPrice",
           "line": {
            "color": "#636efa",
            "dash": "solid"
           },
           "marker": {
            "symbol": "circle"
           },
           "mode": "lines",
           "name": "HistoricalPrice",
           "orientation": "v",
           "showlegend": true,
           "type": "scatter",
           "x": [
            1,
            2,
            3,
            4,
            5,
            6,
            7,
            8,
            9,
            10,
            11,
            12,
            13,
            14,
            15,
            16,
            17,
            18,
            19,
            20,
            21,
            22,
            23,
            24
           ],
           "xaxis": "x",
           "y": [
            18.66,
            21.42,
            24.26,
            25.84,
            19.91,
            27,
            27.66,
            29.77,
            34.87,
            39.84,
            41.07,
            44.5,
            null,
            null,
            null,
            null,
            null,
            null,
            null,
            null,
            null,
            null,
            null,
            null
           ],
           "yaxis": "y"
          },
          {
           "hovertemplate": "variable=FuturePrice<br>timestep=94<br>periodstep=%{x}<br>value=%{y}<extra></extra>",
           "legendgroup": "FuturePrice",
           "line": {
            "color": "#EF553B",
            "dash": "solid"
           },
           "marker": {
            "symbol": "circle"
           },
           "mode": "lines",
           "name": "FuturePrice",
           "orientation": "v",
           "showlegend": true,
           "type": "scatter",
           "x": [
            1,
            2,
            3,
            4,
            5,
            6,
            7,
            8,
            9,
            10,
            11,
            12,
            13,
            14,
            15,
            16,
            17,
            18,
            19,
            20,
            21,
            22,
            23,
            24
           ],
           "xaxis": "x",
           "y": [
            null,
            null,
            null,
            null,
            null,
            null,
            null,
            null,
            null,
            null,
            null,
            null,
            45.55,
            48.46,
            61.45,
            62.3,
            68.43,
            87.16,
            51.31,
            142.4,
            143.65,
            66.97,
            43.54,
            36.74
           ],
           "yaxis": "y"
          },
          {
           "hovertemplate": "variable=Predicted<br>timestep=94<br>periodstep=%{x}<br>value=%{y}<extra></extra>",
           "legendgroup": "Predicted",
           "line": {
            "color": "#00cc96",
            "dash": "solid"
           },
           "marker": {
            "symbol": "circle"
           },
           "mode": "lines",
           "name": "Predicted",
           "orientation": "v",
           "showlegend": true,
           "type": "scatter",
           "x": [
            1,
            2,
            3,
            4,
            5,
            6,
            7,
            8,
            9,
            10,
            11,
            12,
            13,
            14,
            15,
            16,
            17,
            18,
            19,
            20,
            21,
            22,
            23,
            24
           ],
           "xaxis": "x",
           "y": [
            null,
            null,
            null,
            null,
            null,
            null,
            null,
            null,
            null,
            null,
            null,
            null,
            44.50054903801741,
            73.04392553487678,
            90.52223389311303,
            74.57552712909995,
            104.72295969592936,
            132.96523041016985,
            209.85049622618388,
            223.66140713584213,
            245.29127330995914,
            163.74649942449074,
            116.98546909406402,
            95.59958374261954
           ],
           "yaxis": "y"
          }
         ],
         "name": "94"
        },
        {
         "data": [
          {
           "hovertemplate": "variable=HistoricalPrice<br>timestep=95<br>periodstep=%{x}<br>value=%{y}<extra></extra>",
           "legendgroup": "HistoricalPrice",
           "line": {
            "color": "#636efa",
            "dash": "solid"
           },
           "marker": {
            "symbol": "circle"
           },
           "mode": "lines",
           "name": "HistoricalPrice",
           "orientation": "v",
           "showlegend": true,
           "type": "scatter",
           "x": [
            1,
            2,
            3,
            4,
            5,
            6,
            7,
            8,
            9,
            10,
            11,
            12,
            13,
            14,
            15,
            16,
            17,
            18,
            19,
            20,
            21,
            22,
            23,
            24
           ],
           "xaxis": "x",
           "y": [
            21.42,
            24.26,
            25.84,
            19.91,
            27,
            27.66,
            29.77,
            34.87,
            39.84,
            41.07,
            44.5,
            45.55,
            null,
            null,
            null,
            null,
            null,
            null,
            null,
            null,
            null,
            null,
            null,
            null
           ],
           "yaxis": "y"
          },
          {
           "hovertemplate": "variable=FuturePrice<br>timestep=95<br>periodstep=%{x}<br>value=%{y}<extra></extra>",
           "legendgroup": "FuturePrice",
           "line": {
            "color": "#EF553B",
            "dash": "solid"
           },
           "marker": {
            "symbol": "circle"
           },
           "mode": "lines",
           "name": "FuturePrice",
           "orientation": "v",
           "showlegend": true,
           "type": "scatter",
           "x": [
            1,
            2,
            3,
            4,
            5,
            6,
            7,
            8,
            9,
            10,
            11,
            12,
            13,
            14,
            15,
            16,
            17,
            18,
            19,
            20,
            21,
            22,
            23,
            24
           ],
           "xaxis": "x",
           "y": [
            null,
            null,
            null,
            null,
            null,
            null,
            null,
            null,
            null,
            null,
            null,
            null,
            48.46,
            61.45,
            62.3,
            68.43,
            87.16,
            51.31,
            142.4,
            143.65,
            66.97,
            43.54,
            36.74,
            27.91
           ],
           "yaxis": "y"
          },
          {
           "hovertemplate": "variable=Predicted<br>timestep=95<br>periodstep=%{x}<br>value=%{y}<extra></extra>",
           "legendgroup": "Predicted",
           "line": {
            "color": "#00cc96",
            "dash": "solid"
           },
           "marker": {
            "symbol": "circle"
           },
           "mode": "lines",
           "name": "Predicted",
           "orientation": "v",
           "showlegend": true,
           "type": "scatter",
           "x": [
            1,
            2,
            3,
            4,
            5,
            6,
            7,
            8,
            9,
            10,
            11,
            12,
            13,
            14,
            15,
            16,
            17,
            18,
            19,
            20,
            21,
            22,
            23,
            24
           ],
           "xaxis": "x",
           "y": [
            null,
            null,
            null,
            null,
            null,
            null,
            null,
            null,
            null,
            null,
            null,
            null,
            48.235777481836124,
            71.1863404164393,
            88.96607958912536,
            109.72564325563222,
            117.06592206740267,
            178.7811960295517,
            197.4029593781832,
            221.4646139030084,
            150.16656113990592,
            76.91841974891548,
            119.27127519790184,
            57.47418311495173
           ],
           "yaxis": "y"
          }
         ],
         "name": "95"
        }
       ],
       "layout": {
        "height": 700,
        "legend": {
         "title": {
          "text": "variable"
         },
         "tracegroupgap": 0
        },
        "margin": {
         "t": 60
        },
        "sliders": [
         {
          "active": 0,
          "currentvalue": {
           "prefix": "timestep="
          },
          "len": 0.9,
          "pad": {
           "b": 10,
           "t": 60
          },
          "steps": [
           {
            "args": [
             [
              "0"
             ],
             {
              "frame": {
               "duration": 0,
               "redraw": false
              },
              "fromcurrent": true,
              "mode": "immediate",
              "transition": {
               "duration": 0,
               "easing": "linear"
              }
             }
            ],
            "label": "0",
            "method": "animate"
           },
           {
            "args": [
             [
              "1"
             ],
             {
              "frame": {
               "duration": 0,
               "redraw": false
              },
              "fromcurrent": true,
              "mode": "immediate",
              "transition": {
               "duration": 0,
               "easing": "linear"
              }
             }
            ],
            "label": "1",
            "method": "animate"
           },
           {
            "args": [
             [
              "2"
             ],
             {
              "frame": {
               "duration": 0,
               "redraw": false
              },
              "fromcurrent": true,
              "mode": "immediate",
              "transition": {
               "duration": 0,
               "easing": "linear"
              }
             }
            ],
            "label": "2",
            "method": "animate"
           },
           {
            "args": [
             [
              "3"
             ],
             {
              "frame": {
               "duration": 0,
               "redraw": false
              },
              "fromcurrent": true,
              "mode": "immediate",
              "transition": {
               "duration": 0,
               "easing": "linear"
              }
             }
            ],
            "label": "3",
            "method": "animate"
           },
           {
            "args": [
             [
              "4"
             ],
             {
              "frame": {
               "duration": 0,
               "redraw": false
              },
              "fromcurrent": true,
              "mode": "immediate",
              "transition": {
               "duration": 0,
               "easing": "linear"
              }
             }
            ],
            "label": "4",
            "method": "animate"
           },
           {
            "args": [
             [
              "5"
             ],
             {
              "frame": {
               "duration": 0,
               "redraw": false
              },
              "fromcurrent": true,
              "mode": "immediate",
              "transition": {
               "duration": 0,
               "easing": "linear"
              }
             }
            ],
            "label": "5",
            "method": "animate"
           },
           {
            "args": [
             [
              "6"
             ],
             {
              "frame": {
               "duration": 0,
               "redraw": false
              },
              "fromcurrent": true,
              "mode": "immediate",
              "transition": {
               "duration": 0,
               "easing": "linear"
              }
             }
            ],
            "label": "6",
            "method": "animate"
           },
           {
            "args": [
             [
              "7"
             ],
             {
              "frame": {
               "duration": 0,
               "redraw": false
              },
              "fromcurrent": true,
              "mode": "immediate",
              "transition": {
               "duration": 0,
               "easing": "linear"
              }
             }
            ],
            "label": "7",
            "method": "animate"
           },
           {
            "args": [
             [
              "8"
             ],
             {
              "frame": {
               "duration": 0,
               "redraw": false
              },
              "fromcurrent": true,
              "mode": "immediate",
              "transition": {
               "duration": 0,
               "easing": "linear"
              }
             }
            ],
            "label": "8",
            "method": "animate"
           },
           {
            "args": [
             [
              "9"
             ],
             {
              "frame": {
               "duration": 0,
               "redraw": false
              },
              "fromcurrent": true,
              "mode": "immediate",
              "transition": {
               "duration": 0,
               "easing": "linear"
              }
             }
            ],
            "label": "9",
            "method": "animate"
           },
           {
            "args": [
             [
              "10"
             ],
             {
              "frame": {
               "duration": 0,
               "redraw": false
              },
              "fromcurrent": true,
              "mode": "immediate",
              "transition": {
               "duration": 0,
               "easing": "linear"
              }
             }
            ],
            "label": "10",
            "method": "animate"
           },
           {
            "args": [
             [
              "11"
             ],
             {
              "frame": {
               "duration": 0,
               "redraw": false
              },
              "fromcurrent": true,
              "mode": "immediate",
              "transition": {
               "duration": 0,
               "easing": "linear"
              }
             }
            ],
            "label": "11",
            "method": "animate"
           },
           {
            "args": [
             [
              "12"
             ],
             {
              "frame": {
               "duration": 0,
               "redraw": false
              },
              "fromcurrent": true,
              "mode": "immediate",
              "transition": {
               "duration": 0,
               "easing": "linear"
              }
             }
            ],
            "label": "12",
            "method": "animate"
           },
           {
            "args": [
             [
              "13"
             ],
             {
              "frame": {
               "duration": 0,
               "redraw": false
              },
              "fromcurrent": true,
              "mode": "immediate",
              "transition": {
               "duration": 0,
               "easing": "linear"
              }
             }
            ],
            "label": "13",
            "method": "animate"
           },
           {
            "args": [
             [
              "14"
             ],
             {
              "frame": {
               "duration": 0,
               "redraw": false
              },
              "fromcurrent": true,
              "mode": "immediate",
              "transition": {
               "duration": 0,
               "easing": "linear"
              }
             }
            ],
            "label": "14",
            "method": "animate"
           },
           {
            "args": [
             [
              "15"
             ],
             {
              "frame": {
               "duration": 0,
               "redraw": false
              },
              "fromcurrent": true,
              "mode": "immediate",
              "transition": {
               "duration": 0,
               "easing": "linear"
              }
             }
            ],
            "label": "15",
            "method": "animate"
           },
           {
            "args": [
             [
              "16"
             ],
             {
              "frame": {
               "duration": 0,
               "redraw": false
              },
              "fromcurrent": true,
              "mode": "immediate",
              "transition": {
               "duration": 0,
               "easing": "linear"
              }
             }
            ],
            "label": "16",
            "method": "animate"
           },
           {
            "args": [
             [
              "17"
             ],
             {
              "frame": {
               "duration": 0,
               "redraw": false
              },
              "fromcurrent": true,
              "mode": "immediate",
              "transition": {
               "duration": 0,
               "easing": "linear"
              }
             }
            ],
            "label": "17",
            "method": "animate"
           },
           {
            "args": [
             [
              "18"
             ],
             {
              "frame": {
               "duration": 0,
               "redraw": false
              },
              "fromcurrent": true,
              "mode": "immediate",
              "transition": {
               "duration": 0,
               "easing": "linear"
              }
             }
            ],
            "label": "18",
            "method": "animate"
           },
           {
            "args": [
             [
              "19"
             ],
             {
              "frame": {
               "duration": 0,
               "redraw": false
              },
              "fromcurrent": true,
              "mode": "immediate",
              "transition": {
               "duration": 0,
               "easing": "linear"
              }
             }
            ],
            "label": "19",
            "method": "animate"
           },
           {
            "args": [
             [
              "20"
             ],
             {
              "frame": {
               "duration": 0,
               "redraw": false
              },
              "fromcurrent": true,
              "mode": "immediate",
              "transition": {
               "duration": 0,
               "easing": "linear"
              }
             }
            ],
            "label": "20",
            "method": "animate"
           },
           {
            "args": [
             [
              "21"
             ],
             {
              "frame": {
               "duration": 0,
               "redraw": false
              },
              "fromcurrent": true,
              "mode": "immediate",
              "transition": {
               "duration": 0,
               "easing": "linear"
              }
             }
            ],
            "label": "21",
            "method": "animate"
           },
           {
            "args": [
             [
              "22"
             ],
             {
              "frame": {
               "duration": 0,
               "redraw": false
              },
              "fromcurrent": true,
              "mode": "immediate",
              "transition": {
               "duration": 0,
               "easing": "linear"
              }
             }
            ],
            "label": "22",
            "method": "animate"
           },
           {
            "args": [
             [
              "23"
             ],
             {
              "frame": {
               "duration": 0,
               "redraw": false
              },
              "fromcurrent": true,
              "mode": "immediate",
              "transition": {
               "duration": 0,
               "easing": "linear"
              }
             }
            ],
            "label": "23",
            "method": "animate"
           },
           {
            "args": [
             [
              "24"
             ],
             {
              "frame": {
               "duration": 0,
               "redraw": false
              },
              "fromcurrent": true,
              "mode": "immediate",
              "transition": {
               "duration": 0,
               "easing": "linear"
              }
             }
            ],
            "label": "24",
            "method": "animate"
           },
           {
            "args": [
             [
              "25"
             ],
             {
              "frame": {
               "duration": 0,
               "redraw": false
              },
              "fromcurrent": true,
              "mode": "immediate",
              "transition": {
               "duration": 0,
               "easing": "linear"
              }
             }
            ],
            "label": "25",
            "method": "animate"
           },
           {
            "args": [
             [
              "26"
             ],
             {
              "frame": {
               "duration": 0,
               "redraw": false
              },
              "fromcurrent": true,
              "mode": "immediate",
              "transition": {
               "duration": 0,
               "easing": "linear"
              }
             }
            ],
            "label": "26",
            "method": "animate"
           },
           {
            "args": [
             [
              "27"
             ],
             {
              "frame": {
               "duration": 0,
               "redraw": false
              },
              "fromcurrent": true,
              "mode": "immediate",
              "transition": {
               "duration": 0,
               "easing": "linear"
              }
             }
            ],
            "label": "27",
            "method": "animate"
           },
           {
            "args": [
             [
              "28"
             ],
             {
              "frame": {
               "duration": 0,
               "redraw": false
              },
              "fromcurrent": true,
              "mode": "immediate",
              "transition": {
               "duration": 0,
               "easing": "linear"
              }
             }
            ],
            "label": "28",
            "method": "animate"
           },
           {
            "args": [
             [
              "29"
             ],
             {
              "frame": {
               "duration": 0,
               "redraw": false
              },
              "fromcurrent": true,
              "mode": "immediate",
              "transition": {
               "duration": 0,
               "easing": "linear"
              }
             }
            ],
            "label": "29",
            "method": "animate"
           },
           {
            "args": [
             [
              "30"
             ],
             {
              "frame": {
               "duration": 0,
               "redraw": false
              },
              "fromcurrent": true,
              "mode": "immediate",
              "transition": {
               "duration": 0,
               "easing": "linear"
              }
             }
            ],
            "label": "30",
            "method": "animate"
           },
           {
            "args": [
             [
              "31"
             ],
             {
              "frame": {
               "duration": 0,
               "redraw": false
              },
              "fromcurrent": true,
              "mode": "immediate",
              "transition": {
               "duration": 0,
               "easing": "linear"
              }
             }
            ],
            "label": "31",
            "method": "animate"
           },
           {
            "args": [
             [
              "32"
             ],
             {
              "frame": {
               "duration": 0,
               "redraw": false
              },
              "fromcurrent": true,
              "mode": "immediate",
              "transition": {
               "duration": 0,
               "easing": "linear"
              }
             }
            ],
            "label": "32",
            "method": "animate"
           },
           {
            "args": [
             [
              "33"
             ],
             {
              "frame": {
               "duration": 0,
               "redraw": false
              },
              "fromcurrent": true,
              "mode": "immediate",
              "transition": {
               "duration": 0,
               "easing": "linear"
              }
             }
            ],
            "label": "33",
            "method": "animate"
           },
           {
            "args": [
             [
              "34"
             ],
             {
              "frame": {
               "duration": 0,
               "redraw": false
              },
              "fromcurrent": true,
              "mode": "immediate",
              "transition": {
               "duration": 0,
               "easing": "linear"
              }
             }
            ],
            "label": "34",
            "method": "animate"
           },
           {
            "args": [
             [
              "35"
             ],
             {
              "frame": {
               "duration": 0,
               "redraw": false
              },
              "fromcurrent": true,
              "mode": "immediate",
              "transition": {
               "duration": 0,
               "easing": "linear"
              }
             }
            ],
            "label": "35",
            "method": "animate"
           },
           {
            "args": [
             [
              "36"
             ],
             {
              "frame": {
               "duration": 0,
               "redraw": false
              },
              "fromcurrent": true,
              "mode": "immediate",
              "transition": {
               "duration": 0,
               "easing": "linear"
              }
             }
            ],
            "label": "36",
            "method": "animate"
           },
           {
            "args": [
             [
              "37"
             ],
             {
              "frame": {
               "duration": 0,
               "redraw": false
              },
              "fromcurrent": true,
              "mode": "immediate",
              "transition": {
               "duration": 0,
               "easing": "linear"
              }
             }
            ],
            "label": "37",
            "method": "animate"
           },
           {
            "args": [
             [
              "38"
             ],
             {
              "frame": {
               "duration": 0,
               "redraw": false
              },
              "fromcurrent": true,
              "mode": "immediate",
              "transition": {
               "duration": 0,
               "easing": "linear"
              }
             }
            ],
            "label": "38",
            "method": "animate"
           },
           {
            "args": [
             [
              "39"
             ],
             {
              "frame": {
               "duration": 0,
               "redraw": false
              },
              "fromcurrent": true,
              "mode": "immediate",
              "transition": {
               "duration": 0,
               "easing": "linear"
              }
             }
            ],
            "label": "39",
            "method": "animate"
           },
           {
            "args": [
             [
              "40"
             ],
             {
              "frame": {
               "duration": 0,
               "redraw": false
              },
              "fromcurrent": true,
              "mode": "immediate",
              "transition": {
               "duration": 0,
               "easing": "linear"
              }
             }
            ],
            "label": "40",
            "method": "animate"
           },
           {
            "args": [
             [
              "41"
             ],
             {
              "frame": {
               "duration": 0,
               "redraw": false
              },
              "fromcurrent": true,
              "mode": "immediate",
              "transition": {
               "duration": 0,
               "easing": "linear"
              }
             }
            ],
            "label": "41",
            "method": "animate"
           },
           {
            "args": [
             [
              "42"
             ],
             {
              "frame": {
               "duration": 0,
               "redraw": false
              },
              "fromcurrent": true,
              "mode": "immediate",
              "transition": {
               "duration": 0,
               "easing": "linear"
              }
             }
            ],
            "label": "42",
            "method": "animate"
           },
           {
            "args": [
             [
              "43"
             ],
             {
              "frame": {
               "duration": 0,
               "redraw": false
              },
              "fromcurrent": true,
              "mode": "immediate",
              "transition": {
               "duration": 0,
               "easing": "linear"
              }
             }
            ],
            "label": "43",
            "method": "animate"
           },
           {
            "args": [
             [
              "44"
             ],
             {
              "frame": {
               "duration": 0,
               "redraw": false
              },
              "fromcurrent": true,
              "mode": "immediate",
              "transition": {
               "duration": 0,
               "easing": "linear"
              }
             }
            ],
            "label": "44",
            "method": "animate"
           },
           {
            "args": [
             [
              "45"
             ],
             {
              "frame": {
               "duration": 0,
               "redraw": false
              },
              "fromcurrent": true,
              "mode": "immediate",
              "transition": {
               "duration": 0,
               "easing": "linear"
              }
             }
            ],
            "label": "45",
            "method": "animate"
           },
           {
            "args": [
             [
              "46"
             ],
             {
              "frame": {
               "duration": 0,
               "redraw": false
              },
              "fromcurrent": true,
              "mode": "immediate",
              "transition": {
               "duration": 0,
               "easing": "linear"
              }
             }
            ],
            "label": "46",
            "method": "animate"
           },
           {
            "args": [
             [
              "47"
             ],
             {
              "frame": {
               "duration": 0,
               "redraw": false
              },
              "fromcurrent": true,
              "mode": "immediate",
              "transition": {
               "duration": 0,
               "easing": "linear"
              }
             }
            ],
            "label": "47",
            "method": "animate"
           },
           {
            "args": [
             [
              "48"
             ],
             {
              "frame": {
               "duration": 0,
               "redraw": false
              },
              "fromcurrent": true,
              "mode": "immediate",
              "transition": {
               "duration": 0,
               "easing": "linear"
              }
             }
            ],
            "label": "48",
            "method": "animate"
           },
           {
            "args": [
             [
              "49"
             ],
             {
              "frame": {
               "duration": 0,
               "redraw": false
              },
              "fromcurrent": true,
              "mode": "immediate",
              "transition": {
               "duration": 0,
               "easing": "linear"
              }
             }
            ],
            "label": "49",
            "method": "animate"
           },
           {
            "args": [
             [
              "50"
             ],
             {
              "frame": {
               "duration": 0,
               "redraw": false
              },
              "fromcurrent": true,
              "mode": "immediate",
              "transition": {
               "duration": 0,
               "easing": "linear"
              }
             }
            ],
            "label": "50",
            "method": "animate"
           },
           {
            "args": [
             [
              "51"
             ],
             {
              "frame": {
               "duration": 0,
               "redraw": false
              },
              "fromcurrent": true,
              "mode": "immediate",
              "transition": {
               "duration": 0,
               "easing": "linear"
              }
             }
            ],
            "label": "51",
            "method": "animate"
           },
           {
            "args": [
             [
              "52"
             ],
             {
              "frame": {
               "duration": 0,
               "redraw": false
              },
              "fromcurrent": true,
              "mode": "immediate",
              "transition": {
               "duration": 0,
               "easing": "linear"
              }
             }
            ],
            "label": "52",
            "method": "animate"
           },
           {
            "args": [
             [
              "53"
             ],
             {
              "frame": {
               "duration": 0,
               "redraw": false
              },
              "fromcurrent": true,
              "mode": "immediate",
              "transition": {
               "duration": 0,
               "easing": "linear"
              }
             }
            ],
            "label": "53",
            "method": "animate"
           },
           {
            "args": [
             [
              "54"
             ],
             {
              "frame": {
               "duration": 0,
               "redraw": false
              },
              "fromcurrent": true,
              "mode": "immediate",
              "transition": {
               "duration": 0,
               "easing": "linear"
              }
             }
            ],
            "label": "54",
            "method": "animate"
           },
           {
            "args": [
             [
              "55"
             ],
             {
              "frame": {
               "duration": 0,
               "redraw": false
              },
              "fromcurrent": true,
              "mode": "immediate",
              "transition": {
               "duration": 0,
               "easing": "linear"
              }
             }
            ],
            "label": "55",
            "method": "animate"
           },
           {
            "args": [
             [
              "56"
             ],
             {
              "frame": {
               "duration": 0,
               "redraw": false
              },
              "fromcurrent": true,
              "mode": "immediate",
              "transition": {
               "duration": 0,
               "easing": "linear"
              }
             }
            ],
            "label": "56",
            "method": "animate"
           },
           {
            "args": [
             [
              "57"
             ],
             {
              "frame": {
               "duration": 0,
               "redraw": false
              },
              "fromcurrent": true,
              "mode": "immediate",
              "transition": {
               "duration": 0,
               "easing": "linear"
              }
             }
            ],
            "label": "57",
            "method": "animate"
           },
           {
            "args": [
             [
              "58"
             ],
             {
              "frame": {
               "duration": 0,
               "redraw": false
              },
              "fromcurrent": true,
              "mode": "immediate",
              "transition": {
               "duration": 0,
               "easing": "linear"
              }
             }
            ],
            "label": "58",
            "method": "animate"
           },
           {
            "args": [
             [
              "59"
             ],
             {
              "frame": {
               "duration": 0,
               "redraw": false
              },
              "fromcurrent": true,
              "mode": "immediate",
              "transition": {
               "duration": 0,
               "easing": "linear"
              }
             }
            ],
            "label": "59",
            "method": "animate"
           },
           {
            "args": [
             [
              "60"
             ],
             {
              "frame": {
               "duration": 0,
               "redraw": false
              },
              "fromcurrent": true,
              "mode": "immediate",
              "transition": {
               "duration": 0,
               "easing": "linear"
              }
             }
            ],
            "label": "60",
            "method": "animate"
           },
           {
            "args": [
             [
              "61"
             ],
             {
              "frame": {
               "duration": 0,
               "redraw": false
              },
              "fromcurrent": true,
              "mode": "immediate",
              "transition": {
               "duration": 0,
               "easing": "linear"
              }
             }
            ],
            "label": "61",
            "method": "animate"
           },
           {
            "args": [
             [
              "62"
             ],
             {
              "frame": {
               "duration": 0,
               "redraw": false
              },
              "fromcurrent": true,
              "mode": "immediate",
              "transition": {
               "duration": 0,
               "easing": "linear"
              }
             }
            ],
            "label": "62",
            "method": "animate"
           },
           {
            "args": [
             [
              "63"
             ],
             {
              "frame": {
               "duration": 0,
               "redraw": false
              },
              "fromcurrent": true,
              "mode": "immediate",
              "transition": {
               "duration": 0,
               "easing": "linear"
              }
             }
            ],
            "label": "63",
            "method": "animate"
           },
           {
            "args": [
             [
              "64"
             ],
             {
              "frame": {
               "duration": 0,
               "redraw": false
              },
              "fromcurrent": true,
              "mode": "immediate",
              "transition": {
               "duration": 0,
               "easing": "linear"
              }
             }
            ],
            "label": "64",
            "method": "animate"
           },
           {
            "args": [
             [
              "65"
             ],
             {
              "frame": {
               "duration": 0,
               "redraw": false
              },
              "fromcurrent": true,
              "mode": "immediate",
              "transition": {
               "duration": 0,
               "easing": "linear"
              }
             }
            ],
            "label": "65",
            "method": "animate"
           },
           {
            "args": [
             [
              "66"
             ],
             {
              "frame": {
               "duration": 0,
               "redraw": false
              },
              "fromcurrent": true,
              "mode": "immediate",
              "transition": {
               "duration": 0,
               "easing": "linear"
              }
             }
            ],
            "label": "66",
            "method": "animate"
           },
           {
            "args": [
             [
              "67"
             ],
             {
              "frame": {
               "duration": 0,
               "redraw": false
              },
              "fromcurrent": true,
              "mode": "immediate",
              "transition": {
               "duration": 0,
               "easing": "linear"
              }
             }
            ],
            "label": "67",
            "method": "animate"
           },
           {
            "args": [
             [
              "68"
             ],
             {
              "frame": {
               "duration": 0,
               "redraw": false
              },
              "fromcurrent": true,
              "mode": "immediate",
              "transition": {
               "duration": 0,
               "easing": "linear"
              }
             }
            ],
            "label": "68",
            "method": "animate"
           },
           {
            "args": [
             [
              "69"
             ],
             {
              "frame": {
               "duration": 0,
               "redraw": false
              },
              "fromcurrent": true,
              "mode": "immediate",
              "transition": {
               "duration": 0,
               "easing": "linear"
              }
             }
            ],
            "label": "69",
            "method": "animate"
           },
           {
            "args": [
             [
              "70"
             ],
             {
              "frame": {
               "duration": 0,
               "redraw": false
              },
              "fromcurrent": true,
              "mode": "immediate",
              "transition": {
               "duration": 0,
               "easing": "linear"
              }
             }
            ],
            "label": "70",
            "method": "animate"
           },
           {
            "args": [
             [
              "71"
             ],
             {
              "frame": {
               "duration": 0,
               "redraw": false
              },
              "fromcurrent": true,
              "mode": "immediate",
              "transition": {
               "duration": 0,
               "easing": "linear"
              }
             }
            ],
            "label": "71",
            "method": "animate"
           },
           {
            "args": [
             [
              "72"
             ],
             {
              "frame": {
               "duration": 0,
               "redraw": false
              },
              "fromcurrent": true,
              "mode": "immediate",
              "transition": {
               "duration": 0,
               "easing": "linear"
              }
             }
            ],
            "label": "72",
            "method": "animate"
           },
           {
            "args": [
             [
              "73"
             ],
             {
              "frame": {
               "duration": 0,
               "redraw": false
              },
              "fromcurrent": true,
              "mode": "immediate",
              "transition": {
               "duration": 0,
               "easing": "linear"
              }
             }
            ],
            "label": "73",
            "method": "animate"
           },
           {
            "args": [
             [
              "74"
             ],
             {
              "frame": {
               "duration": 0,
               "redraw": false
              },
              "fromcurrent": true,
              "mode": "immediate",
              "transition": {
               "duration": 0,
               "easing": "linear"
              }
             }
            ],
            "label": "74",
            "method": "animate"
           },
           {
            "args": [
             [
              "75"
             ],
             {
              "frame": {
               "duration": 0,
               "redraw": false
              },
              "fromcurrent": true,
              "mode": "immediate",
              "transition": {
               "duration": 0,
               "easing": "linear"
              }
             }
            ],
            "label": "75",
            "method": "animate"
           },
           {
            "args": [
             [
              "76"
             ],
             {
              "frame": {
               "duration": 0,
               "redraw": false
              },
              "fromcurrent": true,
              "mode": "immediate",
              "transition": {
               "duration": 0,
               "easing": "linear"
              }
             }
            ],
            "label": "76",
            "method": "animate"
           },
           {
            "args": [
             [
              "77"
             ],
             {
              "frame": {
               "duration": 0,
               "redraw": false
              },
              "fromcurrent": true,
              "mode": "immediate",
              "transition": {
               "duration": 0,
               "easing": "linear"
              }
             }
            ],
            "label": "77",
            "method": "animate"
           },
           {
            "args": [
             [
              "78"
             ],
             {
              "frame": {
               "duration": 0,
               "redraw": false
              },
              "fromcurrent": true,
              "mode": "immediate",
              "transition": {
               "duration": 0,
               "easing": "linear"
              }
             }
            ],
            "label": "78",
            "method": "animate"
           },
           {
            "args": [
             [
              "79"
             ],
             {
              "frame": {
               "duration": 0,
               "redraw": false
              },
              "fromcurrent": true,
              "mode": "immediate",
              "transition": {
               "duration": 0,
               "easing": "linear"
              }
             }
            ],
            "label": "79",
            "method": "animate"
           },
           {
            "args": [
             [
              "80"
             ],
             {
              "frame": {
               "duration": 0,
               "redraw": false
              },
              "fromcurrent": true,
              "mode": "immediate",
              "transition": {
               "duration": 0,
               "easing": "linear"
              }
             }
            ],
            "label": "80",
            "method": "animate"
           },
           {
            "args": [
             [
              "81"
             ],
             {
              "frame": {
               "duration": 0,
               "redraw": false
              },
              "fromcurrent": true,
              "mode": "immediate",
              "transition": {
               "duration": 0,
               "easing": "linear"
              }
             }
            ],
            "label": "81",
            "method": "animate"
           },
           {
            "args": [
             [
              "82"
             ],
             {
              "frame": {
               "duration": 0,
               "redraw": false
              },
              "fromcurrent": true,
              "mode": "immediate",
              "transition": {
               "duration": 0,
               "easing": "linear"
              }
             }
            ],
            "label": "82",
            "method": "animate"
           },
           {
            "args": [
             [
              "83"
             ],
             {
              "frame": {
               "duration": 0,
               "redraw": false
              },
              "fromcurrent": true,
              "mode": "immediate",
              "transition": {
               "duration": 0,
               "easing": "linear"
              }
             }
            ],
            "label": "83",
            "method": "animate"
           },
           {
            "args": [
             [
              "84"
             ],
             {
              "frame": {
               "duration": 0,
               "redraw": false
              },
              "fromcurrent": true,
              "mode": "immediate",
              "transition": {
               "duration": 0,
               "easing": "linear"
              }
             }
            ],
            "label": "84",
            "method": "animate"
           },
           {
            "args": [
             [
              "85"
             ],
             {
              "frame": {
               "duration": 0,
               "redraw": false
              },
              "fromcurrent": true,
              "mode": "immediate",
              "transition": {
               "duration": 0,
               "easing": "linear"
              }
             }
            ],
            "label": "85",
            "method": "animate"
           },
           {
            "args": [
             [
              "86"
             ],
             {
              "frame": {
               "duration": 0,
               "redraw": false
              },
              "fromcurrent": true,
              "mode": "immediate",
              "transition": {
               "duration": 0,
               "easing": "linear"
              }
             }
            ],
            "label": "86",
            "method": "animate"
           },
           {
            "args": [
             [
              "87"
             ],
             {
              "frame": {
               "duration": 0,
               "redraw": false
              },
              "fromcurrent": true,
              "mode": "immediate",
              "transition": {
               "duration": 0,
               "easing": "linear"
              }
             }
            ],
            "label": "87",
            "method": "animate"
           },
           {
            "args": [
             [
              "88"
             ],
             {
              "frame": {
               "duration": 0,
               "redraw": false
              },
              "fromcurrent": true,
              "mode": "immediate",
              "transition": {
               "duration": 0,
               "easing": "linear"
              }
             }
            ],
            "label": "88",
            "method": "animate"
           },
           {
            "args": [
             [
              "89"
             ],
             {
              "frame": {
               "duration": 0,
               "redraw": false
              },
              "fromcurrent": true,
              "mode": "immediate",
              "transition": {
               "duration": 0,
               "easing": "linear"
              }
             }
            ],
            "label": "89",
            "method": "animate"
           },
           {
            "args": [
             [
              "90"
             ],
             {
              "frame": {
               "duration": 0,
               "redraw": false
              },
              "fromcurrent": true,
              "mode": "immediate",
              "transition": {
               "duration": 0,
               "easing": "linear"
              }
             }
            ],
            "label": "90",
            "method": "animate"
           },
           {
            "args": [
             [
              "91"
             ],
             {
              "frame": {
               "duration": 0,
               "redraw": false
              },
              "fromcurrent": true,
              "mode": "immediate",
              "transition": {
               "duration": 0,
               "easing": "linear"
              }
             }
            ],
            "label": "91",
            "method": "animate"
           },
           {
            "args": [
             [
              "92"
             ],
             {
              "frame": {
               "duration": 0,
               "redraw": false
              },
              "fromcurrent": true,
              "mode": "immediate",
              "transition": {
               "duration": 0,
               "easing": "linear"
              }
             }
            ],
            "label": "92",
            "method": "animate"
           },
           {
            "args": [
             [
              "93"
             ],
             {
              "frame": {
               "duration": 0,
               "redraw": false
              },
              "fromcurrent": true,
              "mode": "immediate",
              "transition": {
               "duration": 0,
               "easing": "linear"
              }
             }
            ],
            "label": "93",
            "method": "animate"
           },
           {
            "args": [
             [
              "94"
             ],
             {
              "frame": {
               "duration": 0,
               "redraw": false
              },
              "fromcurrent": true,
              "mode": "immediate",
              "transition": {
               "duration": 0,
               "easing": "linear"
              }
             }
            ],
            "label": "94",
            "method": "animate"
           },
           {
            "args": [
             [
              "95"
             ],
             {
              "frame": {
               "duration": 0,
               "redraw": false
              },
              "fromcurrent": true,
              "mode": "immediate",
              "transition": {
               "duration": 0,
               "easing": "linear"
              }
             }
            ],
            "label": "95",
            "method": "animate"
           }
          ],
          "x": 0.1,
          "xanchor": "left",
          "y": 0,
          "yanchor": "top"
         }
        ],
        "template": {
         "data": {
          "bar": [
           {
            "error_x": {
             "color": "#2a3f5f"
            },
            "error_y": {
             "color": "#2a3f5f"
            },
            "marker": {
             "line": {
              "color": "#E5ECF6",
              "width": 0.5
             },
             "pattern": {
              "fillmode": "overlay",
              "size": 10,
              "solidity": 0.2
             }
            },
            "type": "bar"
           }
          ],
          "barpolar": [
           {
            "marker": {
             "line": {
              "color": "#E5ECF6",
              "width": 0.5
             },
             "pattern": {
              "fillmode": "overlay",
              "size": 10,
              "solidity": 0.2
             }
            },
            "type": "barpolar"
           }
          ],
          "carpet": [
           {
            "aaxis": {
             "endlinecolor": "#2a3f5f",
             "gridcolor": "white",
             "linecolor": "white",
             "minorgridcolor": "white",
             "startlinecolor": "#2a3f5f"
            },
            "baxis": {
             "endlinecolor": "#2a3f5f",
             "gridcolor": "white",
             "linecolor": "white",
             "minorgridcolor": "white",
             "startlinecolor": "#2a3f5f"
            },
            "type": "carpet"
           }
          ],
          "choropleth": [
           {
            "colorbar": {
             "outlinewidth": 0,
             "ticks": ""
            },
            "type": "choropleth"
           }
          ],
          "contour": [
           {
            "colorbar": {
             "outlinewidth": 0,
             "ticks": ""
            },
            "colorscale": [
             [
              0,
              "#0d0887"
             ],
             [
              0.1111111111111111,
              "#46039f"
             ],
             [
              0.2222222222222222,
              "#7201a8"
             ],
             [
              0.3333333333333333,
              "#9c179e"
             ],
             [
              0.4444444444444444,
              "#bd3786"
             ],
             [
              0.5555555555555556,
              "#d8576b"
             ],
             [
              0.6666666666666666,
              "#ed7953"
             ],
             [
              0.7777777777777778,
              "#fb9f3a"
             ],
             [
              0.8888888888888888,
              "#fdca26"
             ],
             [
              1,
              "#f0f921"
             ]
            ],
            "type": "contour"
           }
          ],
          "contourcarpet": [
           {
            "colorbar": {
             "outlinewidth": 0,
             "ticks": ""
            },
            "type": "contourcarpet"
           }
          ],
          "heatmap": [
           {
            "colorbar": {
             "outlinewidth": 0,
             "ticks": ""
            },
            "colorscale": [
             [
              0,
              "#0d0887"
             ],
             [
              0.1111111111111111,
              "#46039f"
             ],
             [
              0.2222222222222222,
              "#7201a8"
             ],
             [
              0.3333333333333333,
              "#9c179e"
             ],
             [
              0.4444444444444444,
              "#bd3786"
             ],
             [
              0.5555555555555556,
              "#d8576b"
             ],
             [
              0.6666666666666666,
              "#ed7953"
             ],
             [
              0.7777777777777778,
              "#fb9f3a"
             ],
             [
              0.8888888888888888,
              "#fdca26"
             ],
             [
              1,
              "#f0f921"
             ]
            ],
            "type": "heatmap"
           }
          ],
          "heatmapgl": [
           {
            "colorbar": {
             "outlinewidth": 0,
             "ticks": ""
            },
            "colorscale": [
             [
              0,
              "#0d0887"
             ],
             [
              0.1111111111111111,
              "#46039f"
             ],
             [
              0.2222222222222222,
              "#7201a8"
             ],
             [
              0.3333333333333333,
              "#9c179e"
             ],
             [
              0.4444444444444444,
              "#bd3786"
             ],
             [
              0.5555555555555556,
              "#d8576b"
             ],
             [
              0.6666666666666666,
              "#ed7953"
             ],
             [
              0.7777777777777778,
              "#fb9f3a"
             ],
             [
              0.8888888888888888,
              "#fdca26"
             ],
             [
              1,
              "#f0f921"
             ]
            ],
            "type": "heatmapgl"
           }
          ],
          "histogram": [
           {
            "marker": {
             "pattern": {
              "fillmode": "overlay",
              "size": 10,
              "solidity": 0.2
             }
            },
            "type": "histogram"
           }
          ],
          "histogram2d": [
           {
            "colorbar": {
             "outlinewidth": 0,
             "ticks": ""
            },
            "colorscale": [
             [
              0,
              "#0d0887"
             ],
             [
              0.1111111111111111,
              "#46039f"
             ],
             [
              0.2222222222222222,
              "#7201a8"
             ],
             [
              0.3333333333333333,
              "#9c179e"
             ],
             [
              0.4444444444444444,
              "#bd3786"
             ],
             [
              0.5555555555555556,
              "#d8576b"
             ],
             [
              0.6666666666666666,
              "#ed7953"
             ],
             [
              0.7777777777777778,
              "#fb9f3a"
             ],
             [
              0.8888888888888888,
              "#fdca26"
             ],
             [
              1,
              "#f0f921"
             ]
            ],
            "type": "histogram2d"
           }
          ],
          "histogram2dcontour": [
           {
            "colorbar": {
             "outlinewidth": 0,
             "ticks": ""
            },
            "colorscale": [
             [
              0,
              "#0d0887"
             ],
             [
              0.1111111111111111,
              "#46039f"
             ],
             [
              0.2222222222222222,
              "#7201a8"
             ],
             [
              0.3333333333333333,
              "#9c179e"
             ],
             [
              0.4444444444444444,
              "#bd3786"
             ],
             [
              0.5555555555555556,
              "#d8576b"
             ],
             [
              0.6666666666666666,
              "#ed7953"
             ],
             [
              0.7777777777777778,
              "#fb9f3a"
             ],
             [
              0.8888888888888888,
              "#fdca26"
             ],
             [
              1,
              "#f0f921"
             ]
            ],
            "type": "histogram2dcontour"
           }
          ],
          "mesh3d": [
           {
            "colorbar": {
             "outlinewidth": 0,
             "ticks": ""
            },
            "type": "mesh3d"
           }
          ],
          "parcoords": [
           {
            "line": {
             "colorbar": {
              "outlinewidth": 0,
              "ticks": ""
             }
            },
            "type": "parcoords"
           }
          ],
          "pie": [
           {
            "automargin": true,
            "type": "pie"
           }
          ],
          "scatter": [
           {
            "fillpattern": {
             "fillmode": "overlay",
             "size": 10,
             "solidity": 0.2
            },
            "type": "scatter"
           }
          ],
          "scatter3d": [
           {
            "line": {
             "colorbar": {
              "outlinewidth": 0,
              "ticks": ""
             }
            },
            "marker": {
             "colorbar": {
              "outlinewidth": 0,
              "ticks": ""
             }
            },
            "type": "scatter3d"
           }
          ],
          "scattercarpet": [
           {
            "marker": {
             "colorbar": {
              "outlinewidth": 0,
              "ticks": ""
             }
            },
            "type": "scattercarpet"
           }
          ],
          "scattergeo": [
           {
            "marker": {
             "colorbar": {
              "outlinewidth": 0,
              "ticks": ""
             }
            },
            "type": "scattergeo"
           }
          ],
          "scattergl": [
           {
            "marker": {
             "colorbar": {
              "outlinewidth": 0,
              "ticks": ""
             }
            },
            "type": "scattergl"
           }
          ],
          "scattermapbox": [
           {
            "marker": {
             "colorbar": {
              "outlinewidth": 0,
              "ticks": ""
             }
            },
            "type": "scattermapbox"
           }
          ],
          "scatterpolar": [
           {
            "marker": {
             "colorbar": {
              "outlinewidth": 0,
              "ticks": ""
             }
            },
            "type": "scatterpolar"
           }
          ],
          "scatterpolargl": [
           {
            "marker": {
             "colorbar": {
              "outlinewidth": 0,
              "ticks": ""
             }
            },
            "type": "scatterpolargl"
           }
          ],
          "scatterternary": [
           {
            "marker": {
             "colorbar": {
              "outlinewidth": 0,
              "ticks": ""
             }
            },
            "type": "scatterternary"
           }
          ],
          "surface": [
           {
            "colorbar": {
             "outlinewidth": 0,
             "ticks": ""
            },
            "colorscale": [
             [
              0,
              "#0d0887"
             ],
             [
              0.1111111111111111,
              "#46039f"
             ],
             [
              0.2222222222222222,
              "#7201a8"
             ],
             [
              0.3333333333333333,
              "#9c179e"
             ],
             [
              0.4444444444444444,
              "#bd3786"
             ],
             [
              0.5555555555555556,
              "#d8576b"
             ],
             [
              0.6666666666666666,
              "#ed7953"
             ],
             [
              0.7777777777777778,
              "#fb9f3a"
             ],
             [
              0.8888888888888888,
              "#fdca26"
             ],
             [
              1,
              "#f0f921"
             ]
            ],
            "type": "surface"
           }
          ],
          "table": [
           {
            "cells": {
             "fill": {
              "color": "#EBF0F8"
             },
             "line": {
              "color": "white"
             }
            },
            "header": {
             "fill": {
              "color": "#C8D4E3"
             },
             "line": {
              "color": "white"
             }
            },
            "type": "table"
           }
          ]
         },
         "layout": {
          "annotationdefaults": {
           "arrowcolor": "#2a3f5f",
           "arrowhead": 0,
           "arrowwidth": 1
          },
          "autotypenumbers": "strict",
          "coloraxis": {
           "colorbar": {
            "outlinewidth": 0,
            "ticks": ""
           }
          },
          "colorscale": {
           "diverging": [
            [
             0,
             "#8e0152"
            ],
            [
             0.1,
             "#c51b7d"
            ],
            [
             0.2,
             "#de77ae"
            ],
            [
             0.3,
             "#f1b6da"
            ],
            [
             0.4,
             "#fde0ef"
            ],
            [
             0.5,
             "#f7f7f7"
            ],
            [
             0.6,
             "#e6f5d0"
            ],
            [
             0.7,
             "#b8e186"
            ],
            [
             0.8,
             "#7fbc41"
            ],
            [
             0.9,
             "#4d9221"
            ],
            [
             1,
             "#276419"
            ]
           ],
           "sequential": [
            [
             0,
             "#0d0887"
            ],
            [
             0.1111111111111111,
             "#46039f"
            ],
            [
             0.2222222222222222,
             "#7201a8"
            ],
            [
             0.3333333333333333,
             "#9c179e"
            ],
            [
             0.4444444444444444,
             "#bd3786"
            ],
            [
             0.5555555555555556,
             "#d8576b"
            ],
            [
             0.6666666666666666,
             "#ed7953"
            ],
            [
             0.7777777777777778,
             "#fb9f3a"
            ],
            [
             0.8888888888888888,
             "#fdca26"
            ],
            [
             1,
             "#f0f921"
            ]
           ],
           "sequentialminus": [
            [
             0,
             "#0d0887"
            ],
            [
             0.1111111111111111,
             "#46039f"
            ],
            [
             0.2222222222222222,
             "#7201a8"
            ],
            [
             0.3333333333333333,
             "#9c179e"
            ],
            [
             0.4444444444444444,
             "#bd3786"
            ],
            [
             0.5555555555555556,
             "#d8576b"
            ],
            [
             0.6666666666666666,
             "#ed7953"
            ],
            [
             0.7777777777777778,
             "#fb9f3a"
            ],
            [
             0.8888888888888888,
             "#fdca26"
            ],
            [
             1,
             "#f0f921"
            ]
           ]
          },
          "colorway": [
           "#636efa",
           "#EF553B",
           "#00cc96",
           "#ab63fa",
           "#FFA15A",
           "#19d3f3",
           "#FF6692",
           "#B6E880",
           "#FF97FF",
           "#FECB52"
          ],
          "font": {
           "color": "#2a3f5f"
          },
          "geo": {
           "bgcolor": "white",
           "lakecolor": "white",
           "landcolor": "#E5ECF6",
           "showlakes": true,
           "showland": true,
           "subunitcolor": "white"
          },
          "hoverlabel": {
           "align": "left"
          },
          "hovermode": "closest",
          "mapbox": {
           "style": "light"
          },
          "paper_bgcolor": "white",
          "plot_bgcolor": "#E5ECF6",
          "polar": {
           "angularaxis": {
            "gridcolor": "white",
            "linecolor": "white",
            "ticks": ""
           },
           "bgcolor": "#E5ECF6",
           "radialaxis": {
            "gridcolor": "white",
            "linecolor": "white",
            "ticks": ""
           }
          },
          "scene": {
           "xaxis": {
            "backgroundcolor": "#E5ECF6",
            "gridcolor": "white",
            "gridwidth": 2,
            "linecolor": "white",
            "showbackground": true,
            "ticks": "",
            "zerolinecolor": "white"
           },
           "yaxis": {
            "backgroundcolor": "#E5ECF6",
            "gridcolor": "white",
            "gridwidth": 2,
            "linecolor": "white",
            "showbackground": true,
            "ticks": "",
            "zerolinecolor": "white"
           },
           "zaxis": {
            "backgroundcolor": "#E5ECF6",
            "gridcolor": "white",
            "gridwidth": 2,
            "linecolor": "white",
            "showbackground": true,
            "ticks": "",
            "zerolinecolor": "white"
           }
          },
          "shapedefaults": {
           "line": {
            "color": "#2a3f5f"
           }
          },
          "ternary": {
           "aaxis": {
            "gridcolor": "white",
            "linecolor": "white",
            "ticks": ""
           },
           "baxis": {
            "gridcolor": "white",
            "linecolor": "white",
            "ticks": ""
           },
           "bgcolor": "#E5ECF6",
           "caxis": {
            "gridcolor": "white",
            "linecolor": "white",
            "ticks": ""
           }
          },
          "title": {
           "x": 0.05
          },
          "xaxis": {
           "automargin": true,
           "gridcolor": "white",
           "linecolor": "white",
           "ticks": "",
           "title": {
            "standoff": 15
           },
           "zerolinecolor": "white",
           "zerolinewidth": 2
          },
          "yaxis": {
           "automargin": true,
           "gridcolor": "white",
           "linecolor": "white",
           "ticks": "",
           "title": {
            "standoff": 15
           },
           "zerolinecolor": "white",
           "zerolinewidth": 2
          }
         }
        },
        "updatemenus": [
         {
          "buttons": [
           {
            "args": [
             null,
             {
              "frame": {
               "duration": 500,
               "redraw": false
              },
              "fromcurrent": true,
              "mode": "immediate",
              "transition": {
               "duration": 500,
               "easing": "linear"
              }
             }
            ],
            "label": "&#9654;",
            "method": "animate"
           },
           {
            "args": [
             [
              null
             ],
             {
              "frame": {
               "duration": 0,
               "redraw": false
              },
              "fromcurrent": true,
              "mode": "immediate",
              "transition": {
               "duration": 0,
               "easing": "linear"
              }
             }
            ],
            "label": "&#9724;",
            "method": "animate"
           }
          ],
          "direction": "left",
          "pad": {
           "r": 10,
           "t": 70
          },
          "showactive": false,
          "type": "buttons",
          "x": 0.1,
          "xanchor": "right",
          "y": 0,
          "yanchor": "top"
         }
        ],
        "xaxis": {
         "anchor": "y",
         "domain": [
          0,
          1
         ],
         "title": {
          "text": "periodstep"
         }
        },
        "yaxis": {
         "anchor": "x",
         "domain": [
          0,
          1
         ],
         "title": {
          "text": "value"
         }
        }
       }
      }
     },
     "metadata": {},
     "output_type": "display_data"
    }
   ],
   "source": [
    "fig = px.line(ddf, x=\"periodstep\", y=[\"HistoricalPrice\", \"FuturePrice\", \"Predicted\"], animation_frame=\"timestep\")\n",
    "fig.update_layout(height=700)  \n",
    "fig.show()"
   ]
  },
  {
   "cell_type": "code",
   "execution_count": 18,
   "metadata": {},
   "outputs": [
    {
     "name": "stdout",
     "output_type": "stream",
     "text": [
      "RMSE for the predictions by AESO for the same time period as the test set: 117.54 CAD/MWh\n"
     ]
    }
   ],
   "source": [
    "ph.get_aeso_predictions(y_test.index[0], y_test.index[-1])"
   ]
  }
 ],
 "metadata": {
  "kernelspec": {
   "display_name": "slalomenv",
   "language": "python",
   "name": "python3"
  },
  "language_info": {
   "codemirror_mode": {
    "name": "ipython",
    "version": 3
   },
   "file_extension": ".py",
   "mimetype": "text/x-python",
   "name": "python",
   "nbconvert_exporter": "python",
   "pygments_lexer": "ipython3",
   "version": "3.11.3"
  },
  "orig_nbformat": 4
 },
 "nbformat": 4,
 "nbformat_minor": 2
}
