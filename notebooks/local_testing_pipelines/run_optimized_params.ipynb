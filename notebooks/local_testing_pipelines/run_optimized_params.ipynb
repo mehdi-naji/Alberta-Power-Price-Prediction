{
 "cells": [
  {
   "cell_type": "code",
   "execution_count": 1,
   "metadata": {},
   "outputs": [],
   "source": [
    "import pandas as pd\n",
    "import numpy as np\n",
    "from sktime.forecasting.base import ForecastingHorizon\n",
    "from sklearn.metrics import mean_squared_error\n",
    "import plotly.express as px\n",
    "\n",
    "import warnings\n",
    "\n",
    "warnings.filterwarnings(\"ignore\")"
   ]
  },
  {
   "cell_type": "code",
   "execution_count": 2,
   "metadata": {},
   "outputs": [],
   "source": [
    "import sys\n",
    "sys.path.append(\"../utils/\")"
   ]
  },
  {
   "cell_type": "code",
   "execution_count": 3,
   "metadata": {},
   "outputs": [],
   "source": [
    "import pipeline_helpers as ph"
   ]
  },
  {
   "attachments": {},
   "cell_type": "markdown",
   "metadata": {},
   "source": [
    "### Pipeline to evaluate the optimized hyperparameters on the test set\n",
    "- Update pool price one at a time."
   ]
  },
  {
   "cell_type": "code",
   "execution_count": 4,
   "metadata": {},
   "outputs": [],
   "source": [
    "X_train = pd.read_csv(\n",
    "    \"https://raw.githubusercontent.com/slalom-ubc-mds/Power-Price-Prediction/main/data/processed/train/X_train.csv\",\n",
    "    parse_dates=[\"date\"],\n",
    "    index_col=\"date\",\n",
    ")\n",
    "\n",
    "y_train = pd.read_csv(\n",
    "    \"https://raw.githubusercontent.com/slalom-ubc-mds/Power-Price-Prediction/main/data/processed/train/y_train.csv\",\n",
    "    parse_dates=[\"date\"],\n",
    "    index_col=\"date\",\n",
    ")\n",
    "\n",
    "X_train = X_train.sort_values(by=\"date\")\n",
    "X_train = X_train.asfreq(\"H\")\n",
    "y_train = y_train.sort_values(by=\"date\")\n",
    "y_train = y_train.asfreq(\"H\")"
   ]
  },
  {
   "cell_type": "code",
   "execution_count": 5,
   "metadata": {},
   "outputs": [],
   "source": [
    "X_test = pd.read_csv(\n",
    "    \"https://raw.githubusercontent.com/slalom-ubc-mds/Power-Price-Prediction/main/data/processed/test/X_test.csv\",\n",
    "    parse_dates=[\"date\"],\n",
    "    index_col=\"date\",\n",
    ")\n",
    "\n",
    "y_test = pd.read_csv(\n",
    "    \"https://raw.githubusercontent.com/slalom-ubc-mds/Power-Price-Prediction/main/data/processed/test/y_test.csv\",\n",
    "    parse_dates=[\"date\"],\n",
    "    index_col=\"date\",\n",
    ")\n",
    "\n",
    "X_test = X_test.sort_values(by=\"date\")\n",
    "X_test = X_test.asfreq(\"H\")\n",
    "y_test = y_test.sort_values(by=\"date\")\n",
    "y_test = y_test.asfreq(\"H\")"
   ]
  },
  {
   "cell_type": "code",
   "execution_count": null,
   "metadata": {},
   "outputs": [],
   "source": [
    "y_hist = pd.read_csv(\n",
    "    \"https://raw.githubusercontent.com/slalom-ubc-mds/Power-Price-Prediction/main/data/processed/complete_data/target.csv\",\n",
    "    parse_dates=[\"date\"],\n",
    "    index_col=\"date\",\n",
    ")\n",
    "\n",
    "y_hist = y_hist.sort_values(by=\"date\")\n",
    "y_hist = y_hist.asfreq(\"H\")"
   ]
  },
  {
   "cell_type": "code",
   "execution_count": 6,
   "metadata": {},
   "outputs": [],
   "source": [
    "X_test = X_test[:\"2023-02-03\"]\n",
    "y_test = y_test[:\"2023-02-03\"]"
   ]
  },
  {
   "cell_type": "code",
   "execution_count": 7,
   "metadata": {},
   "outputs": [],
   "source": [
    "lgbm_pipeline = ph.initialize_optimized_lgbm_forecaster()\n",
    "fh = ForecastingHorizon(np.arange(1, 12 + 1))"
   ]
  },
  {
   "cell_type": "code",
   "execution_count": 8,
   "metadata": {},
   "outputs": [],
   "source": [
    "forecast_len = 12\n",
    "step_length = 1"
   ]
  },
  {
   "cell_type": "code",
   "execution_count": 9,
   "metadata": {},
   "outputs": [
    {
     "name": "stdout",
     "output_type": "stream",
     "text": [
      "[LightGBM] [Warning] min_data_in_leaf is set=20, min_child_samples=20 will be ignored. Current value: min_data_in_leaf=20\n",
      "[LightGBM] [Warning] num_threads is set=12, n_jobs=-1 will be ignored. Current value: num_threads=12\n"
     ]
    },
    {
     "data": {
      "text/html": [
       "<style>#sk-cc7b8018-4a3f-4289-99c1-b31626c5f3e5 {color: black;background-color: white;}#sk-cc7b8018-4a3f-4289-99c1-b31626c5f3e5 pre{padding: 0;}#sk-cc7b8018-4a3f-4289-99c1-b31626c5f3e5 div.sk-toggleable {background-color: white;}#sk-cc7b8018-4a3f-4289-99c1-b31626c5f3e5 label.sk-toggleable__label {cursor: pointer;display: block;width: 100%;margin-bottom: 0;padding: 0.3em;box-sizing: border-box;text-align: center;}#sk-cc7b8018-4a3f-4289-99c1-b31626c5f3e5 label.sk-toggleable__label-arrow:before {content: \"▸\";float: left;margin-right: 0.25em;color: #696969;}#sk-cc7b8018-4a3f-4289-99c1-b31626c5f3e5 label.sk-toggleable__label-arrow:hover:before {color: black;}#sk-cc7b8018-4a3f-4289-99c1-b31626c5f3e5 div.sk-estimator:hover label.sk-toggleable__label-arrow:before {color: black;}#sk-cc7b8018-4a3f-4289-99c1-b31626c5f3e5 div.sk-toggleable__content {max-height: 0;max-width: 0;overflow: hidden;text-align: left;background-color: #f0f8ff;}#sk-cc7b8018-4a3f-4289-99c1-b31626c5f3e5 div.sk-toggleable__content pre {margin: 0.2em;color: black;border-radius: 0.25em;background-color: #f0f8ff;}#sk-cc7b8018-4a3f-4289-99c1-b31626c5f3e5 input.sk-toggleable__control:checked~div.sk-toggleable__content {max-height: 200px;max-width: 100%;overflow: auto;}#sk-cc7b8018-4a3f-4289-99c1-b31626c5f3e5 input.sk-toggleable__control:checked~label.sk-toggleable__label-arrow:before {content: \"▾\";}#sk-cc7b8018-4a3f-4289-99c1-b31626c5f3e5 div.sk-estimator input.sk-toggleable__control:checked~label.sk-toggleable__label {background-color: #d4ebff;}#sk-cc7b8018-4a3f-4289-99c1-b31626c5f3e5 div.sk-label input.sk-toggleable__control:checked~label.sk-toggleable__label {background-color: #d4ebff;}#sk-cc7b8018-4a3f-4289-99c1-b31626c5f3e5 input.sk-hidden--visually {border: 0;clip: rect(1px 1px 1px 1px);clip: rect(1px, 1px, 1px, 1px);height: 1px;margin: -1px;overflow: hidden;padding: 0;position: absolute;width: 1px;}#sk-cc7b8018-4a3f-4289-99c1-b31626c5f3e5 div.sk-estimator {font-family: monospace;background-color: #f0f8ff;border: 1px dotted black;border-radius: 0.25em;box-sizing: border-box;margin-bottom: 0.5em;}#sk-cc7b8018-4a3f-4289-99c1-b31626c5f3e5 div.sk-estimator:hover {background-color: #d4ebff;}#sk-cc7b8018-4a3f-4289-99c1-b31626c5f3e5 div.sk-parallel-item::after {content: \"\";width: 100%;border-bottom: 1px solid gray;flex-grow: 1;}#sk-cc7b8018-4a3f-4289-99c1-b31626c5f3e5 div.sk-label:hover label.sk-toggleable__label {background-color: #d4ebff;}#sk-cc7b8018-4a3f-4289-99c1-b31626c5f3e5 div.sk-serial::before {content: \"\";position: absolute;border-left: 1px solid gray;box-sizing: border-box;top: 2em;bottom: 0;left: 50%;}#sk-cc7b8018-4a3f-4289-99c1-b31626c5f3e5 div.sk-serial {display: flex;flex-direction: column;align-items: center;background-color: white;padding-right: 0.2em;padding-left: 0.2em;}#sk-cc7b8018-4a3f-4289-99c1-b31626c5f3e5 div.sk-item {z-index: 1;}#sk-cc7b8018-4a3f-4289-99c1-b31626c5f3e5 div.sk-parallel {display: flex;align-items: stretch;justify-content: center;background-color: white;}#sk-cc7b8018-4a3f-4289-99c1-b31626c5f3e5 div.sk-parallel::before {content: \"\";position: absolute;border-left: 1px solid gray;box-sizing: border-box;top: 2em;bottom: 0;left: 50%;}#sk-cc7b8018-4a3f-4289-99c1-b31626c5f3e5 div.sk-parallel-item {display: flex;flex-direction: column;position: relative;background-color: white;}#sk-cc7b8018-4a3f-4289-99c1-b31626c5f3e5 div.sk-parallel-item:first-child::after {align-self: flex-end;width: 50%;}#sk-cc7b8018-4a3f-4289-99c1-b31626c5f3e5 div.sk-parallel-item:last-child::after {align-self: flex-start;width: 50%;}#sk-cc7b8018-4a3f-4289-99c1-b31626c5f3e5 div.sk-parallel-item:only-child::after {width: 0;}#sk-cc7b8018-4a3f-4289-99c1-b31626c5f3e5 div.sk-dashed-wrapped {border: 1px dashed gray;margin: 0 0.4em 0.5em 0.4em;box-sizing: border-box;padding-bottom: 0.4em;background-color: white;position: relative;}#sk-cc7b8018-4a3f-4289-99c1-b31626c5f3e5 div.sk-label label {font-family: monospace;font-weight: bold;background-color: white;display: inline-block;line-height: 1.2em;}#sk-cc7b8018-4a3f-4289-99c1-b31626c5f3e5 div.sk-label-container {position: relative;z-index: 2;text-align: center;}#sk-cc7b8018-4a3f-4289-99c1-b31626c5f3e5 div.sk-container {/* jupyter's `normalize.less` sets `[hidden] { display: none; }` but bootstrap.min.css set `[hidden] { display: none !important; }` so we also need the `!important` here to be able to override the default hidden behavior on the sphinx rendered scikit-learn.org. See: https://github.com/scikit-learn/scikit-learn/issues/21755 */display: inline-block !important;position: relative;}#sk-cc7b8018-4a3f-4289-99c1-b31626c5f3e5 div.sk-text-repr-fallback {display: none;}</style><div id='sk-cc7b8018-4a3f-4289-99c1-b31626c5f3e5' class=\"sk-top-container\"><div class=\"sk-text-repr-fallback\"><pre>ForecastingPipeline(steps=[(&#x27;forecaster&#x27;,\n",
       "                            TransformedTargetForecaster(steps=[(&#x27;forecast&#x27;,\n",
       "                                                                DirectTabularRegressionForecaster(estimator=LGBMRegressor(boosting_type=&#x27;dart&#x27;, device=&#x27;gpu&#x27;, learning_rate=0.01,\n",
       "              max_depth=15, min_data_in_leaf=20, n_estimators=1000,\n",
       "              num_leaves=70, num_threads=12, reg_alpha=30, reg_lambda=20),\n",
       "                                                                                                  window_length=24))]))])</pre><b>Please rerun this cell to show the HTML repr or trust the notebook.</b></div><div class=\"sk-container\" hidden><div class=\"sk-item sk-dashed-wrapped\"><div class='sk-label-container'><div class=\"sk-label sk-toggleable\"><input class=\"sk-toggleable__control sk-hidden--visually\" id=UUID('5a035185-9a63-44f3-9356-6b8e6dd313e9') type=\"checkbox\" ><label for=UUID('5a035185-9a63-44f3-9356-6b8e6dd313e9') class='sk-toggleable__label sk-toggleable__label-arrow'>ForecastingPipeline</label><div class=\"sk-toggleable__content\"><pre>ForecastingPipeline(steps=[(&#x27;forecaster&#x27;,\n",
       "                            TransformedTargetForecaster(steps=[(&#x27;forecast&#x27;,\n",
       "                                                                DirectTabularRegressionForecaster(estimator=LGBMRegressor(boosting_type=&#x27;dart&#x27;, device=&#x27;gpu&#x27;, learning_rate=0.01,\n",
       "              max_depth=15, min_data_in_leaf=20, n_estimators=1000,\n",
       "              num_leaves=70, num_threads=12, reg_alpha=30, reg_lambda=20),\n",
       "                                                                                                  window_length=24))]))])</pre></div></div></div><div class=\"sk-parallel\"><div class=\"sk-parallel-item\"><div class=\"sk-item\"><div class=\"sk-serial\"><div class=\"sk-item sk-dashed-wrapped\"><div class=\"sk-parallel\"><div class=\"sk-parallel-item\"><div class=\"sk-item\"><div class=\"sk-serial\"><div class=\"sk-item sk-dashed-wrapped\"><div class=\"sk-parallel\"><div class=\"sk-parallel-item\"><div class=\"sk-item\"><div class=\"sk-serial\"><div class='sk-item'><div class=\"sk-estimator sk-toggleable\"><input class=\"sk-toggleable__control sk-hidden--visually\" id=UUID('6b146c8e-de15-44b8-95f2-2e5016fab5f8') type=\"checkbox\" ><label for=UUID('6b146c8e-de15-44b8-95f2-2e5016fab5f8') class='sk-toggleable__label sk-toggleable__label-arrow'>LGBMRegressor</label><div class=\"sk-toggleable__content\"><pre>LGBMRegressor(boosting_type=&#x27;dart&#x27;, device=&#x27;gpu&#x27;, learning_rate=0.01,\n",
       "              max_depth=15, min_data_in_leaf=20, n_estimators=1000,\n",
       "              num_leaves=70, num_threads=12, reg_alpha=30, reg_lambda=20)</pre></div></div></div></div></div></div></div></div></div></div></div></div></div></div></div></div></div></div></div></div>"
      ],
      "text/plain": [
       "ForecastingPipeline(steps=[('forecaster',\n",
       "                            TransformedTargetForecaster(steps=[('forecast',\n",
       "                                                                DirectTabularRegressionForecaster(estimator=LGBMRegressor(boosting_type='dart', device='gpu', learning_rate=0.01,\n",
       "              max_depth=15, min_data_in_leaf=20, n_estimators=1000,\n",
       "              num_leaves=70, num_threads=12, reg_alpha=30, reg_lambda=20),\n",
       "                                                                                                  window_length=24))]))])"
      ]
     },
     "execution_count": 9,
     "metadata": {},
     "output_type": "execute_result"
    }
   ],
   "source": [
    "lgbm_pipeline.fit(y=y_train, X=X_train, fh=fh)"
   ]
  },
  {
   "cell_type": "code",
   "execution_count": 10,
   "metadata": {},
   "outputs": [
    {
     "name": "stdout",
     "output_type": "stream",
     "text": [
      "[LightGBM] [Warning] min_data_in_leaf is set=20, min_child_samples=20 will be ignored. Current value: min_data_in_leaf=20\n",
      "[LightGBM] [Warning] num_threads is set=12, n_jobs=-1 will be ignored. Current value: num_threads=12\n",
      "[LightGBM] [Warning] min_data_in_leaf is set=20, min_child_samples=20 will be ignored. Current value: min_data_in_leaf=20\n",
      "[LightGBM] [Warning] num_threads is set=12, n_jobs=-1 will be ignored. Current value: num_threads=12\n",
      "[LightGBM] [Warning] min_data_in_leaf is set=20, min_child_samples=20 will be ignored. Current value: min_data_in_leaf=20\n",
      "[LightGBM] [Warning] num_threads is set=12, n_jobs=-1 will be ignored. Current value: num_threads=12\n",
      "[LightGBM] [Warning] min_data_in_leaf is set=20, min_child_samples=20 will be ignored. Current value: min_data_in_leaf=20\n",
      "[LightGBM] [Warning] num_threads is set=12, n_jobs=-1 will be ignored. Current value: num_threads=12\n",
      "[LightGBM] [Warning] min_data_in_leaf is set=20, min_child_samples=20 will be ignored. Current value: min_data_in_leaf=20\n",
      "[LightGBM] [Warning] num_threads is set=12, n_jobs=-1 will be ignored. Current value: num_threads=12\n",
      "[LightGBM] [Warning] min_data_in_leaf is set=20, min_child_samples=20 will be ignored. Current value: min_data_in_leaf=20\n",
      "[LightGBM] [Warning] num_threads is set=12, n_jobs=-1 will be ignored. Current value: num_threads=12\n",
      "[LightGBM] [Warning] min_data_in_leaf is set=20, min_child_samples=20 will be ignored. Current value: min_data_in_leaf=20\n",
      "[LightGBM] [Warning] num_threads is set=12, n_jobs=-1 will be ignored. Current value: num_threads=12\n",
      "[LightGBM] [Warning] min_data_in_leaf is set=20, min_child_samples=20 will be ignored. Current value: min_data_in_leaf=20\n",
      "[LightGBM] [Warning] num_threads is set=12, n_jobs=-1 will be ignored. Current value: num_threads=12\n",
      "[LightGBM] [Warning] min_data_in_leaf is set=20, min_child_samples=20 will be ignored. Current value: min_data_in_leaf=20\n",
      "[LightGBM] [Warning] num_threads is set=12, n_jobs=-1 will be ignored. Current value: num_threads=12\n",
      "[LightGBM] [Warning] min_data_in_leaf is set=20, min_child_samples=20 will be ignored. Current value: min_data_in_leaf=20\n",
      "[LightGBM] [Warning] num_threads is set=12, n_jobs=-1 will be ignored. Current value: num_threads=12\n",
      "[LightGBM] [Warning] min_data_in_leaf is set=20, min_child_samples=20 will be ignored. Current value: min_data_in_leaf=20\n",
      "[LightGBM] [Warning] num_threads is set=12, n_jobs=-1 will be ignored. Current value: num_threads=12\n",
      "[LightGBM] [Warning] min_data_in_leaf is set=20, min_child_samples=20 will be ignored. Current value: min_data_in_leaf=20\n",
      "[LightGBM] [Warning] num_threads is set=12, n_jobs=-1 will be ignored. Current value: num_threads=12\n",
      "[LightGBM] [Warning] min_data_in_leaf is set=20, min_child_samples=20 will be ignored. Current value: min_data_in_leaf=20\n",
      "[LightGBM] [Warning] num_threads is set=12, n_jobs=-1 will be ignored. Current value: num_threads=12\n",
      "[LightGBM] [Warning] min_data_in_leaf is set=20, min_child_samples=20 will be ignored. Current value: min_data_in_leaf=20\n",
      "[LightGBM] [Warning] num_threads is set=12, n_jobs=-1 will be ignored. Current value: num_threads=12\n",
      "[LightGBM] [Warning] min_data_in_leaf is set=20, min_child_samples=20 will be ignored. Current value: min_data_in_leaf=20\n",
      "[LightGBM] [Warning] num_threads is set=12, n_jobs=-1 will be ignored. Current value: num_threads=12\n",
      "[LightGBM] [Warning] min_data_in_leaf is set=20, min_child_samples=20 will be ignored. Current value: min_data_in_leaf=20\n",
      "[LightGBM] [Warning] num_threads is set=12, n_jobs=-1 will be ignored. Current value: num_threads=12\n",
      "[LightGBM] [Warning] min_data_in_leaf is set=20, min_child_samples=20 will be ignored. Current value: min_data_in_leaf=20\n",
      "[LightGBM] [Warning] num_threads is set=12, n_jobs=-1 will be ignored. Current value: num_threads=12\n",
      "[LightGBM] [Warning] min_data_in_leaf is set=20, min_child_samples=20 will be ignored. Current value: min_data_in_leaf=20\n",
      "[LightGBM] [Warning] num_threads is set=12, n_jobs=-1 will be ignored. Current value: num_threads=12\n",
      "[LightGBM] [Warning] min_data_in_leaf is set=20, min_child_samples=20 will be ignored. Current value: min_data_in_leaf=20\n",
      "[LightGBM] [Warning] num_threads is set=12, n_jobs=-1 will be ignored. Current value: num_threads=12\n",
      "[LightGBM] [Warning] min_data_in_leaf is set=20, min_child_samples=20 will be ignored. Current value: min_data_in_leaf=20\n",
      "[LightGBM] [Warning] num_threads is set=12, n_jobs=-1 will be ignored. Current value: num_threads=12\n",
      "[LightGBM] [Warning] min_data_in_leaf is set=20, min_child_samples=20 will be ignored. Current value: min_data_in_leaf=20\n",
      "[LightGBM] [Warning] num_threads is set=12, n_jobs=-1 will be ignored. Current value: num_threads=12\n",
      "[LightGBM] [Warning] min_data_in_leaf is set=20, min_child_samples=20 will be ignored. Current value: min_data_in_leaf=20\n",
      "[LightGBM] [Warning] num_threads is set=12, n_jobs=-1 will be ignored. Current value: num_threads=12\n",
      "[LightGBM] [Warning] min_data_in_leaf is set=20, min_child_samples=20 will be ignored. Current value: min_data_in_leaf=20\n",
      "[LightGBM] [Warning] num_threads is set=12, n_jobs=-1 will be ignored. Current value: num_threads=12\n",
      "[LightGBM] [Warning] min_data_in_leaf is set=20, min_child_samples=20 will be ignored. Current value: min_data_in_leaf=20\n",
      "[LightGBM] [Warning] num_threads is set=12, n_jobs=-1 will be ignored. Current value: num_threads=12\n",
      "[LightGBM] [Warning] min_data_in_leaf is set=20, min_child_samples=20 will be ignored. Current value: min_data_in_leaf=20\n",
      "[LightGBM] [Warning] num_threads is set=12, n_jobs=-1 will be ignored. Current value: num_threads=12\n",
      "[LightGBM] [Warning] min_data_in_leaf is set=20, min_child_samples=20 will be ignored. Current value: min_data_in_leaf=20\n",
      "[LightGBM] [Warning] num_threads is set=12, n_jobs=-1 will be ignored. Current value: num_threads=12\n",
      "[LightGBM] [Warning] min_data_in_leaf is set=20, min_child_samples=20 will be ignored. Current value: min_data_in_leaf=20\n",
      "[LightGBM] [Warning] num_threads is set=12, n_jobs=-1 will be ignored. Current value: num_threads=12\n",
      "[LightGBM] [Warning] min_data_in_leaf is set=20, min_child_samples=20 will be ignored. Current value: min_data_in_leaf=20\n",
      "[LightGBM] [Warning] num_threads is set=12, n_jobs=-1 will be ignored. Current value: num_threads=12\n",
      "[LightGBM] [Warning] min_data_in_leaf is set=20, min_child_samples=20 will be ignored. Current value: min_data_in_leaf=20\n",
      "[LightGBM] [Warning] num_threads is set=12, n_jobs=-1 will be ignored. Current value: num_threads=12\n",
      "[LightGBM] [Warning] min_data_in_leaf is set=20, min_child_samples=20 will be ignored. Current value: min_data_in_leaf=20\n",
      "[LightGBM] [Warning] num_threads is set=12, n_jobs=-1 will be ignored. Current value: num_threads=12\n",
      "[LightGBM] [Warning] min_data_in_leaf is set=20, min_child_samples=20 will be ignored. Current value: min_data_in_leaf=20\n",
      "[LightGBM] [Warning] num_threads is set=12, n_jobs=-1 will be ignored. Current value: num_threads=12\n",
      "[LightGBM] [Warning] min_data_in_leaf is set=20, min_child_samples=20 will be ignored. Current value: min_data_in_leaf=20\n",
      "[LightGBM] [Warning] num_threads is set=12, n_jobs=-1 will be ignored. Current value: num_threads=12\n",
      "[LightGBM] [Warning] min_data_in_leaf is set=20, min_child_samples=20 will be ignored. Current value: min_data_in_leaf=20\n",
      "[LightGBM] [Warning] num_threads is set=12, n_jobs=-1 will be ignored. Current value: num_threads=12\n",
      "[LightGBM] [Warning] min_data_in_leaf is set=20, min_child_samples=20 will be ignored. Current value: min_data_in_leaf=20\n",
      "[LightGBM] [Warning] num_threads is set=12, n_jobs=-1 will be ignored. Current value: num_threads=12\n",
      "[LightGBM] [Warning] min_data_in_leaf is set=20, min_child_samples=20 will be ignored. Current value: min_data_in_leaf=20\n",
      "[LightGBM] [Warning] num_threads is set=12, n_jobs=-1 will be ignored. Current value: num_threads=12\n",
      "[LightGBM] [Warning] min_data_in_leaf is set=20, min_child_samples=20 will be ignored. Current value: min_data_in_leaf=20\n",
      "[LightGBM] [Warning] num_threads is set=12, n_jobs=-1 will be ignored. Current value: num_threads=12\n",
      "[LightGBM] [Warning] min_data_in_leaf is set=20, min_child_samples=20 will be ignored. Current value: min_data_in_leaf=20\n",
      "[LightGBM] [Warning] num_threads is set=12, n_jobs=-1 will be ignored. Current value: num_threads=12\n",
      "[LightGBM] [Warning] min_data_in_leaf is set=20, min_child_samples=20 will be ignored. Current value: min_data_in_leaf=20\n",
      "[LightGBM] [Warning] num_threads is set=12, n_jobs=-1 will be ignored. Current value: num_threads=12\n",
      "[LightGBM] [Warning] min_data_in_leaf is set=20, min_child_samples=20 will be ignored. Current value: min_data_in_leaf=20\n",
      "[LightGBM] [Warning] num_threads is set=12, n_jobs=-1 will be ignored. Current value: num_threads=12\n",
      "[LightGBM] [Warning] min_data_in_leaf is set=20, min_child_samples=20 will be ignored. Current value: min_data_in_leaf=20\n",
      "[LightGBM] [Warning] num_threads is set=12, n_jobs=-1 will be ignored. Current value: num_threads=12\n",
      "[LightGBM] [Warning] min_data_in_leaf is set=20, min_child_samples=20 will be ignored. Current value: min_data_in_leaf=20\n",
      "[LightGBM] [Warning] num_threads is set=12, n_jobs=-1 will be ignored. Current value: num_threads=12\n",
      "[LightGBM] [Warning] min_data_in_leaf is set=20, min_child_samples=20 will be ignored. Current value: min_data_in_leaf=20\n",
      "[LightGBM] [Warning] num_threads is set=12, n_jobs=-1 will be ignored. Current value: num_threads=12\n",
      "[LightGBM] [Warning] min_data_in_leaf is set=20, min_child_samples=20 will be ignored. Current value: min_data_in_leaf=20\n",
      "[LightGBM] [Warning] num_threads is set=12, n_jobs=-1 will be ignored. Current value: num_threads=12\n",
      "[LightGBM] [Warning] min_data_in_leaf is set=20, min_child_samples=20 will be ignored. Current value: min_data_in_leaf=20\n",
      "[LightGBM] [Warning] num_threads is set=12, n_jobs=-1 will be ignored. Current value: num_threads=12\n",
      "[LightGBM] [Warning] min_data_in_leaf is set=20, min_child_samples=20 will be ignored. Current value: min_data_in_leaf=20\n",
      "[LightGBM] [Warning] num_threads is set=12, n_jobs=-1 will be ignored. Current value: num_threads=12\n",
      "[LightGBM] [Warning] min_data_in_leaf is set=20, min_child_samples=20 will be ignored. Current value: min_data_in_leaf=20\n",
      "[LightGBM] [Warning] num_threads is set=12, n_jobs=-1 will be ignored. Current value: num_threads=12\n",
      "[LightGBM] [Warning] min_data_in_leaf is set=20, min_child_samples=20 will be ignored. Current value: min_data_in_leaf=20\n",
      "[LightGBM] [Warning] num_threads is set=12, n_jobs=-1 will be ignored. Current value: num_threads=12\n",
      "[LightGBM] [Warning] min_data_in_leaf is set=20, min_child_samples=20 will be ignored. Current value: min_data_in_leaf=20\n",
      "[LightGBM] [Warning] num_threads is set=12, n_jobs=-1 will be ignored. Current value: num_threads=12\n",
      "[LightGBM] [Warning] min_data_in_leaf is set=20, min_child_samples=20 will be ignored. Current value: min_data_in_leaf=20\n",
      "[LightGBM] [Warning] num_threads is set=12, n_jobs=-1 will be ignored. Current value: num_threads=12\n",
      "[LightGBM] [Warning] min_data_in_leaf is set=20, min_child_samples=20 will be ignored. Current value: min_data_in_leaf=20\n",
      "[LightGBM] [Warning] num_threads is set=12, n_jobs=-1 will be ignored. Current value: num_threads=12\n",
      "[LightGBM] [Warning] min_data_in_leaf is set=20, min_child_samples=20 will be ignored. Current value: min_data_in_leaf=20\n",
      "[LightGBM] [Warning] num_threads is set=12, n_jobs=-1 will be ignored. Current value: num_threads=12\n",
      "[LightGBM] [Warning] min_data_in_leaf is set=20, min_child_samples=20 will be ignored. Current value: min_data_in_leaf=20\n",
      "[LightGBM] [Warning] num_threads is set=12, n_jobs=-1 will be ignored. Current value: num_threads=12\n",
      "[LightGBM] [Warning] min_data_in_leaf is set=20, min_child_samples=20 will be ignored. Current value: min_data_in_leaf=20\n",
      "[LightGBM] [Warning] num_threads is set=12, n_jobs=-1 will be ignored. Current value: num_threads=12\n",
      "[LightGBM] [Warning] min_data_in_leaf is set=20, min_child_samples=20 will be ignored. Current value: min_data_in_leaf=20\n",
      "[LightGBM] [Warning] num_threads is set=12, n_jobs=-1 will be ignored. Current value: num_threads=12\n",
      "[LightGBM] [Warning] min_data_in_leaf is set=20, min_child_samples=20 will be ignored. Current value: min_data_in_leaf=20\n",
      "[LightGBM] [Warning] num_threads is set=12, n_jobs=-1 will be ignored. Current value: num_threads=12\n",
      "[LightGBM] [Warning] min_data_in_leaf is set=20, min_child_samples=20 will be ignored. Current value: min_data_in_leaf=20\n",
      "[LightGBM] [Warning] num_threads is set=12, n_jobs=-1 will be ignored. Current value: num_threads=12\n",
      "[LightGBM] [Warning] min_data_in_leaf is set=20, min_child_samples=20 will be ignored. Current value: min_data_in_leaf=20\n",
      "[LightGBM] [Warning] num_threads is set=12, n_jobs=-1 will be ignored. Current value: num_threads=12\n",
      "[LightGBM] [Warning] min_data_in_leaf is set=20, min_child_samples=20 will be ignored. Current value: min_data_in_leaf=20\n",
      "[LightGBM] [Warning] num_threads is set=12, n_jobs=-1 will be ignored. Current value: num_threads=12\n",
      "[LightGBM] [Warning] min_data_in_leaf is set=20, min_child_samples=20 will be ignored. Current value: min_data_in_leaf=20\n",
      "[LightGBM] [Warning] num_threads is set=12, n_jobs=-1 will be ignored. Current value: num_threads=12\n",
      "[LightGBM] [Warning] min_data_in_leaf is set=20, min_child_samples=20 will be ignored. Current value: min_data_in_leaf=20\n",
      "[LightGBM] [Warning] num_threads is set=12, n_jobs=-1 will be ignored. Current value: num_threads=12\n"
     ]
    }
   ],
   "source": [
    "rolling_prediction_df = ph.get_rolling_predictions(lgbm_pipeline, X_train, X_test, y_test, fh, 1, forecast_len, verbose=False)"
   ]
  },
  {
   "cell_type": "code",
   "execution_count": 11,
   "metadata": {},
   "outputs": [],
   "source": [
    "fold_actuals, fold_predictions_list, rmse_list = ph.get_fold_predictions(rolling_prediction_df, y_test)"
   ]
  },
  {
   "cell_type": "code",
   "execution_count": 13,
   "metadata": {},
   "outputs": [],
   "source": [
    "predictions = ph.generate_step_predictions(rolling_prediction_df, y_test, forecast_len)"
   ]
  },
  {
   "cell_type": "code",
   "execution_count": 14,
   "metadata": {},
   "outputs": [],
   "source": [
    "actuals, rmses = ph.generate_step_errors(predictions, y_test, forecast_len)"
   ]
  },
  {
   "cell_type": "code",
   "execution_count": 17,
   "metadata": {},
   "outputs": [],
   "source": [
    "ddf = ph.get_plotting_df(fold_actuals=fold_actuals, fold_predictions_list=fold_predictions_list, y_hist=y_hist)"
   ]
  },
  {
   "cell_type": "code",
   "execution_count": 18,
   "metadata": {},
   "outputs": [
    {
     "data": {
      "application/vnd.plotly.v1+json": {
       "config": {
        "plotlyServerURL": "https://plot.ly"
       },
       "data": [
        {
         "hovertemplate": "variable=HistoricalPrice<br>timestep=0<br>periodstep=%{x}<br>value=%{y}<extra></extra>",
         "legendgroup": "HistoricalPrice",
         "line": {
          "color": "#636efa",
          "dash": "solid"
         },
         "marker": {
          "symbol": "circle"
         },
         "mode": "lines",
         "name": "HistoricalPrice",
         "orientation": "v",
         "showlegend": true,
         "type": "scatter",
         "x": [
          1,
          2,
          3,
          4,
          5,
          6,
          7,
          8,
          9,
          10,
          11,
          12,
          13,
          14,
          15,
          16,
          17,
          18,
          19,
          20,
          21,
          22,
          23,
          24
         ],
         "xaxis": "x",
         "y": [
          59.91,
          64.2,
          64.15,
          67.2,
          67.58,
          293.09,
          186.2,
          75,
          106.58,
          67.44,
          66.31,
          83.71,
          null,
          null,
          null,
          null,
          null,
          null,
          null,
          null,
          null,
          null,
          null,
          null
         ],
         "yaxis": "y"
        },
        {
         "hovertemplate": "variable=FuturePrice<br>timestep=0<br>periodstep=%{x}<br>value=%{y}<extra></extra>",
         "legendgroup": "FuturePrice",
         "line": {
          "color": "#EF553B",
          "dash": "solid"
         },
         "marker": {
          "symbol": "circle"
         },
         "mode": "lines",
         "name": "FuturePrice",
         "orientation": "v",
         "showlegend": true,
         "type": "scatter",
         "x": [
          1,
          2,
          3,
          4,
          5,
          6,
          7,
          8,
          9,
          10,
          11,
          12,
          13,
          14,
          15,
          16,
          17,
          18,
          19,
          20,
          21,
          22,
          23,
          24
         ],
         "xaxis": "x",
         "y": [
          null,
          null,
          null,
          null,
          null,
          null,
          null,
          null,
          null,
          null,
          null,
          null,
          65.51,
          57.34,
          55.57,
          56.42,
          59.36,
          60.26,
          55.97,
          60.71,
          60.15,
          57.11,
          58.05,
          61.79
         ],
         "yaxis": "y"
        },
        {
         "hovertemplate": "variable=Predicted<br>timestep=0<br>periodstep=%{x}<br>value=%{y}<extra></extra>",
         "legendgroup": "Predicted",
         "line": {
          "color": "#00cc96",
          "dash": "solid"
         },
         "marker": {
          "symbol": "circle"
         },
         "mode": "lines",
         "name": "Predicted",
         "orientation": "v",
         "showlegend": true,
         "type": "scatter",
         "x": [
          1,
          2,
          3,
          4,
          5,
          6,
          7,
          8,
          9,
          10,
          11,
          12,
          13,
          14,
          15,
          16,
          17,
          18,
          19,
          20,
          21,
          22,
          23,
          24
         ],
         "xaxis": "x",
         "y": [
          null,
          null,
          null,
          null,
          null,
          null,
          null,
          null,
          null,
          null,
          null,
          null,
          74.33156345376561,
          71.87887972361575,
          67.4936405742895,
          69.97389869389616,
          65.64159085696181,
          69.68842926869718,
          100.18488673794234,
          99.41682685032788,
          89.15487607343049,
          90.02304360117682,
          87.30518756253221,
          87.54121550294477
         ],
         "yaxis": "y"
        }
       ],
       "frames": [
        {
         "data": [
          {
           "hovertemplate": "variable=HistoricalPrice<br>timestep=0<br>periodstep=%{x}<br>value=%{y}<extra></extra>",
           "legendgroup": "HistoricalPrice",
           "line": {
            "color": "#636efa",
            "dash": "solid"
           },
           "marker": {
            "symbol": "circle"
           },
           "mode": "lines",
           "name": "HistoricalPrice",
           "orientation": "v",
           "showlegend": true,
           "type": "scatter",
           "x": [
            1,
            2,
            3,
            4,
            5,
            6,
            7,
            8,
            9,
            10,
            11,
            12,
            13,
            14,
            15,
            16,
            17,
            18,
            19,
            20,
            21,
            22,
            23,
            24
           ],
           "xaxis": "x",
           "y": [
            59.91,
            64.2,
            64.15,
            67.2,
            67.58,
            293.09,
            186.2,
            75,
            106.58,
            67.44,
            66.31,
            83.71,
            null,
            null,
            null,
            null,
            null,
            null,
            null,
            null,
            null,
            null,
            null,
            null
           ],
           "yaxis": "y"
          },
          {
           "hovertemplate": "variable=FuturePrice<br>timestep=0<br>periodstep=%{x}<br>value=%{y}<extra></extra>",
           "legendgroup": "FuturePrice",
           "line": {
            "color": "#EF553B",
            "dash": "solid"
           },
           "marker": {
            "symbol": "circle"
           },
           "mode": "lines",
           "name": "FuturePrice",
           "orientation": "v",
           "showlegend": true,
           "type": "scatter",
           "x": [
            1,
            2,
            3,
            4,
            5,
            6,
            7,
            8,
            9,
            10,
            11,
            12,
            13,
            14,
            15,
            16,
            17,
            18,
            19,
            20,
            21,
            22,
            23,
            24
           ],
           "xaxis": "x",
           "y": [
            null,
            null,
            null,
            null,
            null,
            null,
            null,
            null,
            null,
            null,
            null,
            null,
            65.51,
            57.34,
            55.57,
            56.42,
            59.36,
            60.26,
            55.97,
            60.71,
            60.15,
            57.11,
            58.05,
            61.79
           ],
           "yaxis": "y"
          },
          {
           "hovertemplate": "variable=Predicted<br>timestep=0<br>periodstep=%{x}<br>value=%{y}<extra></extra>",
           "legendgroup": "Predicted",
           "line": {
            "color": "#00cc96",
            "dash": "solid"
           },
           "marker": {
            "symbol": "circle"
           },
           "mode": "lines",
           "name": "Predicted",
           "orientation": "v",
           "showlegend": true,
           "type": "scatter",
           "x": [
            1,
            2,
            3,
            4,
            5,
            6,
            7,
            8,
            9,
            10,
            11,
            12,
            13,
            14,
            15,
            16,
            17,
            18,
            19,
            20,
            21,
            22,
            23,
            24
           ],
           "xaxis": "x",
           "y": [
            null,
            null,
            null,
            null,
            null,
            null,
            null,
            null,
            null,
            null,
            null,
            null,
            74.33156345376561,
            71.87887972361575,
            67.4936405742895,
            69.97389869389616,
            65.64159085696181,
            69.68842926869718,
            100.18488673794234,
            99.41682685032788,
            89.15487607343049,
            90.02304360117682,
            87.30518756253221,
            87.54121550294477
           ],
           "yaxis": "y"
          }
         ],
         "name": "0"
        },
        {
         "data": [
          {
           "hovertemplate": "variable=HistoricalPrice<br>timestep=1<br>periodstep=%{x}<br>value=%{y}<extra></extra>",
           "legendgroup": "HistoricalPrice",
           "line": {
            "color": "#636efa",
            "dash": "solid"
           },
           "marker": {
            "symbol": "circle"
           },
           "mode": "lines",
           "name": "HistoricalPrice",
           "orientation": "v",
           "showlegend": true,
           "type": "scatter",
           "x": [
            1,
            2,
            3,
            4,
            5,
            6,
            7,
            8,
            9,
            10,
            11,
            12,
            13,
            14,
            15,
            16,
            17,
            18,
            19,
            20,
            21,
            22,
            23,
            24
           ],
           "xaxis": "x",
           "y": [
            64.2,
            64.15,
            67.2,
            67.58,
            293.09,
            186.2,
            75,
            106.58,
            67.44,
            66.31,
            83.71,
            65.51,
            null,
            null,
            null,
            null,
            null,
            null,
            null,
            null,
            null,
            null,
            null,
            null
           ],
           "yaxis": "y"
          },
          {
           "hovertemplate": "variable=FuturePrice<br>timestep=1<br>periodstep=%{x}<br>value=%{y}<extra></extra>",
           "legendgroup": "FuturePrice",
           "line": {
            "color": "#EF553B",
            "dash": "solid"
           },
           "marker": {
            "symbol": "circle"
           },
           "mode": "lines",
           "name": "FuturePrice",
           "orientation": "v",
           "showlegend": true,
           "type": "scatter",
           "x": [
            1,
            2,
            3,
            4,
            5,
            6,
            7,
            8,
            9,
            10,
            11,
            12,
            13,
            14,
            15,
            16,
            17,
            18,
            19,
            20,
            21,
            22,
            23,
            24
           ],
           "xaxis": "x",
           "y": [
            null,
            null,
            null,
            null,
            null,
            null,
            null,
            null,
            null,
            null,
            null,
            null,
            57.34,
            55.57,
            56.42,
            59.36,
            60.26,
            55.97,
            60.71,
            60.15,
            57.11,
            58.05,
            61.79,
            61.89
           ],
           "yaxis": "y"
          },
          {
           "hovertemplate": "variable=Predicted<br>timestep=1<br>periodstep=%{x}<br>value=%{y}<extra></extra>",
           "legendgroup": "Predicted",
           "line": {
            "color": "#00cc96",
            "dash": "solid"
           },
           "marker": {
            "symbol": "circle"
           },
           "mode": "lines",
           "name": "Predicted",
           "orientation": "v",
           "showlegend": true,
           "type": "scatter",
           "x": [
            1,
            2,
            3,
            4,
            5,
            6,
            7,
            8,
            9,
            10,
            11,
            12,
            13,
            14,
            15,
            16,
            17,
            18,
            19,
            20,
            21,
            22,
            23,
            24
           ],
           "xaxis": "x",
           "y": [
            null,
            null,
            null,
            null,
            null,
            null,
            null,
            null,
            null,
            null,
            null,
            null,
            58.05120604810351,
            55.57893710509614,
            54.766771962293085,
            53.76625062729398,
            58.244516318395625,
            77.81551576092167,
            82.0159065965441,
            96.58822713037164,
            80.41486404649031,
            75.51425406458296,
            79.72386631368349,
            75.08430628294714
           ],
           "yaxis": "y"
          }
         ],
         "name": "1"
        },
        {
         "data": [
          {
           "hovertemplate": "variable=HistoricalPrice<br>timestep=2<br>periodstep=%{x}<br>value=%{y}<extra></extra>",
           "legendgroup": "HistoricalPrice",
           "line": {
            "color": "#636efa",
            "dash": "solid"
           },
           "marker": {
            "symbol": "circle"
           },
           "mode": "lines",
           "name": "HistoricalPrice",
           "orientation": "v",
           "showlegend": true,
           "type": "scatter",
           "x": [
            1,
            2,
            3,
            4,
            5,
            6,
            7,
            8,
            9,
            10,
            11,
            12,
            13,
            14,
            15,
            16,
            17,
            18,
            19,
            20,
            21,
            22,
            23,
            24
           ],
           "xaxis": "x",
           "y": [
            64.15,
            67.2,
            67.58,
            293.09,
            186.2,
            75,
            106.58,
            67.44,
            66.31,
            83.71,
            65.51,
            57.34,
            null,
            null,
            null,
            null,
            null,
            null,
            null,
            null,
            null,
            null,
            null,
            null
           ],
           "yaxis": "y"
          },
          {
           "hovertemplate": "variable=FuturePrice<br>timestep=2<br>periodstep=%{x}<br>value=%{y}<extra></extra>",
           "legendgroup": "FuturePrice",
           "line": {
            "color": "#EF553B",
            "dash": "solid"
           },
           "marker": {
            "symbol": "circle"
           },
           "mode": "lines",
           "name": "FuturePrice",
           "orientation": "v",
           "showlegend": true,
           "type": "scatter",
           "x": [
            1,
            2,
            3,
            4,
            5,
            6,
            7,
            8,
            9,
            10,
            11,
            12,
            13,
            14,
            15,
            16,
            17,
            18,
            19,
            20,
            21,
            22,
            23,
            24
           ],
           "xaxis": "x",
           "y": [
            null,
            null,
            null,
            null,
            null,
            null,
            null,
            null,
            null,
            null,
            null,
            null,
            55.57,
            56.42,
            59.36,
            60.26,
            55.97,
            60.71,
            60.15,
            57.11,
            58.05,
            61.79,
            61.89,
            59.01
           ],
           "yaxis": "y"
          },
          {
           "hovertemplate": "variable=Predicted<br>timestep=2<br>periodstep=%{x}<br>value=%{y}<extra></extra>",
           "legendgroup": "Predicted",
           "line": {
            "color": "#00cc96",
            "dash": "solid"
           },
           "marker": {
            "symbol": "circle"
           },
           "mode": "lines",
           "name": "Predicted",
           "orientation": "v",
           "showlegend": true,
           "type": "scatter",
           "x": [
            1,
            2,
            3,
            4,
            5,
            6,
            7,
            8,
            9,
            10,
            11,
            12,
            13,
            14,
            15,
            16,
            17,
            18,
            19,
            20,
            21,
            22,
            23,
            24
           ],
           "xaxis": "x",
           "y": [
            null,
            null,
            null,
            null,
            null,
            null,
            null,
            null,
            null,
            null,
            null,
            null,
            52.033323076931616,
            49.20134357931815,
            53.21456449445645,
            57.54981384086711,
            71.38463196778618,
            81.67688511714086,
            83.67395273595206,
            80.60171550890105,
            76.19479868611798,
            71.71523103899457,
            74.27803479853627,
            73.92934315134421
           ],
           "yaxis": "y"
          }
         ],
         "name": "2"
        },
        {
         "data": [
          {
           "hovertemplate": "variable=HistoricalPrice<br>timestep=3<br>periodstep=%{x}<br>value=%{y}<extra></extra>",
           "legendgroup": "HistoricalPrice",
           "line": {
            "color": "#636efa",
            "dash": "solid"
           },
           "marker": {
            "symbol": "circle"
           },
           "mode": "lines",
           "name": "HistoricalPrice",
           "orientation": "v",
           "showlegend": true,
           "type": "scatter",
           "x": [
            1,
            2,
            3,
            4,
            5,
            6,
            7,
            8,
            9,
            10,
            11,
            12,
            13,
            14,
            15,
            16,
            17,
            18,
            19,
            20,
            21,
            22,
            23,
            24
           ],
           "xaxis": "x",
           "y": [
            67.2,
            67.58,
            293.09,
            186.2,
            75,
            106.58,
            67.44,
            66.31,
            83.71,
            65.51,
            57.34,
            55.57,
            null,
            null,
            null,
            null,
            null,
            null,
            null,
            null,
            null,
            null,
            null,
            null
           ],
           "yaxis": "y"
          },
          {
           "hovertemplate": "variable=FuturePrice<br>timestep=3<br>periodstep=%{x}<br>value=%{y}<extra></extra>",
           "legendgroup": "FuturePrice",
           "line": {
            "color": "#EF553B",
            "dash": "solid"
           },
           "marker": {
            "symbol": "circle"
           },
           "mode": "lines",
           "name": "FuturePrice",
           "orientation": "v",
           "showlegend": true,
           "type": "scatter",
           "x": [
            1,
            2,
            3,
            4,
            5,
            6,
            7,
            8,
            9,
            10,
            11,
            12,
            13,
            14,
            15,
            16,
            17,
            18,
            19,
            20,
            21,
            22,
            23,
            24
           ],
           "xaxis": "x",
           "y": [
            null,
            null,
            null,
            null,
            null,
            null,
            null,
            null,
            null,
            null,
            null,
            null,
            56.42,
            59.36,
            60.26,
            55.97,
            60.71,
            60.15,
            57.11,
            58.05,
            61.79,
            61.89,
            59.01,
            48.92
           ],
           "yaxis": "y"
          },
          {
           "hovertemplate": "variable=Predicted<br>timestep=3<br>periodstep=%{x}<br>value=%{y}<extra></extra>",
           "legendgroup": "Predicted",
           "line": {
            "color": "#00cc96",
            "dash": "solid"
           },
           "marker": {
            "symbol": "circle"
           },
           "mode": "lines",
           "name": "Predicted",
           "orientation": "v",
           "showlegend": true,
           "type": "scatter",
           "x": [
            1,
            2,
            3,
            4,
            5,
            6,
            7,
            8,
            9,
            10,
            11,
            12,
            13,
            14,
            15,
            16,
            17,
            18,
            19,
            20,
            21,
            22,
            23,
            24
           ],
           "xaxis": "x",
           "y": [
            null,
            null,
            null,
            null,
            null,
            null,
            null,
            null,
            null,
            null,
            null,
            null,
            49.16910078874358,
            48.34873335330668,
            55.21049606438321,
            72.56285783787163,
            73.1336860609965,
            75.16698914988942,
            78.49109716983749,
            77.08277333798647,
            74.72060667132588,
            70.28496863095002,
            80.79596064048926,
            85.07057304364075
           ],
           "yaxis": "y"
          }
         ],
         "name": "3"
        },
        {
         "data": [
          {
           "hovertemplate": "variable=HistoricalPrice<br>timestep=4<br>periodstep=%{x}<br>value=%{y}<extra></extra>",
           "legendgroup": "HistoricalPrice",
           "line": {
            "color": "#636efa",
            "dash": "solid"
           },
           "marker": {
            "symbol": "circle"
           },
           "mode": "lines",
           "name": "HistoricalPrice",
           "orientation": "v",
           "showlegend": true,
           "type": "scatter",
           "x": [
            1,
            2,
            3,
            4,
            5,
            6,
            7,
            8,
            9,
            10,
            11,
            12,
            13,
            14,
            15,
            16,
            17,
            18,
            19,
            20,
            21,
            22,
            23,
            24
           ],
           "xaxis": "x",
           "y": [
            67.58,
            293.09,
            186.2,
            75,
            106.58,
            67.44,
            66.31,
            83.71,
            65.51,
            57.34,
            55.57,
            56.42,
            null,
            null,
            null,
            null,
            null,
            null,
            null,
            null,
            null,
            null,
            null,
            null
           ],
           "yaxis": "y"
          },
          {
           "hovertemplate": "variable=FuturePrice<br>timestep=4<br>periodstep=%{x}<br>value=%{y}<extra></extra>",
           "legendgroup": "FuturePrice",
           "line": {
            "color": "#EF553B",
            "dash": "solid"
           },
           "marker": {
            "symbol": "circle"
           },
           "mode": "lines",
           "name": "FuturePrice",
           "orientation": "v",
           "showlegend": true,
           "type": "scatter",
           "x": [
            1,
            2,
            3,
            4,
            5,
            6,
            7,
            8,
            9,
            10,
            11,
            12,
            13,
            14,
            15,
            16,
            17,
            18,
            19,
            20,
            21,
            22,
            23,
            24
           ],
           "xaxis": "x",
           "y": [
            null,
            null,
            null,
            null,
            null,
            null,
            null,
            null,
            null,
            null,
            null,
            null,
            59.36,
            60.26,
            55.97,
            60.71,
            60.15,
            57.11,
            58.05,
            61.79,
            61.89,
            59.01,
            48.92,
            55.19
           ],
           "yaxis": "y"
          },
          {
           "hovertemplate": "variable=Predicted<br>timestep=4<br>periodstep=%{x}<br>value=%{y}<extra></extra>",
           "legendgroup": "Predicted",
           "line": {
            "color": "#00cc96",
            "dash": "solid"
           },
           "marker": {
            "symbol": "circle"
           },
           "mode": "lines",
           "name": "Predicted",
           "orientation": "v",
           "showlegend": true,
           "type": "scatter",
           "x": [
            1,
            2,
            3,
            4,
            5,
            6,
            7,
            8,
            9,
            10,
            11,
            12,
            13,
            14,
            15,
            16,
            17,
            18,
            19,
            20,
            21,
            22,
            23,
            24
           ],
           "xaxis": "x",
           "y": [
            null,
            null,
            null,
            null,
            null,
            null,
            null,
            null,
            null,
            null,
            null,
            null,
            49.67392694100585,
            53.27576405350643,
            74.90849288341971,
            76.87964887828923,
            73.07941430970857,
            86.57743459868271,
            81.51929483467448,
            75.69608870907733,
            69.20626491475088,
            80.47335735707318,
            82.51000414877146,
            96.67476652647863
           ],
           "yaxis": "y"
          }
         ],
         "name": "4"
        },
        {
         "data": [
          {
           "hovertemplate": "variable=HistoricalPrice<br>timestep=5<br>periodstep=%{x}<br>value=%{y}<extra></extra>",
           "legendgroup": "HistoricalPrice",
           "line": {
            "color": "#636efa",
            "dash": "solid"
           },
           "marker": {
            "symbol": "circle"
           },
           "mode": "lines",
           "name": "HistoricalPrice",
           "orientation": "v",
           "showlegend": true,
           "type": "scatter",
           "x": [
            1,
            2,
            3,
            4,
            5,
            6,
            7,
            8,
            9,
            10,
            11,
            12,
            13,
            14,
            15,
            16,
            17,
            18,
            19,
            20,
            21,
            22,
            23,
            24
           ],
           "xaxis": "x",
           "y": [
            293.09,
            186.2,
            75,
            106.58,
            67.44,
            66.31,
            83.71,
            65.51,
            57.34,
            55.57,
            56.42,
            59.36,
            null,
            null,
            null,
            null,
            null,
            null,
            null,
            null,
            null,
            null,
            null,
            null
           ],
           "yaxis": "y"
          },
          {
           "hovertemplate": "variable=FuturePrice<br>timestep=5<br>periodstep=%{x}<br>value=%{y}<extra></extra>",
           "legendgroup": "FuturePrice",
           "line": {
            "color": "#EF553B",
            "dash": "solid"
           },
           "marker": {
            "symbol": "circle"
           },
           "mode": "lines",
           "name": "FuturePrice",
           "orientation": "v",
           "showlegend": true,
           "type": "scatter",
           "x": [
            1,
            2,
            3,
            4,
            5,
            6,
            7,
            8,
            9,
            10,
            11,
            12,
            13,
            14,
            15,
            16,
            17,
            18,
            19,
            20,
            21,
            22,
            23,
            24
           ],
           "xaxis": "x",
           "y": [
            null,
            null,
            null,
            null,
            null,
            null,
            null,
            null,
            null,
            null,
            null,
            null,
            60.26,
            55.97,
            60.71,
            60.15,
            57.11,
            58.05,
            61.79,
            61.89,
            59.01,
            48.92,
            55.19,
            68.53
           ],
           "yaxis": "y"
          },
          {
           "hovertemplate": "variable=Predicted<br>timestep=5<br>periodstep=%{x}<br>value=%{y}<extra></extra>",
           "legendgroup": "Predicted",
           "line": {
            "color": "#00cc96",
            "dash": "solid"
           },
           "marker": {
            "symbol": "circle"
           },
           "mode": "lines",
           "name": "Predicted",
           "orientation": "v",
           "showlegend": true,
           "type": "scatter",
           "x": [
            1,
            2,
            3,
            4,
            5,
            6,
            7,
            8,
            9,
            10,
            11,
            12,
            13,
            14,
            15,
            16,
            17,
            18,
            19,
            20,
            21,
            22,
            23,
            24
           ],
           "xaxis": "x",
           "y": [
            null,
            null,
            null,
            null,
            null,
            null,
            null,
            null,
            null,
            null,
            null,
            null,
            56.88470697172125,
            65.53479402917891,
            75.42642893849286,
            71.88050016514708,
            82.90814458504043,
            73.02226717237684,
            81.22527538408742,
            72.92032751596602,
            74.01799909992891,
            78.32248097947243,
            91.32145986507784,
            108.80535773486775
           ],
           "yaxis": "y"
          }
         ],
         "name": "5"
        },
        {
         "data": [
          {
           "hovertemplate": "variable=HistoricalPrice<br>timestep=6<br>periodstep=%{x}<br>value=%{y}<extra></extra>",
           "legendgroup": "HistoricalPrice",
           "line": {
            "color": "#636efa",
            "dash": "solid"
           },
           "marker": {
            "symbol": "circle"
           },
           "mode": "lines",
           "name": "HistoricalPrice",
           "orientation": "v",
           "showlegend": true,
           "type": "scatter",
           "x": [
            1,
            2,
            3,
            4,
            5,
            6,
            7,
            8,
            9,
            10,
            11,
            12,
            13,
            14,
            15,
            16,
            17,
            18,
            19,
            20,
            21,
            22,
            23,
            24
           ],
           "xaxis": "x",
           "y": [
            186.2,
            75,
            106.58,
            67.44,
            66.31,
            83.71,
            65.51,
            57.34,
            55.57,
            56.42,
            59.36,
            60.26,
            null,
            null,
            null,
            null,
            null,
            null,
            null,
            null,
            null,
            null,
            null,
            null
           ],
           "yaxis": "y"
          },
          {
           "hovertemplate": "variable=FuturePrice<br>timestep=6<br>periodstep=%{x}<br>value=%{y}<extra></extra>",
           "legendgroup": "FuturePrice",
           "line": {
            "color": "#EF553B",
            "dash": "solid"
           },
           "marker": {
            "symbol": "circle"
           },
           "mode": "lines",
           "name": "FuturePrice",
           "orientation": "v",
           "showlegend": true,
           "type": "scatter",
           "x": [
            1,
            2,
            3,
            4,
            5,
            6,
            7,
            8,
            9,
            10,
            11,
            12,
            13,
            14,
            15,
            16,
            17,
            18,
            19,
            20,
            21,
            22,
            23,
            24
           ],
           "xaxis": "x",
           "y": [
            null,
            null,
            null,
            null,
            null,
            null,
            null,
            null,
            null,
            null,
            null,
            null,
            55.97,
            60.71,
            60.15,
            57.11,
            58.05,
            61.79,
            61.89,
            59.01,
            48.92,
            55.19,
            68.53,
            233.28
           ],
           "yaxis": "y"
          },
          {
           "hovertemplate": "variable=Predicted<br>timestep=6<br>periodstep=%{x}<br>value=%{y}<extra></extra>",
           "legendgroup": "Predicted",
           "line": {
            "color": "#00cc96",
            "dash": "solid"
           },
           "marker": {
            "symbol": "circle"
           },
           "mode": "lines",
           "name": "Predicted",
           "orientation": "v",
           "showlegend": true,
           "type": "scatter",
           "x": [
            1,
            2,
            3,
            4,
            5,
            6,
            7,
            8,
            9,
            10,
            11,
            12,
            13,
            14,
            15,
            16,
            17,
            18,
            19,
            20,
            21,
            22,
            23,
            24
           ],
           "xaxis": "x",
           "y": [
            null,
            null,
            null,
            null,
            null,
            null,
            null,
            null,
            null,
            null,
            null,
            null,
            57.123068794252944,
            70.14798265581368,
            64.40406670887725,
            70.39246427650538,
            72.79391516193787,
            74.86098240046212,
            76.54035272833421,
            77.55329917528489,
            79.86020729772358,
            95.91386204671007,
            112.15393871263967,
            120.19019326675347
           ],
           "yaxis": "y"
          }
         ],
         "name": "6"
        },
        {
         "data": [
          {
           "hovertemplate": "variable=HistoricalPrice<br>timestep=7<br>periodstep=%{x}<br>value=%{y}<extra></extra>",
           "legendgroup": "HistoricalPrice",
           "line": {
            "color": "#636efa",
            "dash": "solid"
           },
           "marker": {
            "symbol": "circle"
           },
           "mode": "lines",
           "name": "HistoricalPrice",
           "orientation": "v",
           "showlegend": true,
           "type": "scatter",
           "x": [
            1,
            2,
            3,
            4,
            5,
            6,
            7,
            8,
            9,
            10,
            11,
            12,
            13,
            14,
            15,
            16,
            17,
            18,
            19,
            20,
            21,
            22,
            23,
            24
           ],
           "xaxis": "x",
           "y": [
            75,
            106.58,
            67.44,
            66.31,
            83.71,
            65.51,
            57.34,
            55.57,
            56.42,
            59.36,
            60.26,
            55.97,
            null,
            null,
            null,
            null,
            null,
            null,
            null,
            null,
            null,
            null,
            null,
            null
           ],
           "yaxis": "y"
          },
          {
           "hovertemplate": "variable=FuturePrice<br>timestep=7<br>periodstep=%{x}<br>value=%{y}<extra></extra>",
           "legendgroup": "FuturePrice",
           "line": {
            "color": "#EF553B",
            "dash": "solid"
           },
           "marker": {
            "symbol": "circle"
           },
           "mode": "lines",
           "name": "FuturePrice",
           "orientation": "v",
           "showlegend": true,
           "type": "scatter",
           "x": [
            1,
            2,
            3,
            4,
            5,
            6,
            7,
            8,
            9,
            10,
            11,
            12,
            13,
            14,
            15,
            16,
            17,
            18,
            19,
            20,
            21,
            22,
            23,
            24
           ],
           "xaxis": "x",
           "y": [
            null,
            null,
            null,
            null,
            null,
            null,
            null,
            null,
            null,
            null,
            null,
            null,
            60.71,
            60.15,
            57.11,
            58.05,
            61.79,
            61.89,
            59.01,
            48.92,
            55.19,
            68.53,
            233.28,
            346.29
           ],
           "yaxis": "y"
          },
          {
           "hovertemplate": "variable=Predicted<br>timestep=7<br>periodstep=%{x}<br>value=%{y}<extra></extra>",
           "legendgroup": "Predicted",
           "line": {
            "color": "#00cc96",
            "dash": "solid"
           },
           "marker": {
            "symbol": "circle"
           },
           "mode": "lines",
           "name": "Predicted",
           "orientation": "v",
           "showlegend": true,
           "type": "scatter",
           "x": [
            1,
            2,
            3,
            4,
            5,
            6,
            7,
            8,
            9,
            10,
            11,
            12,
            13,
            14,
            15,
            16,
            17,
            18,
            19,
            20,
            21,
            22,
            23,
            24
           ],
           "xaxis": "x",
           "y": [
            null,
            null,
            null,
            null,
            null,
            null,
            null,
            null,
            null,
            null,
            null,
            null,
            52.292356172141375,
            63.95789465867758,
            61.48201444752048,
            71.34554390351371,
            71.34496543074312,
            69.32832252375977,
            81.50421801092767,
            93.12124747649845,
            94.1871761554373,
            97.28238382074964,
            163.66170845167846,
            107.25297054043463
           ],
           "yaxis": "y"
          }
         ],
         "name": "7"
        },
        {
         "data": [
          {
           "hovertemplate": "variable=HistoricalPrice<br>timestep=8<br>periodstep=%{x}<br>value=%{y}<extra></extra>",
           "legendgroup": "HistoricalPrice",
           "line": {
            "color": "#636efa",
            "dash": "solid"
           },
           "marker": {
            "symbol": "circle"
           },
           "mode": "lines",
           "name": "HistoricalPrice",
           "orientation": "v",
           "showlegend": true,
           "type": "scatter",
           "x": [
            1,
            2,
            3,
            4,
            5,
            6,
            7,
            8,
            9,
            10,
            11,
            12,
            13,
            14,
            15,
            16,
            17,
            18,
            19,
            20,
            21,
            22,
            23,
            24
           ],
           "xaxis": "x",
           "y": [
            106.58,
            67.44,
            66.31,
            83.71,
            65.51,
            57.34,
            55.57,
            56.42,
            59.36,
            60.26,
            55.97,
            60.71,
            null,
            null,
            null,
            null,
            null,
            null,
            null,
            null,
            null,
            null,
            null,
            null
           ],
           "yaxis": "y"
          },
          {
           "hovertemplate": "variable=FuturePrice<br>timestep=8<br>periodstep=%{x}<br>value=%{y}<extra></extra>",
           "legendgroup": "FuturePrice",
           "line": {
            "color": "#EF553B",
            "dash": "solid"
           },
           "marker": {
            "symbol": "circle"
           },
           "mode": "lines",
           "name": "FuturePrice",
           "orientation": "v",
           "showlegend": true,
           "type": "scatter",
           "x": [
            1,
            2,
            3,
            4,
            5,
            6,
            7,
            8,
            9,
            10,
            11,
            12,
            13,
            14,
            15,
            16,
            17,
            18,
            19,
            20,
            21,
            22,
            23,
            24
           ],
           "xaxis": "x",
           "y": [
            null,
            null,
            null,
            null,
            null,
            null,
            null,
            null,
            null,
            null,
            null,
            null,
            60.15,
            57.11,
            58.05,
            61.79,
            61.89,
            59.01,
            48.92,
            55.19,
            68.53,
            233.28,
            346.29,
            364.65
           ],
           "yaxis": "y"
          },
          {
           "hovertemplate": "variable=Predicted<br>timestep=8<br>periodstep=%{x}<br>value=%{y}<extra></extra>",
           "legendgroup": "Predicted",
           "line": {
            "color": "#00cc96",
            "dash": "solid"
           },
           "marker": {
            "symbol": "circle"
           },
           "mode": "lines",
           "name": "Predicted",
           "orientation": "v",
           "showlegend": true,
           "type": "scatter",
           "x": [
            1,
            2,
            3,
            4,
            5,
            6,
            7,
            8,
            9,
            10,
            11,
            12,
            13,
            14,
            15,
            16,
            17,
            18,
            19,
            20,
            21,
            22,
            23,
            24
           ],
           "xaxis": "x",
           "y": [
            null,
            null,
            null,
            null,
            null,
            null,
            null,
            null,
            null,
            null,
            null,
            null,
            56.31245331515404,
            59.98571137862313,
            69.07848495785517,
            64.65837638135064,
            69.96397445983467,
            82.07605868542007,
            82.18023701716776,
            85.35533405055858,
            121.3577967185672,
            153.96085684781494,
            129.15915971409754,
            105.79515679211377
           ],
           "yaxis": "y"
          }
         ],
         "name": "8"
        },
        {
         "data": [
          {
           "hovertemplate": "variable=HistoricalPrice<br>timestep=9<br>periodstep=%{x}<br>value=%{y}<extra></extra>",
           "legendgroup": "HistoricalPrice",
           "line": {
            "color": "#636efa",
            "dash": "solid"
           },
           "marker": {
            "symbol": "circle"
           },
           "mode": "lines",
           "name": "HistoricalPrice",
           "orientation": "v",
           "showlegend": true,
           "type": "scatter",
           "x": [
            1,
            2,
            3,
            4,
            5,
            6,
            7,
            8,
            9,
            10,
            11,
            12,
            13,
            14,
            15,
            16,
            17,
            18,
            19,
            20,
            21,
            22,
            23,
            24
           ],
           "xaxis": "x",
           "y": [
            67.44,
            66.31,
            83.71,
            65.51,
            57.34,
            55.57,
            56.42,
            59.36,
            60.26,
            55.97,
            60.71,
            60.15,
            null,
            null,
            null,
            null,
            null,
            null,
            null,
            null,
            null,
            null,
            null,
            null
           ],
           "yaxis": "y"
          },
          {
           "hovertemplate": "variable=FuturePrice<br>timestep=9<br>periodstep=%{x}<br>value=%{y}<extra></extra>",
           "legendgroup": "FuturePrice",
           "line": {
            "color": "#EF553B",
            "dash": "solid"
           },
           "marker": {
            "symbol": "circle"
           },
           "mode": "lines",
           "name": "FuturePrice",
           "orientation": "v",
           "showlegend": true,
           "type": "scatter",
           "x": [
            1,
            2,
            3,
            4,
            5,
            6,
            7,
            8,
            9,
            10,
            11,
            12,
            13,
            14,
            15,
            16,
            17,
            18,
            19,
            20,
            21,
            22,
            23,
            24
           ],
           "xaxis": "x",
           "y": [
            null,
            null,
            null,
            null,
            null,
            null,
            null,
            null,
            null,
            null,
            null,
            null,
            57.11,
            58.05,
            61.79,
            61.89,
            59.01,
            48.92,
            55.19,
            68.53,
            233.28,
            346.29,
            364.65,
            421.68
           ],
           "yaxis": "y"
          },
          {
           "hovertemplate": "variable=Predicted<br>timestep=9<br>periodstep=%{x}<br>value=%{y}<extra></extra>",
           "legendgroup": "Predicted",
           "line": {
            "color": "#00cc96",
            "dash": "solid"
           },
           "marker": {
            "symbol": "circle"
           },
           "mode": "lines",
           "name": "Predicted",
           "orientation": "v",
           "showlegend": true,
           "type": "scatter",
           "x": [
            1,
            2,
            3,
            4,
            5,
            6,
            7,
            8,
            9,
            10,
            11,
            12,
            13,
            14,
            15,
            16,
            17,
            18,
            19,
            20,
            21,
            22,
            23,
            24
           ],
           "xaxis": "x",
           "y": [
            null,
            null,
            null,
            null,
            null,
            null,
            null,
            null,
            null,
            null,
            null,
            null,
            56.31245331515404,
            60.934158406793536,
            62.53149871572306,
            62.96314989641669,
            68.97552516028718,
            84.34275090859732,
            77.09899503332744,
            93.49064380427235,
            134.59989453087496,
            106.53692436004746,
            112.93597047109,
            92.9374850140789
           ],
           "yaxis": "y"
          }
         ],
         "name": "9"
        },
        {
         "data": [
          {
           "hovertemplate": "variable=HistoricalPrice<br>timestep=10<br>periodstep=%{x}<br>value=%{y}<extra></extra>",
           "legendgroup": "HistoricalPrice",
           "line": {
            "color": "#636efa",
            "dash": "solid"
           },
           "marker": {
            "symbol": "circle"
           },
           "mode": "lines",
           "name": "HistoricalPrice",
           "orientation": "v",
           "showlegend": true,
           "type": "scatter",
           "x": [
            1,
            2,
            3,
            4,
            5,
            6,
            7,
            8,
            9,
            10,
            11,
            12,
            13,
            14,
            15,
            16,
            17,
            18,
            19,
            20,
            21,
            22,
            23,
            24
           ],
           "xaxis": "x",
           "y": [
            66.31,
            83.71,
            65.51,
            57.34,
            55.57,
            56.42,
            59.36,
            60.26,
            55.97,
            60.71,
            60.15,
            57.11,
            null,
            null,
            null,
            null,
            null,
            null,
            null,
            null,
            null,
            null,
            null,
            null
           ],
           "yaxis": "y"
          },
          {
           "hovertemplate": "variable=FuturePrice<br>timestep=10<br>periodstep=%{x}<br>value=%{y}<extra></extra>",
           "legendgroup": "FuturePrice",
           "line": {
            "color": "#EF553B",
            "dash": "solid"
           },
           "marker": {
            "symbol": "circle"
           },
           "mode": "lines",
           "name": "FuturePrice",
           "orientation": "v",
           "showlegend": true,
           "type": "scatter",
           "x": [
            1,
            2,
            3,
            4,
            5,
            6,
            7,
            8,
            9,
            10,
            11,
            12,
            13,
            14,
            15,
            16,
            17,
            18,
            19,
            20,
            21,
            22,
            23,
            24
           ],
           "xaxis": "x",
           "y": [
            null,
            null,
            null,
            null,
            null,
            null,
            null,
            null,
            null,
            null,
            null,
            null,
            58.05,
            61.79,
            61.89,
            59.01,
            48.92,
            55.19,
            68.53,
            233.28,
            346.29,
            364.65,
            421.68,
            400.11
           ],
           "yaxis": "y"
          },
          {
           "hovertemplate": "variable=Predicted<br>timestep=10<br>periodstep=%{x}<br>value=%{y}<extra></extra>",
           "legendgroup": "Predicted",
           "line": {
            "color": "#00cc96",
            "dash": "solid"
           },
           "marker": {
            "symbol": "circle"
           },
           "mode": "lines",
           "name": "Predicted",
           "orientation": "v",
           "showlegend": true,
           "type": "scatter",
           "x": [
            1,
            2,
            3,
            4,
            5,
            6,
            7,
            8,
            9,
            10,
            11,
            12,
            13,
            14,
            15,
            16,
            17,
            18,
            19,
            20,
            21,
            22,
            23,
            24
           ],
           "xaxis": "x",
           "y": [
            null,
            null,
            null,
            null,
            null,
            null,
            null,
            null,
            null,
            null,
            null,
            null,
            52.343026948583194,
            55.57715431550002,
            58.01758824738879,
            61.03413770994942,
            77.52747878860525,
            77.84508978023204,
            95.29639298607061,
            144.00793561646688,
            138.32574887563942,
            104.49036467896454,
            84.77950021059229,
            79.03582259369692
           ],
           "yaxis": "y"
          }
         ],
         "name": "10"
        },
        {
         "data": [
          {
           "hovertemplate": "variable=HistoricalPrice<br>timestep=11<br>periodstep=%{x}<br>value=%{y}<extra></extra>",
           "legendgroup": "HistoricalPrice",
           "line": {
            "color": "#636efa",
            "dash": "solid"
           },
           "marker": {
            "symbol": "circle"
           },
           "mode": "lines",
           "name": "HistoricalPrice",
           "orientation": "v",
           "showlegend": true,
           "type": "scatter",
           "x": [
            1,
            2,
            3,
            4,
            5,
            6,
            7,
            8,
            9,
            10,
            11,
            12,
            13,
            14,
            15,
            16,
            17,
            18,
            19,
            20,
            21,
            22,
            23,
            24
           ],
           "xaxis": "x",
           "y": [
            83.71,
            65.51,
            57.34,
            55.57,
            56.42,
            59.36,
            60.26,
            55.97,
            60.71,
            60.15,
            57.11,
            58.05,
            null,
            null,
            null,
            null,
            null,
            null,
            null,
            null,
            null,
            null,
            null,
            null
           ],
           "yaxis": "y"
          },
          {
           "hovertemplate": "variable=FuturePrice<br>timestep=11<br>periodstep=%{x}<br>value=%{y}<extra></extra>",
           "legendgroup": "FuturePrice",
           "line": {
            "color": "#EF553B",
            "dash": "solid"
           },
           "marker": {
            "symbol": "circle"
           },
           "mode": "lines",
           "name": "FuturePrice",
           "orientation": "v",
           "showlegend": true,
           "type": "scatter",
           "x": [
            1,
            2,
            3,
            4,
            5,
            6,
            7,
            8,
            9,
            10,
            11,
            12,
            13,
            14,
            15,
            16,
            17,
            18,
            19,
            20,
            21,
            22,
            23,
            24
           ],
           "xaxis": "x",
           "y": [
            null,
            null,
            null,
            null,
            null,
            null,
            null,
            null,
            null,
            null,
            null,
            null,
            61.79,
            61.89,
            59.01,
            48.92,
            55.19,
            68.53,
            233.28,
            346.29,
            364.65,
            421.68,
            400.11,
            161.55
           ],
           "yaxis": "y"
          },
          {
           "hovertemplate": "variable=Predicted<br>timestep=11<br>periodstep=%{x}<br>value=%{y}<extra></extra>",
           "legendgroup": "Predicted",
           "line": {
            "color": "#00cc96",
            "dash": "solid"
           },
           "marker": {
            "symbol": "circle"
           },
           "mode": "lines",
           "name": "Predicted",
           "orientation": "v",
           "showlegend": true,
           "type": "scatter",
           "x": [
            1,
            2,
            3,
            4,
            5,
            6,
            7,
            8,
            9,
            10,
            11,
            12,
            13,
            14,
            15,
            16,
            17,
            18,
            19,
            20,
            21,
            22,
            23,
            24
           ],
           "xaxis": "x",
           "y": [
            null,
            null,
            null,
            null,
            null,
            null,
            null,
            null,
            null,
            null,
            null,
            null,
            56.31187660384885,
            59.740404337952455,
            59.46942269665184,
            65.46178371914813,
            73.34854218449307,
            99.2155216802047,
            141.9292003414996,
            101.57433146442766,
            94.15990808200449,
            89.4283546417892,
            74.61794229264791,
            73.40054970290149
           ],
           "yaxis": "y"
          }
         ],
         "name": "11"
        },
        {
         "data": [
          {
           "hovertemplate": "variable=HistoricalPrice<br>timestep=12<br>periodstep=%{x}<br>value=%{y}<extra></extra>",
           "legendgroup": "HistoricalPrice",
           "line": {
            "color": "#636efa",
            "dash": "solid"
           },
           "marker": {
            "symbol": "circle"
           },
           "mode": "lines",
           "name": "HistoricalPrice",
           "orientation": "v",
           "showlegend": true,
           "type": "scatter",
           "x": [
            1,
            2,
            3,
            4,
            5,
            6,
            7,
            8,
            9,
            10,
            11,
            12,
            13,
            14,
            15,
            16,
            17,
            18,
            19,
            20,
            21,
            22,
            23,
            24
           ],
           "xaxis": "x",
           "y": [
            65.51,
            57.34,
            55.57,
            56.42,
            59.36,
            60.26,
            55.97,
            60.71,
            60.15,
            57.11,
            58.05,
            61.79,
            null,
            null,
            null,
            null,
            null,
            null,
            null,
            null,
            null,
            null,
            null,
            null
           ],
           "yaxis": "y"
          },
          {
           "hovertemplate": "variable=FuturePrice<br>timestep=12<br>periodstep=%{x}<br>value=%{y}<extra></extra>",
           "legendgroup": "FuturePrice",
           "line": {
            "color": "#EF553B",
            "dash": "solid"
           },
           "marker": {
            "symbol": "circle"
           },
           "mode": "lines",
           "name": "FuturePrice",
           "orientation": "v",
           "showlegend": true,
           "type": "scatter",
           "x": [
            1,
            2,
            3,
            4,
            5,
            6,
            7,
            8,
            9,
            10,
            11,
            12,
            13,
            14,
            15,
            16,
            17,
            18,
            19,
            20,
            21,
            22,
            23,
            24
           ],
           "xaxis": "x",
           "y": [
            null,
            null,
            null,
            null,
            null,
            null,
            null,
            null,
            null,
            null,
            null,
            null,
            61.89,
            59.01,
            48.92,
            55.19,
            68.53,
            233.28,
            346.29,
            364.65,
            421.68,
            400.11,
            161.55,
            207.69
           ],
           "yaxis": "y"
          },
          {
           "hovertemplate": "variable=Predicted<br>timestep=12<br>periodstep=%{x}<br>value=%{y}<extra></extra>",
           "legendgroup": "Predicted",
           "line": {
            "color": "#00cc96",
            "dash": "solid"
           },
           "marker": {
            "symbol": "circle"
           },
           "mode": "lines",
           "name": "Predicted",
           "orientation": "v",
           "showlegend": true,
           "type": "scatter",
           "x": [
            1,
            2,
            3,
            4,
            5,
            6,
            7,
            8,
            9,
            10,
            11,
            12,
            13,
            14,
            15,
            16,
            17,
            18,
            19,
            20,
            21,
            22,
            23,
            24
           ],
           "xaxis": "x",
           "y": [
            null,
            null,
            null,
            null,
            null,
            null,
            null,
            null,
            null,
            null,
            null,
            null,
            60.89524819870006,
            65.01993832322535,
            64.56699599651765,
            64.25400422249263,
            78.609114464284,
            135.29701350042544,
            110.15909205001576,
            86.59124202352955,
            85.00398602996502,
            81.04096433732391,
            71.73683124791961,
            72.54192275129266
           ],
           "yaxis": "y"
          }
         ],
         "name": "12"
        },
        {
         "data": [
          {
           "hovertemplate": "variable=HistoricalPrice<br>timestep=13<br>periodstep=%{x}<br>value=%{y}<extra></extra>",
           "legendgroup": "HistoricalPrice",
           "line": {
            "color": "#636efa",
            "dash": "solid"
           },
           "marker": {
            "symbol": "circle"
           },
           "mode": "lines",
           "name": "HistoricalPrice",
           "orientation": "v",
           "showlegend": true,
           "type": "scatter",
           "x": [
            1,
            2,
            3,
            4,
            5,
            6,
            7,
            8,
            9,
            10,
            11,
            12,
            13,
            14,
            15,
            16,
            17,
            18,
            19,
            20,
            21,
            22,
            23,
            24
           ],
           "xaxis": "x",
           "y": [
            57.34,
            55.57,
            56.42,
            59.36,
            60.26,
            55.97,
            60.71,
            60.15,
            57.11,
            58.05,
            61.79,
            61.89,
            null,
            null,
            null,
            null,
            null,
            null,
            null,
            null,
            null,
            null,
            null,
            null
           ],
           "yaxis": "y"
          },
          {
           "hovertemplate": "variable=FuturePrice<br>timestep=13<br>periodstep=%{x}<br>value=%{y}<extra></extra>",
           "legendgroup": "FuturePrice",
           "line": {
            "color": "#EF553B",
            "dash": "solid"
           },
           "marker": {
            "symbol": "circle"
           },
           "mode": "lines",
           "name": "FuturePrice",
           "orientation": "v",
           "showlegend": true,
           "type": "scatter",
           "x": [
            1,
            2,
            3,
            4,
            5,
            6,
            7,
            8,
            9,
            10,
            11,
            12,
            13,
            14,
            15,
            16,
            17,
            18,
            19,
            20,
            21,
            22,
            23,
            24
           ],
           "xaxis": "x",
           "y": [
            null,
            null,
            null,
            null,
            null,
            null,
            null,
            null,
            null,
            null,
            null,
            null,
            59.01,
            48.92,
            55.19,
            68.53,
            233.28,
            346.29,
            364.65,
            421.68,
            400.11,
            161.55,
            207.69,
            137.84
           ],
           "yaxis": "y"
          },
          {
           "hovertemplate": "variable=Predicted<br>timestep=13<br>periodstep=%{x}<br>value=%{y}<extra></extra>",
           "legendgroup": "Predicted",
           "line": {
            "color": "#00cc96",
            "dash": "solid"
           },
           "marker": {
            "symbol": "circle"
           },
           "mode": "lines",
           "name": "Predicted",
           "orientation": "v",
           "showlegend": true,
           "type": "scatter",
           "x": [
            1,
            2,
            3,
            4,
            5,
            6,
            7,
            8,
            9,
            10,
            11,
            12,
            13,
            14,
            15,
            16,
            17,
            18,
            19,
            20,
            21,
            22,
            23,
            24
           ],
           "xaxis": "x",
           "y": [
            null,
            null,
            null,
            null,
            null,
            null,
            null,
            null,
            null,
            null,
            null,
            null,
            61.06946651597928,
            64.67410655315642,
            64.45880883288001,
            83.19247558413615,
            102.8523667313604,
            104.97158607120171,
            104.00982847880431,
            88.71196008146593,
            78.18365388715132,
            71.8972017817401,
            74.64402760813077,
            65.852587909318
           ],
           "yaxis": "y"
          }
         ],
         "name": "13"
        },
        {
         "data": [
          {
           "hovertemplate": "variable=HistoricalPrice<br>timestep=14<br>periodstep=%{x}<br>value=%{y}<extra></extra>",
           "legendgroup": "HistoricalPrice",
           "line": {
            "color": "#636efa",
            "dash": "solid"
           },
           "marker": {
            "symbol": "circle"
           },
           "mode": "lines",
           "name": "HistoricalPrice",
           "orientation": "v",
           "showlegend": true,
           "type": "scatter",
           "x": [
            1,
            2,
            3,
            4,
            5,
            6,
            7,
            8,
            9,
            10,
            11,
            12,
            13,
            14,
            15,
            16,
            17,
            18,
            19,
            20,
            21,
            22,
            23,
            24
           ],
           "xaxis": "x",
           "y": [
            55.57,
            56.42,
            59.36,
            60.26,
            55.97,
            60.71,
            60.15,
            57.11,
            58.05,
            61.79,
            61.89,
            59.01,
            null,
            null,
            null,
            null,
            null,
            null,
            null,
            null,
            null,
            null,
            null,
            null
           ],
           "yaxis": "y"
          },
          {
           "hovertemplate": "variable=FuturePrice<br>timestep=14<br>periodstep=%{x}<br>value=%{y}<extra></extra>",
           "legendgroup": "FuturePrice",
           "line": {
            "color": "#EF553B",
            "dash": "solid"
           },
           "marker": {
            "symbol": "circle"
           },
           "mode": "lines",
           "name": "FuturePrice",
           "orientation": "v",
           "showlegend": true,
           "type": "scatter",
           "x": [
            1,
            2,
            3,
            4,
            5,
            6,
            7,
            8,
            9,
            10,
            11,
            12,
            13,
            14,
            15,
            16,
            17,
            18,
            19,
            20,
            21,
            22,
            23,
            24
           ],
           "xaxis": "x",
           "y": [
            null,
            null,
            null,
            null,
            null,
            null,
            null,
            null,
            null,
            null,
            null,
            null,
            48.92,
            55.19,
            68.53,
            233.28,
            346.29,
            364.65,
            421.68,
            400.11,
            161.55,
            207.69,
            137.84,
            204
           ],
           "yaxis": "y"
          },
          {
           "hovertemplate": "variable=Predicted<br>timestep=14<br>periodstep=%{x}<br>value=%{y}<extra></extra>",
           "legendgroup": "Predicted",
           "line": {
            "color": "#00cc96",
            "dash": "solid"
           },
           "marker": {
            "symbol": "circle"
           },
           "mode": "lines",
           "name": "Predicted",
           "orientation": "v",
           "showlegend": true,
           "type": "scatter",
           "x": [
            1,
            2,
            3,
            4,
            5,
            6,
            7,
            8,
            9,
            10,
            11,
            12,
            13,
            14,
            15,
            16,
            17,
            18,
            19,
            20,
            21,
            22,
            23,
            24
           ],
           "xaxis": "x",
           "y": [
            null,
            null,
            null,
            null,
            null,
            null,
            null,
            null,
            null,
            null,
            null,
            null,
            56.074547793213895,
            60.05646262874515,
            85.54216917940101,
            98.51956064637801,
            82.21808640072781,
            98.35466054573469,
            82.26518035687774,
            79.2672383187231,
            73.86875594579143,
            72.47019127790492,
            63.81762061005913,
            60.79927800000642
           ],
           "yaxis": "y"
          }
         ],
         "name": "14"
        },
        {
         "data": [
          {
           "hovertemplate": "variable=HistoricalPrice<br>timestep=15<br>periodstep=%{x}<br>value=%{y}<extra></extra>",
           "legendgroup": "HistoricalPrice",
           "line": {
            "color": "#636efa",
            "dash": "solid"
           },
           "marker": {
            "symbol": "circle"
           },
           "mode": "lines",
           "name": "HistoricalPrice",
           "orientation": "v",
           "showlegend": true,
           "type": "scatter",
           "x": [
            1,
            2,
            3,
            4,
            5,
            6,
            7,
            8,
            9,
            10,
            11,
            12,
            13,
            14,
            15,
            16,
            17,
            18,
            19,
            20,
            21,
            22,
            23,
            24
           ],
           "xaxis": "x",
           "y": [
            56.42,
            59.36,
            60.26,
            55.97,
            60.71,
            60.15,
            57.11,
            58.05,
            61.79,
            61.89,
            59.01,
            48.92,
            null,
            null,
            null,
            null,
            null,
            null,
            null,
            null,
            null,
            null,
            null,
            null
           ],
           "yaxis": "y"
          },
          {
           "hovertemplate": "variable=FuturePrice<br>timestep=15<br>periodstep=%{x}<br>value=%{y}<extra></extra>",
           "legendgroup": "FuturePrice",
           "line": {
            "color": "#EF553B",
            "dash": "solid"
           },
           "marker": {
            "symbol": "circle"
           },
           "mode": "lines",
           "name": "FuturePrice",
           "orientation": "v",
           "showlegend": true,
           "type": "scatter",
           "x": [
            1,
            2,
            3,
            4,
            5,
            6,
            7,
            8,
            9,
            10,
            11,
            12,
            13,
            14,
            15,
            16,
            17,
            18,
            19,
            20,
            21,
            22,
            23,
            24
           ],
           "xaxis": "x",
           "y": [
            null,
            null,
            null,
            null,
            null,
            null,
            null,
            null,
            null,
            null,
            null,
            null,
            55.19,
            68.53,
            233.28,
            346.29,
            364.65,
            421.68,
            400.11,
            161.55,
            207.69,
            137.84,
            204,
            169.9
           ],
           "yaxis": "y"
          },
          {
           "hovertemplate": "variable=Predicted<br>timestep=15<br>periodstep=%{x}<br>value=%{y}<extra></extra>",
           "legendgroup": "Predicted",
           "line": {
            "color": "#00cc96",
            "dash": "solid"
           },
           "marker": {
            "symbol": "circle"
           },
           "mode": "lines",
           "name": "Predicted",
           "orientation": "v",
           "showlegend": true,
           "type": "scatter",
           "x": [
            1,
            2,
            3,
            4,
            5,
            6,
            7,
            8,
            9,
            10,
            11,
            12,
            13,
            14,
            15,
            16,
            17,
            18,
            19,
            20,
            21,
            22,
            23,
            24
           ],
           "xaxis": "x",
           "y": [
            null,
            null,
            null,
            null,
            null,
            null,
            null,
            null,
            null,
            null,
            null,
            null,
            48.71206240449437,
            57.71184200113009,
            76.74959958751992,
            80.45384004063155,
            67.1147609996439,
            83.5898283722372,
            71.71254309727905,
            70.28426386681794,
            72.71990704206473,
            63.84777965378126,
            60.44608567851062,
            55.26151773385023
           ],
           "yaxis": "y"
          }
         ],
         "name": "15"
        },
        {
         "data": [
          {
           "hovertemplate": "variable=HistoricalPrice<br>timestep=16<br>periodstep=%{x}<br>value=%{y}<extra></extra>",
           "legendgroup": "HistoricalPrice",
           "line": {
            "color": "#636efa",
            "dash": "solid"
           },
           "marker": {
            "symbol": "circle"
           },
           "mode": "lines",
           "name": "HistoricalPrice",
           "orientation": "v",
           "showlegend": true,
           "type": "scatter",
           "x": [
            1,
            2,
            3,
            4,
            5,
            6,
            7,
            8,
            9,
            10,
            11,
            12,
            13,
            14,
            15,
            16,
            17,
            18,
            19,
            20,
            21,
            22,
            23,
            24
           ],
           "xaxis": "x",
           "y": [
            59.36,
            60.26,
            55.97,
            60.71,
            60.15,
            57.11,
            58.05,
            61.79,
            61.89,
            59.01,
            48.92,
            55.19,
            null,
            null,
            null,
            null,
            null,
            null,
            null,
            null,
            null,
            null,
            null,
            null
           ],
           "yaxis": "y"
          },
          {
           "hovertemplate": "variable=FuturePrice<br>timestep=16<br>periodstep=%{x}<br>value=%{y}<extra></extra>",
           "legendgroup": "FuturePrice",
           "line": {
            "color": "#EF553B",
            "dash": "solid"
           },
           "marker": {
            "symbol": "circle"
           },
           "mode": "lines",
           "name": "FuturePrice",
           "orientation": "v",
           "showlegend": true,
           "type": "scatter",
           "x": [
            1,
            2,
            3,
            4,
            5,
            6,
            7,
            8,
            9,
            10,
            11,
            12,
            13,
            14,
            15,
            16,
            17,
            18,
            19,
            20,
            21,
            22,
            23,
            24
           ],
           "xaxis": "x",
           "y": [
            null,
            null,
            null,
            null,
            null,
            null,
            null,
            null,
            null,
            null,
            null,
            null,
            68.53,
            233.28,
            346.29,
            364.65,
            421.68,
            400.11,
            161.55,
            207.69,
            137.84,
            204,
            169.9,
            98.2
           ],
           "yaxis": "y"
          },
          {
           "hovertemplate": "variable=Predicted<br>timestep=16<br>periodstep=%{x}<br>value=%{y}<extra></extra>",
           "legendgroup": "Predicted",
           "line": {
            "color": "#00cc96",
            "dash": "solid"
           },
           "marker": {
            "symbol": "circle"
           },
           "mode": "lines",
           "name": "Predicted",
           "orientation": "v",
           "showlegend": true,
           "type": "scatter",
           "x": [
            1,
            2,
            3,
            4,
            5,
            6,
            7,
            8,
            9,
            10,
            11,
            12,
            13,
            14,
            15,
            16,
            17,
            18,
            19,
            20,
            21,
            22,
            23,
            24
           ],
           "xaxis": "x",
           "y": [
            null,
            null,
            null,
            null,
            null,
            null,
            null,
            null,
            null,
            null,
            null,
            null,
            51.83929259014782,
            56.82697124521508,
            66.6346104313234,
            75.04790493543811,
            73.63748294593297,
            81.80169944106017,
            71.62171665083473,
            71.01777286547264,
            66.82721126481835,
            60.56059376617595,
            55.15492253366659,
            56.73843012764779
           ],
           "yaxis": "y"
          }
         ],
         "name": "16"
        },
        {
         "data": [
          {
           "hovertemplate": "variable=HistoricalPrice<br>timestep=17<br>periodstep=%{x}<br>value=%{y}<extra></extra>",
           "legendgroup": "HistoricalPrice",
           "line": {
            "color": "#636efa",
            "dash": "solid"
           },
           "marker": {
            "symbol": "circle"
           },
           "mode": "lines",
           "name": "HistoricalPrice",
           "orientation": "v",
           "showlegend": true,
           "type": "scatter",
           "x": [
            1,
            2,
            3,
            4,
            5,
            6,
            7,
            8,
            9,
            10,
            11,
            12,
            13,
            14,
            15,
            16,
            17,
            18,
            19,
            20,
            21,
            22,
            23,
            24
           ],
           "xaxis": "x",
           "y": [
            60.26,
            55.97,
            60.71,
            60.15,
            57.11,
            58.05,
            61.79,
            61.89,
            59.01,
            48.92,
            55.19,
            68.53,
            null,
            null,
            null,
            null,
            null,
            null,
            null,
            null,
            null,
            null,
            null,
            null
           ],
           "yaxis": "y"
          },
          {
           "hovertemplate": "variable=FuturePrice<br>timestep=17<br>periodstep=%{x}<br>value=%{y}<extra></extra>",
           "legendgroup": "FuturePrice",
           "line": {
            "color": "#EF553B",
            "dash": "solid"
           },
           "marker": {
            "symbol": "circle"
           },
           "mode": "lines",
           "name": "FuturePrice",
           "orientation": "v",
           "showlegend": true,
           "type": "scatter",
           "x": [
            1,
            2,
            3,
            4,
            5,
            6,
            7,
            8,
            9,
            10,
            11,
            12,
            13,
            14,
            15,
            16,
            17,
            18,
            19,
            20,
            21,
            22,
            23,
            24
           ],
           "xaxis": "x",
           "y": [
            null,
            null,
            null,
            null,
            null,
            null,
            null,
            null,
            null,
            null,
            null,
            null,
            233.28,
            346.29,
            364.65,
            421.68,
            400.11,
            161.55,
            207.69,
            137.84,
            204,
            169.9,
            98.2,
            60.18
           ],
           "yaxis": "y"
          },
          {
           "hovertemplate": "variable=Predicted<br>timestep=17<br>periodstep=%{x}<br>value=%{y}<extra></extra>",
           "legendgroup": "Predicted",
           "line": {
            "color": "#00cc96",
            "dash": "solid"
           },
           "marker": {
            "symbol": "circle"
           },
           "mode": "lines",
           "name": "Predicted",
           "orientation": "v",
           "showlegend": true,
           "type": "scatter",
           "x": [
            1,
            2,
            3,
            4,
            5,
            6,
            7,
            8,
            9,
            10,
            11,
            12,
            13,
            14,
            15,
            16,
            17,
            18,
            19,
            20,
            21,
            22,
            23,
            24
           ],
           "xaxis": "x",
           "y": [
            null,
            null,
            null,
            null,
            null,
            null,
            null,
            null,
            null,
            null,
            null,
            null,
            68.62978376399936,
            84.3801094519942,
            80.4344491476498,
            81.28692118898658,
            73.92255818715127,
            70.61340965843361,
            73.3134995529156,
            62.441863085067666,
            59.55361086251112,
            54.756722826501395,
            56.35763227265257,
            59.9017370575638
           ],
           "yaxis": "y"
          }
         ],
         "name": "17"
        },
        {
         "data": [
          {
           "hovertemplate": "variable=HistoricalPrice<br>timestep=18<br>periodstep=%{x}<br>value=%{y}<extra></extra>",
           "legendgroup": "HistoricalPrice",
           "line": {
            "color": "#636efa",
            "dash": "solid"
           },
           "marker": {
            "symbol": "circle"
           },
           "mode": "lines",
           "name": "HistoricalPrice",
           "orientation": "v",
           "showlegend": true,
           "type": "scatter",
           "x": [
            1,
            2,
            3,
            4,
            5,
            6,
            7,
            8,
            9,
            10,
            11,
            12,
            13,
            14,
            15,
            16,
            17,
            18,
            19,
            20,
            21,
            22,
            23,
            24
           ],
           "xaxis": "x",
           "y": [
            55.97,
            60.71,
            60.15,
            57.11,
            58.05,
            61.79,
            61.89,
            59.01,
            48.92,
            55.19,
            68.53,
            233.28,
            null,
            null,
            null,
            null,
            null,
            null,
            null,
            null,
            null,
            null,
            null,
            null
           ],
           "yaxis": "y"
          },
          {
           "hovertemplate": "variable=FuturePrice<br>timestep=18<br>periodstep=%{x}<br>value=%{y}<extra></extra>",
           "legendgroup": "FuturePrice",
           "line": {
            "color": "#EF553B",
            "dash": "solid"
           },
           "marker": {
            "symbol": "circle"
           },
           "mode": "lines",
           "name": "FuturePrice",
           "orientation": "v",
           "showlegend": true,
           "type": "scatter",
           "x": [
            1,
            2,
            3,
            4,
            5,
            6,
            7,
            8,
            9,
            10,
            11,
            12,
            13,
            14,
            15,
            16,
            17,
            18,
            19,
            20,
            21,
            22,
            23,
            24
           ],
           "xaxis": "x",
           "y": [
            null,
            null,
            null,
            null,
            null,
            null,
            null,
            null,
            null,
            null,
            null,
            null,
            346.29,
            364.65,
            421.68,
            400.11,
            161.55,
            207.69,
            137.84,
            204,
            169.9,
            98.2,
            60.18,
            59.18
           ],
           "yaxis": "y"
          },
          {
           "hovertemplate": "variable=Predicted<br>timestep=18<br>periodstep=%{x}<br>value=%{y}<extra></extra>",
           "legendgroup": "Predicted",
           "line": {
            "color": "#00cc96",
            "dash": "solid"
           },
           "marker": {
            "symbol": "circle"
           },
           "mode": "lines",
           "name": "Predicted",
           "orientation": "v",
           "showlegend": true,
           "type": "scatter",
           "x": [
            1,
            2,
            3,
            4,
            5,
            6,
            7,
            8,
            9,
            10,
            11,
            12,
            13,
            14,
            15,
            16,
            17,
            18,
            19,
            20,
            21,
            22,
            23,
            24
           ],
           "xaxis": "x",
           "y": [
            null,
            null,
            null,
            null,
            null,
            null,
            null,
            null,
            null,
            null,
            null,
            null,
            173.05744500871165,
            189.75384848552443,
            132.9687316079097,
            103.04553912502443,
            89.07876292603085,
            81.28437761112684,
            71.39624916857856,
            65.16783297052801,
            60.29040446398755,
            57.745361912263625,
            58.69318042921298,
            67.6281309192856
           ],
           "yaxis": "y"
          }
         ],
         "name": "18"
        },
        {
         "data": [
          {
           "hovertemplate": "variable=HistoricalPrice<br>timestep=19<br>periodstep=%{x}<br>value=%{y}<extra></extra>",
           "legendgroup": "HistoricalPrice",
           "line": {
            "color": "#636efa",
            "dash": "solid"
           },
           "marker": {
            "symbol": "circle"
           },
           "mode": "lines",
           "name": "HistoricalPrice",
           "orientation": "v",
           "showlegend": true,
           "type": "scatter",
           "x": [
            1,
            2,
            3,
            4,
            5,
            6,
            7,
            8,
            9,
            10,
            11,
            12,
            13,
            14,
            15,
            16,
            17,
            18,
            19,
            20,
            21,
            22,
            23,
            24
           ],
           "xaxis": "x",
           "y": [
            60.71,
            60.15,
            57.11,
            58.05,
            61.79,
            61.89,
            59.01,
            48.92,
            55.19,
            68.53,
            233.28,
            346.29,
            null,
            null,
            null,
            null,
            null,
            null,
            null,
            null,
            null,
            null,
            null,
            null
           ],
           "yaxis": "y"
          },
          {
           "hovertemplate": "variable=FuturePrice<br>timestep=19<br>periodstep=%{x}<br>value=%{y}<extra></extra>",
           "legendgroup": "FuturePrice",
           "line": {
            "color": "#EF553B",
            "dash": "solid"
           },
           "marker": {
            "symbol": "circle"
           },
           "mode": "lines",
           "name": "FuturePrice",
           "orientation": "v",
           "showlegend": true,
           "type": "scatter",
           "x": [
            1,
            2,
            3,
            4,
            5,
            6,
            7,
            8,
            9,
            10,
            11,
            12,
            13,
            14,
            15,
            16,
            17,
            18,
            19,
            20,
            21,
            22,
            23,
            24
           ],
           "xaxis": "x",
           "y": [
            null,
            null,
            null,
            null,
            null,
            null,
            null,
            null,
            null,
            null,
            null,
            null,
            364.65,
            421.68,
            400.11,
            161.55,
            207.69,
            137.84,
            204,
            169.9,
            98.2,
            60.18,
            59.18,
            80.55
           ],
           "yaxis": "y"
          },
          {
           "hovertemplate": "variable=Predicted<br>timestep=19<br>periodstep=%{x}<br>value=%{y}<extra></extra>",
           "legendgroup": "Predicted",
           "line": {
            "color": "#00cc96",
            "dash": "solid"
           },
           "marker": {
            "symbol": "circle"
           },
           "mode": "lines",
           "name": "Predicted",
           "orientation": "v",
           "showlegend": true,
           "type": "scatter",
           "x": [
            1,
            2,
            3,
            4,
            5,
            6,
            7,
            8,
            9,
            10,
            11,
            12,
            13,
            14,
            15,
            16,
            17,
            18,
            19,
            20,
            21,
            22,
            23,
            24
           ],
           "xaxis": "x",
           "y": [
            null,
            null,
            null,
            null,
            null,
            null,
            null,
            null,
            null,
            null,
            null,
            null,
            225.41557037673647,
            165.90184833730376,
            124.5442076082509,
            110.00668041738903,
            81.58259413558824,
            83.26817919738997,
            68.76838947536417,
            68.56503180824863,
            61.8745338283542,
            61.3118735197399,
            68.79226728408324,
            88.24945518945808
           ],
           "yaxis": "y"
          }
         ],
         "name": "19"
        },
        {
         "data": [
          {
           "hovertemplate": "variable=HistoricalPrice<br>timestep=20<br>periodstep=%{x}<br>value=%{y}<extra></extra>",
           "legendgroup": "HistoricalPrice",
           "line": {
            "color": "#636efa",
            "dash": "solid"
           },
           "marker": {
            "symbol": "circle"
           },
           "mode": "lines",
           "name": "HistoricalPrice",
           "orientation": "v",
           "showlegend": true,
           "type": "scatter",
           "x": [
            1,
            2,
            3,
            4,
            5,
            6,
            7,
            8,
            9,
            10,
            11,
            12,
            13,
            14,
            15,
            16,
            17,
            18,
            19,
            20,
            21,
            22,
            23,
            24
           ],
           "xaxis": "x",
           "y": [
            60.15,
            57.11,
            58.05,
            61.79,
            61.89,
            59.01,
            48.92,
            55.19,
            68.53,
            233.28,
            346.29,
            364.65,
            null,
            null,
            null,
            null,
            null,
            null,
            null,
            null,
            null,
            null,
            null,
            null
           ],
           "yaxis": "y"
          },
          {
           "hovertemplate": "variable=FuturePrice<br>timestep=20<br>periodstep=%{x}<br>value=%{y}<extra></extra>",
           "legendgroup": "FuturePrice",
           "line": {
            "color": "#EF553B",
            "dash": "solid"
           },
           "marker": {
            "symbol": "circle"
           },
           "mode": "lines",
           "name": "FuturePrice",
           "orientation": "v",
           "showlegend": true,
           "type": "scatter",
           "x": [
            1,
            2,
            3,
            4,
            5,
            6,
            7,
            8,
            9,
            10,
            11,
            12,
            13,
            14,
            15,
            16,
            17,
            18,
            19,
            20,
            21,
            22,
            23,
            24
           ],
           "xaxis": "x",
           "y": [
            null,
            null,
            null,
            null,
            null,
            null,
            null,
            null,
            null,
            null,
            null,
            null,
            421.68,
            400.11,
            161.55,
            207.69,
            137.84,
            204,
            169.9,
            98.2,
            60.18,
            59.18,
            80.55,
            206.91
           ],
           "yaxis": "y"
          },
          {
           "hovertemplate": "variable=Predicted<br>timestep=20<br>periodstep=%{x}<br>value=%{y}<extra></extra>",
           "legendgroup": "Predicted",
           "line": {
            "color": "#00cc96",
            "dash": "solid"
           },
           "marker": {
            "symbol": "circle"
           },
           "mode": "lines",
           "name": "Predicted",
           "orientation": "v",
           "showlegend": true,
           "type": "scatter",
           "x": [
            1,
            2,
            3,
            4,
            5,
            6,
            7,
            8,
            9,
            10,
            11,
            12,
            13,
            14,
            15,
            16,
            17,
            18,
            19,
            20,
            21,
            22,
            23,
            24
           ],
           "xaxis": "x",
           "y": [
            null,
            null,
            null,
            null,
            null,
            null,
            null,
            null,
            null,
            null,
            null,
            null,
            255.2657580776042,
            133.41039490301384,
            111.91932364368658,
            95.36383472117627,
            82.07921794133611,
            78.38818278328444,
            66.44057047289868,
            72.22797407337183,
            67.16895073487525,
            70.57309703802086,
            101.87356039432537,
            100.00171184937497
           ],
           "yaxis": "y"
          }
         ],
         "name": "20"
        },
        {
         "data": [
          {
           "hovertemplate": "variable=HistoricalPrice<br>timestep=21<br>periodstep=%{x}<br>value=%{y}<extra></extra>",
           "legendgroup": "HistoricalPrice",
           "line": {
            "color": "#636efa",
            "dash": "solid"
           },
           "marker": {
            "symbol": "circle"
           },
           "mode": "lines",
           "name": "HistoricalPrice",
           "orientation": "v",
           "showlegend": true,
           "type": "scatter",
           "x": [
            1,
            2,
            3,
            4,
            5,
            6,
            7,
            8,
            9,
            10,
            11,
            12,
            13,
            14,
            15,
            16,
            17,
            18,
            19,
            20,
            21,
            22,
            23,
            24
           ],
           "xaxis": "x",
           "y": [
            57.11,
            58.05,
            61.79,
            61.89,
            59.01,
            48.92,
            55.19,
            68.53,
            233.28,
            346.29,
            364.65,
            421.68,
            null,
            null,
            null,
            null,
            null,
            null,
            null,
            null,
            null,
            null,
            null,
            null
           ],
           "yaxis": "y"
          },
          {
           "hovertemplate": "variable=FuturePrice<br>timestep=21<br>periodstep=%{x}<br>value=%{y}<extra></extra>",
           "legendgroup": "FuturePrice",
           "line": {
            "color": "#EF553B",
            "dash": "solid"
           },
           "marker": {
            "symbol": "circle"
           },
           "mode": "lines",
           "name": "FuturePrice",
           "orientation": "v",
           "showlegend": true,
           "type": "scatter",
           "x": [
            1,
            2,
            3,
            4,
            5,
            6,
            7,
            8,
            9,
            10,
            11,
            12,
            13,
            14,
            15,
            16,
            17,
            18,
            19,
            20,
            21,
            22,
            23,
            24
           ],
           "xaxis": "x",
           "y": [
            null,
            null,
            null,
            null,
            null,
            null,
            null,
            null,
            null,
            null,
            null,
            null,
            400.11,
            161.55,
            207.69,
            137.84,
            204,
            169.9,
            98.2,
            60.18,
            59.18,
            80.55,
            206.91,
            107.13
           ],
           "yaxis": "y"
          },
          {
           "hovertemplate": "variable=Predicted<br>timestep=21<br>periodstep=%{x}<br>value=%{y}<extra></extra>",
           "legendgroup": "Predicted",
           "line": {
            "color": "#00cc96",
            "dash": "solid"
           },
           "marker": {
            "symbol": "circle"
           },
           "mode": "lines",
           "name": "Predicted",
           "orientation": "v",
           "showlegend": true,
           "type": "scatter",
           "x": [
            1,
            2,
            3,
            4,
            5,
            6,
            7,
            8,
            9,
            10,
            11,
            12,
            13,
            14,
            15,
            16,
            17,
            18,
            19,
            20,
            21,
            22,
            23,
            24
           ],
           "xaxis": "x",
           "y": [
            null,
            null,
            null,
            null,
            null,
            null,
            null,
            null,
            null,
            null,
            null,
            null,
            261.28596085541056,
            154.90439999234695,
            106.90437056608866,
            95.3547101472737,
            81.75496980801998,
            76.96099729417885,
            69.52795230838684,
            68.46188849635813,
            74.93670958858293,
            98.80615618234785,
            106.99481088996497,
            99.35962202698241
           ],
           "yaxis": "y"
          }
         ],
         "name": "21"
        },
        {
         "data": [
          {
           "hovertemplate": "variable=HistoricalPrice<br>timestep=22<br>periodstep=%{x}<br>value=%{y}<extra></extra>",
           "legendgroup": "HistoricalPrice",
           "line": {
            "color": "#636efa",
            "dash": "solid"
           },
           "marker": {
            "symbol": "circle"
           },
           "mode": "lines",
           "name": "HistoricalPrice",
           "orientation": "v",
           "showlegend": true,
           "type": "scatter",
           "x": [
            1,
            2,
            3,
            4,
            5,
            6,
            7,
            8,
            9,
            10,
            11,
            12,
            13,
            14,
            15,
            16,
            17,
            18,
            19,
            20,
            21,
            22,
            23,
            24
           ],
           "xaxis": "x",
           "y": [
            58.05,
            61.79,
            61.89,
            59.01,
            48.92,
            55.19,
            68.53,
            233.28,
            346.29,
            364.65,
            421.68,
            400.11,
            null,
            null,
            null,
            null,
            null,
            null,
            null,
            null,
            null,
            null,
            null,
            null
           ],
           "yaxis": "y"
          },
          {
           "hovertemplate": "variable=FuturePrice<br>timestep=22<br>periodstep=%{x}<br>value=%{y}<extra></extra>",
           "legendgroup": "FuturePrice",
           "line": {
            "color": "#EF553B",
            "dash": "solid"
           },
           "marker": {
            "symbol": "circle"
           },
           "mode": "lines",
           "name": "FuturePrice",
           "orientation": "v",
           "showlegend": true,
           "type": "scatter",
           "x": [
            1,
            2,
            3,
            4,
            5,
            6,
            7,
            8,
            9,
            10,
            11,
            12,
            13,
            14,
            15,
            16,
            17,
            18,
            19,
            20,
            21,
            22,
            23,
            24
           ],
           "xaxis": "x",
           "y": [
            null,
            null,
            null,
            null,
            null,
            null,
            null,
            null,
            null,
            null,
            null,
            null,
            161.55,
            207.69,
            137.84,
            204,
            169.9,
            98.2,
            60.18,
            59.18,
            80.55,
            206.91,
            107.13,
            62.02
           ],
           "yaxis": "y"
          },
          {
           "hovertemplate": "variable=Predicted<br>timestep=22<br>periodstep=%{x}<br>value=%{y}<extra></extra>",
           "legendgroup": "Predicted",
           "line": {
            "color": "#00cc96",
            "dash": "solid"
           },
           "marker": {
            "symbol": "circle"
           },
           "mode": "lines",
           "name": "Predicted",
           "orientation": "v",
           "showlegend": true,
           "type": "scatter",
           "x": [
            1,
            2,
            3,
            4,
            5,
            6,
            7,
            8,
            9,
            10,
            11,
            12,
            13,
            14,
            15,
            16,
            17,
            18,
            19,
            20,
            21,
            22,
            23,
            24
           ],
           "xaxis": "x",
           "y": [
            null,
            null,
            null,
            null,
            null,
            null,
            null,
            null,
            null,
            null,
            null,
            null,
            234.80795228917782,
            139.1837640434821,
            116.45903180352572,
            90.58309944993353,
            81.0852533431488,
            73.99128458860632,
            70.5804776918561,
            72.43194257068464,
            109.17085329140218,
            97.18172756786137,
            112.69158249336614,
            114.41826746804892
           ],
           "yaxis": "y"
          }
         ],
         "name": "22"
        },
        {
         "data": [
          {
           "hovertemplate": "variable=HistoricalPrice<br>timestep=23<br>periodstep=%{x}<br>value=%{y}<extra></extra>",
           "legendgroup": "HistoricalPrice",
           "line": {
            "color": "#636efa",
            "dash": "solid"
           },
           "marker": {
            "symbol": "circle"
           },
           "mode": "lines",
           "name": "HistoricalPrice",
           "orientation": "v",
           "showlegend": true,
           "type": "scatter",
           "x": [
            1,
            2,
            3,
            4,
            5,
            6,
            7,
            8,
            9,
            10,
            11,
            12,
            13,
            14,
            15,
            16,
            17,
            18,
            19,
            20,
            21,
            22,
            23,
            24
           ],
           "xaxis": "x",
           "y": [
            61.79,
            61.89,
            59.01,
            48.92,
            55.19,
            68.53,
            233.28,
            346.29,
            364.65,
            421.68,
            400.11,
            161.55,
            null,
            null,
            null,
            null,
            null,
            null,
            null,
            null,
            null,
            null,
            null,
            null
           ],
           "yaxis": "y"
          },
          {
           "hovertemplate": "variable=FuturePrice<br>timestep=23<br>periodstep=%{x}<br>value=%{y}<extra></extra>",
           "legendgroup": "FuturePrice",
           "line": {
            "color": "#EF553B",
            "dash": "solid"
           },
           "marker": {
            "symbol": "circle"
           },
           "mode": "lines",
           "name": "FuturePrice",
           "orientation": "v",
           "showlegend": true,
           "type": "scatter",
           "x": [
            1,
            2,
            3,
            4,
            5,
            6,
            7,
            8,
            9,
            10,
            11,
            12,
            13,
            14,
            15,
            16,
            17,
            18,
            19,
            20,
            21,
            22,
            23,
            24
           ],
           "xaxis": "x",
           "y": [
            null,
            null,
            null,
            null,
            null,
            null,
            null,
            null,
            null,
            null,
            null,
            null,
            207.69,
            137.84,
            204,
            169.9,
            98.2,
            60.18,
            59.18,
            80.55,
            206.91,
            107.13,
            62.02,
            67.35
           ],
           "yaxis": "y"
          },
          {
           "hovertemplate": "variable=Predicted<br>timestep=23<br>periodstep=%{x}<br>value=%{y}<extra></extra>",
           "legendgroup": "Predicted",
           "line": {
            "color": "#00cc96",
            "dash": "solid"
           },
           "marker": {
            "symbol": "circle"
           },
           "mode": "lines",
           "name": "Predicted",
           "orientation": "v",
           "showlegend": true,
           "type": "scatter",
           "x": [
            1,
            2,
            3,
            4,
            5,
            6,
            7,
            8,
            9,
            10,
            11,
            12,
            13,
            14,
            15,
            16,
            17,
            18,
            19,
            20,
            21,
            22,
            23,
            24
           ],
           "xaxis": "x",
           "y": [
            null,
            null,
            null,
            null,
            null,
            null,
            null,
            null,
            null,
            null,
            null,
            null,
            127.64570217079857,
            113.39239430094301,
            95.22032471478575,
            86.17551630042902,
            80.90086319024988,
            76.59640033878186,
            82.73209071214298,
            110.83143490361314,
            106.7039782435861,
            92.62561618302652,
            118.10996217030875,
            132.14738662999085
           ],
           "yaxis": "y"
          }
         ],
         "name": "23"
        },
        {
         "data": [
          {
           "hovertemplate": "variable=HistoricalPrice<br>timestep=24<br>periodstep=%{x}<br>value=%{y}<extra></extra>",
           "legendgroup": "HistoricalPrice",
           "line": {
            "color": "#636efa",
            "dash": "solid"
           },
           "marker": {
            "symbol": "circle"
           },
           "mode": "lines",
           "name": "HistoricalPrice",
           "orientation": "v",
           "showlegend": true,
           "type": "scatter",
           "x": [
            1,
            2,
            3,
            4,
            5,
            6,
            7,
            8,
            9,
            10,
            11,
            12,
            13,
            14,
            15,
            16,
            17,
            18,
            19,
            20,
            21,
            22,
            23,
            24
           ],
           "xaxis": "x",
           "y": [
            61.89,
            59.01,
            48.92,
            55.19,
            68.53,
            233.28,
            346.29,
            364.65,
            421.68,
            400.11,
            161.55,
            207.69,
            null,
            null,
            null,
            null,
            null,
            null,
            null,
            null,
            null,
            null,
            null,
            null
           ],
           "yaxis": "y"
          },
          {
           "hovertemplate": "variable=FuturePrice<br>timestep=24<br>periodstep=%{x}<br>value=%{y}<extra></extra>",
           "legendgroup": "FuturePrice",
           "line": {
            "color": "#EF553B",
            "dash": "solid"
           },
           "marker": {
            "symbol": "circle"
           },
           "mode": "lines",
           "name": "FuturePrice",
           "orientation": "v",
           "showlegend": true,
           "type": "scatter",
           "x": [
            1,
            2,
            3,
            4,
            5,
            6,
            7,
            8,
            9,
            10,
            11,
            12,
            13,
            14,
            15,
            16,
            17,
            18,
            19,
            20,
            21,
            22,
            23,
            24
           ],
           "xaxis": "x",
           "y": [
            null,
            null,
            null,
            null,
            null,
            null,
            null,
            null,
            null,
            null,
            null,
            null,
            137.84,
            204,
            169.9,
            98.2,
            60.18,
            59.18,
            80.55,
            206.91,
            107.13,
            62.02,
            67.35,
            60.29
           ],
           "yaxis": "y"
          },
          {
           "hovertemplate": "variable=Predicted<br>timestep=24<br>periodstep=%{x}<br>value=%{y}<extra></extra>",
           "legendgroup": "Predicted",
           "line": {
            "color": "#00cc96",
            "dash": "solid"
           },
           "marker": {
            "symbol": "circle"
           },
           "mode": "lines",
           "name": "Predicted",
           "orientation": "v",
           "showlegend": true,
           "type": "scatter",
           "x": [
            1,
            2,
            3,
            4,
            5,
            6,
            7,
            8,
            9,
            10,
            11,
            12,
            13,
            14,
            15,
            16,
            17,
            18,
            19,
            20,
            21,
            22,
            23,
            24
           ],
           "xaxis": "x",
           "y": [
            null,
            null,
            null,
            null,
            null,
            null,
            null,
            null,
            null,
            null,
            null,
            null,
            126.58806894686506,
            140.78246559447328,
            99.31691231794103,
            83.24810209251055,
            90.02679156029326,
            110.25901337287442,
            131.69689763368874,
            113.16164043307828,
            107.08752191316947,
            96.13251660786906,
            149.06665288007247,
            134.87091439048854
           ],
           "yaxis": "y"
          }
         ],
         "name": "24"
        },
        {
         "data": [
          {
           "hovertemplate": "variable=HistoricalPrice<br>timestep=25<br>periodstep=%{x}<br>value=%{y}<extra></extra>",
           "legendgroup": "HistoricalPrice",
           "line": {
            "color": "#636efa",
            "dash": "solid"
           },
           "marker": {
            "symbol": "circle"
           },
           "mode": "lines",
           "name": "HistoricalPrice",
           "orientation": "v",
           "showlegend": true,
           "type": "scatter",
           "x": [
            1,
            2,
            3,
            4,
            5,
            6,
            7,
            8,
            9,
            10,
            11,
            12,
            13,
            14,
            15,
            16,
            17,
            18,
            19,
            20,
            21,
            22,
            23,
            24
           ],
           "xaxis": "x",
           "y": [
            59.01,
            48.92,
            55.19,
            68.53,
            233.28,
            346.29,
            364.65,
            421.68,
            400.11,
            161.55,
            207.69,
            137.84,
            null,
            null,
            null,
            null,
            null,
            null,
            null,
            null,
            null,
            null,
            null,
            null
           ],
           "yaxis": "y"
          },
          {
           "hovertemplate": "variable=FuturePrice<br>timestep=25<br>periodstep=%{x}<br>value=%{y}<extra></extra>",
           "legendgroup": "FuturePrice",
           "line": {
            "color": "#EF553B",
            "dash": "solid"
           },
           "marker": {
            "symbol": "circle"
           },
           "mode": "lines",
           "name": "FuturePrice",
           "orientation": "v",
           "showlegend": true,
           "type": "scatter",
           "x": [
            1,
            2,
            3,
            4,
            5,
            6,
            7,
            8,
            9,
            10,
            11,
            12,
            13,
            14,
            15,
            16,
            17,
            18,
            19,
            20,
            21,
            22,
            23,
            24
           ],
           "xaxis": "x",
           "y": [
            null,
            null,
            null,
            null,
            null,
            null,
            null,
            null,
            null,
            null,
            null,
            null,
            204,
            169.9,
            98.2,
            60.18,
            59.18,
            80.55,
            206.91,
            107.13,
            62.02,
            67.35,
            60.29,
            57.36
           ],
           "yaxis": "y"
          },
          {
           "hovertemplate": "variable=Predicted<br>timestep=25<br>periodstep=%{x}<br>value=%{y}<extra></extra>",
           "legendgroup": "Predicted",
           "line": {
            "color": "#00cc96",
            "dash": "solid"
           },
           "marker": {
            "symbol": "circle"
           },
           "mode": "lines",
           "name": "Predicted",
           "orientation": "v",
           "showlegend": true,
           "type": "scatter",
           "x": [
            1,
            2,
            3,
            4,
            5,
            6,
            7,
            8,
            9,
            10,
            11,
            12,
            13,
            14,
            15,
            16,
            17,
            18,
            19,
            20,
            21,
            22,
            23,
            24
           ],
           "xaxis": "x",
           "y": [
            null,
            null,
            null,
            null,
            null,
            null,
            null,
            null,
            null,
            null,
            null,
            null,
            123.39315875263502,
            112.5295399760719,
            91.03674761831165,
            104.48225140097907,
            125.28617778590878,
            146.7143333867647,
            116.10164599532027,
            112.28884371932817,
            98.10823450076326,
            115.13837190403163,
            132.67044630817907,
            132.7644578241428
           ],
           "yaxis": "y"
          }
         ],
         "name": "25"
        },
        {
         "data": [
          {
           "hovertemplate": "variable=HistoricalPrice<br>timestep=26<br>periodstep=%{x}<br>value=%{y}<extra></extra>",
           "legendgroup": "HistoricalPrice",
           "line": {
            "color": "#636efa",
            "dash": "solid"
           },
           "marker": {
            "symbol": "circle"
           },
           "mode": "lines",
           "name": "HistoricalPrice",
           "orientation": "v",
           "showlegend": true,
           "type": "scatter",
           "x": [
            1,
            2,
            3,
            4,
            5,
            6,
            7,
            8,
            9,
            10,
            11,
            12,
            13,
            14,
            15,
            16,
            17,
            18,
            19,
            20,
            21,
            22,
            23,
            24
           ],
           "xaxis": "x",
           "y": [
            48.92,
            55.19,
            68.53,
            233.28,
            346.29,
            364.65,
            421.68,
            400.11,
            161.55,
            207.69,
            137.84,
            204,
            null,
            null,
            null,
            null,
            null,
            null,
            null,
            null,
            null,
            null,
            null,
            null
           ],
           "yaxis": "y"
          },
          {
           "hovertemplate": "variable=FuturePrice<br>timestep=26<br>periodstep=%{x}<br>value=%{y}<extra></extra>",
           "legendgroup": "FuturePrice",
           "line": {
            "color": "#EF553B",
            "dash": "solid"
           },
           "marker": {
            "symbol": "circle"
           },
           "mode": "lines",
           "name": "FuturePrice",
           "orientation": "v",
           "showlegend": true,
           "type": "scatter",
           "x": [
            1,
            2,
            3,
            4,
            5,
            6,
            7,
            8,
            9,
            10,
            11,
            12,
            13,
            14,
            15,
            16,
            17,
            18,
            19,
            20,
            21,
            22,
            23,
            24
           ],
           "xaxis": "x",
           "y": [
            null,
            null,
            null,
            null,
            null,
            null,
            null,
            null,
            null,
            null,
            null,
            null,
            169.9,
            98.2,
            60.18,
            59.18,
            80.55,
            206.91,
            107.13,
            62.02,
            67.35,
            60.29,
            57.36,
            54.33
           ],
           "yaxis": "y"
          },
          {
           "hovertemplate": "variable=Predicted<br>timestep=26<br>periodstep=%{x}<br>value=%{y}<extra></extra>",
           "legendgroup": "Predicted",
           "line": {
            "color": "#00cc96",
            "dash": "solid"
           },
           "marker": {
            "symbol": "circle"
           },
           "mode": "lines",
           "name": "Predicted",
           "orientation": "v",
           "showlegend": true,
           "type": "scatter",
           "x": [
            1,
            2,
            3,
            4,
            5,
            6,
            7,
            8,
            9,
            10,
            11,
            12,
            13,
            14,
            15,
            16,
            17,
            18,
            19,
            20,
            21,
            22,
            23,
            24
           ],
           "xaxis": "x",
           "y": [
            null,
            null,
            null,
            null,
            null,
            null,
            null,
            null,
            null,
            null,
            null,
            null,
            146.70037705203438,
            150.60472341795818,
            113.47229571935081,
            159.65026825749936,
            171.03900151068967,
            165.54789514044504,
            134.2237346578664,
            124.51587675848822,
            118.8518056562364,
            116.28354587708236,
            128.20215799735894,
            122.81978197218979
           ],
           "yaxis": "y"
          }
         ],
         "name": "26"
        },
        {
         "data": [
          {
           "hovertemplate": "variable=HistoricalPrice<br>timestep=27<br>periodstep=%{x}<br>value=%{y}<extra></extra>",
           "legendgroup": "HistoricalPrice",
           "line": {
            "color": "#636efa",
            "dash": "solid"
           },
           "marker": {
            "symbol": "circle"
           },
           "mode": "lines",
           "name": "HistoricalPrice",
           "orientation": "v",
           "showlegend": true,
           "type": "scatter",
           "x": [
            1,
            2,
            3,
            4,
            5,
            6,
            7,
            8,
            9,
            10,
            11,
            12,
            13,
            14,
            15,
            16,
            17,
            18,
            19,
            20,
            21,
            22,
            23,
            24
           ],
           "xaxis": "x",
           "y": [
            55.19,
            68.53,
            233.28,
            346.29,
            364.65,
            421.68,
            400.11,
            161.55,
            207.69,
            137.84,
            204,
            169.9,
            null,
            null,
            null,
            null,
            null,
            null,
            null,
            null,
            null,
            null,
            null,
            null
           ],
           "yaxis": "y"
          },
          {
           "hovertemplate": "variable=FuturePrice<br>timestep=27<br>periodstep=%{x}<br>value=%{y}<extra></extra>",
           "legendgroup": "FuturePrice",
           "line": {
            "color": "#EF553B",
            "dash": "solid"
           },
           "marker": {
            "symbol": "circle"
           },
           "mode": "lines",
           "name": "FuturePrice",
           "orientation": "v",
           "showlegend": true,
           "type": "scatter",
           "x": [
            1,
            2,
            3,
            4,
            5,
            6,
            7,
            8,
            9,
            10,
            11,
            12,
            13,
            14,
            15,
            16,
            17,
            18,
            19,
            20,
            21,
            22,
            23,
            24
           ],
           "xaxis": "x",
           "y": [
            null,
            null,
            null,
            null,
            null,
            null,
            null,
            null,
            null,
            null,
            null,
            null,
            98.2,
            60.18,
            59.18,
            80.55,
            206.91,
            107.13,
            62.02,
            67.35,
            60.29,
            57.36,
            54.33,
            60.23
           ],
           "yaxis": "y"
          },
          {
           "hovertemplate": "variable=Predicted<br>timestep=27<br>periodstep=%{x}<br>value=%{y}<extra></extra>",
           "legendgroup": "Predicted",
           "line": {
            "color": "#00cc96",
            "dash": "solid"
           },
           "marker": {
            "symbol": "circle"
           },
           "mode": "lines",
           "name": "Predicted",
           "orientation": "v",
           "showlegend": true,
           "type": "scatter",
           "x": [
            1,
            2,
            3,
            4,
            5,
            6,
            7,
            8,
            9,
            10,
            11,
            12,
            13,
            14,
            15,
            16,
            17,
            18,
            19,
            20,
            21,
            22,
            23,
            24
           ],
           "xaxis": "x",
           "y": [
            null,
            null,
            null,
            null,
            null,
            null,
            null,
            null,
            null,
            null,
            null,
            null,
            142.38495760566693,
            111.37928396915254,
            153.30805518659392,
            212.61370185044328,
            154.69354013178108,
            143.09348369343283,
            133.5590270742737,
            127.67446869401527,
            138.3564426193225,
            126.69089043899237,
            165.45461969502048,
            158.84207799745445
           ],
           "yaxis": "y"
          }
         ],
         "name": "27"
        },
        {
         "data": [
          {
           "hovertemplate": "variable=HistoricalPrice<br>timestep=28<br>periodstep=%{x}<br>value=%{y}<extra></extra>",
           "legendgroup": "HistoricalPrice",
           "line": {
            "color": "#636efa",
            "dash": "solid"
           },
           "marker": {
            "symbol": "circle"
           },
           "mode": "lines",
           "name": "HistoricalPrice",
           "orientation": "v",
           "showlegend": true,
           "type": "scatter",
           "x": [
            1,
            2,
            3,
            4,
            5,
            6,
            7,
            8,
            9,
            10,
            11,
            12,
            13,
            14,
            15,
            16,
            17,
            18,
            19,
            20,
            21,
            22,
            23,
            24
           ],
           "xaxis": "x",
           "y": [
            68.53,
            233.28,
            346.29,
            364.65,
            421.68,
            400.11,
            161.55,
            207.69,
            137.84,
            204,
            169.9,
            98.2,
            null,
            null,
            null,
            null,
            null,
            null,
            null,
            null,
            null,
            null,
            null,
            null
           ],
           "yaxis": "y"
          },
          {
           "hovertemplate": "variable=FuturePrice<br>timestep=28<br>periodstep=%{x}<br>value=%{y}<extra></extra>",
           "legendgroup": "FuturePrice",
           "line": {
            "color": "#EF553B",
            "dash": "solid"
           },
           "marker": {
            "symbol": "circle"
           },
           "mode": "lines",
           "name": "FuturePrice",
           "orientation": "v",
           "showlegend": true,
           "type": "scatter",
           "x": [
            1,
            2,
            3,
            4,
            5,
            6,
            7,
            8,
            9,
            10,
            11,
            12,
            13,
            14,
            15,
            16,
            17,
            18,
            19,
            20,
            21,
            22,
            23,
            24
           ],
           "xaxis": "x",
           "y": [
            null,
            null,
            null,
            null,
            null,
            null,
            null,
            null,
            null,
            null,
            null,
            null,
            60.18,
            59.18,
            80.55,
            206.91,
            107.13,
            62.02,
            67.35,
            60.29,
            57.36,
            54.33,
            60.23,
            58.99
           ],
           "yaxis": "y"
          },
          {
           "hovertemplate": "variable=Predicted<br>timestep=28<br>periodstep=%{x}<br>value=%{y}<extra></extra>",
           "legendgroup": "Predicted",
           "line": {
            "color": "#00cc96",
            "dash": "solid"
           },
           "marker": {
            "symbol": "circle"
           },
           "mode": "lines",
           "name": "Predicted",
           "orientation": "v",
           "showlegend": true,
           "type": "scatter",
           "x": [
            1,
            2,
            3,
            4,
            5,
            6,
            7,
            8,
            9,
            10,
            11,
            12,
            13,
            14,
            15,
            16,
            17,
            18,
            19,
            20,
            21,
            22,
            23,
            24
           ],
           "xaxis": "x",
           "y": [
            null,
            null,
            null,
            null,
            null,
            null,
            null,
            null,
            null,
            null,
            null,
            null,
            100.3221400356379,
            151.60679175105668,
            137.40371141979676,
            132.96513223599405,
            144.97706290554612,
            139.81995232075053,
            139.06570483688813,
            148.77459789669038,
            147.15599117440803,
            130.05677286402133,
            185.56130775158272,
            209.23571628050126
           ],
           "yaxis": "y"
          }
         ],
         "name": "28"
        },
        {
         "data": [
          {
           "hovertemplate": "variable=HistoricalPrice<br>timestep=29<br>periodstep=%{x}<br>value=%{y}<extra></extra>",
           "legendgroup": "HistoricalPrice",
           "line": {
            "color": "#636efa",
            "dash": "solid"
           },
           "marker": {
            "symbol": "circle"
           },
           "mode": "lines",
           "name": "HistoricalPrice",
           "orientation": "v",
           "showlegend": true,
           "type": "scatter",
           "x": [
            1,
            2,
            3,
            4,
            5,
            6,
            7,
            8,
            9,
            10,
            11,
            12,
            13,
            14,
            15,
            16,
            17,
            18,
            19,
            20,
            21,
            22,
            23,
            24
           ],
           "xaxis": "x",
           "y": [
            233.28,
            346.29,
            364.65,
            421.68,
            400.11,
            161.55,
            207.69,
            137.84,
            204,
            169.9,
            98.2,
            60.18,
            null,
            null,
            null,
            null,
            null,
            null,
            null,
            null,
            null,
            null,
            null,
            null
           ],
           "yaxis": "y"
          },
          {
           "hovertemplate": "variable=FuturePrice<br>timestep=29<br>periodstep=%{x}<br>value=%{y}<extra></extra>",
           "legendgroup": "FuturePrice",
           "line": {
            "color": "#EF553B",
            "dash": "solid"
           },
           "marker": {
            "symbol": "circle"
           },
           "mode": "lines",
           "name": "FuturePrice",
           "orientation": "v",
           "showlegend": true,
           "type": "scatter",
           "x": [
            1,
            2,
            3,
            4,
            5,
            6,
            7,
            8,
            9,
            10,
            11,
            12,
            13,
            14,
            15,
            16,
            17,
            18,
            19,
            20,
            21,
            22,
            23,
            24
           ],
           "xaxis": "x",
           "y": [
            null,
            null,
            null,
            null,
            null,
            null,
            null,
            null,
            null,
            null,
            null,
            null,
            59.18,
            80.55,
            206.91,
            107.13,
            62.02,
            67.35,
            60.29,
            57.36,
            54.33,
            60.23,
            58.99,
            61.64
           ],
           "yaxis": "y"
          },
          {
           "hovertemplate": "variable=Predicted<br>timestep=29<br>periodstep=%{x}<br>value=%{y}<extra></extra>",
           "legendgroup": "Predicted",
           "line": {
            "color": "#00cc96",
            "dash": "solid"
           },
           "marker": {
            "symbol": "circle"
           },
           "mode": "lines",
           "name": "Predicted",
           "orientation": "v",
           "showlegend": true,
           "type": "scatter",
           "x": [
            1,
            2,
            3,
            4,
            5,
            6,
            7,
            8,
            9,
            10,
            11,
            12,
            13,
            14,
            15,
            16,
            17,
            18,
            19,
            20,
            21,
            22,
            23,
            24
           ],
           "xaxis": "x",
           "y": [
            null,
            null,
            null,
            null,
            null,
            null,
            null,
            null,
            null,
            null,
            null,
            null,
            59.15571994442978,
            68.20210924330732,
            74.00944114878342,
            85.3292163510714,
            107.50360209177983,
            127.90503743577385,
            127.53657698916903,
            145.49772077260727,
            132.51991774783946,
            149.9164703482305,
            193.8901186103923,
            306.23776891687146
           ],
           "yaxis": "y"
          }
         ],
         "name": "29"
        },
        {
         "data": [
          {
           "hovertemplate": "variable=HistoricalPrice<br>timestep=30<br>periodstep=%{x}<br>value=%{y}<extra></extra>",
           "legendgroup": "HistoricalPrice",
           "line": {
            "color": "#636efa",
            "dash": "solid"
           },
           "marker": {
            "symbol": "circle"
           },
           "mode": "lines",
           "name": "HistoricalPrice",
           "orientation": "v",
           "showlegend": true,
           "type": "scatter",
           "x": [
            1,
            2,
            3,
            4,
            5,
            6,
            7,
            8,
            9,
            10,
            11,
            12,
            13,
            14,
            15,
            16,
            17,
            18,
            19,
            20,
            21,
            22,
            23,
            24
           ],
           "xaxis": "x",
           "y": [
            346.29,
            364.65,
            421.68,
            400.11,
            161.55,
            207.69,
            137.84,
            204,
            169.9,
            98.2,
            60.18,
            59.18,
            null,
            null,
            null,
            null,
            null,
            null,
            null,
            null,
            null,
            null,
            null,
            null
           ],
           "yaxis": "y"
          },
          {
           "hovertemplate": "variable=FuturePrice<br>timestep=30<br>periodstep=%{x}<br>value=%{y}<extra></extra>",
           "legendgroup": "FuturePrice",
           "line": {
            "color": "#EF553B",
            "dash": "solid"
           },
           "marker": {
            "symbol": "circle"
           },
           "mode": "lines",
           "name": "FuturePrice",
           "orientation": "v",
           "showlegend": true,
           "type": "scatter",
           "x": [
            1,
            2,
            3,
            4,
            5,
            6,
            7,
            8,
            9,
            10,
            11,
            12,
            13,
            14,
            15,
            16,
            17,
            18,
            19,
            20,
            21,
            22,
            23,
            24
           ],
           "xaxis": "x",
           "y": [
            null,
            null,
            null,
            null,
            null,
            null,
            null,
            null,
            null,
            null,
            null,
            null,
            80.55,
            206.91,
            107.13,
            62.02,
            67.35,
            60.29,
            57.36,
            54.33,
            60.23,
            58.99,
            61.64,
            64.46
           ],
           "yaxis": "y"
          },
          {
           "hovertemplate": "variable=Predicted<br>timestep=30<br>periodstep=%{x}<br>value=%{y}<extra></extra>",
           "legendgroup": "Predicted",
           "line": {
            "color": "#00cc96",
            "dash": "solid"
           },
           "marker": {
            "symbol": "circle"
           },
           "mode": "lines",
           "name": "Predicted",
           "orientation": "v",
           "showlegend": true,
           "type": "scatter",
           "x": [
            1,
            2,
            3,
            4,
            5,
            6,
            7,
            8,
            9,
            10,
            11,
            12,
            13,
            14,
            15,
            16,
            17,
            18,
            19,
            20,
            21,
            22,
            23,
            24
           ],
           "xaxis": "x",
           "y": [
            null,
            null,
            null,
            null,
            null,
            null,
            null,
            null,
            null,
            null,
            null,
            null,
            57.4074860990466,
            71.21623146796404,
            79.65881667773024,
            97.56278746569332,
            116.46236606991035,
            131.86221805732401,
            116.83884421137562,
            127.40746441545473,
            141.85759464612596,
            191.61960644978967,
            310.1278510106647,
            306.4752834431211
           ],
           "yaxis": "y"
          }
         ],
         "name": "30"
        },
        {
         "data": [
          {
           "hovertemplate": "variable=HistoricalPrice<br>timestep=31<br>periodstep=%{x}<br>value=%{y}<extra></extra>",
           "legendgroup": "HistoricalPrice",
           "line": {
            "color": "#636efa",
            "dash": "solid"
           },
           "marker": {
            "symbol": "circle"
           },
           "mode": "lines",
           "name": "HistoricalPrice",
           "orientation": "v",
           "showlegend": true,
           "type": "scatter",
           "x": [
            1,
            2,
            3,
            4,
            5,
            6,
            7,
            8,
            9,
            10,
            11,
            12,
            13,
            14,
            15,
            16,
            17,
            18,
            19,
            20,
            21,
            22,
            23,
            24
           ],
           "xaxis": "x",
           "y": [
            364.65,
            421.68,
            400.11,
            161.55,
            207.69,
            137.84,
            204,
            169.9,
            98.2,
            60.18,
            59.18,
            80.55,
            null,
            null,
            null,
            null,
            null,
            null,
            null,
            null,
            null,
            null,
            null,
            null
           ],
           "yaxis": "y"
          },
          {
           "hovertemplate": "variable=FuturePrice<br>timestep=31<br>periodstep=%{x}<br>value=%{y}<extra></extra>",
           "legendgroup": "FuturePrice",
           "line": {
            "color": "#EF553B",
            "dash": "solid"
           },
           "marker": {
            "symbol": "circle"
           },
           "mode": "lines",
           "name": "FuturePrice",
           "orientation": "v",
           "showlegend": true,
           "type": "scatter",
           "x": [
            1,
            2,
            3,
            4,
            5,
            6,
            7,
            8,
            9,
            10,
            11,
            12,
            13,
            14,
            15,
            16,
            17,
            18,
            19,
            20,
            21,
            22,
            23,
            24
           ],
           "xaxis": "x",
           "y": [
            null,
            null,
            null,
            null,
            null,
            null,
            null,
            null,
            null,
            null,
            null,
            null,
            206.91,
            107.13,
            62.02,
            67.35,
            60.29,
            57.36,
            54.33,
            60.23,
            58.99,
            61.64,
            64.46,
            73.53
           ],
           "yaxis": "y"
          },
          {
           "hovertemplate": "variable=Predicted<br>timestep=31<br>periodstep=%{x}<br>value=%{y}<extra></extra>",
           "legendgroup": "Predicted",
           "line": {
            "color": "#00cc96",
            "dash": "solid"
           },
           "marker": {
            "symbol": "circle"
           },
           "mode": "lines",
           "name": "Predicted",
           "orientation": "v",
           "showlegend": true,
           "type": "scatter",
           "x": [
            1,
            2,
            3,
            4,
            5,
            6,
            7,
            8,
            9,
            10,
            11,
            12,
            13,
            14,
            15,
            16,
            17,
            18,
            19,
            20,
            21,
            22,
            23,
            24
           ],
           "xaxis": "x",
           "y": [
            null,
            null,
            null,
            null,
            null,
            null,
            null,
            null,
            null,
            null,
            null,
            null,
            94.85601952201293,
            97.56491455965823,
            105.58840920426125,
            124.00338739107447,
            144.4024177004669,
            160.88333121663405,
            134.59070564787044,
            152.49026801210715,
            189.62182452234396,
            279.88079565732306,
            306.0862640806962,
            358.9812183247432
           ],
           "yaxis": "y"
          }
         ],
         "name": "31"
        },
        {
         "data": [
          {
           "hovertemplate": "variable=HistoricalPrice<br>timestep=32<br>periodstep=%{x}<br>value=%{y}<extra></extra>",
           "legendgroup": "HistoricalPrice",
           "line": {
            "color": "#636efa",
            "dash": "solid"
           },
           "marker": {
            "symbol": "circle"
           },
           "mode": "lines",
           "name": "HistoricalPrice",
           "orientation": "v",
           "showlegend": true,
           "type": "scatter",
           "x": [
            1,
            2,
            3,
            4,
            5,
            6,
            7,
            8,
            9,
            10,
            11,
            12,
            13,
            14,
            15,
            16,
            17,
            18,
            19,
            20,
            21,
            22,
            23,
            24
           ],
           "xaxis": "x",
           "y": [
            421.68,
            400.11,
            161.55,
            207.69,
            137.84,
            204,
            169.9,
            98.2,
            60.18,
            59.18,
            80.55,
            206.91,
            null,
            null,
            null,
            null,
            null,
            null,
            null,
            null,
            null,
            null,
            null,
            null
           ],
           "yaxis": "y"
          },
          {
           "hovertemplate": "variable=FuturePrice<br>timestep=32<br>periodstep=%{x}<br>value=%{y}<extra></extra>",
           "legendgroup": "FuturePrice",
           "line": {
            "color": "#EF553B",
            "dash": "solid"
           },
           "marker": {
            "symbol": "circle"
           },
           "mode": "lines",
           "name": "FuturePrice",
           "orientation": "v",
           "showlegend": true,
           "type": "scatter",
           "x": [
            1,
            2,
            3,
            4,
            5,
            6,
            7,
            8,
            9,
            10,
            11,
            12,
            13,
            14,
            15,
            16,
            17,
            18,
            19,
            20,
            21,
            22,
            23,
            24
           ],
           "xaxis": "x",
           "y": [
            null,
            null,
            null,
            null,
            null,
            null,
            null,
            null,
            null,
            null,
            null,
            null,
            107.13,
            62.02,
            67.35,
            60.29,
            57.36,
            54.33,
            60.23,
            58.99,
            61.64,
            64.46,
            73.53,
            68.5
           ],
           "yaxis": "y"
          },
          {
           "hovertemplate": "variable=Predicted<br>timestep=32<br>periodstep=%{x}<br>value=%{y}<extra></extra>",
           "legendgroup": "Predicted",
           "line": {
            "color": "#00cc96",
            "dash": "solid"
           },
           "marker": {
            "symbol": "circle"
           },
           "mode": "lines",
           "name": "Predicted",
           "orientation": "v",
           "showlegend": true,
           "type": "scatter",
           "x": [
            1,
            2,
            3,
            4,
            5,
            6,
            7,
            8,
            9,
            10,
            11,
            12,
            13,
            14,
            15,
            16,
            17,
            18,
            19,
            20,
            21,
            22,
            23,
            24
           ],
           "xaxis": "x",
           "y": [
            null,
            null,
            null,
            null,
            null,
            null,
            null,
            null,
            null,
            null,
            null,
            null,
            236.37656681617818,
            162.0581257278617,
            175.61532302884297,
            169.20009134193793,
            163.64295863817046,
            174.80181517082335,
            146.09862074532379,
            165.031059954644,
            258.2410596282071,
            258.30836088367704,
            308.22937238141174,
            292.5792726635264
           ],
           "yaxis": "y"
          }
         ],
         "name": "32"
        },
        {
         "data": [
          {
           "hovertemplate": "variable=HistoricalPrice<br>timestep=33<br>periodstep=%{x}<br>value=%{y}<extra></extra>",
           "legendgroup": "HistoricalPrice",
           "line": {
            "color": "#636efa",
            "dash": "solid"
           },
           "marker": {
            "symbol": "circle"
           },
           "mode": "lines",
           "name": "HistoricalPrice",
           "orientation": "v",
           "showlegend": true,
           "type": "scatter",
           "x": [
            1,
            2,
            3,
            4,
            5,
            6,
            7,
            8,
            9,
            10,
            11,
            12,
            13,
            14,
            15,
            16,
            17,
            18,
            19,
            20,
            21,
            22,
            23,
            24
           ],
           "xaxis": "x",
           "y": [
            400.11,
            161.55,
            207.69,
            137.84,
            204,
            169.9,
            98.2,
            60.18,
            59.18,
            80.55,
            206.91,
            107.13,
            null,
            null,
            null,
            null,
            null,
            null,
            null,
            null,
            null,
            null,
            null,
            null
           ],
           "yaxis": "y"
          },
          {
           "hovertemplate": "variable=FuturePrice<br>timestep=33<br>periodstep=%{x}<br>value=%{y}<extra></extra>",
           "legendgroup": "FuturePrice",
           "line": {
            "color": "#EF553B",
            "dash": "solid"
           },
           "marker": {
            "symbol": "circle"
           },
           "mode": "lines",
           "name": "FuturePrice",
           "orientation": "v",
           "showlegend": true,
           "type": "scatter",
           "x": [
            1,
            2,
            3,
            4,
            5,
            6,
            7,
            8,
            9,
            10,
            11,
            12,
            13,
            14,
            15,
            16,
            17,
            18,
            19,
            20,
            21,
            22,
            23,
            24
           ],
           "xaxis": "x",
           "y": [
            null,
            null,
            null,
            null,
            null,
            null,
            null,
            null,
            null,
            null,
            null,
            null,
            62.02,
            67.35,
            60.29,
            57.36,
            54.33,
            60.23,
            58.99,
            61.64,
            64.46,
            73.53,
            68.5,
            70.18
           ],
           "yaxis": "y"
          },
          {
           "hovertemplate": "variable=Predicted<br>timestep=33<br>periodstep=%{x}<br>value=%{y}<extra></extra>",
           "legendgroup": "Predicted",
           "line": {
            "color": "#00cc96",
            "dash": "solid"
           },
           "marker": {
            "symbol": "circle"
           },
           "mode": "lines",
           "name": "Predicted",
           "orientation": "v",
           "showlegend": true,
           "type": "scatter",
           "x": [
            1,
            2,
            3,
            4,
            5,
            6,
            7,
            8,
            9,
            10,
            11,
            12,
            13,
            14,
            15,
            16,
            17,
            18,
            19,
            20,
            21,
            22,
            23,
            24
           ],
           "xaxis": "x",
           "y": [
            null,
            null,
            null,
            null,
            null,
            null,
            null,
            null,
            null,
            null,
            null,
            null,
            104.5840957148311,
            153.1445864193459,
            156.4656081771718,
            145.02320082054925,
            143.04972797476245,
            157.54981572010914,
            146.80748194837136,
            162.47812914267476,
            239.50537015587608,
            262.872249630969,
            236.10797566846688,
            229.11174201017616
           ],
           "yaxis": "y"
          }
         ],
         "name": "33"
        },
        {
         "data": [
          {
           "hovertemplate": "variable=HistoricalPrice<br>timestep=34<br>periodstep=%{x}<br>value=%{y}<extra></extra>",
           "legendgroup": "HistoricalPrice",
           "line": {
            "color": "#636efa",
            "dash": "solid"
           },
           "marker": {
            "symbol": "circle"
           },
           "mode": "lines",
           "name": "HistoricalPrice",
           "orientation": "v",
           "showlegend": true,
           "type": "scatter",
           "x": [
            1,
            2,
            3,
            4,
            5,
            6,
            7,
            8,
            9,
            10,
            11,
            12,
            13,
            14,
            15,
            16,
            17,
            18,
            19,
            20,
            21,
            22,
            23,
            24
           ],
           "xaxis": "x",
           "y": [
            161.55,
            207.69,
            137.84,
            204,
            169.9,
            98.2,
            60.18,
            59.18,
            80.55,
            206.91,
            107.13,
            62.02,
            null,
            null,
            null,
            null,
            null,
            null,
            null,
            null,
            null,
            null,
            null,
            null
           ],
           "yaxis": "y"
          },
          {
           "hovertemplate": "variable=FuturePrice<br>timestep=34<br>periodstep=%{x}<br>value=%{y}<extra></extra>",
           "legendgroup": "FuturePrice",
           "line": {
            "color": "#EF553B",
            "dash": "solid"
           },
           "marker": {
            "symbol": "circle"
           },
           "mode": "lines",
           "name": "FuturePrice",
           "orientation": "v",
           "showlegend": true,
           "type": "scatter",
           "x": [
            1,
            2,
            3,
            4,
            5,
            6,
            7,
            8,
            9,
            10,
            11,
            12,
            13,
            14,
            15,
            16,
            17,
            18,
            19,
            20,
            21,
            22,
            23,
            24
           ],
           "xaxis": "x",
           "y": [
            null,
            null,
            null,
            null,
            null,
            null,
            null,
            null,
            null,
            null,
            null,
            null,
            67.35,
            60.29,
            57.36,
            54.33,
            60.23,
            58.99,
            61.64,
            64.46,
            73.53,
            68.5,
            70.18,
            64.59
           ],
           "yaxis": "y"
          },
          {
           "hovertemplate": "variable=Predicted<br>timestep=34<br>periodstep=%{x}<br>value=%{y}<extra></extra>",
           "legendgroup": "Predicted",
           "line": {
            "color": "#00cc96",
            "dash": "solid"
           },
           "marker": {
            "symbol": "circle"
           },
           "mode": "lines",
           "name": "Predicted",
           "orientation": "v",
           "showlegend": true,
           "type": "scatter",
           "x": [
            1,
            2,
            3,
            4,
            5,
            6,
            7,
            8,
            9,
            10,
            11,
            12,
            13,
            14,
            15,
            16,
            17,
            18,
            19,
            20,
            21,
            22,
            23,
            24
           ],
           "xaxis": "x",
           "y": [
            null,
            null,
            null,
            null,
            null,
            null,
            null,
            null,
            null,
            null,
            null,
            null,
            61.47920004715119,
            72.04996834568371,
            78.84774625820724,
            81.65693134593039,
            87.10071406760022,
            158.43536943007027,
            197.45795686007315,
            166.39971848779487,
            233.0300867125191,
            234.89425910780307,
            225.59883639315396,
            127.96825013997943
           ],
           "yaxis": "y"
          }
         ],
         "name": "34"
        },
        {
         "data": [
          {
           "hovertemplate": "variable=HistoricalPrice<br>timestep=35<br>periodstep=%{x}<br>value=%{y}<extra></extra>",
           "legendgroup": "HistoricalPrice",
           "line": {
            "color": "#636efa",
            "dash": "solid"
           },
           "marker": {
            "symbol": "circle"
           },
           "mode": "lines",
           "name": "HistoricalPrice",
           "orientation": "v",
           "showlegend": true,
           "type": "scatter",
           "x": [
            1,
            2,
            3,
            4,
            5,
            6,
            7,
            8,
            9,
            10,
            11,
            12,
            13,
            14,
            15,
            16,
            17,
            18,
            19,
            20,
            21,
            22,
            23,
            24
           ],
           "xaxis": "x",
           "y": [
            207.69,
            137.84,
            204,
            169.9,
            98.2,
            60.18,
            59.18,
            80.55,
            206.91,
            107.13,
            62.02,
            67.35,
            null,
            null,
            null,
            null,
            null,
            null,
            null,
            null,
            null,
            null,
            null,
            null
           ],
           "yaxis": "y"
          },
          {
           "hovertemplate": "variable=FuturePrice<br>timestep=35<br>periodstep=%{x}<br>value=%{y}<extra></extra>",
           "legendgroup": "FuturePrice",
           "line": {
            "color": "#EF553B",
            "dash": "solid"
           },
           "marker": {
            "symbol": "circle"
           },
           "mode": "lines",
           "name": "FuturePrice",
           "orientation": "v",
           "showlegend": true,
           "type": "scatter",
           "x": [
            1,
            2,
            3,
            4,
            5,
            6,
            7,
            8,
            9,
            10,
            11,
            12,
            13,
            14,
            15,
            16,
            17,
            18,
            19,
            20,
            21,
            22,
            23,
            24
           ],
           "xaxis": "x",
           "y": [
            null,
            null,
            null,
            null,
            null,
            null,
            null,
            null,
            null,
            null,
            null,
            null,
            60.29,
            57.36,
            54.33,
            60.23,
            58.99,
            61.64,
            64.46,
            73.53,
            68.5,
            70.18,
            64.59,
            68.32
           ],
           "yaxis": "y"
          },
          {
           "hovertemplate": "variable=Predicted<br>timestep=35<br>periodstep=%{x}<br>value=%{y}<extra></extra>",
           "legendgroup": "Predicted",
           "line": {
            "color": "#00cc96",
            "dash": "solid"
           },
           "marker": {
            "symbol": "circle"
           },
           "mode": "lines",
           "name": "Predicted",
           "orientation": "v",
           "showlegend": true,
           "type": "scatter",
           "x": [
            1,
            2,
            3,
            4,
            5,
            6,
            7,
            8,
            9,
            10,
            11,
            12,
            13,
            14,
            15,
            16,
            17,
            18,
            19,
            20,
            21,
            22,
            23,
            24
           ],
           "xaxis": "x",
           "y": [
            null,
            null,
            null,
            null,
            null,
            null,
            null,
            null,
            null,
            null,
            null,
            null,
            63.54721102558622,
            70.69441241193294,
            85.59863144861816,
            86.48474962531303,
            129.22531414843058,
            141.52250562906409,
            209.3600098400617,
            182.80005400662768,
            191.74480001039666,
            188.92501650478982,
            128.12306199556468,
            102.9707620773732
           ],
           "yaxis": "y"
          }
         ],
         "name": "35"
        },
        {
         "data": [
          {
           "hovertemplate": "variable=HistoricalPrice<br>timestep=36<br>periodstep=%{x}<br>value=%{y}<extra></extra>",
           "legendgroup": "HistoricalPrice",
           "line": {
            "color": "#636efa",
            "dash": "solid"
           },
           "marker": {
            "symbol": "circle"
           },
           "mode": "lines",
           "name": "HistoricalPrice",
           "orientation": "v",
           "showlegend": true,
           "type": "scatter",
           "x": [
            1,
            2,
            3,
            4,
            5,
            6,
            7,
            8,
            9,
            10,
            11,
            12,
            13,
            14,
            15,
            16,
            17,
            18,
            19,
            20,
            21,
            22,
            23,
            24
           ],
           "xaxis": "x",
           "y": [
            137.84,
            204,
            169.9,
            98.2,
            60.18,
            59.18,
            80.55,
            206.91,
            107.13,
            62.02,
            67.35,
            60.29,
            null,
            null,
            null,
            null,
            null,
            null,
            null,
            null,
            null,
            null,
            null,
            null
           ],
           "yaxis": "y"
          },
          {
           "hovertemplate": "variable=FuturePrice<br>timestep=36<br>periodstep=%{x}<br>value=%{y}<extra></extra>",
           "legendgroup": "FuturePrice",
           "line": {
            "color": "#EF553B",
            "dash": "solid"
           },
           "marker": {
            "symbol": "circle"
           },
           "mode": "lines",
           "name": "FuturePrice",
           "orientation": "v",
           "showlegend": true,
           "type": "scatter",
           "x": [
            1,
            2,
            3,
            4,
            5,
            6,
            7,
            8,
            9,
            10,
            11,
            12,
            13,
            14,
            15,
            16,
            17,
            18,
            19,
            20,
            21,
            22,
            23,
            24
           ],
           "xaxis": "x",
           "y": [
            null,
            null,
            null,
            null,
            null,
            null,
            null,
            null,
            null,
            null,
            null,
            null,
            57.36,
            54.33,
            60.23,
            58.99,
            61.64,
            64.46,
            73.53,
            68.5,
            70.18,
            64.59,
            68.32,
            100.48
           ],
           "yaxis": "y"
          },
          {
           "hovertemplate": "variable=Predicted<br>timestep=36<br>periodstep=%{x}<br>value=%{y}<extra></extra>",
           "legendgroup": "Predicted",
           "line": {
            "color": "#00cc96",
            "dash": "solid"
           },
           "marker": {
            "symbol": "circle"
           },
           "mode": "lines",
           "name": "Predicted",
           "orientation": "v",
           "showlegend": true,
           "type": "scatter",
           "x": [
            1,
            2,
            3,
            4,
            5,
            6,
            7,
            8,
            9,
            10,
            11,
            12,
            13,
            14,
            15,
            16,
            17,
            18,
            19,
            20,
            21,
            22,
            23,
            24
           ],
           "xaxis": "x",
           "y": [
            null,
            null,
            null,
            null,
            null,
            null,
            null,
            null,
            null,
            null,
            null,
            null,
            57.20277755573269,
            64.2791416387384,
            66.79271212181243,
            89.5560649677221,
            112.28159971829464,
            194.69968802201032,
            173.64297587893984,
            178.15163571403133,
            170.46597045649997,
            106.0429264146796,
            93.16403248440488,
            82.000944210235
           ],
           "yaxis": "y"
          }
         ],
         "name": "36"
        },
        {
         "data": [
          {
           "hovertemplate": "variable=HistoricalPrice<br>timestep=37<br>periodstep=%{x}<br>value=%{y}<extra></extra>",
           "legendgroup": "HistoricalPrice",
           "line": {
            "color": "#636efa",
            "dash": "solid"
           },
           "marker": {
            "symbol": "circle"
           },
           "mode": "lines",
           "name": "HistoricalPrice",
           "orientation": "v",
           "showlegend": true,
           "type": "scatter",
           "x": [
            1,
            2,
            3,
            4,
            5,
            6,
            7,
            8,
            9,
            10,
            11,
            12,
            13,
            14,
            15,
            16,
            17,
            18,
            19,
            20,
            21,
            22,
            23,
            24
           ],
           "xaxis": "x",
           "y": [
            204,
            169.9,
            98.2,
            60.18,
            59.18,
            80.55,
            206.91,
            107.13,
            62.02,
            67.35,
            60.29,
            57.36,
            null,
            null,
            null,
            null,
            null,
            null,
            null,
            null,
            null,
            null,
            null,
            null
           ],
           "yaxis": "y"
          },
          {
           "hovertemplate": "variable=FuturePrice<br>timestep=37<br>periodstep=%{x}<br>value=%{y}<extra></extra>",
           "legendgroup": "FuturePrice",
           "line": {
            "color": "#EF553B",
            "dash": "solid"
           },
           "marker": {
            "symbol": "circle"
           },
           "mode": "lines",
           "name": "FuturePrice",
           "orientation": "v",
           "showlegend": true,
           "type": "scatter",
           "x": [
            1,
            2,
            3,
            4,
            5,
            6,
            7,
            8,
            9,
            10,
            11,
            12,
            13,
            14,
            15,
            16,
            17,
            18,
            19,
            20,
            21,
            22,
            23,
            24
           ],
           "xaxis": "x",
           "y": [
            null,
            null,
            null,
            null,
            null,
            null,
            null,
            null,
            null,
            null,
            null,
            null,
            54.33,
            60.23,
            58.99,
            61.64,
            64.46,
            73.53,
            68.5,
            70.18,
            64.59,
            68.32,
            100.48,
            62.45
           ],
           "yaxis": "y"
          },
          {
           "hovertemplate": "variable=Predicted<br>timestep=37<br>periodstep=%{x}<br>value=%{y}<extra></extra>",
           "legendgroup": "Predicted",
           "line": {
            "color": "#00cc96",
            "dash": "solid"
           },
           "marker": {
            "symbol": "circle"
           },
           "mode": "lines",
           "name": "Predicted",
           "orientation": "v",
           "showlegend": true,
           "type": "scatter",
           "x": [
            1,
            2,
            3,
            4,
            5,
            6,
            7,
            8,
            9,
            10,
            11,
            12,
            13,
            14,
            15,
            16,
            17,
            18,
            19,
            20,
            21,
            22,
            23,
            24
           ],
           "xaxis": "x",
           "y": [
            null,
            null,
            null,
            null,
            null,
            null,
            null,
            null,
            null,
            null,
            null,
            null,
            54.99246068911642,
            59.352665514641224,
            80.31469952894007,
            102.45703658271422,
            100.98703280957086,
            157.2188512093425,
            153.00413662891575,
            155.51842957205608,
            95.4084326610027,
            86.256821659676,
            66.46589252313957,
            67.6299354083008
           ],
           "yaxis": "y"
          }
         ],
         "name": "37"
        },
        {
         "data": [
          {
           "hovertemplate": "variable=HistoricalPrice<br>timestep=38<br>periodstep=%{x}<br>value=%{y}<extra></extra>",
           "legendgroup": "HistoricalPrice",
           "line": {
            "color": "#636efa",
            "dash": "solid"
           },
           "marker": {
            "symbol": "circle"
           },
           "mode": "lines",
           "name": "HistoricalPrice",
           "orientation": "v",
           "showlegend": true,
           "type": "scatter",
           "x": [
            1,
            2,
            3,
            4,
            5,
            6,
            7,
            8,
            9,
            10,
            11,
            12,
            13,
            14,
            15,
            16,
            17,
            18,
            19,
            20,
            21,
            22,
            23,
            24
           ],
           "xaxis": "x",
           "y": [
            169.9,
            98.2,
            60.18,
            59.18,
            80.55,
            206.91,
            107.13,
            62.02,
            67.35,
            60.29,
            57.36,
            54.33,
            null,
            null,
            null,
            null,
            null,
            null,
            null,
            null,
            null,
            null,
            null,
            null
           ],
           "yaxis": "y"
          },
          {
           "hovertemplate": "variable=FuturePrice<br>timestep=38<br>periodstep=%{x}<br>value=%{y}<extra></extra>",
           "legendgroup": "FuturePrice",
           "line": {
            "color": "#EF553B",
            "dash": "solid"
           },
           "marker": {
            "symbol": "circle"
           },
           "mode": "lines",
           "name": "FuturePrice",
           "orientation": "v",
           "showlegend": true,
           "type": "scatter",
           "x": [
            1,
            2,
            3,
            4,
            5,
            6,
            7,
            8,
            9,
            10,
            11,
            12,
            13,
            14,
            15,
            16,
            17,
            18,
            19,
            20,
            21,
            22,
            23,
            24
           ],
           "xaxis": "x",
           "y": [
            null,
            null,
            null,
            null,
            null,
            null,
            null,
            null,
            null,
            null,
            null,
            null,
            60.23,
            58.99,
            61.64,
            64.46,
            73.53,
            68.5,
            70.18,
            64.59,
            68.32,
            100.48,
            62.45,
            50.67
           ],
           "yaxis": "y"
          },
          {
           "hovertemplate": "variable=Predicted<br>timestep=38<br>periodstep=%{x}<br>value=%{y}<extra></extra>",
           "legendgroup": "Predicted",
           "line": {
            "color": "#00cc96",
            "dash": "solid"
           },
           "marker": {
            "symbol": "circle"
           },
           "mode": "lines",
           "name": "Predicted",
           "orientation": "v",
           "showlegend": true,
           "type": "scatter",
           "x": [
            1,
            2,
            3,
            4,
            5,
            6,
            7,
            8,
            9,
            10,
            11,
            12,
            13,
            14,
            15,
            16,
            17,
            18,
            19,
            20,
            21,
            22,
            23,
            24
           ],
           "xaxis": "x",
           "y": [
            null,
            null,
            null,
            null,
            null,
            null,
            null,
            null,
            null,
            null,
            null,
            null,
            50.42974679565049,
            56.557364643557165,
            83.47776739654967,
            104.36565155195903,
            88.4023360900434,
            128.58211699674362,
            142.18192471048005,
            89.95373073890954,
            65.22241863319667,
            64.18268901949338,
            65.21859771840694,
            58.75706789537522
           ],
           "yaxis": "y"
          }
         ],
         "name": "38"
        },
        {
         "data": [
          {
           "hovertemplate": "variable=HistoricalPrice<br>timestep=39<br>periodstep=%{x}<br>value=%{y}<extra></extra>",
           "legendgroup": "HistoricalPrice",
           "line": {
            "color": "#636efa",
            "dash": "solid"
           },
           "marker": {
            "symbol": "circle"
           },
           "mode": "lines",
           "name": "HistoricalPrice",
           "orientation": "v",
           "showlegend": true,
           "type": "scatter",
           "x": [
            1,
            2,
            3,
            4,
            5,
            6,
            7,
            8,
            9,
            10,
            11,
            12,
            13,
            14,
            15,
            16,
            17,
            18,
            19,
            20,
            21,
            22,
            23,
            24
           ],
           "xaxis": "x",
           "y": [
            98.2,
            60.18,
            59.18,
            80.55,
            206.91,
            107.13,
            62.02,
            67.35,
            60.29,
            57.36,
            54.33,
            60.23,
            null,
            null,
            null,
            null,
            null,
            null,
            null,
            null,
            null,
            null,
            null,
            null
           ],
           "yaxis": "y"
          },
          {
           "hovertemplate": "variable=FuturePrice<br>timestep=39<br>periodstep=%{x}<br>value=%{y}<extra></extra>",
           "legendgroup": "FuturePrice",
           "line": {
            "color": "#EF553B",
            "dash": "solid"
           },
           "marker": {
            "symbol": "circle"
           },
           "mode": "lines",
           "name": "FuturePrice",
           "orientation": "v",
           "showlegend": true,
           "type": "scatter",
           "x": [
            1,
            2,
            3,
            4,
            5,
            6,
            7,
            8,
            9,
            10,
            11,
            12,
            13,
            14,
            15,
            16,
            17,
            18,
            19,
            20,
            21,
            22,
            23,
            24
           ],
           "xaxis": "x",
           "y": [
            null,
            null,
            null,
            null,
            null,
            null,
            null,
            null,
            null,
            null,
            null,
            null,
            58.99,
            61.64,
            64.46,
            73.53,
            68.5,
            70.18,
            64.59,
            68.32,
            100.48,
            62.45,
            50.67,
            54.53
           ],
           "yaxis": "y"
          },
          {
           "hovertemplate": "variable=Predicted<br>timestep=39<br>periodstep=%{x}<br>value=%{y}<extra></extra>",
           "legendgroup": "Predicted",
           "line": {
            "color": "#00cc96",
            "dash": "solid"
           },
           "marker": {
            "symbol": "circle"
           },
           "mode": "lines",
           "name": "Predicted",
           "orientation": "v",
           "showlegend": true,
           "type": "scatter",
           "x": [
            1,
            2,
            3,
            4,
            5,
            6,
            7,
            8,
            9,
            10,
            11,
            12,
            13,
            14,
            15,
            16,
            17,
            18,
            19,
            20,
            21,
            22,
            23,
            24
           ],
           "xaxis": "x",
           "y": [
            null,
            null,
            null,
            null,
            null,
            null,
            null,
            null,
            null,
            null,
            null,
            null,
            56.04157047582413,
            65.11913970130547,
            94.54109977991898,
            103.75492348723525,
            91.22089954746568,
            109.53363623266166,
            115.7398429164311,
            66.40947605720108,
            70.42245806960044,
            61.913860129863274,
            59.21680654635629,
            66.71714217423593
           ],
           "yaxis": "y"
          }
         ],
         "name": "39"
        },
        {
         "data": [
          {
           "hovertemplate": "variable=HistoricalPrice<br>timestep=40<br>periodstep=%{x}<br>value=%{y}<extra></extra>",
           "legendgroup": "HistoricalPrice",
           "line": {
            "color": "#636efa",
            "dash": "solid"
           },
           "marker": {
            "symbol": "circle"
           },
           "mode": "lines",
           "name": "HistoricalPrice",
           "orientation": "v",
           "showlegend": true,
           "type": "scatter",
           "x": [
            1,
            2,
            3,
            4,
            5,
            6,
            7,
            8,
            9,
            10,
            11,
            12,
            13,
            14,
            15,
            16,
            17,
            18,
            19,
            20,
            21,
            22,
            23,
            24
           ],
           "xaxis": "x",
           "y": [
            60.18,
            59.18,
            80.55,
            206.91,
            107.13,
            62.02,
            67.35,
            60.29,
            57.36,
            54.33,
            60.23,
            58.99,
            null,
            null,
            null,
            null,
            null,
            null,
            null,
            null,
            null,
            null,
            null,
            null
           ],
           "yaxis": "y"
          },
          {
           "hovertemplate": "variable=FuturePrice<br>timestep=40<br>periodstep=%{x}<br>value=%{y}<extra></extra>",
           "legendgroup": "FuturePrice",
           "line": {
            "color": "#EF553B",
            "dash": "solid"
           },
           "marker": {
            "symbol": "circle"
           },
           "mode": "lines",
           "name": "FuturePrice",
           "orientation": "v",
           "showlegend": true,
           "type": "scatter",
           "x": [
            1,
            2,
            3,
            4,
            5,
            6,
            7,
            8,
            9,
            10,
            11,
            12,
            13,
            14,
            15,
            16,
            17,
            18,
            19,
            20,
            21,
            22,
            23,
            24
           ],
           "xaxis": "x",
           "y": [
            null,
            null,
            null,
            null,
            null,
            null,
            null,
            null,
            null,
            null,
            null,
            null,
            61.64,
            64.46,
            73.53,
            68.5,
            70.18,
            64.59,
            68.32,
            100.48,
            62.45,
            50.67,
            54.53,
            60.56
           ],
           "yaxis": "y"
          },
          {
           "hovertemplate": "variable=Predicted<br>timestep=40<br>periodstep=%{x}<br>value=%{y}<extra></extra>",
           "legendgroup": "Predicted",
           "line": {
            "color": "#00cc96",
            "dash": "solid"
           },
           "marker": {
            "symbol": "circle"
           },
           "mode": "lines",
           "name": "Predicted",
           "orientation": "v",
           "showlegend": true,
           "type": "scatter",
           "x": [
            1,
            2,
            3,
            4,
            5,
            6,
            7,
            8,
            9,
            10,
            11,
            12,
            13,
            14,
            15,
            16,
            17,
            18,
            19,
            20,
            21,
            22,
            23,
            24
           ],
           "xaxis": "x",
           "y": [
            null,
            null,
            null,
            null,
            null,
            null,
            null,
            null,
            null,
            null,
            null,
            null,
            56.850633161572496,
            61.91689343705185,
            85.39873592948811,
            88.77036943849862,
            82.61174171314345,
            88.59591911446846,
            79.9535190323002,
            62.87263508982609,
            58.741686327243066,
            66.55484360148418,
            60.89198124704657,
            64.3656811970544
           ],
           "yaxis": "y"
          }
         ],
         "name": "40"
        },
        {
         "data": [
          {
           "hovertemplate": "variable=HistoricalPrice<br>timestep=41<br>periodstep=%{x}<br>value=%{y}<extra></extra>",
           "legendgroup": "HistoricalPrice",
           "line": {
            "color": "#636efa",
            "dash": "solid"
           },
           "marker": {
            "symbol": "circle"
           },
           "mode": "lines",
           "name": "HistoricalPrice",
           "orientation": "v",
           "showlegend": true,
           "type": "scatter",
           "x": [
            1,
            2,
            3,
            4,
            5,
            6,
            7,
            8,
            9,
            10,
            11,
            12,
            13,
            14,
            15,
            16,
            17,
            18,
            19,
            20,
            21,
            22,
            23,
            24
           ],
           "xaxis": "x",
           "y": [
            59.18,
            80.55,
            206.91,
            107.13,
            62.02,
            67.35,
            60.29,
            57.36,
            54.33,
            60.23,
            58.99,
            61.64,
            null,
            null,
            null,
            null,
            null,
            null,
            null,
            null,
            null,
            null,
            null,
            null
           ],
           "yaxis": "y"
          },
          {
           "hovertemplate": "variable=FuturePrice<br>timestep=41<br>periodstep=%{x}<br>value=%{y}<extra></extra>",
           "legendgroup": "FuturePrice",
           "line": {
            "color": "#EF553B",
            "dash": "solid"
           },
           "marker": {
            "symbol": "circle"
           },
           "mode": "lines",
           "name": "FuturePrice",
           "orientation": "v",
           "showlegend": true,
           "type": "scatter",
           "x": [
            1,
            2,
            3,
            4,
            5,
            6,
            7,
            8,
            9,
            10,
            11,
            12,
            13,
            14,
            15,
            16,
            17,
            18,
            19,
            20,
            21,
            22,
            23,
            24
           ],
           "xaxis": "x",
           "y": [
            null,
            null,
            null,
            null,
            null,
            null,
            null,
            null,
            null,
            null,
            null,
            null,
            64.46,
            73.53,
            68.5,
            70.18,
            64.59,
            68.32,
            100.48,
            62.45,
            50.67,
            54.53,
            60.56,
            58.36
           ],
           "yaxis": "y"
          },
          {
           "hovertemplate": "variable=Predicted<br>timestep=41<br>periodstep=%{x}<br>value=%{y}<extra></extra>",
           "legendgroup": "Predicted",
           "line": {
            "color": "#00cc96",
            "dash": "solid"
           },
           "marker": {
            "symbol": "circle"
           },
           "mode": "lines",
           "name": "Predicted",
           "orientation": "v",
           "showlegend": true,
           "type": "scatter",
           "x": [
            1,
            2,
            3,
            4,
            5,
            6,
            7,
            8,
            9,
            10,
            11,
            12,
            13,
            14,
            15,
            16,
            17,
            18,
            19,
            20,
            21,
            22,
            23,
            24
           ],
           "xaxis": "x",
           "y": [
            null,
            null,
            null,
            null,
            null,
            null,
            null,
            null,
            null,
            null,
            null,
            null,
            62.29250229303606,
            69.23442943894344,
            73.88614198980763,
            87.81840692025797,
            79.20281830258502,
            66.21390604890874,
            64.42867292365499,
            60.49666635435391,
            57.53889315425645,
            65.48761128396409,
            62.39346278918083,
            65.2699356462006
           ],
           "yaxis": "y"
          }
         ],
         "name": "41"
        },
        {
         "data": [
          {
           "hovertemplate": "variable=HistoricalPrice<br>timestep=42<br>periodstep=%{x}<br>value=%{y}<extra></extra>",
           "legendgroup": "HistoricalPrice",
           "line": {
            "color": "#636efa",
            "dash": "solid"
           },
           "marker": {
            "symbol": "circle"
           },
           "mode": "lines",
           "name": "HistoricalPrice",
           "orientation": "v",
           "showlegend": true,
           "type": "scatter",
           "x": [
            1,
            2,
            3,
            4,
            5,
            6,
            7,
            8,
            9,
            10,
            11,
            12,
            13,
            14,
            15,
            16,
            17,
            18,
            19,
            20,
            21,
            22,
            23,
            24
           ],
           "xaxis": "x",
           "y": [
            80.55,
            206.91,
            107.13,
            62.02,
            67.35,
            60.29,
            57.36,
            54.33,
            60.23,
            58.99,
            61.64,
            64.46,
            null,
            null,
            null,
            null,
            null,
            null,
            null,
            null,
            null,
            null,
            null,
            null
           ],
           "yaxis": "y"
          },
          {
           "hovertemplate": "variable=FuturePrice<br>timestep=42<br>periodstep=%{x}<br>value=%{y}<extra></extra>",
           "legendgroup": "FuturePrice",
           "line": {
            "color": "#EF553B",
            "dash": "solid"
           },
           "marker": {
            "symbol": "circle"
           },
           "mode": "lines",
           "name": "FuturePrice",
           "orientation": "v",
           "showlegend": true,
           "type": "scatter",
           "x": [
            1,
            2,
            3,
            4,
            5,
            6,
            7,
            8,
            9,
            10,
            11,
            12,
            13,
            14,
            15,
            16,
            17,
            18,
            19,
            20,
            21,
            22,
            23,
            24
           ],
           "xaxis": "x",
           "y": [
            null,
            null,
            null,
            null,
            null,
            null,
            null,
            null,
            null,
            null,
            null,
            null,
            73.53,
            68.5,
            70.18,
            64.59,
            68.32,
            100.48,
            62.45,
            50.67,
            54.53,
            60.56,
            58.36,
            49.22
           ],
           "yaxis": "y"
          },
          {
           "hovertemplate": "variable=Predicted<br>timestep=42<br>periodstep=%{x}<br>value=%{y}<extra></extra>",
           "legendgroup": "Predicted",
           "line": {
            "color": "#00cc96",
            "dash": "solid"
           },
           "marker": {
            "symbol": "circle"
           },
           "mode": "lines",
           "name": "Predicted",
           "orientation": "v",
           "showlegend": true,
           "type": "scatter",
           "x": [
            1,
            2,
            3,
            4,
            5,
            6,
            7,
            8,
            9,
            10,
            11,
            12,
            13,
            14,
            15,
            16,
            17,
            18,
            19,
            20,
            21,
            22,
            23,
            24
           ],
           "xaxis": "x",
           "y": [
            null,
            null,
            null,
            null,
            null,
            null,
            null,
            null,
            null,
            null,
            null,
            null,
            62.44104777761102,
            64.47433183263094,
            63.85335699466914,
            80.50000574919929,
            54.35537784675603,
            61.36208738910697,
            62.12814080630645,
            58.52375743352012,
            60.59366743166285,
            58.347667044894806,
            60.926347435376115,
            73.91694383767238
           ],
           "yaxis": "y"
          }
         ],
         "name": "42"
        },
        {
         "data": [
          {
           "hovertemplate": "variable=HistoricalPrice<br>timestep=43<br>periodstep=%{x}<br>value=%{y}<extra></extra>",
           "legendgroup": "HistoricalPrice",
           "line": {
            "color": "#636efa",
            "dash": "solid"
           },
           "marker": {
            "symbol": "circle"
           },
           "mode": "lines",
           "name": "HistoricalPrice",
           "orientation": "v",
           "showlegend": true,
           "type": "scatter",
           "x": [
            1,
            2,
            3,
            4,
            5,
            6,
            7,
            8,
            9,
            10,
            11,
            12,
            13,
            14,
            15,
            16,
            17,
            18,
            19,
            20,
            21,
            22,
            23,
            24
           ],
           "xaxis": "x",
           "y": [
            206.91,
            107.13,
            62.02,
            67.35,
            60.29,
            57.36,
            54.33,
            60.23,
            58.99,
            61.64,
            64.46,
            73.53,
            null,
            null,
            null,
            null,
            null,
            null,
            null,
            null,
            null,
            null,
            null,
            null
           ],
           "yaxis": "y"
          },
          {
           "hovertemplate": "variable=FuturePrice<br>timestep=43<br>periodstep=%{x}<br>value=%{y}<extra></extra>",
           "legendgroup": "FuturePrice",
           "line": {
            "color": "#EF553B",
            "dash": "solid"
           },
           "marker": {
            "symbol": "circle"
           },
           "mode": "lines",
           "name": "FuturePrice",
           "orientation": "v",
           "showlegend": true,
           "type": "scatter",
           "x": [
            1,
            2,
            3,
            4,
            5,
            6,
            7,
            8,
            9,
            10,
            11,
            12,
            13,
            14,
            15,
            16,
            17,
            18,
            19,
            20,
            21,
            22,
            23,
            24
           ],
           "xaxis": "x",
           "y": [
            null,
            null,
            null,
            null,
            null,
            null,
            null,
            null,
            null,
            null,
            null,
            null,
            68.5,
            70.18,
            64.59,
            68.32,
            100.48,
            62.45,
            50.67,
            54.53,
            60.56,
            58.36,
            49.22,
            48.2
           ],
           "yaxis": "y"
          },
          {
           "hovertemplate": "variable=Predicted<br>timestep=43<br>periodstep=%{x}<br>value=%{y}<extra></extra>",
           "legendgroup": "Predicted",
           "line": {
            "color": "#00cc96",
            "dash": "solid"
           },
           "marker": {
            "symbol": "circle"
           },
           "mode": "lines",
           "name": "Predicted",
           "orientation": "v",
           "showlegend": true,
           "type": "scatter",
           "x": [
            1,
            2,
            3,
            4,
            5,
            6,
            7,
            8,
            9,
            10,
            11,
            12,
            13,
            14,
            15,
            16,
            17,
            18,
            19,
            20,
            21,
            22,
            23,
            24
           ],
           "xaxis": "x",
           "y": [
            null,
            null,
            null,
            null,
            null,
            null,
            null,
            null,
            null,
            null,
            null,
            null,
            69.98281885155292,
            68.8368075288175,
            64.80627339472498,
            67.49619805654557,
            67.44484111993813,
            60.42191724676934,
            54.18266784406252,
            59.19442941445246,
            57.93808466619393,
            63.61528499076487,
            66.13299571321065,
            67.19241248516978
           ],
           "yaxis": "y"
          }
         ],
         "name": "43"
        },
        {
         "data": [
          {
           "hovertemplate": "variable=HistoricalPrice<br>timestep=44<br>periodstep=%{x}<br>value=%{y}<extra></extra>",
           "legendgroup": "HistoricalPrice",
           "line": {
            "color": "#636efa",
            "dash": "solid"
           },
           "marker": {
            "symbol": "circle"
           },
           "mode": "lines",
           "name": "HistoricalPrice",
           "orientation": "v",
           "showlegend": true,
           "type": "scatter",
           "x": [
            1,
            2,
            3,
            4,
            5,
            6,
            7,
            8,
            9,
            10,
            11,
            12,
            13,
            14,
            15,
            16,
            17,
            18,
            19,
            20,
            21,
            22,
            23,
            24
           ],
           "xaxis": "x",
           "y": [
            107.13,
            62.02,
            67.35,
            60.29,
            57.36,
            54.33,
            60.23,
            58.99,
            61.64,
            64.46,
            73.53,
            68.5,
            null,
            null,
            null,
            null,
            null,
            null,
            null,
            null,
            null,
            null,
            null,
            null
           ],
           "yaxis": "y"
          },
          {
           "hovertemplate": "variable=FuturePrice<br>timestep=44<br>periodstep=%{x}<br>value=%{y}<extra></extra>",
           "legendgroup": "FuturePrice",
           "line": {
            "color": "#EF553B",
            "dash": "solid"
           },
           "marker": {
            "symbol": "circle"
           },
           "mode": "lines",
           "name": "FuturePrice",
           "orientation": "v",
           "showlegend": true,
           "type": "scatter",
           "x": [
            1,
            2,
            3,
            4,
            5,
            6,
            7,
            8,
            9,
            10,
            11,
            12,
            13,
            14,
            15,
            16,
            17,
            18,
            19,
            20,
            21,
            22,
            23,
            24
           ],
           "xaxis": "x",
           "y": [
            null,
            null,
            null,
            null,
            null,
            null,
            null,
            null,
            null,
            null,
            null,
            null,
            70.18,
            64.59,
            68.32,
            100.48,
            62.45,
            50.67,
            54.53,
            60.56,
            58.36,
            49.22,
            48.2,
            56.23
           ],
           "yaxis": "y"
          },
          {
           "hovertemplate": "variable=Predicted<br>timestep=44<br>periodstep=%{x}<br>value=%{y}<extra></extra>",
           "legendgroup": "Predicted",
           "line": {
            "color": "#00cc96",
            "dash": "solid"
           },
           "marker": {
            "symbol": "circle"
           },
           "mode": "lines",
           "name": "Predicted",
           "orientation": "v",
           "showlegend": true,
           "type": "scatter",
           "x": [
            1,
            2,
            3,
            4,
            5,
            6,
            7,
            8,
            9,
            10,
            11,
            12,
            13,
            14,
            15,
            16,
            17,
            18,
            19,
            20,
            21,
            22,
            23,
            24
           ],
           "xaxis": "x",
           "y": [
            null,
            null,
            null,
            null,
            null,
            null,
            null,
            null,
            null,
            null,
            null,
            null,
            62.15600183977909,
            61.55978084775311,
            55.49041631626479,
            57.11185028534316,
            66.43143248498386,
            59.5020098944752,
            54.93084007472318,
            59.7143541545238,
            57.34607338044949,
            71.26664386746842,
            66.27621920474039,
            76.18047958712926
           ],
           "yaxis": "y"
          }
         ],
         "name": "44"
        },
        {
         "data": [
          {
           "hovertemplate": "variable=HistoricalPrice<br>timestep=45<br>periodstep=%{x}<br>value=%{y}<extra></extra>",
           "legendgroup": "HistoricalPrice",
           "line": {
            "color": "#636efa",
            "dash": "solid"
           },
           "marker": {
            "symbol": "circle"
           },
           "mode": "lines",
           "name": "HistoricalPrice",
           "orientation": "v",
           "showlegend": true,
           "type": "scatter",
           "x": [
            1,
            2,
            3,
            4,
            5,
            6,
            7,
            8,
            9,
            10,
            11,
            12,
            13,
            14,
            15,
            16,
            17,
            18,
            19,
            20,
            21,
            22,
            23,
            24
           ],
           "xaxis": "x",
           "y": [
            62.02,
            67.35,
            60.29,
            57.36,
            54.33,
            60.23,
            58.99,
            61.64,
            64.46,
            73.53,
            68.5,
            70.18,
            null,
            null,
            null,
            null,
            null,
            null,
            null,
            null,
            null,
            null,
            null,
            null
           ],
           "yaxis": "y"
          },
          {
           "hovertemplate": "variable=FuturePrice<br>timestep=45<br>periodstep=%{x}<br>value=%{y}<extra></extra>",
           "legendgroup": "FuturePrice",
           "line": {
            "color": "#EF553B",
            "dash": "solid"
           },
           "marker": {
            "symbol": "circle"
           },
           "mode": "lines",
           "name": "FuturePrice",
           "orientation": "v",
           "showlegend": true,
           "type": "scatter",
           "x": [
            1,
            2,
            3,
            4,
            5,
            6,
            7,
            8,
            9,
            10,
            11,
            12,
            13,
            14,
            15,
            16,
            17,
            18,
            19,
            20,
            21,
            22,
            23,
            24
           ],
           "xaxis": "x",
           "y": [
            null,
            null,
            null,
            null,
            null,
            null,
            null,
            null,
            null,
            null,
            null,
            null,
            64.59,
            68.32,
            100.48,
            62.45,
            50.67,
            54.53,
            60.56,
            58.36,
            49.22,
            48.2,
            56.23,
            76.84
           ],
           "yaxis": "y"
          },
          {
           "hovertemplate": "variable=Predicted<br>timestep=45<br>periodstep=%{x}<br>value=%{y}<extra></extra>",
           "legendgroup": "Predicted",
           "line": {
            "color": "#00cc96",
            "dash": "solid"
           },
           "marker": {
            "symbol": "circle"
           },
           "mode": "lines",
           "name": "Predicted",
           "orientation": "v",
           "showlegend": true,
           "type": "scatter",
           "x": [
            1,
            2,
            3,
            4,
            5,
            6,
            7,
            8,
            9,
            10,
            11,
            12,
            13,
            14,
            15,
            16,
            17,
            18,
            19,
            20,
            21,
            22,
            23,
            24
           ],
           "xaxis": "x",
           "y": [
            null,
            null,
            null,
            null,
            null,
            null,
            null,
            null,
            null,
            null,
            null,
            null,
            62.17433705184326,
            58.897554716994286,
            58.84871635031495,
            67.73198650858295,
            62.0146519983156,
            59.767376001811556,
            58.76804493982549,
            60.93073743525454,
            69.63334764891678,
            67.61154239422405,
            79.92229030743778,
            82.39235166601735
           ],
           "yaxis": "y"
          }
         ],
         "name": "45"
        },
        {
         "data": [
          {
           "hovertemplate": "variable=HistoricalPrice<br>timestep=46<br>periodstep=%{x}<br>value=%{y}<extra></extra>",
           "legendgroup": "HistoricalPrice",
           "line": {
            "color": "#636efa",
            "dash": "solid"
           },
           "marker": {
            "symbol": "circle"
           },
           "mode": "lines",
           "name": "HistoricalPrice",
           "orientation": "v",
           "showlegend": true,
           "type": "scatter",
           "x": [
            1,
            2,
            3,
            4,
            5,
            6,
            7,
            8,
            9,
            10,
            11,
            12,
            13,
            14,
            15,
            16,
            17,
            18,
            19,
            20,
            21,
            22,
            23,
            24
           ],
           "xaxis": "x",
           "y": [
            67.35,
            60.29,
            57.36,
            54.33,
            60.23,
            58.99,
            61.64,
            64.46,
            73.53,
            68.5,
            70.18,
            64.59,
            null,
            null,
            null,
            null,
            null,
            null,
            null,
            null,
            null,
            null,
            null,
            null
           ],
           "yaxis": "y"
          },
          {
           "hovertemplate": "variable=FuturePrice<br>timestep=46<br>periodstep=%{x}<br>value=%{y}<extra></extra>",
           "legendgroup": "FuturePrice",
           "line": {
            "color": "#EF553B",
            "dash": "solid"
           },
           "marker": {
            "symbol": "circle"
           },
           "mode": "lines",
           "name": "FuturePrice",
           "orientation": "v",
           "showlegend": true,
           "type": "scatter",
           "x": [
            1,
            2,
            3,
            4,
            5,
            6,
            7,
            8,
            9,
            10,
            11,
            12,
            13,
            14,
            15,
            16,
            17,
            18,
            19,
            20,
            21,
            22,
            23,
            24
           ],
           "xaxis": "x",
           "y": [
            null,
            null,
            null,
            null,
            null,
            null,
            null,
            null,
            null,
            null,
            null,
            null,
            68.32,
            100.48,
            62.45,
            50.67,
            54.53,
            60.56,
            58.36,
            49.22,
            48.2,
            56.23,
            76.84,
            55.26
           ],
           "yaxis": "y"
          },
          {
           "hovertemplate": "variable=Predicted<br>timestep=46<br>periodstep=%{x}<br>value=%{y}<extra></extra>",
           "legendgroup": "Predicted",
           "line": {
            "color": "#00cc96",
            "dash": "solid"
           },
           "marker": {
            "symbol": "circle"
           },
           "mode": "lines",
           "name": "Predicted",
           "orientation": "v",
           "showlegend": true,
           "type": "scatter",
           "x": [
            1,
            2,
            3,
            4,
            5,
            6,
            7,
            8,
            9,
            10,
            11,
            12,
            13,
            14,
            15,
            16,
            17,
            18,
            19,
            20,
            21,
            22,
            23,
            24
           ],
           "xaxis": "x",
           "y": [
            null,
            null,
            null,
            null,
            null,
            null,
            null,
            null,
            null,
            null,
            null,
            null,
            58.89369266796072,
            55.846546578443586,
            55.45481821419274,
            54.54304843688643,
            51.43026484325987,
            54.77054258903523,
            56.411563576915334,
            62.93103486514203,
            70.65967626379806,
            73.57891303127843,
            80.12195952182154,
            82.2937034734129
           ],
           "yaxis": "y"
          }
         ],
         "name": "46"
        },
        {
         "data": [
          {
           "hovertemplate": "variable=HistoricalPrice<br>timestep=47<br>periodstep=%{x}<br>value=%{y}<extra></extra>",
           "legendgroup": "HistoricalPrice",
           "line": {
            "color": "#636efa",
            "dash": "solid"
           },
           "marker": {
            "symbol": "circle"
           },
           "mode": "lines",
           "name": "HistoricalPrice",
           "orientation": "v",
           "showlegend": true,
           "type": "scatter",
           "x": [
            1,
            2,
            3,
            4,
            5,
            6,
            7,
            8,
            9,
            10,
            11,
            12,
            13,
            14,
            15,
            16,
            17,
            18,
            19,
            20,
            21,
            22,
            23,
            24
           ],
           "xaxis": "x",
           "y": [
            60.29,
            57.36,
            54.33,
            60.23,
            58.99,
            61.64,
            64.46,
            73.53,
            68.5,
            70.18,
            64.59,
            68.32,
            null,
            null,
            null,
            null,
            null,
            null,
            null,
            null,
            null,
            null,
            null,
            null
           ],
           "yaxis": "y"
          },
          {
           "hovertemplate": "variable=FuturePrice<br>timestep=47<br>periodstep=%{x}<br>value=%{y}<extra></extra>",
           "legendgroup": "FuturePrice",
           "line": {
            "color": "#EF553B",
            "dash": "solid"
           },
           "marker": {
            "symbol": "circle"
           },
           "mode": "lines",
           "name": "FuturePrice",
           "orientation": "v",
           "showlegend": true,
           "type": "scatter",
           "x": [
            1,
            2,
            3,
            4,
            5,
            6,
            7,
            8,
            9,
            10,
            11,
            12,
            13,
            14,
            15,
            16,
            17,
            18,
            19,
            20,
            21,
            22,
            23,
            24
           ],
           "xaxis": "x",
           "y": [
            null,
            null,
            null,
            null,
            null,
            null,
            null,
            null,
            null,
            null,
            null,
            null,
            100.48,
            62.45,
            50.67,
            54.53,
            60.56,
            58.36,
            49.22,
            48.2,
            56.23,
            76.84,
            55.26,
            56.32
           ],
           "yaxis": "y"
          },
          {
           "hovertemplate": "variable=Predicted<br>timestep=47<br>periodstep=%{x}<br>value=%{y}<extra></extra>",
           "legendgroup": "Predicted",
           "line": {
            "color": "#00cc96",
            "dash": "solid"
           },
           "marker": {
            "symbol": "circle"
           },
           "mode": "lines",
           "name": "Predicted",
           "orientation": "v",
           "showlegend": true,
           "type": "scatter",
           "x": [
            1,
            2,
            3,
            4,
            5,
            6,
            7,
            8,
            9,
            10,
            11,
            12,
            13,
            14,
            15,
            16,
            17,
            18,
            19,
            20,
            21,
            22,
            23,
            24
           ],
           "xaxis": "x",
           "y": [
            null,
            null,
            null,
            null,
            null,
            null,
            null,
            null,
            null,
            null,
            null,
            null,
            60.22250022147571,
            57.06958550550369,
            54.89706453656707,
            55.68012238797042,
            51.720089305317096,
            59.52104787800411,
            63.24640680570011,
            75.22357074535381,
            72.90242083853848,
            82.58364092641953,
            82.35952521272645,
            86.02152578389953
           ],
           "yaxis": "y"
          }
         ],
         "name": "47"
        },
        {
         "data": [
          {
           "hovertemplate": "variable=HistoricalPrice<br>timestep=48<br>periodstep=%{x}<br>value=%{y}<extra></extra>",
           "legendgroup": "HistoricalPrice",
           "line": {
            "color": "#636efa",
            "dash": "solid"
           },
           "marker": {
            "symbol": "circle"
           },
           "mode": "lines",
           "name": "HistoricalPrice",
           "orientation": "v",
           "showlegend": true,
           "type": "scatter",
           "x": [
            1,
            2,
            3,
            4,
            5,
            6,
            7,
            8,
            9,
            10,
            11,
            12,
            13,
            14,
            15,
            16,
            17,
            18,
            19,
            20,
            21,
            22,
            23,
            24
           ],
           "xaxis": "x",
           "y": [
            57.36,
            54.33,
            60.23,
            58.99,
            61.64,
            64.46,
            73.53,
            68.5,
            70.18,
            64.59,
            68.32,
            100.48,
            null,
            null,
            null,
            null,
            null,
            null,
            null,
            null,
            null,
            null,
            null,
            null
           ],
           "yaxis": "y"
          },
          {
           "hovertemplate": "variable=FuturePrice<br>timestep=48<br>periodstep=%{x}<br>value=%{y}<extra></extra>",
           "legendgroup": "FuturePrice",
           "line": {
            "color": "#EF553B",
            "dash": "solid"
           },
           "marker": {
            "symbol": "circle"
           },
           "mode": "lines",
           "name": "FuturePrice",
           "orientation": "v",
           "showlegend": true,
           "type": "scatter",
           "x": [
            1,
            2,
            3,
            4,
            5,
            6,
            7,
            8,
            9,
            10,
            11,
            12,
            13,
            14,
            15,
            16,
            17,
            18,
            19,
            20,
            21,
            22,
            23,
            24
           ],
           "xaxis": "x",
           "y": [
            null,
            null,
            null,
            null,
            null,
            null,
            null,
            null,
            null,
            null,
            null,
            null,
            62.45,
            50.67,
            54.53,
            60.56,
            58.36,
            49.22,
            48.2,
            56.23,
            76.84,
            55.26,
            56.32,
            55.86
           ],
           "yaxis": "y"
          },
          {
           "hovertemplate": "variable=Predicted<br>timestep=48<br>periodstep=%{x}<br>value=%{y}<extra></extra>",
           "legendgroup": "Predicted",
           "line": {
            "color": "#00cc96",
            "dash": "solid"
           },
           "marker": {
            "symbol": "circle"
           },
           "mode": "lines",
           "name": "Predicted",
           "orientation": "v",
           "showlegend": true,
           "type": "scatter",
           "x": [
            1,
            2,
            3,
            4,
            5,
            6,
            7,
            8,
            9,
            10,
            11,
            12,
            13,
            14,
            15,
            16,
            17,
            18,
            19,
            20,
            21,
            22,
            23,
            24
           ],
           "xaxis": "x",
           "y": [
            null,
            null,
            null,
            null,
            null,
            null,
            null,
            null,
            null,
            null,
            null,
            null,
            94.10856992135399,
            94.75013402920084,
            84.42761534062731,
            73.44585995723163,
            67.73387888499073,
            78.83995229996064,
            82.28227179653241,
            80.93713312661806,
            86.05687444079057,
            86.27484007349847,
            86.89595228811812,
            92.41976585504916
           ],
           "yaxis": "y"
          }
         ],
         "name": "48"
        },
        {
         "data": [
          {
           "hovertemplate": "variable=HistoricalPrice<br>timestep=49<br>periodstep=%{x}<br>value=%{y}<extra></extra>",
           "legendgroup": "HistoricalPrice",
           "line": {
            "color": "#636efa",
            "dash": "solid"
           },
           "marker": {
            "symbol": "circle"
           },
           "mode": "lines",
           "name": "HistoricalPrice",
           "orientation": "v",
           "showlegend": true,
           "type": "scatter",
           "x": [
            1,
            2,
            3,
            4,
            5,
            6,
            7,
            8,
            9,
            10,
            11,
            12,
            13,
            14,
            15,
            16,
            17,
            18,
            19,
            20,
            21,
            22,
            23,
            24
           ],
           "xaxis": "x",
           "y": [
            54.33,
            60.23,
            58.99,
            61.64,
            64.46,
            73.53,
            68.5,
            70.18,
            64.59,
            68.32,
            100.48,
            62.45,
            null,
            null,
            null,
            null,
            null,
            null,
            null,
            null,
            null,
            null,
            null,
            null
           ],
           "yaxis": "y"
          },
          {
           "hovertemplate": "variable=FuturePrice<br>timestep=49<br>periodstep=%{x}<br>value=%{y}<extra></extra>",
           "legendgroup": "FuturePrice",
           "line": {
            "color": "#EF553B",
            "dash": "solid"
           },
           "marker": {
            "symbol": "circle"
           },
           "mode": "lines",
           "name": "FuturePrice",
           "orientation": "v",
           "showlegend": true,
           "type": "scatter",
           "x": [
            1,
            2,
            3,
            4,
            5,
            6,
            7,
            8,
            9,
            10,
            11,
            12,
            13,
            14,
            15,
            16,
            17,
            18,
            19,
            20,
            21,
            22,
            23,
            24
           ],
           "xaxis": "x",
           "y": [
            null,
            null,
            null,
            null,
            null,
            null,
            null,
            null,
            null,
            null,
            null,
            null,
            50.67,
            54.53,
            60.56,
            58.36,
            49.22,
            48.2,
            56.23,
            76.84,
            55.26,
            56.32,
            55.86,
            57.05
           ],
           "yaxis": "y"
          },
          {
           "hovertemplate": "variable=Predicted<br>timestep=49<br>periodstep=%{x}<br>value=%{y}<extra></extra>",
           "legendgroup": "Predicted",
           "line": {
            "color": "#00cc96",
            "dash": "solid"
           },
           "marker": {
            "symbol": "circle"
           },
           "mode": "lines",
           "name": "Predicted",
           "orientation": "v",
           "showlegend": true,
           "type": "scatter",
           "x": [
            1,
            2,
            3,
            4,
            5,
            6,
            7,
            8,
            9,
            10,
            11,
            12,
            13,
            14,
            15,
            16,
            17,
            18,
            19,
            20,
            21,
            22,
            23,
            24
           ],
           "xaxis": "x",
           "y": [
            null,
            null,
            null,
            null,
            null,
            null,
            null,
            null,
            null,
            null,
            null,
            null,
            58.00569250162391,
            55.64314735083261,
            54.146528139065495,
            48.88533060060611,
            53.72122266301761,
            72.57863821981732,
            75.55295522479202,
            82.2996355324547,
            74.10088298598572,
            76.45468883480089,
            83.36906302353228,
            84.01713917586903
           ],
           "yaxis": "y"
          }
         ],
         "name": "49"
        },
        {
         "data": [
          {
           "hovertemplate": "variable=HistoricalPrice<br>timestep=50<br>periodstep=%{x}<br>value=%{y}<extra></extra>",
           "legendgroup": "HistoricalPrice",
           "line": {
            "color": "#636efa",
            "dash": "solid"
           },
           "marker": {
            "symbol": "circle"
           },
           "mode": "lines",
           "name": "HistoricalPrice",
           "orientation": "v",
           "showlegend": true,
           "type": "scatter",
           "x": [
            1,
            2,
            3,
            4,
            5,
            6,
            7,
            8,
            9,
            10,
            11,
            12,
            13,
            14,
            15,
            16,
            17,
            18,
            19,
            20,
            21,
            22,
            23,
            24
           ],
           "xaxis": "x",
           "y": [
            60.23,
            58.99,
            61.64,
            64.46,
            73.53,
            68.5,
            70.18,
            64.59,
            68.32,
            100.48,
            62.45,
            50.67,
            null,
            null,
            null,
            null,
            null,
            null,
            null,
            null,
            null,
            null,
            null,
            null
           ],
           "yaxis": "y"
          },
          {
           "hovertemplate": "variable=FuturePrice<br>timestep=50<br>periodstep=%{x}<br>value=%{y}<extra></extra>",
           "legendgroup": "FuturePrice",
           "line": {
            "color": "#EF553B",
            "dash": "solid"
           },
           "marker": {
            "symbol": "circle"
           },
           "mode": "lines",
           "name": "FuturePrice",
           "orientation": "v",
           "showlegend": true,
           "type": "scatter",
           "x": [
            1,
            2,
            3,
            4,
            5,
            6,
            7,
            8,
            9,
            10,
            11,
            12,
            13,
            14,
            15,
            16,
            17,
            18,
            19,
            20,
            21,
            22,
            23,
            24
           ],
           "xaxis": "x",
           "y": [
            null,
            null,
            null,
            null,
            null,
            null,
            null,
            null,
            null,
            null,
            null,
            null,
            54.53,
            60.56,
            58.36,
            49.22,
            48.2,
            56.23,
            76.84,
            55.26,
            56.32,
            55.86,
            57.05,
            56.3
           ],
           "yaxis": "y"
          },
          {
           "hovertemplate": "variable=Predicted<br>timestep=50<br>periodstep=%{x}<br>value=%{y}<extra></extra>",
           "legendgroup": "Predicted",
           "line": {
            "color": "#00cc96",
            "dash": "solid"
           },
           "marker": {
            "symbol": "circle"
           },
           "mode": "lines",
           "name": "Predicted",
           "orientation": "v",
           "showlegend": true,
           "type": "scatter",
           "x": [
            1,
            2,
            3,
            4,
            5,
            6,
            7,
            8,
            9,
            10,
            11,
            12,
            13,
            14,
            15,
            16,
            17,
            18,
            19,
            20,
            21,
            22,
            23,
            24
           ],
           "xaxis": "x",
           "y": [
            null,
            null,
            null,
            null,
            null,
            null,
            null,
            null,
            null,
            null,
            null,
            null,
            46.331730611567295,
            46.12445180546366,
            50.35170470474075,
            49.569882659365845,
            62.24470554725531,
            73.62778842121558,
            74.45070579329071,
            75.03091586434103,
            70.72722800396339,
            74.28460835901002,
            80.86445410043885,
            91.83142800524519
           ],
           "yaxis": "y"
          }
         ],
         "name": "50"
        },
        {
         "data": [
          {
           "hovertemplate": "variable=HistoricalPrice<br>timestep=51<br>periodstep=%{x}<br>value=%{y}<extra></extra>",
           "legendgroup": "HistoricalPrice",
           "line": {
            "color": "#636efa",
            "dash": "solid"
           },
           "marker": {
            "symbol": "circle"
           },
           "mode": "lines",
           "name": "HistoricalPrice",
           "orientation": "v",
           "showlegend": true,
           "type": "scatter",
           "x": [
            1,
            2,
            3,
            4,
            5,
            6,
            7,
            8,
            9,
            10,
            11,
            12,
            13,
            14,
            15,
            16,
            17,
            18,
            19,
            20,
            21,
            22,
            23,
            24
           ],
           "xaxis": "x",
           "y": [
            58.99,
            61.64,
            64.46,
            73.53,
            68.5,
            70.18,
            64.59,
            68.32,
            100.48,
            62.45,
            50.67,
            54.53,
            null,
            null,
            null,
            null,
            null,
            null,
            null,
            null,
            null,
            null,
            null,
            null
           ],
           "yaxis": "y"
          },
          {
           "hovertemplate": "variable=FuturePrice<br>timestep=51<br>periodstep=%{x}<br>value=%{y}<extra></extra>",
           "legendgroup": "FuturePrice",
           "line": {
            "color": "#EF553B",
            "dash": "solid"
           },
           "marker": {
            "symbol": "circle"
           },
           "mode": "lines",
           "name": "FuturePrice",
           "orientation": "v",
           "showlegend": true,
           "type": "scatter",
           "x": [
            1,
            2,
            3,
            4,
            5,
            6,
            7,
            8,
            9,
            10,
            11,
            12,
            13,
            14,
            15,
            16,
            17,
            18,
            19,
            20,
            21,
            22,
            23,
            24
           ],
           "xaxis": "x",
           "y": [
            null,
            null,
            null,
            null,
            null,
            null,
            null,
            null,
            null,
            null,
            null,
            null,
            60.56,
            58.36,
            49.22,
            48.2,
            56.23,
            76.84,
            55.26,
            56.32,
            55.86,
            57.05,
            56.3,
            57.89
           ],
           "yaxis": "y"
          },
          {
           "hovertemplate": "variable=Predicted<br>timestep=51<br>periodstep=%{x}<br>value=%{y}<extra></extra>",
           "legendgroup": "Predicted",
           "line": {
            "color": "#00cc96",
            "dash": "solid"
           },
           "marker": {
            "symbol": "circle"
           },
           "mode": "lines",
           "name": "Predicted",
           "orientation": "v",
           "showlegend": true,
           "type": "scatter",
           "x": [
            1,
            2,
            3,
            4,
            5,
            6,
            7,
            8,
            9,
            10,
            11,
            12,
            13,
            14,
            15,
            16,
            17,
            18,
            19,
            20,
            21,
            22,
            23,
            24
           ],
           "xaxis": "x",
           "y": [
            null,
            null,
            null,
            null,
            null,
            null,
            null,
            null,
            null,
            null,
            null,
            null,
            48.17708348773254,
            48.247521271308415,
            53.87206383986926,
            63.118238370176456,
            68.61778944914084,
            83.80118383820042,
            78.54581209742244,
            74.44618609401697,
            70.36297409583977,
            76.14106378178417,
            85.09245637671731,
            95.84813345897409
           ],
           "yaxis": "y"
          }
         ],
         "name": "51"
        },
        {
         "data": [
          {
           "hovertemplate": "variable=HistoricalPrice<br>timestep=52<br>periodstep=%{x}<br>value=%{y}<extra></extra>",
           "legendgroup": "HistoricalPrice",
           "line": {
            "color": "#636efa",
            "dash": "solid"
           },
           "marker": {
            "symbol": "circle"
           },
           "mode": "lines",
           "name": "HistoricalPrice",
           "orientation": "v",
           "showlegend": true,
           "type": "scatter",
           "x": [
            1,
            2,
            3,
            4,
            5,
            6,
            7,
            8,
            9,
            10,
            11,
            12,
            13,
            14,
            15,
            16,
            17,
            18,
            19,
            20,
            21,
            22,
            23,
            24
           ],
           "xaxis": "x",
           "y": [
            61.64,
            64.46,
            73.53,
            68.5,
            70.18,
            64.59,
            68.32,
            100.48,
            62.45,
            50.67,
            54.53,
            60.56,
            null,
            null,
            null,
            null,
            null,
            null,
            null,
            null,
            null,
            null,
            null,
            null
           ],
           "yaxis": "y"
          },
          {
           "hovertemplate": "variable=FuturePrice<br>timestep=52<br>periodstep=%{x}<br>value=%{y}<extra></extra>",
           "legendgroup": "FuturePrice",
           "line": {
            "color": "#EF553B",
            "dash": "solid"
           },
           "marker": {
            "symbol": "circle"
           },
           "mode": "lines",
           "name": "FuturePrice",
           "orientation": "v",
           "showlegend": true,
           "type": "scatter",
           "x": [
            1,
            2,
            3,
            4,
            5,
            6,
            7,
            8,
            9,
            10,
            11,
            12,
            13,
            14,
            15,
            16,
            17,
            18,
            19,
            20,
            21,
            22,
            23,
            24
           ],
           "xaxis": "x",
           "y": [
            null,
            null,
            null,
            null,
            null,
            null,
            null,
            null,
            null,
            null,
            null,
            null,
            58.36,
            49.22,
            48.2,
            56.23,
            76.84,
            55.26,
            56.32,
            55.86,
            57.05,
            56.3,
            57.89,
            53.86
           ],
           "yaxis": "y"
          },
          {
           "hovertemplate": "variable=Predicted<br>timestep=52<br>periodstep=%{x}<br>value=%{y}<extra></extra>",
           "legendgroup": "Predicted",
           "line": {
            "color": "#00cc96",
            "dash": "solid"
           },
           "marker": {
            "symbol": "circle"
           },
           "mode": "lines",
           "name": "Predicted",
           "orientation": "v",
           "showlegend": true,
           "type": "scatter",
           "x": [
            1,
            2,
            3,
            4,
            5,
            6,
            7,
            8,
            9,
            10,
            11,
            12,
            13,
            14,
            15,
            16,
            17,
            18,
            19,
            20,
            21,
            22,
            23,
            24
           ],
           "xaxis": "x",
           "y": [
            null,
            null,
            null,
            null,
            null,
            null,
            null,
            null,
            null,
            null,
            null,
            null,
            53.49612311911681,
            56.49208004823384,
            71.04817397610685,
            70.79625478268713,
            73.70442645662963,
            74.97759004122938,
            75.14282067650458,
            77.30326500980024,
            71.73304935321657,
            78.51914333640602,
            99.33360259421947,
            82.81285748282944
           ],
           "yaxis": "y"
          }
         ],
         "name": "52"
        },
        {
         "data": [
          {
           "hovertemplate": "variable=HistoricalPrice<br>timestep=53<br>periodstep=%{x}<br>value=%{y}<extra></extra>",
           "legendgroup": "HistoricalPrice",
           "line": {
            "color": "#636efa",
            "dash": "solid"
           },
           "marker": {
            "symbol": "circle"
           },
           "mode": "lines",
           "name": "HistoricalPrice",
           "orientation": "v",
           "showlegend": true,
           "type": "scatter",
           "x": [
            1,
            2,
            3,
            4,
            5,
            6,
            7,
            8,
            9,
            10,
            11,
            12,
            13,
            14,
            15,
            16,
            17,
            18,
            19,
            20,
            21,
            22,
            23,
            24
           ],
           "xaxis": "x",
           "y": [
            64.46,
            73.53,
            68.5,
            70.18,
            64.59,
            68.32,
            100.48,
            62.45,
            50.67,
            54.53,
            60.56,
            58.36,
            null,
            null,
            null,
            null,
            null,
            null,
            null,
            null,
            null,
            null,
            null,
            null
           ],
           "yaxis": "y"
          },
          {
           "hovertemplate": "variable=FuturePrice<br>timestep=53<br>periodstep=%{x}<br>value=%{y}<extra></extra>",
           "legendgroup": "FuturePrice",
           "line": {
            "color": "#EF553B",
            "dash": "solid"
           },
           "marker": {
            "symbol": "circle"
           },
           "mode": "lines",
           "name": "FuturePrice",
           "orientation": "v",
           "showlegend": true,
           "type": "scatter",
           "x": [
            1,
            2,
            3,
            4,
            5,
            6,
            7,
            8,
            9,
            10,
            11,
            12,
            13,
            14,
            15,
            16,
            17,
            18,
            19,
            20,
            21,
            22,
            23,
            24
           ],
           "xaxis": "x",
           "y": [
            null,
            null,
            null,
            null,
            null,
            null,
            null,
            null,
            null,
            null,
            null,
            null,
            49.22,
            48.2,
            56.23,
            76.84,
            55.26,
            56.32,
            55.86,
            57.05,
            56.3,
            57.89,
            53.86,
            52.56
           ],
           "yaxis": "y"
          },
          {
           "hovertemplate": "variable=Predicted<br>timestep=53<br>periodstep=%{x}<br>value=%{y}<extra></extra>",
           "legendgroup": "Predicted",
           "line": {
            "color": "#00cc96",
            "dash": "solid"
           },
           "marker": {
            "symbol": "circle"
           },
           "mode": "lines",
           "name": "Predicted",
           "orientation": "v",
           "showlegend": true,
           "type": "scatter",
           "x": [
            1,
            2,
            3,
            4,
            5,
            6,
            7,
            8,
            9,
            10,
            11,
            12,
            13,
            14,
            15,
            16,
            17,
            18,
            19,
            20,
            21,
            22,
            23,
            24
           ],
           "xaxis": "x",
           "y": [
            null,
            null,
            null,
            null,
            null,
            null,
            null,
            null,
            null,
            null,
            null,
            null,
            56.124728486930536,
            59.78060936294459,
            68.75536174876736,
            68.65899854155947,
            71.78387643843402,
            79.17273137081912,
            79.44445550445053,
            76.59408427541509,
            73.3619285814092,
            91.10197552297403,
            86.75485016554549,
            111.94384648790806
           ],
           "yaxis": "y"
          }
         ],
         "name": "53"
        },
        {
         "data": [
          {
           "hovertemplate": "variable=HistoricalPrice<br>timestep=54<br>periodstep=%{x}<br>value=%{y}<extra></extra>",
           "legendgroup": "HistoricalPrice",
           "line": {
            "color": "#636efa",
            "dash": "solid"
           },
           "marker": {
            "symbol": "circle"
           },
           "mode": "lines",
           "name": "HistoricalPrice",
           "orientation": "v",
           "showlegend": true,
           "type": "scatter",
           "x": [
            1,
            2,
            3,
            4,
            5,
            6,
            7,
            8,
            9,
            10,
            11,
            12,
            13,
            14,
            15,
            16,
            17,
            18,
            19,
            20,
            21,
            22,
            23,
            24
           ],
           "xaxis": "x",
           "y": [
            73.53,
            68.5,
            70.18,
            64.59,
            68.32,
            100.48,
            62.45,
            50.67,
            54.53,
            60.56,
            58.36,
            49.22,
            null,
            null,
            null,
            null,
            null,
            null,
            null,
            null,
            null,
            null,
            null,
            null
           ],
           "yaxis": "y"
          },
          {
           "hovertemplate": "variable=FuturePrice<br>timestep=54<br>periodstep=%{x}<br>value=%{y}<extra></extra>",
           "legendgroup": "FuturePrice",
           "line": {
            "color": "#EF553B",
            "dash": "solid"
           },
           "marker": {
            "symbol": "circle"
           },
           "mode": "lines",
           "name": "FuturePrice",
           "orientation": "v",
           "showlegend": true,
           "type": "scatter",
           "x": [
            1,
            2,
            3,
            4,
            5,
            6,
            7,
            8,
            9,
            10,
            11,
            12,
            13,
            14,
            15,
            16,
            17,
            18,
            19,
            20,
            21,
            22,
            23,
            24
           ],
           "xaxis": "x",
           "y": [
            null,
            null,
            null,
            null,
            null,
            null,
            null,
            null,
            null,
            null,
            null,
            null,
            48.2,
            56.23,
            76.84,
            55.26,
            56.32,
            55.86,
            57.05,
            56.3,
            57.89,
            53.86,
            52.56,
            52.9
           ],
           "yaxis": "y"
          },
          {
           "hovertemplate": "variable=Predicted<br>timestep=54<br>periodstep=%{x}<br>value=%{y}<extra></extra>",
           "legendgroup": "Predicted",
           "line": {
            "color": "#00cc96",
            "dash": "solid"
           },
           "marker": {
            "symbol": "circle"
           },
           "mode": "lines",
           "name": "Predicted",
           "orientation": "v",
           "showlegend": true,
           "type": "scatter",
           "x": [
            1,
            2,
            3,
            4,
            5,
            6,
            7,
            8,
            9,
            10,
            11,
            12,
            13,
            14,
            15,
            16,
            17,
            18,
            19,
            20,
            21,
            22,
            23,
            24
           ],
           "xaxis": "x",
           "y": [
            null,
            null,
            null,
            null,
            null,
            null,
            null,
            null,
            null,
            null,
            null,
            null,
            49.1262461754834,
            55.7613401964816,
            64.12560436966453,
            61.297251516783525,
            66.55982701143607,
            74.90616504368896,
            79.05828300322406,
            76.04608820647911,
            80.79061669851191,
            91.53695873569221,
            99.0682264520067,
            112.42884501987798
           ],
           "yaxis": "y"
          }
         ],
         "name": "54"
        },
        {
         "data": [
          {
           "hovertemplate": "variable=HistoricalPrice<br>timestep=55<br>periodstep=%{x}<br>value=%{y}<extra></extra>",
           "legendgroup": "HistoricalPrice",
           "line": {
            "color": "#636efa",
            "dash": "solid"
           },
           "marker": {
            "symbol": "circle"
           },
           "mode": "lines",
           "name": "HistoricalPrice",
           "orientation": "v",
           "showlegend": true,
           "type": "scatter",
           "x": [
            1,
            2,
            3,
            4,
            5,
            6,
            7,
            8,
            9,
            10,
            11,
            12,
            13,
            14,
            15,
            16,
            17,
            18,
            19,
            20,
            21,
            22,
            23,
            24
           ],
           "xaxis": "x",
           "y": [
            68.5,
            70.18,
            64.59,
            68.32,
            100.48,
            62.45,
            50.67,
            54.53,
            60.56,
            58.36,
            49.22,
            48.2,
            null,
            null,
            null,
            null,
            null,
            null,
            null,
            null,
            null,
            null,
            null,
            null
           ],
           "yaxis": "y"
          },
          {
           "hovertemplate": "variable=FuturePrice<br>timestep=55<br>periodstep=%{x}<br>value=%{y}<extra></extra>",
           "legendgroup": "FuturePrice",
           "line": {
            "color": "#EF553B",
            "dash": "solid"
           },
           "marker": {
            "symbol": "circle"
           },
           "mode": "lines",
           "name": "FuturePrice",
           "orientation": "v",
           "showlegend": true,
           "type": "scatter",
           "x": [
            1,
            2,
            3,
            4,
            5,
            6,
            7,
            8,
            9,
            10,
            11,
            12,
            13,
            14,
            15,
            16,
            17,
            18,
            19,
            20,
            21,
            22,
            23,
            24
           ],
           "xaxis": "x",
           "y": [
            null,
            null,
            null,
            null,
            null,
            null,
            null,
            null,
            null,
            null,
            null,
            null,
            56.23,
            76.84,
            55.26,
            56.32,
            55.86,
            57.05,
            56.3,
            57.89,
            53.86,
            52.56,
            52.9,
            57.21
           ],
           "yaxis": "y"
          },
          {
           "hovertemplate": "variable=Predicted<br>timestep=55<br>periodstep=%{x}<br>value=%{y}<extra></extra>",
           "legendgroup": "Predicted",
           "line": {
            "color": "#00cc96",
            "dash": "solid"
           },
           "marker": {
            "symbol": "circle"
           },
           "mode": "lines",
           "name": "Predicted",
           "orientation": "v",
           "showlegend": true,
           "type": "scatter",
           "x": [
            1,
            2,
            3,
            4,
            5,
            6,
            7,
            8,
            9,
            10,
            11,
            12,
            13,
            14,
            15,
            16,
            17,
            18,
            19,
            20,
            21,
            22,
            23,
            24
           ],
           "xaxis": "x",
           "y": [
            null,
            null,
            null,
            null,
            null,
            null,
            null,
            null,
            null,
            null,
            null,
            null,
            45.292420586092774,
            55.040598352113214,
            73.37558549762406,
            63.192451878536225,
            66.40883372148515,
            78.584205352255,
            78.1456453366162,
            79.44255973933046,
            83.16940008856973,
            100.54933576998067,
            107.42822358834505,
            113.08009229828947
           ],
           "yaxis": "y"
          }
         ],
         "name": "55"
        },
        {
         "data": [
          {
           "hovertemplate": "variable=HistoricalPrice<br>timestep=56<br>periodstep=%{x}<br>value=%{y}<extra></extra>",
           "legendgroup": "HistoricalPrice",
           "line": {
            "color": "#636efa",
            "dash": "solid"
           },
           "marker": {
            "symbol": "circle"
           },
           "mode": "lines",
           "name": "HistoricalPrice",
           "orientation": "v",
           "showlegend": true,
           "type": "scatter",
           "x": [
            1,
            2,
            3,
            4,
            5,
            6,
            7,
            8,
            9,
            10,
            11,
            12,
            13,
            14,
            15,
            16,
            17,
            18,
            19,
            20,
            21,
            22,
            23,
            24
           ],
           "xaxis": "x",
           "y": [
            70.18,
            64.59,
            68.32,
            100.48,
            62.45,
            50.67,
            54.53,
            60.56,
            58.36,
            49.22,
            48.2,
            56.23,
            null,
            null,
            null,
            null,
            null,
            null,
            null,
            null,
            null,
            null,
            null,
            null
           ],
           "yaxis": "y"
          },
          {
           "hovertemplate": "variable=FuturePrice<br>timestep=56<br>periodstep=%{x}<br>value=%{y}<extra></extra>",
           "legendgroup": "FuturePrice",
           "line": {
            "color": "#EF553B",
            "dash": "solid"
           },
           "marker": {
            "symbol": "circle"
           },
           "mode": "lines",
           "name": "FuturePrice",
           "orientation": "v",
           "showlegend": true,
           "type": "scatter",
           "x": [
            1,
            2,
            3,
            4,
            5,
            6,
            7,
            8,
            9,
            10,
            11,
            12,
            13,
            14,
            15,
            16,
            17,
            18,
            19,
            20,
            21,
            22,
            23,
            24
           ],
           "xaxis": "x",
           "y": [
            null,
            null,
            null,
            null,
            null,
            null,
            null,
            null,
            null,
            null,
            null,
            null,
            76.84,
            55.26,
            56.32,
            55.86,
            57.05,
            56.3,
            57.89,
            53.86,
            52.56,
            52.9,
            57.21,
            53.98
           ],
           "yaxis": "y"
          },
          {
           "hovertemplate": "variable=Predicted<br>timestep=56<br>periodstep=%{x}<br>value=%{y}<extra></extra>",
           "legendgroup": "Predicted",
           "line": {
            "color": "#00cc96",
            "dash": "solid"
           },
           "marker": {
            "symbol": "circle"
           },
           "mode": "lines",
           "name": "Predicted",
           "orientation": "v",
           "showlegend": true,
           "type": "scatter",
           "x": [
            1,
            2,
            3,
            4,
            5,
            6,
            7,
            8,
            9,
            10,
            11,
            12,
            13,
            14,
            15,
            16,
            17,
            18,
            19,
            20,
            21,
            22,
            23,
            24
           ],
           "xaxis": "x",
           "y": [
            null,
            null,
            null,
            null,
            null,
            null,
            null,
            null,
            null,
            null,
            null,
            null,
            52.15948315629225,
            55.57023510893397,
            77.5054467503475,
            66.688047398481,
            72.19018403987562,
            85.73134227749517,
            85.41201012662667,
            86.67284381929142,
            98.42326629092075,
            115.10369623278835,
            110.1185320835885,
            105.27912786840582
           ],
           "yaxis": "y"
          }
         ],
         "name": "56"
        },
        {
         "data": [
          {
           "hovertemplate": "variable=HistoricalPrice<br>timestep=57<br>periodstep=%{x}<br>value=%{y}<extra></extra>",
           "legendgroup": "HistoricalPrice",
           "line": {
            "color": "#636efa",
            "dash": "solid"
           },
           "marker": {
            "symbol": "circle"
           },
           "mode": "lines",
           "name": "HistoricalPrice",
           "orientation": "v",
           "showlegend": true,
           "type": "scatter",
           "x": [
            1,
            2,
            3,
            4,
            5,
            6,
            7,
            8,
            9,
            10,
            11,
            12,
            13,
            14,
            15,
            16,
            17,
            18,
            19,
            20,
            21,
            22,
            23,
            24
           ],
           "xaxis": "x",
           "y": [
            64.59,
            68.32,
            100.48,
            62.45,
            50.67,
            54.53,
            60.56,
            58.36,
            49.22,
            48.2,
            56.23,
            76.84,
            null,
            null,
            null,
            null,
            null,
            null,
            null,
            null,
            null,
            null,
            null,
            null
           ],
           "yaxis": "y"
          },
          {
           "hovertemplate": "variable=FuturePrice<br>timestep=57<br>periodstep=%{x}<br>value=%{y}<extra></extra>",
           "legendgroup": "FuturePrice",
           "line": {
            "color": "#EF553B",
            "dash": "solid"
           },
           "marker": {
            "symbol": "circle"
           },
           "mode": "lines",
           "name": "FuturePrice",
           "orientation": "v",
           "showlegend": true,
           "type": "scatter",
           "x": [
            1,
            2,
            3,
            4,
            5,
            6,
            7,
            8,
            9,
            10,
            11,
            12,
            13,
            14,
            15,
            16,
            17,
            18,
            19,
            20,
            21,
            22,
            23,
            24
           ],
           "xaxis": "x",
           "y": [
            null,
            null,
            null,
            null,
            null,
            null,
            null,
            null,
            null,
            null,
            null,
            null,
            55.26,
            56.32,
            55.86,
            57.05,
            56.3,
            57.89,
            53.86,
            52.56,
            52.9,
            57.21,
            53.98,
            50.09
           ],
           "yaxis": "y"
          },
          {
           "hovertemplate": "variable=Predicted<br>timestep=57<br>periodstep=%{x}<br>value=%{y}<extra></extra>",
           "legendgroup": "Predicted",
           "line": {
            "color": "#00cc96",
            "dash": "solid"
           },
           "marker": {
            "symbol": "circle"
           },
           "mode": "lines",
           "name": "Predicted",
           "orientation": "v",
           "showlegend": true,
           "type": "scatter",
           "x": [
            1,
            2,
            3,
            4,
            5,
            6,
            7,
            8,
            9,
            10,
            11,
            12,
            13,
            14,
            15,
            16,
            17,
            18,
            19,
            20,
            21,
            22,
            23,
            24
           ],
           "xaxis": "x",
           "y": [
            null,
            null,
            null,
            null,
            null,
            null,
            null,
            null,
            null,
            null,
            null,
            null,
            81.24533971382121,
            93.46214988578437,
            101.19377619328395,
            81.91690945575867,
            99.61159608280748,
            90.54720626540875,
            81.59429709250865,
            98.02306629558497,
            120.32726074380454,
            113.95639913971647,
            108.36516198381503,
            85.37007048962663
           ],
           "yaxis": "y"
          }
         ],
         "name": "57"
        },
        {
         "data": [
          {
           "hovertemplate": "variable=HistoricalPrice<br>timestep=58<br>periodstep=%{x}<br>value=%{y}<extra></extra>",
           "legendgroup": "HistoricalPrice",
           "line": {
            "color": "#636efa",
            "dash": "solid"
           },
           "marker": {
            "symbol": "circle"
           },
           "mode": "lines",
           "name": "HistoricalPrice",
           "orientation": "v",
           "showlegend": true,
           "type": "scatter",
           "x": [
            1,
            2,
            3,
            4,
            5,
            6,
            7,
            8,
            9,
            10,
            11,
            12,
            13,
            14,
            15,
            16,
            17,
            18,
            19,
            20,
            21,
            22,
            23,
            24
           ],
           "xaxis": "x",
           "y": [
            68.32,
            100.48,
            62.45,
            50.67,
            54.53,
            60.56,
            58.36,
            49.22,
            48.2,
            56.23,
            76.84,
            55.26,
            null,
            null,
            null,
            null,
            null,
            null,
            null,
            null,
            null,
            null,
            null,
            null
           ],
           "yaxis": "y"
          },
          {
           "hovertemplate": "variable=FuturePrice<br>timestep=58<br>periodstep=%{x}<br>value=%{y}<extra></extra>",
           "legendgroup": "FuturePrice",
           "line": {
            "color": "#EF553B",
            "dash": "solid"
           },
           "marker": {
            "symbol": "circle"
           },
           "mode": "lines",
           "name": "FuturePrice",
           "orientation": "v",
           "showlegend": true,
           "type": "scatter",
           "x": [
            1,
            2,
            3,
            4,
            5,
            6,
            7,
            8,
            9,
            10,
            11,
            12,
            13,
            14,
            15,
            16,
            17,
            18,
            19,
            20,
            21,
            22,
            23,
            24
           ],
           "xaxis": "x",
           "y": [
            null,
            null,
            null,
            null,
            null,
            null,
            null,
            null,
            null,
            null,
            null,
            null,
            56.32,
            55.86,
            57.05,
            56.3,
            57.89,
            53.86,
            52.56,
            52.9,
            57.21,
            53.98,
            50.09,
            38.74
           ],
           "yaxis": "y"
          },
          {
           "hovertemplate": "variable=Predicted<br>timestep=58<br>periodstep=%{x}<br>value=%{y}<extra></extra>",
           "legendgroup": "Predicted",
           "line": {
            "color": "#00cc96",
            "dash": "solid"
           },
           "marker": {
            "symbol": "circle"
           },
           "mode": "lines",
           "name": "Predicted",
           "orientation": "v",
           "showlegend": true,
           "type": "scatter",
           "x": [
            1,
            2,
            3,
            4,
            5,
            6,
            7,
            8,
            9,
            10,
            11,
            12,
            13,
            14,
            15,
            16,
            17,
            18,
            19,
            20,
            21,
            22,
            23,
            24
           ],
           "xaxis": "x",
           "y": [
            null,
            null,
            null,
            null,
            null,
            null,
            null,
            null,
            null,
            null,
            null,
            null,
            51.0112408016307,
            55.26491300445971,
            65.45202740375302,
            74.45796467922398,
            78.61134538467603,
            91.80170208292098,
            94.05648862889338,
            99.41673017857589,
            108.87030064614952,
            101.51323304867591,
            89.25148534842222,
            84.11239046574806
           ],
           "yaxis": "y"
          }
         ],
         "name": "58"
        },
        {
         "data": [
          {
           "hovertemplate": "variable=HistoricalPrice<br>timestep=59<br>periodstep=%{x}<br>value=%{y}<extra></extra>",
           "legendgroup": "HistoricalPrice",
           "line": {
            "color": "#636efa",
            "dash": "solid"
           },
           "marker": {
            "symbol": "circle"
           },
           "mode": "lines",
           "name": "HistoricalPrice",
           "orientation": "v",
           "showlegend": true,
           "type": "scatter",
           "x": [
            1,
            2,
            3,
            4,
            5,
            6,
            7,
            8,
            9,
            10,
            11,
            12,
            13,
            14,
            15,
            16,
            17,
            18,
            19,
            20,
            21,
            22,
            23,
            24
           ],
           "xaxis": "x",
           "y": [
            100.48,
            62.45,
            50.67,
            54.53,
            60.56,
            58.36,
            49.22,
            48.2,
            56.23,
            76.84,
            55.26,
            56.32,
            null,
            null,
            null,
            null,
            null,
            null,
            null,
            null,
            null,
            null,
            null,
            null
           ],
           "yaxis": "y"
          },
          {
           "hovertemplate": "variable=FuturePrice<br>timestep=59<br>periodstep=%{x}<br>value=%{y}<extra></extra>",
           "legendgroup": "FuturePrice",
           "line": {
            "color": "#EF553B",
            "dash": "solid"
           },
           "marker": {
            "symbol": "circle"
           },
           "mode": "lines",
           "name": "FuturePrice",
           "orientation": "v",
           "showlegend": true,
           "type": "scatter",
           "x": [
            1,
            2,
            3,
            4,
            5,
            6,
            7,
            8,
            9,
            10,
            11,
            12,
            13,
            14,
            15,
            16,
            17,
            18,
            19,
            20,
            21,
            22,
            23,
            24
           ],
           "xaxis": "x",
           "y": [
            null,
            null,
            null,
            null,
            null,
            null,
            null,
            null,
            null,
            null,
            null,
            null,
            55.86,
            57.05,
            56.3,
            57.89,
            53.86,
            52.56,
            52.9,
            57.21,
            53.98,
            50.09,
            38.74,
            40
           ],
           "yaxis": "y"
          },
          {
           "hovertemplate": "variable=Predicted<br>timestep=59<br>periodstep=%{x}<br>value=%{y}<extra></extra>",
           "legendgroup": "Predicted",
           "line": {
            "color": "#00cc96",
            "dash": "solid"
           },
           "marker": {
            "symbol": "circle"
           },
           "mode": "lines",
           "name": "Predicted",
           "orientation": "v",
           "showlegend": true,
           "type": "scatter",
           "x": [
            1,
            2,
            3,
            4,
            5,
            6,
            7,
            8,
            9,
            10,
            11,
            12,
            13,
            14,
            15,
            16,
            17,
            18,
            19,
            20,
            21,
            22,
            23,
            24
           ],
           "xaxis": "x",
           "y": [
            null,
            null,
            null,
            null,
            null,
            null,
            null,
            null,
            null,
            null,
            null,
            null,
            52.027052200407034,
            56.99935248255215,
            72.4758606531324,
            77.02505168908024,
            74.30406285283937,
            100.28591069938533,
            102.11759441527802,
            93.53430798747033,
            103.15791089388094,
            98.12440091936986,
            83.42638688979908,
            81.59388247180972
           ],
           "yaxis": "y"
          }
         ],
         "name": "59"
        }
       ],
       "layout": {
        "height": 700,
        "legend": {
         "title": {
          "text": "variable"
         },
         "tracegroupgap": 0
        },
        "margin": {
         "t": 60
        },
        "sliders": [
         {
          "active": 0,
          "currentvalue": {
           "prefix": "timestep="
          },
          "len": 0.9,
          "pad": {
           "b": 10,
           "t": 60
          },
          "steps": [
           {
            "args": [
             [
              "0"
             ],
             {
              "frame": {
               "duration": 0,
               "redraw": false
              },
              "fromcurrent": true,
              "mode": "immediate",
              "transition": {
               "duration": 0,
               "easing": "linear"
              }
             }
            ],
            "label": "0",
            "method": "animate"
           },
           {
            "args": [
             [
              "1"
             ],
             {
              "frame": {
               "duration": 0,
               "redraw": false
              },
              "fromcurrent": true,
              "mode": "immediate",
              "transition": {
               "duration": 0,
               "easing": "linear"
              }
             }
            ],
            "label": "1",
            "method": "animate"
           },
           {
            "args": [
             [
              "2"
             ],
             {
              "frame": {
               "duration": 0,
               "redraw": false
              },
              "fromcurrent": true,
              "mode": "immediate",
              "transition": {
               "duration": 0,
               "easing": "linear"
              }
             }
            ],
            "label": "2",
            "method": "animate"
           },
           {
            "args": [
             [
              "3"
             ],
             {
              "frame": {
               "duration": 0,
               "redraw": false
              },
              "fromcurrent": true,
              "mode": "immediate",
              "transition": {
               "duration": 0,
               "easing": "linear"
              }
             }
            ],
            "label": "3",
            "method": "animate"
           },
           {
            "args": [
             [
              "4"
             ],
             {
              "frame": {
               "duration": 0,
               "redraw": false
              },
              "fromcurrent": true,
              "mode": "immediate",
              "transition": {
               "duration": 0,
               "easing": "linear"
              }
             }
            ],
            "label": "4",
            "method": "animate"
           },
           {
            "args": [
             [
              "5"
             ],
             {
              "frame": {
               "duration": 0,
               "redraw": false
              },
              "fromcurrent": true,
              "mode": "immediate",
              "transition": {
               "duration": 0,
               "easing": "linear"
              }
             }
            ],
            "label": "5",
            "method": "animate"
           },
           {
            "args": [
             [
              "6"
             ],
             {
              "frame": {
               "duration": 0,
               "redraw": false
              },
              "fromcurrent": true,
              "mode": "immediate",
              "transition": {
               "duration": 0,
               "easing": "linear"
              }
             }
            ],
            "label": "6",
            "method": "animate"
           },
           {
            "args": [
             [
              "7"
             ],
             {
              "frame": {
               "duration": 0,
               "redraw": false
              },
              "fromcurrent": true,
              "mode": "immediate",
              "transition": {
               "duration": 0,
               "easing": "linear"
              }
             }
            ],
            "label": "7",
            "method": "animate"
           },
           {
            "args": [
             [
              "8"
             ],
             {
              "frame": {
               "duration": 0,
               "redraw": false
              },
              "fromcurrent": true,
              "mode": "immediate",
              "transition": {
               "duration": 0,
               "easing": "linear"
              }
             }
            ],
            "label": "8",
            "method": "animate"
           },
           {
            "args": [
             [
              "9"
             ],
             {
              "frame": {
               "duration": 0,
               "redraw": false
              },
              "fromcurrent": true,
              "mode": "immediate",
              "transition": {
               "duration": 0,
               "easing": "linear"
              }
             }
            ],
            "label": "9",
            "method": "animate"
           },
           {
            "args": [
             [
              "10"
             ],
             {
              "frame": {
               "duration": 0,
               "redraw": false
              },
              "fromcurrent": true,
              "mode": "immediate",
              "transition": {
               "duration": 0,
               "easing": "linear"
              }
             }
            ],
            "label": "10",
            "method": "animate"
           },
           {
            "args": [
             [
              "11"
             ],
             {
              "frame": {
               "duration": 0,
               "redraw": false
              },
              "fromcurrent": true,
              "mode": "immediate",
              "transition": {
               "duration": 0,
               "easing": "linear"
              }
             }
            ],
            "label": "11",
            "method": "animate"
           },
           {
            "args": [
             [
              "12"
             ],
             {
              "frame": {
               "duration": 0,
               "redraw": false
              },
              "fromcurrent": true,
              "mode": "immediate",
              "transition": {
               "duration": 0,
               "easing": "linear"
              }
             }
            ],
            "label": "12",
            "method": "animate"
           },
           {
            "args": [
             [
              "13"
             ],
             {
              "frame": {
               "duration": 0,
               "redraw": false
              },
              "fromcurrent": true,
              "mode": "immediate",
              "transition": {
               "duration": 0,
               "easing": "linear"
              }
             }
            ],
            "label": "13",
            "method": "animate"
           },
           {
            "args": [
             [
              "14"
             ],
             {
              "frame": {
               "duration": 0,
               "redraw": false
              },
              "fromcurrent": true,
              "mode": "immediate",
              "transition": {
               "duration": 0,
               "easing": "linear"
              }
             }
            ],
            "label": "14",
            "method": "animate"
           },
           {
            "args": [
             [
              "15"
             ],
             {
              "frame": {
               "duration": 0,
               "redraw": false
              },
              "fromcurrent": true,
              "mode": "immediate",
              "transition": {
               "duration": 0,
               "easing": "linear"
              }
             }
            ],
            "label": "15",
            "method": "animate"
           },
           {
            "args": [
             [
              "16"
             ],
             {
              "frame": {
               "duration": 0,
               "redraw": false
              },
              "fromcurrent": true,
              "mode": "immediate",
              "transition": {
               "duration": 0,
               "easing": "linear"
              }
             }
            ],
            "label": "16",
            "method": "animate"
           },
           {
            "args": [
             [
              "17"
             ],
             {
              "frame": {
               "duration": 0,
               "redraw": false
              },
              "fromcurrent": true,
              "mode": "immediate",
              "transition": {
               "duration": 0,
               "easing": "linear"
              }
             }
            ],
            "label": "17",
            "method": "animate"
           },
           {
            "args": [
             [
              "18"
             ],
             {
              "frame": {
               "duration": 0,
               "redraw": false
              },
              "fromcurrent": true,
              "mode": "immediate",
              "transition": {
               "duration": 0,
               "easing": "linear"
              }
             }
            ],
            "label": "18",
            "method": "animate"
           },
           {
            "args": [
             [
              "19"
             ],
             {
              "frame": {
               "duration": 0,
               "redraw": false
              },
              "fromcurrent": true,
              "mode": "immediate",
              "transition": {
               "duration": 0,
               "easing": "linear"
              }
             }
            ],
            "label": "19",
            "method": "animate"
           },
           {
            "args": [
             [
              "20"
             ],
             {
              "frame": {
               "duration": 0,
               "redraw": false
              },
              "fromcurrent": true,
              "mode": "immediate",
              "transition": {
               "duration": 0,
               "easing": "linear"
              }
             }
            ],
            "label": "20",
            "method": "animate"
           },
           {
            "args": [
             [
              "21"
             ],
             {
              "frame": {
               "duration": 0,
               "redraw": false
              },
              "fromcurrent": true,
              "mode": "immediate",
              "transition": {
               "duration": 0,
               "easing": "linear"
              }
             }
            ],
            "label": "21",
            "method": "animate"
           },
           {
            "args": [
             [
              "22"
             ],
             {
              "frame": {
               "duration": 0,
               "redraw": false
              },
              "fromcurrent": true,
              "mode": "immediate",
              "transition": {
               "duration": 0,
               "easing": "linear"
              }
             }
            ],
            "label": "22",
            "method": "animate"
           },
           {
            "args": [
             [
              "23"
             ],
             {
              "frame": {
               "duration": 0,
               "redraw": false
              },
              "fromcurrent": true,
              "mode": "immediate",
              "transition": {
               "duration": 0,
               "easing": "linear"
              }
             }
            ],
            "label": "23",
            "method": "animate"
           },
           {
            "args": [
             [
              "24"
             ],
             {
              "frame": {
               "duration": 0,
               "redraw": false
              },
              "fromcurrent": true,
              "mode": "immediate",
              "transition": {
               "duration": 0,
               "easing": "linear"
              }
             }
            ],
            "label": "24",
            "method": "animate"
           },
           {
            "args": [
             [
              "25"
             ],
             {
              "frame": {
               "duration": 0,
               "redraw": false
              },
              "fromcurrent": true,
              "mode": "immediate",
              "transition": {
               "duration": 0,
               "easing": "linear"
              }
             }
            ],
            "label": "25",
            "method": "animate"
           },
           {
            "args": [
             [
              "26"
             ],
             {
              "frame": {
               "duration": 0,
               "redraw": false
              },
              "fromcurrent": true,
              "mode": "immediate",
              "transition": {
               "duration": 0,
               "easing": "linear"
              }
             }
            ],
            "label": "26",
            "method": "animate"
           },
           {
            "args": [
             [
              "27"
             ],
             {
              "frame": {
               "duration": 0,
               "redraw": false
              },
              "fromcurrent": true,
              "mode": "immediate",
              "transition": {
               "duration": 0,
               "easing": "linear"
              }
             }
            ],
            "label": "27",
            "method": "animate"
           },
           {
            "args": [
             [
              "28"
             ],
             {
              "frame": {
               "duration": 0,
               "redraw": false
              },
              "fromcurrent": true,
              "mode": "immediate",
              "transition": {
               "duration": 0,
               "easing": "linear"
              }
             }
            ],
            "label": "28",
            "method": "animate"
           },
           {
            "args": [
             [
              "29"
             ],
             {
              "frame": {
               "duration": 0,
               "redraw": false
              },
              "fromcurrent": true,
              "mode": "immediate",
              "transition": {
               "duration": 0,
               "easing": "linear"
              }
             }
            ],
            "label": "29",
            "method": "animate"
           },
           {
            "args": [
             [
              "30"
             ],
             {
              "frame": {
               "duration": 0,
               "redraw": false
              },
              "fromcurrent": true,
              "mode": "immediate",
              "transition": {
               "duration": 0,
               "easing": "linear"
              }
             }
            ],
            "label": "30",
            "method": "animate"
           },
           {
            "args": [
             [
              "31"
             ],
             {
              "frame": {
               "duration": 0,
               "redraw": false
              },
              "fromcurrent": true,
              "mode": "immediate",
              "transition": {
               "duration": 0,
               "easing": "linear"
              }
             }
            ],
            "label": "31",
            "method": "animate"
           },
           {
            "args": [
             [
              "32"
             ],
             {
              "frame": {
               "duration": 0,
               "redraw": false
              },
              "fromcurrent": true,
              "mode": "immediate",
              "transition": {
               "duration": 0,
               "easing": "linear"
              }
             }
            ],
            "label": "32",
            "method": "animate"
           },
           {
            "args": [
             [
              "33"
             ],
             {
              "frame": {
               "duration": 0,
               "redraw": false
              },
              "fromcurrent": true,
              "mode": "immediate",
              "transition": {
               "duration": 0,
               "easing": "linear"
              }
             }
            ],
            "label": "33",
            "method": "animate"
           },
           {
            "args": [
             [
              "34"
             ],
             {
              "frame": {
               "duration": 0,
               "redraw": false
              },
              "fromcurrent": true,
              "mode": "immediate",
              "transition": {
               "duration": 0,
               "easing": "linear"
              }
             }
            ],
            "label": "34",
            "method": "animate"
           },
           {
            "args": [
             [
              "35"
             ],
             {
              "frame": {
               "duration": 0,
               "redraw": false
              },
              "fromcurrent": true,
              "mode": "immediate",
              "transition": {
               "duration": 0,
               "easing": "linear"
              }
             }
            ],
            "label": "35",
            "method": "animate"
           },
           {
            "args": [
             [
              "36"
             ],
             {
              "frame": {
               "duration": 0,
               "redraw": false
              },
              "fromcurrent": true,
              "mode": "immediate",
              "transition": {
               "duration": 0,
               "easing": "linear"
              }
             }
            ],
            "label": "36",
            "method": "animate"
           },
           {
            "args": [
             [
              "37"
             ],
             {
              "frame": {
               "duration": 0,
               "redraw": false
              },
              "fromcurrent": true,
              "mode": "immediate",
              "transition": {
               "duration": 0,
               "easing": "linear"
              }
             }
            ],
            "label": "37",
            "method": "animate"
           },
           {
            "args": [
             [
              "38"
             ],
             {
              "frame": {
               "duration": 0,
               "redraw": false
              },
              "fromcurrent": true,
              "mode": "immediate",
              "transition": {
               "duration": 0,
               "easing": "linear"
              }
             }
            ],
            "label": "38",
            "method": "animate"
           },
           {
            "args": [
             [
              "39"
             ],
             {
              "frame": {
               "duration": 0,
               "redraw": false
              },
              "fromcurrent": true,
              "mode": "immediate",
              "transition": {
               "duration": 0,
               "easing": "linear"
              }
             }
            ],
            "label": "39",
            "method": "animate"
           },
           {
            "args": [
             [
              "40"
             ],
             {
              "frame": {
               "duration": 0,
               "redraw": false
              },
              "fromcurrent": true,
              "mode": "immediate",
              "transition": {
               "duration": 0,
               "easing": "linear"
              }
             }
            ],
            "label": "40",
            "method": "animate"
           },
           {
            "args": [
             [
              "41"
             ],
             {
              "frame": {
               "duration": 0,
               "redraw": false
              },
              "fromcurrent": true,
              "mode": "immediate",
              "transition": {
               "duration": 0,
               "easing": "linear"
              }
             }
            ],
            "label": "41",
            "method": "animate"
           },
           {
            "args": [
             [
              "42"
             ],
             {
              "frame": {
               "duration": 0,
               "redraw": false
              },
              "fromcurrent": true,
              "mode": "immediate",
              "transition": {
               "duration": 0,
               "easing": "linear"
              }
             }
            ],
            "label": "42",
            "method": "animate"
           },
           {
            "args": [
             [
              "43"
             ],
             {
              "frame": {
               "duration": 0,
               "redraw": false
              },
              "fromcurrent": true,
              "mode": "immediate",
              "transition": {
               "duration": 0,
               "easing": "linear"
              }
             }
            ],
            "label": "43",
            "method": "animate"
           },
           {
            "args": [
             [
              "44"
             ],
             {
              "frame": {
               "duration": 0,
               "redraw": false
              },
              "fromcurrent": true,
              "mode": "immediate",
              "transition": {
               "duration": 0,
               "easing": "linear"
              }
             }
            ],
            "label": "44",
            "method": "animate"
           },
           {
            "args": [
             [
              "45"
             ],
             {
              "frame": {
               "duration": 0,
               "redraw": false
              },
              "fromcurrent": true,
              "mode": "immediate",
              "transition": {
               "duration": 0,
               "easing": "linear"
              }
             }
            ],
            "label": "45",
            "method": "animate"
           },
           {
            "args": [
             [
              "46"
             ],
             {
              "frame": {
               "duration": 0,
               "redraw": false
              },
              "fromcurrent": true,
              "mode": "immediate",
              "transition": {
               "duration": 0,
               "easing": "linear"
              }
             }
            ],
            "label": "46",
            "method": "animate"
           },
           {
            "args": [
             [
              "47"
             ],
             {
              "frame": {
               "duration": 0,
               "redraw": false
              },
              "fromcurrent": true,
              "mode": "immediate",
              "transition": {
               "duration": 0,
               "easing": "linear"
              }
             }
            ],
            "label": "47",
            "method": "animate"
           },
           {
            "args": [
             [
              "48"
             ],
             {
              "frame": {
               "duration": 0,
               "redraw": false
              },
              "fromcurrent": true,
              "mode": "immediate",
              "transition": {
               "duration": 0,
               "easing": "linear"
              }
             }
            ],
            "label": "48",
            "method": "animate"
           },
           {
            "args": [
             [
              "49"
             ],
             {
              "frame": {
               "duration": 0,
               "redraw": false
              },
              "fromcurrent": true,
              "mode": "immediate",
              "transition": {
               "duration": 0,
               "easing": "linear"
              }
             }
            ],
            "label": "49",
            "method": "animate"
           },
           {
            "args": [
             [
              "50"
             ],
             {
              "frame": {
               "duration": 0,
               "redraw": false
              },
              "fromcurrent": true,
              "mode": "immediate",
              "transition": {
               "duration": 0,
               "easing": "linear"
              }
             }
            ],
            "label": "50",
            "method": "animate"
           },
           {
            "args": [
             [
              "51"
             ],
             {
              "frame": {
               "duration": 0,
               "redraw": false
              },
              "fromcurrent": true,
              "mode": "immediate",
              "transition": {
               "duration": 0,
               "easing": "linear"
              }
             }
            ],
            "label": "51",
            "method": "animate"
           },
           {
            "args": [
             [
              "52"
             ],
             {
              "frame": {
               "duration": 0,
               "redraw": false
              },
              "fromcurrent": true,
              "mode": "immediate",
              "transition": {
               "duration": 0,
               "easing": "linear"
              }
             }
            ],
            "label": "52",
            "method": "animate"
           },
           {
            "args": [
             [
              "53"
             ],
             {
              "frame": {
               "duration": 0,
               "redraw": false
              },
              "fromcurrent": true,
              "mode": "immediate",
              "transition": {
               "duration": 0,
               "easing": "linear"
              }
             }
            ],
            "label": "53",
            "method": "animate"
           },
           {
            "args": [
             [
              "54"
             ],
             {
              "frame": {
               "duration": 0,
               "redraw": false
              },
              "fromcurrent": true,
              "mode": "immediate",
              "transition": {
               "duration": 0,
               "easing": "linear"
              }
             }
            ],
            "label": "54",
            "method": "animate"
           },
           {
            "args": [
             [
              "55"
             ],
             {
              "frame": {
               "duration": 0,
               "redraw": false
              },
              "fromcurrent": true,
              "mode": "immediate",
              "transition": {
               "duration": 0,
               "easing": "linear"
              }
             }
            ],
            "label": "55",
            "method": "animate"
           },
           {
            "args": [
             [
              "56"
             ],
             {
              "frame": {
               "duration": 0,
               "redraw": false
              },
              "fromcurrent": true,
              "mode": "immediate",
              "transition": {
               "duration": 0,
               "easing": "linear"
              }
             }
            ],
            "label": "56",
            "method": "animate"
           },
           {
            "args": [
             [
              "57"
             ],
             {
              "frame": {
               "duration": 0,
               "redraw": false
              },
              "fromcurrent": true,
              "mode": "immediate",
              "transition": {
               "duration": 0,
               "easing": "linear"
              }
             }
            ],
            "label": "57",
            "method": "animate"
           },
           {
            "args": [
             [
              "58"
             ],
             {
              "frame": {
               "duration": 0,
               "redraw": false
              },
              "fromcurrent": true,
              "mode": "immediate",
              "transition": {
               "duration": 0,
               "easing": "linear"
              }
             }
            ],
            "label": "58",
            "method": "animate"
           },
           {
            "args": [
             [
              "59"
             ],
             {
              "frame": {
               "duration": 0,
               "redraw": false
              },
              "fromcurrent": true,
              "mode": "immediate",
              "transition": {
               "duration": 0,
               "easing": "linear"
              }
             }
            ],
            "label": "59",
            "method": "animate"
           }
          ],
          "x": 0.1,
          "xanchor": "left",
          "y": 0,
          "yanchor": "top"
         }
        ],
        "template": {
         "data": {
          "bar": [
           {
            "error_x": {
             "color": "#2a3f5f"
            },
            "error_y": {
             "color": "#2a3f5f"
            },
            "marker": {
             "line": {
              "color": "#E5ECF6",
              "width": 0.5
             },
             "pattern": {
              "fillmode": "overlay",
              "size": 10,
              "solidity": 0.2
             }
            },
            "type": "bar"
           }
          ],
          "barpolar": [
           {
            "marker": {
             "line": {
              "color": "#E5ECF6",
              "width": 0.5
             },
             "pattern": {
              "fillmode": "overlay",
              "size": 10,
              "solidity": 0.2
             }
            },
            "type": "barpolar"
           }
          ],
          "carpet": [
           {
            "aaxis": {
             "endlinecolor": "#2a3f5f",
             "gridcolor": "white",
             "linecolor": "white",
             "minorgridcolor": "white",
             "startlinecolor": "#2a3f5f"
            },
            "baxis": {
             "endlinecolor": "#2a3f5f",
             "gridcolor": "white",
             "linecolor": "white",
             "minorgridcolor": "white",
             "startlinecolor": "#2a3f5f"
            },
            "type": "carpet"
           }
          ],
          "choropleth": [
           {
            "colorbar": {
             "outlinewidth": 0,
             "ticks": ""
            },
            "type": "choropleth"
           }
          ],
          "contour": [
           {
            "colorbar": {
             "outlinewidth": 0,
             "ticks": ""
            },
            "colorscale": [
             [
              0,
              "#0d0887"
             ],
             [
              0.1111111111111111,
              "#46039f"
             ],
             [
              0.2222222222222222,
              "#7201a8"
             ],
             [
              0.3333333333333333,
              "#9c179e"
             ],
             [
              0.4444444444444444,
              "#bd3786"
             ],
             [
              0.5555555555555556,
              "#d8576b"
             ],
             [
              0.6666666666666666,
              "#ed7953"
             ],
             [
              0.7777777777777778,
              "#fb9f3a"
             ],
             [
              0.8888888888888888,
              "#fdca26"
             ],
             [
              1,
              "#f0f921"
             ]
            ],
            "type": "contour"
           }
          ],
          "contourcarpet": [
           {
            "colorbar": {
             "outlinewidth": 0,
             "ticks": ""
            },
            "type": "contourcarpet"
           }
          ],
          "heatmap": [
           {
            "colorbar": {
             "outlinewidth": 0,
             "ticks": ""
            },
            "colorscale": [
             [
              0,
              "#0d0887"
             ],
             [
              0.1111111111111111,
              "#46039f"
             ],
             [
              0.2222222222222222,
              "#7201a8"
             ],
             [
              0.3333333333333333,
              "#9c179e"
             ],
             [
              0.4444444444444444,
              "#bd3786"
             ],
             [
              0.5555555555555556,
              "#d8576b"
             ],
             [
              0.6666666666666666,
              "#ed7953"
             ],
             [
              0.7777777777777778,
              "#fb9f3a"
             ],
             [
              0.8888888888888888,
              "#fdca26"
             ],
             [
              1,
              "#f0f921"
             ]
            ],
            "type": "heatmap"
           }
          ],
          "heatmapgl": [
           {
            "colorbar": {
             "outlinewidth": 0,
             "ticks": ""
            },
            "colorscale": [
             [
              0,
              "#0d0887"
             ],
             [
              0.1111111111111111,
              "#46039f"
             ],
             [
              0.2222222222222222,
              "#7201a8"
             ],
             [
              0.3333333333333333,
              "#9c179e"
             ],
             [
              0.4444444444444444,
              "#bd3786"
             ],
             [
              0.5555555555555556,
              "#d8576b"
             ],
             [
              0.6666666666666666,
              "#ed7953"
             ],
             [
              0.7777777777777778,
              "#fb9f3a"
             ],
             [
              0.8888888888888888,
              "#fdca26"
             ],
             [
              1,
              "#f0f921"
             ]
            ],
            "type": "heatmapgl"
           }
          ],
          "histogram": [
           {
            "marker": {
             "pattern": {
              "fillmode": "overlay",
              "size": 10,
              "solidity": 0.2
             }
            },
            "type": "histogram"
           }
          ],
          "histogram2d": [
           {
            "colorbar": {
             "outlinewidth": 0,
             "ticks": ""
            },
            "colorscale": [
             [
              0,
              "#0d0887"
             ],
             [
              0.1111111111111111,
              "#46039f"
             ],
             [
              0.2222222222222222,
              "#7201a8"
             ],
             [
              0.3333333333333333,
              "#9c179e"
             ],
             [
              0.4444444444444444,
              "#bd3786"
             ],
             [
              0.5555555555555556,
              "#d8576b"
             ],
             [
              0.6666666666666666,
              "#ed7953"
             ],
             [
              0.7777777777777778,
              "#fb9f3a"
             ],
             [
              0.8888888888888888,
              "#fdca26"
             ],
             [
              1,
              "#f0f921"
             ]
            ],
            "type": "histogram2d"
           }
          ],
          "histogram2dcontour": [
           {
            "colorbar": {
             "outlinewidth": 0,
             "ticks": ""
            },
            "colorscale": [
             [
              0,
              "#0d0887"
             ],
             [
              0.1111111111111111,
              "#46039f"
             ],
             [
              0.2222222222222222,
              "#7201a8"
             ],
             [
              0.3333333333333333,
              "#9c179e"
             ],
             [
              0.4444444444444444,
              "#bd3786"
             ],
             [
              0.5555555555555556,
              "#d8576b"
             ],
             [
              0.6666666666666666,
              "#ed7953"
             ],
             [
              0.7777777777777778,
              "#fb9f3a"
             ],
             [
              0.8888888888888888,
              "#fdca26"
             ],
             [
              1,
              "#f0f921"
             ]
            ],
            "type": "histogram2dcontour"
           }
          ],
          "mesh3d": [
           {
            "colorbar": {
             "outlinewidth": 0,
             "ticks": ""
            },
            "type": "mesh3d"
           }
          ],
          "parcoords": [
           {
            "line": {
             "colorbar": {
              "outlinewidth": 0,
              "ticks": ""
             }
            },
            "type": "parcoords"
           }
          ],
          "pie": [
           {
            "automargin": true,
            "type": "pie"
           }
          ],
          "scatter": [
           {
            "fillpattern": {
             "fillmode": "overlay",
             "size": 10,
             "solidity": 0.2
            },
            "type": "scatter"
           }
          ],
          "scatter3d": [
           {
            "line": {
             "colorbar": {
              "outlinewidth": 0,
              "ticks": ""
             }
            },
            "marker": {
             "colorbar": {
              "outlinewidth": 0,
              "ticks": ""
             }
            },
            "type": "scatter3d"
           }
          ],
          "scattercarpet": [
           {
            "marker": {
             "colorbar": {
              "outlinewidth": 0,
              "ticks": ""
             }
            },
            "type": "scattercarpet"
           }
          ],
          "scattergeo": [
           {
            "marker": {
             "colorbar": {
              "outlinewidth": 0,
              "ticks": ""
             }
            },
            "type": "scattergeo"
           }
          ],
          "scattergl": [
           {
            "marker": {
             "colorbar": {
              "outlinewidth": 0,
              "ticks": ""
             }
            },
            "type": "scattergl"
           }
          ],
          "scattermapbox": [
           {
            "marker": {
             "colorbar": {
              "outlinewidth": 0,
              "ticks": ""
             }
            },
            "type": "scattermapbox"
           }
          ],
          "scatterpolar": [
           {
            "marker": {
             "colorbar": {
              "outlinewidth": 0,
              "ticks": ""
             }
            },
            "type": "scatterpolar"
           }
          ],
          "scatterpolargl": [
           {
            "marker": {
             "colorbar": {
              "outlinewidth": 0,
              "ticks": ""
             }
            },
            "type": "scatterpolargl"
           }
          ],
          "scatterternary": [
           {
            "marker": {
             "colorbar": {
              "outlinewidth": 0,
              "ticks": ""
             }
            },
            "type": "scatterternary"
           }
          ],
          "surface": [
           {
            "colorbar": {
             "outlinewidth": 0,
             "ticks": ""
            },
            "colorscale": [
             [
              0,
              "#0d0887"
             ],
             [
              0.1111111111111111,
              "#46039f"
             ],
             [
              0.2222222222222222,
              "#7201a8"
             ],
             [
              0.3333333333333333,
              "#9c179e"
             ],
             [
              0.4444444444444444,
              "#bd3786"
             ],
             [
              0.5555555555555556,
              "#d8576b"
             ],
             [
              0.6666666666666666,
              "#ed7953"
             ],
             [
              0.7777777777777778,
              "#fb9f3a"
             ],
             [
              0.8888888888888888,
              "#fdca26"
             ],
             [
              1,
              "#f0f921"
             ]
            ],
            "type": "surface"
           }
          ],
          "table": [
           {
            "cells": {
             "fill": {
              "color": "#EBF0F8"
             },
             "line": {
              "color": "white"
             }
            },
            "header": {
             "fill": {
              "color": "#C8D4E3"
             },
             "line": {
              "color": "white"
             }
            },
            "type": "table"
           }
          ]
         },
         "layout": {
          "annotationdefaults": {
           "arrowcolor": "#2a3f5f",
           "arrowhead": 0,
           "arrowwidth": 1
          },
          "autotypenumbers": "strict",
          "coloraxis": {
           "colorbar": {
            "outlinewidth": 0,
            "ticks": ""
           }
          },
          "colorscale": {
           "diverging": [
            [
             0,
             "#8e0152"
            ],
            [
             0.1,
             "#c51b7d"
            ],
            [
             0.2,
             "#de77ae"
            ],
            [
             0.3,
             "#f1b6da"
            ],
            [
             0.4,
             "#fde0ef"
            ],
            [
             0.5,
             "#f7f7f7"
            ],
            [
             0.6,
             "#e6f5d0"
            ],
            [
             0.7,
             "#b8e186"
            ],
            [
             0.8,
             "#7fbc41"
            ],
            [
             0.9,
             "#4d9221"
            ],
            [
             1,
             "#276419"
            ]
           ],
           "sequential": [
            [
             0,
             "#0d0887"
            ],
            [
             0.1111111111111111,
             "#46039f"
            ],
            [
             0.2222222222222222,
             "#7201a8"
            ],
            [
             0.3333333333333333,
             "#9c179e"
            ],
            [
             0.4444444444444444,
             "#bd3786"
            ],
            [
             0.5555555555555556,
             "#d8576b"
            ],
            [
             0.6666666666666666,
             "#ed7953"
            ],
            [
             0.7777777777777778,
             "#fb9f3a"
            ],
            [
             0.8888888888888888,
             "#fdca26"
            ],
            [
             1,
             "#f0f921"
            ]
           ],
           "sequentialminus": [
            [
             0,
             "#0d0887"
            ],
            [
             0.1111111111111111,
             "#46039f"
            ],
            [
             0.2222222222222222,
             "#7201a8"
            ],
            [
             0.3333333333333333,
             "#9c179e"
            ],
            [
             0.4444444444444444,
             "#bd3786"
            ],
            [
             0.5555555555555556,
             "#d8576b"
            ],
            [
             0.6666666666666666,
             "#ed7953"
            ],
            [
             0.7777777777777778,
             "#fb9f3a"
            ],
            [
             0.8888888888888888,
             "#fdca26"
            ],
            [
             1,
             "#f0f921"
            ]
           ]
          },
          "colorway": [
           "#636efa",
           "#EF553B",
           "#00cc96",
           "#ab63fa",
           "#FFA15A",
           "#19d3f3",
           "#FF6692",
           "#B6E880",
           "#FF97FF",
           "#FECB52"
          ],
          "font": {
           "color": "#2a3f5f"
          },
          "geo": {
           "bgcolor": "white",
           "lakecolor": "white",
           "landcolor": "#E5ECF6",
           "showlakes": true,
           "showland": true,
           "subunitcolor": "white"
          },
          "hoverlabel": {
           "align": "left"
          },
          "hovermode": "closest",
          "mapbox": {
           "style": "light"
          },
          "paper_bgcolor": "white",
          "plot_bgcolor": "#E5ECF6",
          "polar": {
           "angularaxis": {
            "gridcolor": "white",
            "linecolor": "white",
            "ticks": ""
           },
           "bgcolor": "#E5ECF6",
           "radialaxis": {
            "gridcolor": "white",
            "linecolor": "white",
            "ticks": ""
           }
          },
          "scene": {
           "xaxis": {
            "backgroundcolor": "#E5ECF6",
            "gridcolor": "white",
            "gridwidth": 2,
            "linecolor": "white",
            "showbackground": true,
            "ticks": "",
            "zerolinecolor": "white"
           },
           "yaxis": {
            "backgroundcolor": "#E5ECF6",
            "gridcolor": "white",
            "gridwidth": 2,
            "linecolor": "white",
            "showbackground": true,
            "ticks": "",
            "zerolinecolor": "white"
           },
           "zaxis": {
            "backgroundcolor": "#E5ECF6",
            "gridcolor": "white",
            "gridwidth": 2,
            "linecolor": "white",
            "showbackground": true,
            "ticks": "",
            "zerolinecolor": "white"
           }
          },
          "shapedefaults": {
           "line": {
            "color": "#2a3f5f"
           }
          },
          "ternary": {
           "aaxis": {
            "gridcolor": "white",
            "linecolor": "white",
            "ticks": ""
           },
           "baxis": {
            "gridcolor": "white",
            "linecolor": "white",
            "ticks": ""
           },
           "bgcolor": "#E5ECF6",
           "caxis": {
            "gridcolor": "white",
            "linecolor": "white",
            "ticks": ""
           }
          },
          "title": {
           "x": 0.05
          },
          "xaxis": {
           "automargin": true,
           "gridcolor": "white",
           "linecolor": "white",
           "ticks": "",
           "title": {
            "standoff": 15
           },
           "zerolinecolor": "white",
           "zerolinewidth": 2
          },
          "yaxis": {
           "automargin": true,
           "gridcolor": "white",
           "linecolor": "white",
           "ticks": "",
           "title": {
            "standoff": 15
           },
           "zerolinecolor": "white",
           "zerolinewidth": 2
          }
         }
        },
        "updatemenus": [
         {
          "buttons": [
           {
            "args": [
             null,
             {
              "frame": {
               "duration": 500,
               "redraw": false
              },
              "fromcurrent": true,
              "mode": "immediate",
              "transition": {
               "duration": 500,
               "easing": "linear"
              }
             }
            ],
            "label": "&#9654;",
            "method": "animate"
           },
           {
            "args": [
             [
              null
             ],
             {
              "frame": {
               "duration": 0,
               "redraw": false
              },
              "fromcurrent": true,
              "mode": "immediate",
              "transition": {
               "duration": 0,
               "easing": "linear"
              }
             }
            ],
            "label": "&#9724;",
            "method": "animate"
           }
          ],
          "direction": "left",
          "pad": {
           "r": 10,
           "t": 70
          },
          "showactive": false,
          "type": "buttons",
          "x": 0.1,
          "xanchor": "right",
          "y": 0,
          "yanchor": "top"
         }
        ],
        "xaxis": {
         "anchor": "y",
         "domain": [
          0,
          1
         ],
         "title": {
          "text": "periodstep"
         }
        },
        "yaxis": {
         "anchor": "x",
         "domain": [
          0,
          1
         ],
         "title": {
          "text": "value"
         }
        }
       }
      }
     },
     "metadata": {},
     "output_type": "display_data"
    }
   ],
   "source": [
    "fig = px.line(ddf, x=\"periodstep\", y=[\"HistoricalPrice\", \"FuturePrice\", \"Predicted\"], animation_frame=\"timestep\")\n",
    "fig.update_layout(height=700)  \n",
    "fig.show()"
   ]
  },
  {
   "cell_type": "code",
   "execution_count": 19,
   "metadata": {},
   "outputs": [
    {
     "name": "stdout",
     "output_type": "stream",
     "text": [
      "RMSE for the predictions by AESO for the same time period as the test set: 51.68 CAD/MWh\n"
     ]
    }
   ],
   "source": [
    "ph.get_aeso_predictions(y_test.index[0], y_test.index[-1])"
   ]
  }
 ],
 "metadata": {
  "kernelspec": {
   "display_name": "slalomenv",
   "language": "python",
   "name": "python3"
  },
  "language_info": {
   "codemirror_mode": {
    "name": "ipython",
    "version": 3
   },
   "file_extension": ".py",
   "mimetype": "text/x-python",
   "name": "python",
   "nbconvert_exporter": "python",
   "pygments_lexer": "ipython3",
   "version": "3.11.3"
  },
  "orig_nbformat": 4
 },
 "nbformat": 4,
 "nbformat_minor": 2
}
