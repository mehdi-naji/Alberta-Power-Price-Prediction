{
 "cells": [
  {
   "cell_type": "code",
   "execution_count": null,
   "metadata": {},
   "outputs": [],
   "source": [
    "import pandas as pd\n",
    "import numpy as np\n",
    "from sktime.forecasting.base import ForecastingHorizon\n",
    "from sklearn.metrics import mean_squared_error\n",
    "import plotly.express as px\n",
    "from sktime.forecasting.model_selection import temporal_train_test_split\n",
    "import time\n",
    "\n",
    "import warnings\n",
    "\n",
    "warnings.filterwarnings(\"ignore\")"
   ]
  },
  {
   "cell_type": "code",
   "execution_count": null,
   "metadata": {},
   "outputs": [],
   "source": [
    "import sys\n",
    "sys.path.append(\"../utils/\")\n",
    "import pipeline_helpers as ph"
   ]
  },
  {
   "attachments": {},
   "cell_type": "markdown",
   "metadata": {},
   "source": [
    "### Pipeline to evaluate the optimized hyperparameters on the dates where AESO predictions are available.\n",
    "- Updates pool price one at a time.\n",
    "- AESO complete 6 hour predictions were logged for the dates from 26th May 2023 to 31st May 2023."
   ]
  },
  {
   "cell_type": "code",
   "execution_count": null,
   "metadata": {},
   "outputs": [],
   "source": [
    "X = pd.read_csv(\n",
    "    \"https://raw.githubusercontent.com/slalom-ubc-mds/Power-Price-Prediction/main/data/processed/complete_data/features.csv\",\n",
    "    parse_dates=[\"date\"],\n",
    "    index_col=\"date\",\n",
    ")\n",
    "\n",
    "y = pd.read_csv(\n",
    "    \"https://raw.githubusercontent.com/slalom-ubc-mds/Power-Price-Prediction/main/data/processed/complete_data/target.csv\",\n",
    "    parse_dates=[\"date\"],\n",
    "    index_col=\"date\",\n",
    ")\n",
    "\n",
    "X = X.sort_values(by=\"date\")\n",
    "X = X.asfreq(\"H\")\n",
    "y = y.sort_values(by=\"date\")\n",
    "y = y.asfreq(\"H\")"
   ]
  },
  {
   "cell_type": "code",
   "execution_count": null,
   "metadata": {},
   "outputs": [],
   "source": [
    "# Train test split\n",
    "forecast_len = 12\n",
    "\n",
    "# Split the data into training and test sets by slicing dates\n",
    "X_train = X.loc[:\"2023-05-25\"]\n",
    "y_train = y.loc[:\"2023-05-25\"]\n",
    "\n",
    "\n",
    "y_test = y.loc[\"2023-05-26\":]\n",
    "X_test = X.loc[\"2023-05-26\":]\n",
    "\n",
    "y_train = y_train.asfreq(\"H\")\n",
    "y_test = y_test.asfreq(\"H\")\n",
    "X_train = X_train.asfreq(\"H\")\n",
    "X_test = X_test.asfreq(\"H\")"
   ]
  },
  {
   "cell_type": "code",
   "execution_count": null,
   "metadata": {},
   "outputs": [],
   "source": [
    "lgbm_pipeline = ph.initialize_optimized_lgbm_forecaster()\n",
    "fh = ForecastingHorizon(np.arange(1, 12 + 1))"
   ]
  },
  {
   "cell_type": "code",
   "execution_count": null,
   "metadata": {},
   "outputs": [],
   "source": [
    "forecast_len = 12\n",
    "step_length = 1"
   ]
  },
  {
   "cell_type": "code",
   "execution_count": null,
   "metadata": {},
   "outputs": [],
   "source": [
    "# start stop watch to time the training\n",
    "start_time = time.time()\n",
    "lgbm_pipeline.fit(y=y_train, X=X_train, fh=fh)\n",
    "end_time = time.time()\n",
    "print(f\"Fit time: {end_time - start_time} seconds\")"
   ]
  },
  {
   "cell_type": "code",
   "execution_count": null,
   "metadata": {},
   "outputs": [],
   "source": [
    "fit_time = end_time - start_time"
   ]
  },
  {
   "cell_type": "code",
   "execution_count": null,
   "metadata": {},
   "outputs": [],
   "source": [
    "# start stop watch to time the training\n",
    "start_time = time.time()\n",
    "rolling_prediction_df = ph.get_rolling_predictions(lgbm_pipeline, X_train, X_test, y_test, fh, 1, forecast_len, verbose=True)\n",
    "end_time = time.time()\n",
    "print(f\"Generating Predictions Time: {end_time - start_time} seconds\")"
   ]
  },
  {
   "cell_type": "code",
   "execution_count": null,
   "metadata": {},
   "outputs": [],
   "source": [
    "prediction_time = end_time - start_time"
   ]
  },
  {
   "cell_type": "code",
   "execution_count": null,
   "metadata": {},
   "outputs": [],
   "source": [
    "fold_actuals, fold_predictions_list, rmse_list = ph.get_fold_predictions(rolling_prediction_df, y_test)"
   ]
  },
  {
   "cell_type": "code",
   "execution_count": null,
   "metadata": {},
   "outputs": [],
   "source": [
    "predictions = ph.generate_step_predictions(rolling_prediction_df, y_test, forecast_len)"
   ]
  },
  {
   "cell_type": "code",
   "execution_count": null,
   "metadata": {},
   "outputs": [],
   "source": [
    "actuals, rmses = ph.generate_step_errors(predictions, y_test, forecast_len)"
   ]
  },
  {
   "cell_type": "code",
   "execution_count": null,
   "metadata": {},
   "outputs": [],
   "source": [
    "ph.get_aeso_predictions(y_test.index[0], y_test.index[-1])"
   ]
  },
  {
   "cell_type": "code",
   "execution_count": null,
   "metadata": {},
   "outputs": [],
   "source": [
    "data = {\n",
    "    f\"{step}_step_rmse\": [rmse]\n",
    "    for step, rmse in zip(range(1, forecast_len + 1), rmses)\n",
    "}\n",
    "\n",
    "error_df = pd.DataFrame(data)\n",
    "error_df[\"avg_fold_rmse\"] = round(np.mean(rmse_list), 2)\n",
    "error_df[\"fit_time\"] = fit_time\n",
    "error_df[\"prediction_time\"] = prediction_time \n",
    "\n",
    "# save the error_df\n",
    "error_df.to_csv(\"aeso_test_results.csv\", index=False)"
   ]
  },
  {
   "cell_type": "code",
   "execution_count": null,
   "metadata": {},
   "outputs": [],
   "source": []
  }
 ],
 "metadata": {
  "kernelspec": {
   "display_name": "slalomenv",
   "language": "python",
   "name": "python3"
  },
  "language_info": {
   "codemirror_mode": {
    "name": "ipython",
    "version": 3
   },
   "file_extension": ".py",
   "mimetype": "text/x-python",
   "name": "python",
   "nbconvert_exporter": "python",
   "pygments_lexer": "ipython3",
   "version": "3.11.3"
  },
  "orig_nbformat": 4
 },
 "nbformat": 4,
 "nbformat_minor": 2
}
