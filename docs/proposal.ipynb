{
 "cells": [
  {
   "attachments": {},
   "cell_type": "markdown",
   "metadata": {},
   "source": [
    "## Proposal Report : Power Price Prediction"
   ]
  },
  {
   "attachments": {},
   "cell_type": "markdown",
   "metadata": {},
   "source": [
    "### Contributors\n",
    "\n",
    "- Arjun Radhakrishnan\n",
    "- Sneha Sunil\n",
    "- Gaoxiang Wang\n",
    "- Mehdi Naji"
   ]
  },
  {
   "attachments": {},
   "cell_type": "markdown",
   "metadata": {},
   "source": [
    "### Executive Summary \n",
    "\n",
    "Our proposed business solution aims to build an interpretable and explainable data science product ready to be deployed on the cloud for power price prediction in Alberta Energy Market. Our solution can enable organizations to make informed decisions about their energy purchases by forecasting hourly energy prices in advance, along with confidence intervals. The solution will also address the lack of interpretability and explainability in the current system[[1]](https://aeso-portal.powerappsportals.com/data-portal-dashboard/). This product will be accompanied by an intuitive tableau dashboard showcasing relevant visualizations to enable stakeholders to monitor real-time hourly predictions with a margin of error."
   ]
  },
  {
   "attachments": {},
   "cell_type": "markdown",
   "metadata": {},
   "source": [
    "### Introduction\n",
    "\n",
    "Over the past few decades, the electricity markets have transformed from regulated to competitive and deregulated. Alberta's electricity market started deregulating in 1996[[2]](https://www.aeso.ca/aeso/understanding-electricity-in-alberta/continuing-education/guide-to-understanding-albertas-electricity-market/), resulting in highly volatile and uncertain power prices. Many organizations purchase large quantities of energy on demand and rely on energy forecasts to determine their costs in advance. Power price prediction can also be critical for many power generation companies to make effective decisions toward maximizing their profit, determining pricing strategies in the market, and scheduling technical maintenance periods.\n",
    "The current energy forecasts only provide a short-term coverage of 6 hours, which is volatile and lacks interpretation or model visibility. To reduce their expenses, companies could plan and potentially explore alternative energy options if they have access to accurate forecasts which covers a longer window and is also interpretable and explainable. This project aims to help businesses by providing cost analysis and forecasting hourly energy prices 12 hours in advance. Our objective is to empower companies to plan for alternative energy solutions, such as sourcing energy from elsewhere, purchasing at different times, or even developing their own energy generation systems. \n",
    "\n",
    "The project aims to deliver three products: a model pipeline, a tableau dashboard, and a comprehensive report. The model pipeline will be designed to automate the flow of tasks that includes data wrangling, exploratory data analysis, feature engineering, modeling, and forecasting seamlessly. The dashboard will showcase real-time market price predictions and data visualizations that are interactive and informative for the audience. The report will document information about the electricity market mechanism in Alberta, along with an extensive overview of the modeling strategies and evaluation metrics that were used."
   ]
  },
  {
   "attachments": {},
   "cell_type": "markdown",
   "metadata": {},
   "source": [
    "### Data Science Techniques\n",
    "\n",
    "AESO is an operator service in Alberta that is responsible for managing the power distribution system for the province. This organization publishes relevant data which is used for the computation of market pool price, excluding some sensitive details. They have also published APIs using which we can access near to real-time data (with a delay of approx. 1 hour) programmatically like price, internal load, etc. However, the values of some of the features are not available in real-time, which needs to be analyzed based on the historical data alone. Hence the primary sources of data would be the open-source datasets [[3]](https://public.tableau.com/app/profile/market.analytics/viz/AnnualStatistics_16161854228350/Introduction) and the APIs [[4]](https://api.aeso.ca/web/api/ets). For the exploratory data analysis, we will be using the historical data that is obtained from the Tableau dashboard hosted by AESO. The current datasets contain ~72,000 rows and ~50 features spanning from 2015 – 2023. The main target that we are forecasting 12 hours in advance is the **power pool price** (CAD) which is the balanced average power price per hour for the Alberta province and is finalized by AESO based on supply and demand. It is capped between 0 and 1000 to ensure that the Alberta electricity market is stable and fair. Some of the main features that could have a significant impact on the price prediction are given below –\n",
    "\n",
    "- **Alberta Internal Load** - This feature represents the total amount of power load demand within Alberta. The unit of AIL is MegaWatts (MW).\n",
    " - **Hourly Profile** - A categorical variable with two values OFF PEAK and ON PEAK. This indicates whether there is a high/low demand for power at the given hour.\n",
    "- **Region-wise system load** - This represents the total electric power that is distributed to consumers in Alberta in various regions. Alberta is divided into six regions - Calgary, Edmonton, Central, Northeast, South, and Northwest.\n",
    "- **Season** - A categorical variable of two values - SUMMER and WINTER. This indicates the season that the given hour belongs to.\n",
    "\n",
    "Additional features such as power generation and weather data may also be included in the later iterative stages to understand the difference in prices in various regions in Alberta. The stakeholders would be the power buyers or any other industry clients who are interested in making informed decisions about their energy purchases. This product will assist organizations to plan for alternative power source options like generating power on their own on their site. The metrics used in this project will be useful for them to evaluate the performance of the forecasting model.\n",
    "\n",
    "According to our client's consideration, over-prediction and under-prediction are equally detrimental, and therefore, we will consider Root Mean Square Error (RMSE) as our evaluation metric, which is commonly used in stock market price prediction and penalizes both types of errors equally.\n",
    "\n",
    "To predict market prices, several approaches can be used, such as time series analysis, machine learning, and statistical modeling. One possible initial approach is to fit a univariate time-series SARIMA model of the pool price to estimate the target. This approach captures the seasonality, trend, and correlations between lags and is based solely on historical data of the pool price and does not take into account other factors.\n",
    "\n",
    "Another possible approach is a two-step forecasting method, which involves using SARIMA or Naïve time series models like ETS to forecast the input features for the next 12 hours. These input features may include factors such as power demand and supply. Once the input features have been predicted, regression models such as a random forest regressor can be used to forecast the price.\n",
    "\n",
    "Alternatively, we could try using a one-step forecasting approach which involves predicting the future price directly using past values of input features and target price. This approach can be used in conjunction with machine learning models such as random forest regressor, where the predictors could be the previous 24-hour data of all input features and the price.\n",
    "\n",
    "Since our client prioritizes interpretability over accuracy, we will focus on models that are easy to interpret. Our objective is to extend the forecasting window from six hours to twelve hours while maintaining interpretability and explainability as our primary success criterion."
   ]
  },
  {
   "attachments": {},
   "cell_type": "markdown",
   "metadata": {
    "tags": []
   },
   "source": [
    "### Exploratory Data Analysis"
   ]
  },
  {
   "cell_type": "code",
   "execution_count": null,
   "metadata": {
    "tags": [
     "remove-input"
    ]
   },
   "outputs": [],
   "source": [
    "import pandas as pd\n",
    "import matplotlib.pyplot as plt\n",
    "import plotly.graph_objs as go\n",
    "import warnings\n",
    "import matplotlib.pyplot as plt\n",
    "from statsmodels.graphics.tsaplots import plot_acf, plot_pacf\n",
    "import plotly.express as px\n",
    "\n",
    "warnings.filterwarnings(\"ignore\")\n",
    "plt.style.use(\"ggplot\")\n",
    "plt.rcParams.update({\"font.size\": 14, \"axes.labelweight\": \"bold\", \"lines.linewidth\": 2})\n",
    "\n",
    "df = pd.read_csv(\n",
    "    \"../../data/processed/ail_price.csv\", parse_dates=[\"date\"], index_col=\"date\"\n",
    ")\n",
    "df = df.sort_values(by=\"date\")\n"
   ]
  },
  {
   "cell_type": "code",
   "execution_count": null,
   "metadata": {
    "tags": [
     "remove-input"
    ]
   },
   "outputs": [],
   "source": [
    "fig = px.line(df, y=\"price\")\n",
    "fig.update_layout(\n",
    "    title={\n",
    "        \"text\": \"Energy Pool Price Variation Over Time\",\n",
    "        \"font\": {\"size\": 18, \"family\": \"Arial\", \"color\": \"black\"},\n",
    "        \"y\": 0.97,\n",
    "        \"x\": 0.5,\n",
    "        \"xanchor\": \"center\",\n",
    "        \"yanchor\": \"top\",\n",
    "    },\n",
    "    xaxis_title={\n",
    "        \"text\": \"Date\",\n",
    "        \"font\": {\"size\": 18, \"family\": \"Arial\", \"color\": \"black\"},\n",
    "    },\n",
    "    yaxis_title={\n",
    "        \"text\": \"Price\",\n",
    "        \"font\": {\"size\": 18, \"family\": \"Arial\", \"color\": \"black\"},\n",
    "    },\n",
    "    xaxis_range=[\"2023-03-01\", \"2023-03-31\"],\n",
    "    height=500,\n",
    ")\n",
    "fig.update_xaxes(\n",
    "    rangeslider_visible=True,\n",
    "    rangeselector=dict(\n",
    "        buttons=list(\n",
    "            [\n",
    "                dict(count=1, label=\"Daily\", step=\"day\", stepmode=\"backward\"),  \n",
    "                dict(count=1, label=\"1-Month\", step=\"month\", stepmode=\"backward\"),\n",
    "                dict(count=6, label=\"6-Month\", step=\"month\", stepmode=\"backward\"),\n",
    "                dict(count=1, label=\"YTD\", step=\"year\", stepmode=\"todate\"),\n",
    "                dict(count=1, label=\"1-Year\", step=\"year\", stepmode=\"backward\"),\n",
    "                dict(step=\"all\")\n",
    "            ]\n",
    "        )\n",
    "    ),\n",
    ")\n",
    "fig.show()\n"
   ]
  },
  {
   "attachments": {},
   "cell_type": "markdown",
   "metadata": {},
   "source": [
    "**Plot 1: Variation of Energy pool price through time** The interactive plot displays Energy pool price variation for March 2023. Click Autoscale to view price patterns from 2015-2023 and Reset axes to return to the focussed view."
   ]
  },
  {
   "cell_type": "code",
   "execution_count": null,
   "metadata": {
    "tags": [
     "remove-input"
    ]
   },
   "outputs": [],
   "source": [
    "# Define data and plot settings\n",
    "fig, axs = plt.subplots(nrows=4, ncols=2, figsize=(12, 13))\n",
    "plt.subplots_adjust(hspace=0.5, top=0.93)\n",
    "\n",
    "# Loop through days of the week and plot data\n",
    "for i, ax in enumerate(axs.flat):\n",
    "    if i > 6:\n",
    "        break\n",
    "\n",
    "    day = df[df.index.dayofweek == i]\n",
    "    ax.scatter(day.index.hour, day[\"price\"], alpha=0.3)\n",
    "    ax.tick_params(axis=\"both\", which=\"major\", labelsize=9)\n",
    "    ax.set_xlabel(\"Hour of day\", fontsize=11)\n",
    "    ax.set_ylabel(\"Price\", fontsize=11)\n",
    "    ax.set_title(f'{day.index[0].strftime(\"%A\")}', fontsize=12)\n",
    "\n",
    "# Add overall title\n",
    "fig.suptitle(\"Exploring Daily Seasonality of Price Variation\", fontsize=18)\n",
    "\n",
    "# Remove empty subplot\n",
    "plt.delaxes(axs[3][1])\n",
    "\n",
    "# Show plot\n",
    "plt.show()"
   ]
  },
  {
   "attachments": {},
   "cell_type": "markdown",
   "metadata": {},
   "source": [
    "**Plot 2: Exploring Daily Seasonality of Price Variation** The daily plots reveal a seasonal pattern in energy prices. On weekdays, prices are higher during working hours and lower during off working hours. Weekends show higher prices in the evenings. This behavior is confirmed by autocorrelation function plots, indicating clear daily seasonality."
   ]
  },
  {
   "cell_type": "code",
   "execution_count": null,
   "metadata": {
    "tags": [
     "remove-input"
    ]
   },
   "outputs": [],
   "source": [
    "fig, ax = plt.subplots(figsize=(8, 6))\n",
    "# ACF plot\n",
    "plot_acf(df[\"price\"], lags=50, ax=ax)\n",
    "ax.set_title(\"Correlogram of prices (Hourly)\", fontsize=16)\n",
    "ax.set_xlabel(\"Lags(Hourly)\", fontsize=14)\n",
    "ax.set_ylabel(\"ACF\", fontsize=14)\n",
    "ax.tick_params(axis=\"both\", which=\"major\", labelsize=10)\n",
    "plt.show()"
   ]
  },
  {
   "attachments": {},
   "cell_type": "markdown",
   "metadata": {},
   "source": [
    "**Plot 3: Correlogram of prices (Hourly)** This is an autocorrelation function plot with 50 lags for the pool price. We can clearly see a daily seasonality in this plot.  \n",
    "`Note` : ACF plot depicts the correlation between the price and its lagged values"
   ]
  },
  {
   "attachments": {},
   "cell_type": "markdown",
   "metadata": {},
   "source": [
    "### Timeline\n",
    "\n",
    "The project timeline is designed to ensure timely completion of the deliverables. The first two weeks are allocated for proposal preparation, problem and data understanding, and initial exploratory data analysis. The primary workload will be during the four middle weeks, with a focus on feature engineering, model design, testing, and dashboard development following iterative and agile practices. Week 7 is allocated for product deployment, model refinement, bug fixing, and report finalization. Finally, week 8 is for wrapping up the project, final presentation preparation, and ensuring that all deliverables are completed with high quality."
   ]
  },
  {
   "attachments": {},
   "cell_type": "markdown",
   "metadata": {},
   "source": [
    "![TimeLine](timeline.png)"
   ]
  },
  {
   "attachments": {},
   "cell_type": "markdown",
   "metadata": {},
   "source": [
    "### References"
   ]
  },
  {
   "attachments": {},
   "cell_type": "markdown",
   "metadata": {},
   "source": [
    "[AESO real time dashboard[1]](https://aeso-portal.powerappsportals.com/data-portal-dashboard/)\n",
    "\n",
    "[Alberta's electrivity market[2]](https://www.aeso.ca/aeso/understanding-electricity-in-alberta/continuing-education/guide-to-understanding-albertas-electricity-market/)\n",
    "\n",
    "[Tableau dashboard[3]](https://public.tableau.com/app/profile/market.analytics/viz/AnnualStatistics_16161854228350/Introduction)\n",
    "\n",
    "[AESO APIs[4]](https://api.aeso.ca/web/api/ets)\n",
    "\n",
    "[AESO portal](http://ets.aeso.ca/)\n",
    "\n",
    "[State of electricity market](https://www.albertamsa.ca/assets/Documents/MSA-State-of-Mkt-Directions-120620.pdf)\n",
    "\n",
    "[AESO Market Stat Report](https://www.aeso.ca/assets/Uploads/market-and-system-reporting/2022_Annual_Market_Stats_Final.pdf)"
   ]
  }
 ],
 "metadata": {
  "kernelspec": {
   "display_name": "mds574",
   "language": "python",
   "name": "python3"
  },
  "language_info": {
   "codemirror_mode": {
    "name": "ipython",
    "version": 3
   },
   "file_extension": ".py",
   "mimetype": "text/x-python",
   "name": "python",
   "nbconvert_exporter": "python",
   "pygments_lexer": "ipython3",
   "version": "3.10.9"
  },
  "widgets": {
   "application/vnd.jupyter.widget-state+json": {
    "state": {},
    "version_major": 2,
    "version_minor": 0
   }
  }
 },
 "nbformat": 4,
 "nbformat_minor": 4
}
